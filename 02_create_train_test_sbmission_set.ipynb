{
 "cells": [
  {
   "cell_type": "code",
   "execution_count": 67,
   "id": "24859762",
   "metadata": {},
   "outputs": [],
   "source": [
    "from init import *"
   ]
  },
  {
   "cell_type": "code",
   "execution_count": 68,
   "id": "b7ce320a",
   "metadata": {},
   "outputs": [
    {
     "data": {
      "text/plain": [
       "100"
      ]
     },
     "execution_count": 68,
     "metadata": {},
     "output_type": "execute_result"
    }
   ],
   "source": [
    "pd.options.display.max_columns"
   ]
  },
  {
   "cell_type": "code",
   "execution_count": 69,
   "id": "860d339c",
   "metadata": {},
   "outputs": [
    {
     "name": "stderr",
     "output_type": "stream",
     "text": [
      "/home/raischel/Envs/ds1/lib64/python3.10/site-packages/IPython/core/magics/execution.py:1335: DtypeWarning: Columns (5,8,11,15) have mixed types.Specify dtype option on import or set low_memory=False.\n",
      "  exec(code, glob, local_ns)\n"
     ]
    },
    {
     "name": "stdout",
     "output_type": "stream",
     "text": [
      "CPU times: user 32.8 s, sys: 24.1 s, total: 56.8 s\n",
      "Wall time: 1min 50s\n"
     ]
    },
    {
     "data": {
      "text/html": [
       "<div>\n",
       "<style scoped>\n",
       "    .dataframe tbody tr th:only-of-type {\n",
       "        vertical-align: middle;\n",
       "    }\n",
       "\n",
       "    .dataframe tbody tr th {\n",
       "        vertical-align: top;\n",
       "    }\n",
       "\n",
       "    .dataframe thead th {\n",
       "        text-align: right;\n",
       "    }\n",
       "</style>\n",
       "<table border=\"1\" class=\"dataframe\">\n",
       "  <thead>\n",
       "    <tr style=\"text-align: right;\">\n",
       "      <th></th>\n",
       "      <th>fecha_dato</th>\n",
       "      <th>ncodpers</th>\n",
       "      <th>ind_empleado</th>\n",
       "      <th>pais_residencia</th>\n",
       "      <th>sexo</th>\n",
       "      <th>age</th>\n",
       "      <th>fecha_alta</th>\n",
       "      <th>ind_nuevo</th>\n",
       "      <th>antiguedad</th>\n",
       "      <th>indrel</th>\n",
       "      <th>ult_fec_cli_1t</th>\n",
       "      <th>indrel_1mes</th>\n",
       "      <th>tiprel_1mes</th>\n",
       "      <th>indresi</th>\n",
       "      <th>indext</th>\n",
       "      <th>conyuemp</th>\n",
       "      <th>canal_entrada</th>\n",
       "      <th>indfall</th>\n",
       "      <th>tipodom</th>\n",
       "      <th>cod_prov</th>\n",
       "      <th>nomprov</th>\n",
       "      <th>ind_actividad_cliente</th>\n",
       "      <th>renta</th>\n",
       "      <th>segmento</th>\n",
       "      <th>ind_ahor_fin_ult1</th>\n",
       "      <th>ind_aval_fin_ult1</th>\n",
       "      <th>ind_cco_fin_ult1</th>\n",
       "      <th>ind_cder_fin_ult1</th>\n",
       "      <th>ind_cno_fin_ult1</th>\n",
       "      <th>ind_ctju_fin_ult1</th>\n",
       "      <th>ind_ctma_fin_ult1</th>\n",
       "      <th>ind_ctop_fin_ult1</th>\n",
       "      <th>ind_ctpp_fin_ult1</th>\n",
       "      <th>ind_deco_fin_ult1</th>\n",
       "      <th>ind_deme_fin_ult1</th>\n",
       "      <th>ind_dela_fin_ult1</th>\n",
       "      <th>ind_ecue_fin_ult1</th>\n",
       "      <th>ind_fond_fin_ult1</th>\n",
       "      <th>ind_hip_fin_ult1</th>\n",
       "      <th>ind_plan_fin_ult1</th>\n",
       "      <th>ind_pres_fin_ult1</th>\n",
       "      <th>ind_reca_fin_ult1</th>\n",
       "      <th>ind_tjcr_fin_ult1</th>\n",
       "      <th>ind_valo_fin_ult1</th>\n",
       "      <th>ind_viv_fin_ult1</th>\n",
       "      <th>ind_nomina_ult1</th>\n",
       "      <th>ind_nom_pens_ult1</th>\n",
       "      <th>ind_recibo_ult1</th>\n",
       "    </tr>\n",
       "  </thead>\n",
       "  <tbody>\n",
       "    <tr>\n",
       "      <th>0</th>\n",
       "      <td>2015-01-28</td>\n",
       "      <td>1375586</td>\n",
       "      <td>N</td>\n",
       "      <td>ES</td>\n",
       "      <td>H</td>\n",
       "      <td>35</td>\n",
       "      <td>2015-01-12</td>\n",
       "      <td>0.0</td>\n",
       "      <td>6</td>\n",
       "      <td>1.0</td>\n",
       "      <td>NaN</td>\n",
       "      <td>1.0</td>\n",
       "      <td>A</td>\n",
       "      <td>S</td>\n",
       "      <td>N</td>\n",
       "      <td>NaN</td>\n",
       "      <td>KHL</td>\n",
       "      <td>N</td>\n",
       "      <td>1.0</td>\n",
       "      <td>29.0</td>\n",
       "      <td>MALAGA</td>\n",
       "      <td>1.0</td>\n",
       "      <td>87218.10</td>\n",
       "      <td>02 - PARTICULARES</td>\n",
       "      <td>0</td>\n",
       "      <td>0</td>\n",
       "      <td>1</td>\n",
       "      <td>0</td>\n",
       "      <td>0</td>\n",
       "      <td>0</td>\n",
       "      <td>0</td>\n",
       "      <td>0</td>\n",
       "      <td>0</td>\n",
       "      <td>0</td>\n",
       "      <td>0</td>\n",
       "      <td>0</td>\n",
       "      <td>0</td>\n",
       "      <td>0</td>\n",
       "      <td>0</td>\n",
       "      <td>0</td>\n",
       "      <td>0</td>\n",
       "      <td>0</td>\n",
       "      <td>0</td>\n",
       "      <td>0</td>\n",
       "      <td>0</td>\n",
       "      <td>0.0</td>\n",
       "      <td>0.0</td>\n",
       "      <td>0</td>\n",
       "    </tr>\n",
       "    <tr>\n",
       "      <th>1</th>\n",
       "      <td>2015-01-28</td>\n",
       "      <td>1050611</td>\n",
       "      <td>N</td>\n",
       "      <td>ES</td>\n",
       "      <td>V</td>\n",
       "      <td>23</td>\n",
       "      <td>2012-08-10</td>\n",
       "      <td>0.0</td>\n",
       "      <td>35</td>\n",
       "      <td>1.0</td>\n",
       "      <td>NaN</td>\n",
       "      <td>1.0</td>\n",
       "      <td>I</td>\n",
       "      <td>S</td>\n",
       "      <td>S</td>\n",
       "      <td>NaN</td>\n",
       "      <td>KHE</td>\n",
       "      <td>N</td>\n",
       "      <td>1.0</td>\n",
       "      <td>13.0</td>\n",
       "      <td>CIUDAD REAL</td>\n",
       "      <td>0.0</td>\n",
       "      <td>35548.74</td>\n",
       "      <td>03 - UNIVERSITARIO</td>\n",
       "      <td>0</td>\n",
       "      <td>0</td>\n",
       "      <td>1</td>\n",
       "      <td>0</td>\n",
       "      <td>0</td>\n",
       "      <td>0</td>\n",
       "      <td>0</td>\n",
       "      <td>0</td>\n",
       "      <td>0</td>\n",
       "      <td>0</td>\n",
       "      <td>0</td>\n",
       "      <td>0</td>\n",
       "      <td>0</td>\n",
       "      <td>0</td>\n",
       "      <td>0</td>\n",
       "      <td>0</td>\n",
       "      <td>0</td>\n",
       "      <td>0</td>\n",
       "      <td>0</td>\n",
       "      <td>0</td>\n",
       "      <td>0</td>\n",
       "      <td>0.0</td>\n",
       "      <td>0.0</td>\n",
       "      <td>0</td>\n",
       "    </tr>\n",
       "    <tr>\n",
       "      <th>2</th>\n",
       "      <td>2015-01-28</td>\n",
       "      <td>1050612</td>\n",
       "      <td>N</td>\n",
       "      <td>ES</td>\n",
       "      <td>V</td>\n",
       "      <td>23</td>\n",
       "      <td>2012-08-10</td>\n",
       "      <td>0.0</td>\n",
       "      <td>35</td>\n",
       "      <td>1.0</td>\n",
       "      <td>NaN</td>\n",
       "      <td>1.0</td>\n",
       "      <td>I</td>\n",
       "      <td>S</td>\n",
       "      <td>N</td>\n",
       "      <td>NaN</td>\n",
       "      <td>KHE</td>\n",
       "      <td>N</td>\n",
       "      <td>1.0</td>\n",
       "      <td>13.0</td>\n",
       "      <td>CIUDAD REAL</td>\n",
       "      <td>0.0</td>\n",
       "      <td>122179.11</td>\n",
       "      <td>03 - UNIVERSITARIO</td>\n",
       "      <td>0</td>\n",
       "      <td>0</td>\n",
       "      <td>1</td>\n",
       "      <td>0</td>\n",
       "      <td>0</td>\n",
       "      <td>0</td>\n",
       "      <td>0</td>\n",
       "      <td>0</td>\n",
       "      <td>0</td>\n",
       "      <td>0</td>\n",
       "      <td>0</td>\n",
       "      <td>0</td>\n",
       "      <td>0</td>\n",
       "      <td>0</td>\n",
       "      <td>0</td>\n",
       "      <td>0</td>\n",
       "      <td>0</td>\n",
       "      <td>0</td>\n",
       "      <td>0</td>\n",
       "      <td>0</td>\n",
       "      <td>0</td>\n",
       "      <td>0.0</td>\n",
       "      <td>0.0</td>\n",
       "      <td>0</td>\n",
       "    </tr>\n",
       "    <tr>\n",
       "      <th>3</th>\n",
       "      <td>2015-01-28</td>\n",
       "      <td>1050613</td>\n",
       "      <td>N</td>\n",
       "      <td>ES</td>\n",
       "      <td>H</td>\n",
       "      <td>22</td>\n",
       "      <td>2012-08-10</td>\n",
       "      <td>0.0</td>\n",
       "      <td>35</td>\n",
       "      <td>1.0</td>\n",
       "      <td>NaN</td>\n",
       "      <td>1.0</td>\n",
       "      <td>I</td>\n",
       "      <td>S</td>\n",
       "      <td>N</td>\n",
       "      <td>NaN</td>\n",
       "      <td>KHD</td>\n",
       "      <td>N</td>\n",
       "      <td>1.0</td>\n",
       "      <td>50.0</td>\n",
       "      <td>ZARAGOZA</td>\n",
       "      <td>0.0</td>\n",
       "      <td>119775.54</td>\n",
       "      <td>03 - UNIVERSITARIO</td>\n",
       "      <td>0</td>\n",
       "      <td>0</td>\n",
       "      <td>0</td>\n",
       "      <td>0</td>\n",
       "      <td>0</td>\n",
       "      <td>0</td>\n",
       "      <td>0</td>\n",
       "      <td>0</td>\n",
       "      <td>0</td>\n",
       "      <td>1</td>\n",
       "      <td>0</td>\n",
       "      <td>0</td>\n",
       "      <td>0</td>\n",
       "      <td>0</td>\n",
       "      <td>0</td>\n",
       "      <td>0</td>\n",
       "      <td>0</td>\n",
       "      <td>0</td>\n",
       "      <td>0</td>\n",
       "      <td>0</td>\n",
       "      <td>0</td>\n",
       "      <td>0.0</td>\n",
       "      <td>0.0</td>\n",
       "      <td>0</td>\n",
       "    </tr>\n",
       "    <tr>\n",
       "      <th>4</th>\n",
       "      <td>2015-01-28</td>\n",
       "      <td>1050614</td>\n",
       "      <td>N</td>\n",
       "      <td>ES</td>\n",
       "      <td>V</td>\n",
       "      <td>23</td>\n",
       "      <td>2012-08-10</td>\n",
       "      <td>0.0</td>\n",
       "      <td>35</td>\n",
       "      <td>1.0</td>\n",
       "      <td>NaN</td>\n",
       "      <td>1.0</td>\n",
       "      <td>A</td>\n",
       "      <td>S</td>\n",
       "      <td>N</td>\n",
       "      <td>NaN</td>\n",
       "      <td>KHE</td>\n",
       "      <td>N</td>\n",
       "      <td>1.0</td>\n",
       "      <td>50.0</td>\n",
       "      <td>ZARAGOZA</td>\n",
       "      <td>1.0</td>\n",
       "      <td>NaN</td>\n",
       "      <td>03 - UNIVERSITARIO</td>\n",
       "      <td>0</td>\n",
       "      <td>0</td>\n",
       "      <td>1</td>\n",
       "      <td>0</td>\n",
       "      <td>0</td>\n",
       "      <td>0</td>\n",
       "      <td>0</td>\n",
       "      <td>0</td>\n",
       "      <td>0</td>\n",
       "      <td>0</td>\n",
       "      <td>0</td>\n",
       "      <td>0</td>\n",
       "      <td>0</td>\n",
       "      <td>0</td>\n",
       "      <td>0</td>\n",
       "      <td>0</td>\n",
       "      <td>0</td>\n",
       "      <td>0</td>\n",
       "      <td>0</td>\n",
       "      <td>0</td>\n",
       "      <td>0</td>\n",
       "      <td>0.0</td>\n",
       "      <td>0.0</td>\n",
       "      <td>0</td>\n",
       "    </tr>\n",
       "  </tbody>\n",
       "</table>\n",
       "</div>"
      ],
      "text/plain": [
       "   fecha_dato  ncodpers ind_empleado pais_residencia sexo  age  fecha_alta  \\\n",
       "0  2015-01-28   1375586            N              ES    H   35  2015-01-12   \n",
       "1  2015-01-28   1050611            N              ES    V   23  2012-08-10   \n",
       "2  2015-01-28   1050612            N              ES    V   23  2012-08-10   \n",
       "3  2015-01-28   1050613            N              ES    H   22  2012-08-10   \n",
       "4  2015-01-28   1050614            N              ES    V   23  2012-08-10   \n",
       "\n",
       "   ind_nuevo antiguedad  indrel ult_fec_cli_1t indrel_1mes tiprel_1mes  \\\n",
       "0        0.0          6     1.0            NaN         1.0           A   \n",
       "1        0.0         35     1.0            NaN         1.0           I   \n",
       "2        0.0         35     1.0            NaN         1.0           I   \n",
       "3        0.0         35     1.0            NaN         1.0           I   \n",
       "4        0.0         35     1.0            NaN         1.0           A   \n",
       "\n",
       "  indresi indext conyuemp canal_entrada indfall  tipodom  cod_prov  \\\n",
       "0       S      N      NaN           KHL       N      1.0      29.0   \n",
       "1       S      S      NaN           KHE       N      1.0      13.0   \n",
       "2       S      N      NaN           KHE       N      1.0      13.0   \n",
       "3       S      N      NaN           KHD       N      1.0      50.0   \n",
       "4       S      N      NaN           KHE       N      1.0      50.0   \n",
       "\n",
       "       nomprov  ind_actividad_cliente      renta            segmento  \\\n",
       "0       MALAGA                    1.0   87218.10   02 - PARTICULARES   \n",
       "1  CIUDAD REAL                    0.0   35548.74  03 - UNIVERSITARIO   \n",
       "2  CIUDAD REAL                    0.0  122179.11  03 - UNIVERSITARIO   \n",
       "3     ZARAGOZA                    0.0  119775.54  03 - UNIVERSITARIO   \n",
       "4     ZARAGOZA                    1.0        NaN  03 - UNIVERSITARIO   \n",
       "\n",
       "   ind_ahor_fin_ult1  ind_aval_fin_ult1  ind_cco_fin_ult1  ind_cder_fin_ult1  \\\n",
       "0                  0                  0                 1                  0   \n",
       "1                  0                  0                 1                  0   \n",
       "2                  0                  0                 1                  0   \n",
       "3                  0                  0                 0                  0   \n",
       "4                  0                  0                 1                  0   \n",
       "\n",
       "   ind_cno_fin_ult1  ind_ctju_fin_ult1  ind_ctma_fin_ult1  ind_ctop_fin_ult1  \\\n",
       "0                 0                  0                  0                  0   \n",
       "1                 0                  0                  0                  0   \n",
       "2                 0                  0                  0                  0   \n",
       "3                 0                  0                  0                  0   \n",
       "4                 0                  0                  0                  0   \n",
       "\n",
       "   ind_ctpp_fin_ult1  ind_deco_fin_ult1  ind_deme_fin_ult1  ind_dela_fin_ult1  \\\n",
       "0                  0                  0                  0                  0   \n",
       "1                  0                  0                  0                  0   \n",
       "2                  0                  0                  0                  0   \n",
       "3                  0                  1                  0                  0   \n",
       "4                  0                  0                  0                  0   \n",
       "\n",
       "   ind_ecue_fin_ult1  ind_fond_fin_ult1  ind_hip_fin_ult1  ind_plan_fin_ult1  \\\n",
       "0                  0                  0                 0                  0   \n",
       "1                  0                  0                 0                  0   \n",
       "2                  0                  0                 0                  0   \n",
       "3                  0                  0                 0                  0   \n",
       "4                  0                  0                 0                  0   \n",
       "\n",
       "   ind_pres_fin_ult1  ind_reca_fin_ult1  ind_tjcr_fin_ult1  ind_valo_fin_ult1  \\\n",
       "0                  0                  0                  0                  0   \n",
       "1                  0                  0                  0                  0   \n",
       "2                  0                  0                  0                  0   \n",
       "3                  0                  0                  0                  0   \n",
       "4                  0                  0                  0                  0   \n",
       "\n",
       "   ind_viv_fin_ult1  ind_nomina_ult1  ind_nom_pens_ult1  ind_recibo_ult1  \n",
       "0                 0              0.0                0.0                0  \n",
       "1                 0              0.0                0.0                0  \n",
       "2                 0              0.0                0.0                0  \n",
       "3                 0              0.0                0.0                0  \n",
       "4                 0              0.0                0.0                0  "
      ]
     },
     "metadata": {},
     "output_type": "display_data"
    },
    {
     "data": {
      "text/plain": [
       "(13647309, 48)"
      ]
     },
     "metadata": {},
     "output_type": "display_data"
    }
   ],
   "source": [
    "%time train = pd.read_csv(\"train_ver2.csv\")\n",
    "display(train.head())\n",
    "display(train.shape)"
   ]
  },
  {
   "cell_type": "code",
   "execution_count": 70,
   "id": "1b8a309b",
   "metadata": {},
   "outputs": [],
   "source": [
    "train_uid = set(train.ncodpers.unique())"
   ]
  },
  {
   "cell_type": "code",
   "execution_count": 71,
   "id": "f30b5f8c",
   "metadata": {},
   "outputs": [
    {
     "data": {
      "text/plain": [
       "956645"
      ]
     },
     "execution_count": 71,
     "metadata": {},
     "output_type": "execute_result"
    }
   ],
   "source": [
    "len(train_uid)"
   ]
  },
  {
   "cell_type": "code",
   "execution_count": 72,
   "id": "6b5363b9",
   "metadata": {},
   "outputs": [
    {
     "data": {
      "text/plain": [
       "2016-05-28    931453\n",
       "2016-04-28    928274\n",
       "2016-03-28    925076\n",
       "2016-02-28    920904\n",
       "2016-01-28    916269\n",
       "2015-12-28    912021\n",
       "2015-11-28    906109\n",
       "2015-10-28    892251\n",
       "2015-09-28    865440\n",
       "2015-08-28    843201\n",
       "2015-07-28    829817\n",
       "2015-06-28    632110\n",
       "2015-05-28    631957\n",
       "2015-04-28    630367\n",
       "2015-03-28    629209\n",
       "2015-02-28    627394\n",
       "2015-01-28    625457\n",
       "Name: fecha_dato, dtype: int64"
      ]
     },
     "execution_count": 72,
     "metadata": {},
     "output_type": "execute_result"
    }
   ],
   "source": [
    "train.fecha_dato.value_counts()"
   ]
  },
  {
   "cell_type": "code",
   "execution_count": 73,
   "id": "f5e411ee",
   "metadata": {},
   "outputs": [
    {
     "data": {
      "text/plain": [
       "'2016-05-28'"
      ]
     },
     "execution_count": 73,
     "metadata": {},
     "output_type": "execute_result"
    }
   ],
   "source": [
    "train_fdm = train.fecha_dato.max()\n",
    "train_fdm"
   ]
  },
  {
   "cell_type": "markdown",
   "id": "02fff58e",
   "metadata": {},
   "source": [
    "# Modified find target: add last date"
   ]
  },
  {
   "cell_type": "code",
   "execution_count": 138,
   "id": "612f2081",
   "metadata": {},
   "outputs": [],
   "source": [
    "def df2target(df,uid):\n",
    "    \"\"\" \n",
    "    converts a competition data frame filteredd for a given uid into a target string \n",
    "    with the submissionformat:\n",
    "    \n",
    "    must return df of format\n",
    "    ncodpers,added_products\n",
    "    15889,ind_tjcr_fin_ult1\n",
    "    15890,ind_tjcr_fin_ult1 ind_recibo_ult1\n",
    "    15892,ind_nomina_ult1\n",
    "    15893,\n",
    "    etc.\n",
    "    \"\"\"\n",
    "    #dfi = df.ncodpers==uid#.isin(ncodpers)\n",
    "    dfi=df[df.ncodpers==uid].sort_values(\"fecha_dato\",  ascending=True)\n",
    "    #dfi.sort(\"fecha_dato\", inplace=True, ascending=True)\n",
    "    dfid=dfi[target_cols].diff(axis=0)\n",
    "    dfid = dfid.iloc[-1:,:]#[dfid.fecha_dato==data_max]\n",
    "    a=dfid[dfid >0].stack()#.index.tolist()\n",
    "    a=a.reset_index()[\"level_1\"].unique().tolist()\n",
    "    a=\",\".join([str(uid),]+a)\n",
    "    return a"
   ]
  },
  {
   "cell_type": "code",
   "execution_count": 150,
   "id": "23e0ebf6",
   "metadata": {},
   "outputs": [
    {
     "name": "stdout",
     "output_type": "stream",
     "text": [
      " "
     ]
    }
   ],
   "source": [
    "#test_public_data = []\n",
    "#for uid in list(test_public_uid)[101:111]:\n",
    "#test_public_data.append(df2target(test, uid))# , test.fecha_dato.max()))\n",
    "#%lprun df2target(test, uid)\n",
    "def testrun():\n",
    "    test_public_data = []\n",
    "    for uid in list(test_public_uid)[101:131]:\n",
    "        test_public_data.append(df2target(test, uid))# , test.fecha_dato.max()))\n",
    "%prun -s cumulative  -l 10 testrun()        "
   ]
  },
  {
   "cell_type": "code",
   "execution_count": null,
   "id": "12fbec79",
   "metadata": {},
   "outputs": [],
   "source": [
    "%%time\n",
    "test_public_data = []\n",
    "for uid in list(test_public_uid):\n",
    "    test_public_data.append(df2target(test, uid))# , test.fecha_dato.max()))"
   ]
  },
  {
   "cell_type": "code",
   "execution_count": 142,
   "id": "4544a7f3",
   "metadata": {},
   "outputs": [
    {
     "data": {
      "text/plain": [
       "NoneType"
      ]
     },
     "execution_count": 142,
     "metadata": {},
     "output_type": "execute_result"
    }
   ],
   "source": [
    "type(a)"
   ]
  },
  {
   "cell_type": "code",
   "execution_count": 130,
   "id": "c63a0c1f",
   "metadata": {},
   "outputs": [
    {
     "data": {
      "text/plain": [
       "['15891',\n",
       " '15892',\n",
       " '15895',\n",
       " '15897',\n",
       " '15902',\n",
       " '15906',\n",
       " '15907',\n",
       " '15908',\n",
       " '15910',\n",
       " '15911',\n",
       " '15913',\n",
       " '15920',\n",
       " '15922',\n",
       " '15923',\n",
       " '15924',\n",
       " '15929,ind_recibo_ult1',\n",
       " '15930',\n",
       " '15932',\n",
       " '15933',\n",
       " '15936',\n",
       " '15937',\n",
       " '15938',\n",
       " '15941',\n",
       " '15948',\n",
       " '15950',\n",
       " '15952,ind_recibo_ult1',\n",
       " '15954',\n",
       " '15956',\n",
       " '15957',\n",
       " '15958',\n",
       " '15960',\n",
       " '15962',\n",
       " '15969',\n",
       " '15972',\n",
       " '15974',\n",
       " '15975',\n",
       " '15979',\n",
       " '15985',\n",
       " '15990',\n",
       " '15991',\n",
       " '15993,ind_tjcr_fin_ult1',\n",
       " '15994',\n",
       " '15998',\n",
       " '15999',\n",
       " '16001',\n",
       " '16004',\n",
       " '16005',\n",
       " '16007',\n",
       " '16008,ind_tjcr_fin_ult1',\n",
       " '16009',\n",
       " '16010',\n",
       " '16018',\n",
       " '16024',\n",
       " '16027',\n",
       " '16028',\n",
       " '16029',\n",
       " '16033',\n",
       " '16036',\n",
       " '16038',\n",
       " '16041',\n",
       " '16042',\n",
       " '16047',\n",
       " '16048',\n",
       " '16049',\n",
       " '16053',\n",
       " '16056,ind_nomina_ult1,ind_nom_pens_ult1',\n",
       " '16067',\n",
       " '16074',\n",
       " '16075',\n",
       " '16078',\n",
       " '16083',\n",
       " '16085',\n",
       " '16093',\n",
       " '16095',\n",
       " '16098',\n",
       " '16100',\n",
       " '16103',\n",
       " '16105',\n",
       " '16110',\n",
       " '16111',\n",
       " '16115',\n",
       " '16119',\n",
       " '16126',\n",
       " '16131',\n",
       " '16136',\n",
       " '16137',\n",
       " '16141',\n",
       " '16145',\n",
       " '16147',\n",
       " '16152',\n",
       " '16158',\n",
       " '16161',\n",
       " '16166',\n",
       " '16179',\n",
       " '16181',\n",
       " '16182',\n",
       " '16183',\n",
       " '16187',\n",
       " '16189',\n",
       " '16193']"
      ]
     },
     "execution_count": 130,
     "metadata": {},
     "output_type": "execute_result"
    }
   ],
   "source": [
    "test_public_data"
   ]
  },
  {
   "cell_type": "code",
   "execution_count": 126,
   "id": "eaa604c3",
   "metadata": {},
   "outputs": [
    {
     "data": {
      "text/plain": [
       "Series([], dtype: float64)"
      ]
     },
     "metadata": {},
     "output_type": "display_data"
    },
    {
     "data": {
      "text/plain": [
       "Series([], dtype: float64)"
      ]
     },
     "metadata": {},
     "output_type": "display_data"
    },
    {
     "data": {
      "text/plain": [
       "Series([], dtype: float64)"
      ]
     },
     "metadata": {},
     "output_type": "display_data"
    },
    {
     "data": {
      "text/plain": [
       "Series([], dtype: float64)"
      ]
     },
     "metadata": {},
     "output_type": "display_data"
    },
    {
     "data": {
      "text/plain": [
       "Series([], dtype: float64)"
      ]
     },
     "metadata": {},
     "output_type": "display_data"
    },
    {
     "data": {
      "text/plain": [
       "Series([], dtype: float64)"
      ]
     },
     "metadata": {},
     "output_type": "display_data"
    },
    {
     "data": {
      "text/plain": [
       "Series([], dtype: float64)"
      ]
     },
     "metadata": {},
     "output_type": "display_data"
    },
    {
     "data": {
      "text/plain": [
       "Series([], dtype: float64)"
      ]
     },
     "metadata": {},
     "output_type": "display_data"
    },
    {
     "data": {
      "text/plain": [
       "Series([], dtype: float64)"
      ]
     },
     "metadata": {},
     "output_type": "display_data"
    },
    {
     "data": {
      "text/plain": [
       "Series([], dtype: float64)"
      ]
     },
     "metadata": {},
     "output_type": "display_data"
    },
    {
     "data": {
      "text/plain": [
       "Series([], dtype: float64)"
      ]
     },
     "metadata": {},
     "output_type": "display_data"
    },
    {
     "data": {
      "text/plain": [
       "Series([], dtype: float64)"
      ]
     },
     "metadata": {},
     "output_type": "display_data"
    },
    {
     "data": {
      "text/plain": [
       "Series([], dtype: float64)"
      ]
     },
     "metadata": {},
     "output_type": "display_data"
    },
    {
     "data": {
      "text/plain": [
       "Series([], dtype: float64)"
      ]
     },
     "metadata": {},
     "output_type": "display_data"
    },
    {
     "data": {
      "text/plain": [
       "Series([], dtype: float64)"
      ]
     },
     "metadata": {},
     "output_type": "display_data"
    },
    {
     "data": {
      "text/plain": [
       "13026365  ind_recibo_ult1    1.0\n",
       "dtype: float64"
      ]
     },
     "metadata": {},
     "output_type": "display_data"
    },
    {
     "data": {
      "text/plain": [
       "Series([], dtype: float64)"
      ]
     },
     "metadata": {},
     "output_type": "display_data"
    },
    {
     "data": {
      "text/plain": [
       "Series([], dtype: float64)"
      ]
     },
     "metadata": {},
     "output_type": "display_data"
    },
    {
     "data": {
      "text/plain": [
       "Series([], dtype: float64)"
      ]
     },
     "metadata": {},
     "output_type": "display_data"
    },
    {
     "data": {
      "text/plain": [
       "Series([], dtype: float64)"
      ]
     },
     "metadata": {},
     "output_type": "display_data"
    },
    {
     "data": {
      "text/plain": [
       "Series([], dtype: float64)"
      ]
     },
     "metadata": {},
     "output_type": "display_data"
    },
    {
     "data": {
      "text/plain": [
       "Series([], dtype: float64)"
      ]
     },
     "metadata": {},
     "output_type": "display_data"
    },
    {
     "data": {
      "text/plain": [
       "Series([], dtype: float64)"
      ]
     },
     "metadata": {},
     "output_type": "display_data"
    },
    {
     "data": {
      "text/plain": [
       "Series([], dtype: float64)"
      ]
     },
     "metadata": {},
     "output_type": "display_data"
    },
    {
     "data": {
      "text/plain": [
       "Series([], dtype: float64)"
      ]
     },
     "metadata": {},
     "output_type": "display_data"
    },
    {
     "data": {
      "text/plain": [
       "13026316  ind_recibo_ult1    1.0\n",
       "dtype: float64"
      ]
     },
     "metadata": {},
     "output_type": "display_data"
    },
    {
     "data": {
      "text/plain": [
       "Series([], dtype: float64)"
      ]
     },
     "metadata": {},
     "output_type": "display_data"
    },
    {
     "data": {
      "text/plain": [
       "Series([], dtype: float64)"
      ]
     },
     "metadata": {},
     "output_type": "display_data"
    },
    {
     "data": {
      "text/plain": [
       "Series([], dtype: float64)"
      ]
     },
     "metadata": {},
     "output_type": "display_data"
    },
    {
     "data": {
      "text/plain": [
       "Series([], dtype: float64)"
      ]
     },
     "metadata": {},
     "output_type": "display_data"
    },
    {
     "data": {
      "text/plain": [
       "Series([], dtype: float64)"
      ]
     },
     "metadata": {},
     "output_type": "display_data"
    },
    {
     "data": {
      "text/plain": [
       "Series([], dtype: float64)"
      ]
     },
     "metadata": {},
     "output_type": "display_data"
    },
    {
     "data": {
      "text/plain": [
       "Series([], dtype: float64)"
      ]
     },
     "metadata": {},
     "output_type": "display_data"
    },
    {
     "data": {
      "text/plain": [
       "Series([], dtype: float64)"
      ]
     },
     "metadata": {},
     "output_type": "display_data"
    },
    {
     "data": {
      "text/plain": [
       "Series([], dtype: float64)"
      ]
     },
     "metadata": {},
     "output_type": "display_data"
    },
    {
     "data": {
      "text/plain": [
       "Series([], dtype: float64)"
      ]
     },
     "metadata": {},
     "output_type": "display_data"
    },
    {
     "data": {
      "text/plain": [
       "Series([], dtype: float64)"
      ]
     },
     "metadata": {},
     "output_type": "display_data"
    },
    {
     "data": {
      "text/plain": [
       "Series([], dtype: float64)"
      ]
     },
     "metadata": {},
     "output_type": "display_data"
    },
    {
     "data": {
      "text/plain": [
       "Series([], dtype: float64)"
      ]
     },
     "metadata": {},
     "output_type": "display_data"
    },
    {
     "data": {
      "text/plain": [
       "Series([], dtype: float64)"
      ]
     },
     "metadata": {},
     "output_type": "display_data"
    },
    {
     "data": {
      "text/plain": [
       "13026310  ind_tjcr_fin_ult1    1.0\n",
       "dtype: float64"
      ]
     },
     "metadata": {},
     "output_type": "display_data"
    },
    {
     "data": {
      "text/plain": [
       "Series([], dtype: float64)"
      ]
     },
     "metadata": {},
     "output_type": "display_data"
    },
    {
     "data": {
      "text/plain": [
       "Series([], dtype: float64)"
      ]
     },
     "metadata": {},
     "output_type": "display_data"
    },
    {
     "data": {
      "text/plain": [
       "Series([], dtype: float64)"
      ]
     },
     "metadata": {},
     "output_type": "display_data"
    },
    {
     "data": {
      "text/plain": [
       "Series([], dtype: float64)"
      ]
     },
     "metadata": {},
     "output_type": "display_data"
    },
    {
     "data": {
      "text/plain": [
       "Series([], dtype: float64)"
      ]
     },
     "metadata": {},
     "output_type": "display_data"
    },
    {
     "data": {
      "text/plain": [
       "Series([], dtype: float64)"
      ]
     },
     "metadata": {},
     "output_type": "display_data"
    },
    {
     "data": {
      "text/plain": [
       "Series([], dtype: float64)"
      ]
     },
     "metadata": {},
     "output_type": "display_data"
    },
    {
     "data": {
      "text/plain": [
       "13026296  ind_tjcr_fin_ult1    1.0\n",
       "dtype: float64"
      ]
     },
     "metadata": {},
     "output_type": "display_data"
    },
    {
     "data": {
      "text/plain": [
       "Series([], dtype: float64)"
      ]
     },
     "metadata": {},
     "output_type": "display_data"
    },
    {
     "data": {
      "text/plain": [
       "Series([], dtype: float64)"
      ]
     },
     "metadata": {},
     "output_type": "display_data"
    },
    {
     "data": {
      "text/plain": [
       "Series([], dtype: float64)"
      ]
     },
     "metadata": {},
     "output_type": "display_data"
    },
    {
     "data": {
      "text/plain": [
       "Series([], dtype: float64)"
      ]
     },
     "metadata": {},
     "output_type": "display_data"
    },
    {
     "data": {
      "text/plain": [
       "Series([], dtype: float64)"
      ]
     },
     "metadata": {},
     "output_type": "display_data"
    },
    {
     "data": {
      "text/plain": [
       "Series([], dtype: float64)"
      ]
     },
     "metadata": {},
     "output_type": "display_data"
    },
    {
     "data": {
      "text/plain": [
       "Series([], dtype: float64)"
      ]
     },
     "metadata": {},
     "output_type": "display_data"
    },
    {
     "data": {
      "text/plain": [
       "Series([], dtype: float64)"
      ]
     },
     "metadata": {},
     "output_type": "display_data"
    },
    {
     "data": {
      "text/plain": [
       "Series([], dtype: float64)"
      ]
     },
     "metadata": {},
     "output_type": "display_data"
    },
    {
     "data": {
      "text/plain": [
       "Series([], dtype: float64)"
      ]
     },
     "metadata": {},
     "output_type": "display_data"
    },
    {
     "data": {
      "text/plain": [
       "Series([], dtype: float64)"
      ]
     },
     "metadata": {},
     "output_type": "display_data"
    },
    {
     "data": {
      "text/plain": [
       "Series([], dtype: float64)"
      ]
     },
     "metadata": {},
     "output_type": "display_data"
    },
    {
     "data": {
      "text/plain": [
       "Series([], dtype: float64)"
      ]
     },
     "metadata": {},
     "output_type": "display_data"
    },
    {
     "data": {
      "text/plain": [
       "Series([], dtype: float64)"
      ]
     },
     "metadata": {},
     "output_type": "display_data"
    },
    {
     "data": {
      "text/plain": [
       "Series([], dtype: float64)"
      ]
     },
     "metadata": {},
     "output_type": "display_data"
    },
    {
     "data": {
      "text/plain": [
       "Series([], dtype: float64)"
      ]
     },
     "metadata": {},
     "output_type": "display_data"
    },
    {
     "data": {
      "text/plain": [
       "13026445  ind_nomina_ult1      1.0\n",
       "          ind_nom_pens_ult1    1.0\n",
       "dtype: float64"
      ]
     },
     "metadata": {},
     "output_type": "display_data"
    },
    {
     "data": {
      "text/plain": [
       "Series([], dtype: float64)"
      ]
     },
     "metadata": {},
     "output_type": "display_data"
    },
    {
     "data": {
      "text/plain": [
       "Series([], dtype: float64)"
      ]
     },
     "metadata": {},
     "output_type": "display_data"
    },
    {
     "data": {
      "text/plain": [
       "Series([], dtype: float64)"
      ]
     },
     "metadata": {},
     "output_type": "display_data"
    },
    {
     "data": {
      "text/plain": [
       "Series([], dtype: float64)"
      ]
     },
     "metadata": {},
     "output_type": "display_data"
    },
    {
     "data": {
      "text/plain": [
       "Series([], dtype: float64)"
      ]
     },
     "metadata": {},
     "output_type": "display_data"
    },
    {
     "data": {
      "text/plain": [
       "Series([], dtype: float64)"
      ]
     },
     "metadata": {},
     "output_type": "display_data"
    },
    {
     "data": {
      "text/plain": [
       "Series([], dtype: float64)"
      ]
     },
     "metadata": {},
     "output_type": "display_data"
    },
    {
     "data": {
      "text/plain": [
       "Series([], dtype: float64)"
      ]
     },
     "metadata": {},
     "output_type": "display_data"
    },
    {
     "data": {
      "text/plain": [
       "Series([], dtype: float64)"
      ]
     },
     "metadata": {},
     "output_type": "display_data"
    },
    {
     "data": {
      "text/plain": [
       "Series([], dtype: float64)"
      ]
     },
     "metadata": {},
     "output_type": "display_data"
    },
    {
     "data": {
      "text/plain": [
       "Series([], dtype: float64)"
      ]
     },
     "metadata": {},
     "output_type": "display_data"
    },
    {
     "data": {
      "text/plain": [
       "Series([], dtype: float64)"
      ]
     },
     "metadata": {},
     "output_type": "display_data"
    },
    {
     "data": {
      "text/plain": [
       "Series([], dtype: float64)"
      ]
     },
     "metadata": {},
     "output_type": "display_data"
    },
    {
     "data": {
      "text/plain": [
       "Series([], dtype: float64)"
      ]
     },
     "metadata": {},
     "output_type": "display_data"
    },
    {
     "data": {
      "text/plain": [
       "Series([], dtype: float64)"
      ]
     },
     "metadata": {},
     "output_type": "display_data"
    },
    {
     "data": {
      "text/plain": [
       "Series([], dtype: float64)"
      ]
     },
     "metadata": {},
     "output_type": "display_data"
    },
    {
     "data": {
      "text/plain": [
       "Series([], dtype: float64)"
      ]
     },
     "metadata": {},
     "output_type": "display_data"
    },
    {
     "data": {
      "text/plain": [
       "Series([], dtype: float64)"
      ]
     },
     "metadata": {},
     "output_type": "display_data"
    },
    {
     "data": {
      "text/plain": [
       "Series([], dtype: float64)"
      ]
     },
     "metadata": {},
     "output_type": "display_data"
    },
    {
     "data": {
      "text/plain": [
       "Series([], dtype: float64)"
      ]
     },
     "metadata": {},
     "output_type": "display_data"
    },
    {
     "data": {
      "text/plain": [
       "Series([], dtype: float64)"
      ]
     },
     "metadata": {},
     "output_type": "display_data"
    },
    {
     "data": {
      "text/plain": [
       "Series([], dtype: float64)"
      ]
     },
     "metadata": {},
     "output_type": "display_data"
    },
    {
     "data": {
      "text/plain": [
       "Series([], dtype: float64)"
      ]
     },
     "metadata": {},
     "output_type": "display_data"
    },
    {
     "data": {
      "text/plain": [
       "Series([], dtype: float64)"
      ]
     },
     "metadata": {},
     "output_type": "display_data"
    },
    {
     "data": {
      "text/plain": [
       "Series([], dtype: float64)"
      ]
     },
     "metadata": {},
     "output_type": "display_data"
    },
    {
     "data": {
      "text/plain": [
       "Series([], dtype: float64)"
      ]
     },
     "metadata": {},
     "output_type": "display_data"
    },
    {
     "data": {
      "text/plain": [
       "Series([], dtype: float64)"
      ]
     },
     "metadata": {},
     "output_type": "display_data"
    },
    {
     "data": {
      "text/plain": [
       "Series([], dtype: float64)"
      ]
     },
     "metadata": {},
     "output_type": "display_data"
    },
    {
     "data": {
      "text/plain": [
       "Series([], dtype: float64)"
      ]
     },
     "metadata": {},
     "output_type": "display_data"
    },
    {
     "data": {
      "text/plain": [
       "Series([], dtype: float64)"
      ]
     },
     "metadata": {},
     "output_type": "display_data"
    },
    {
     "data": {
      "text/plain": [
       "Series([], dtype: float64)"
      ]
     },
     "metadata": {},
     "output_type": "display_data"
    },
    {
     "data": {
      "text/plain": [
       "Series([], dtype: float64)"
      ]
     },
     "metadata": {},
     "output_type": "display_data"
    },
    {
     "data": {
      "text/plain": [
       "Series([], dtype: float64)"
      ]
     },
     "metadata": {},
     "output_type": "display_data"
    },
    {
     "data": {
      "text/plain": [
       "Series([], dtype: float64)"
      ]
     },
     "metadata": {},
     "output_type": "display_data"
    }
   ],
   "source": [
    "#5% taxa\n",
    "#for i in range(100):\n",
    "#    uid = list(test_public_uid)[i]\n",
    "#    #uid\n",
    "#    dfi=test[test.ncodpers==uid].sort_values(\"fecha_dato\",  ascending=True)\n",
    "#    dfid=dfi[target_cols].diff(axis=0)\n",
    "#    dfid = dfid.iloc[-1:,:]#.reset_index()\n",
    "#    a=dfid[dfid >0].stack()\n",
    "#    display(a)"
   ]
  },
  {
   "cell_type": "markdown",
   "id": "f88fecf9",
   "metadata": {},
   "source": [
    "# Split Train / Test Set"
   ]
  },
  {
   "cell_type": "code",
   "execution_count": 75,
   "id": "521a54b5",
   "metadata": {},
   "outputs": [],
   "source": [
    "#!Not yet!!\n",
    "#test = train[train.fecha_dato==train_fdm].copy()\n",
    "test=train.copy()"
   ]
  },
  {
   "cell_type": "code",
   "execution_count": 76,
   "id": "74bdc99f",
   "metadata": {},
   "outputs": [
    {
     "data": {
      "text/plain": [
       "(13647309, 48)"
      ]
     },
     "metadata": {},
     "output_type": "display_data"
    },
    {
     "data": {
      "text/plain": [
       "'2016-05-28'"
      ]
     },
     "metadata": {},
     "output_type": "display_data"
    }
   ],
   "source": [
    "display(test.shape)\n",
    "display(test.fecha_dato.max())"
   ]
  },
  {
   "cell_type": "code",
   "execution_count": 77,
   "id": "fcac7e0b",
   "metadata": {},
   "outputs": [
    {
     "data": {
      "text/plain": [
       "(13647309, 48)"
      ]
     },
     "metadata": {},
     "output_type": "display_data"
    },
    {
     "data": {
      "text/plain": [
       "'2016-05-28'"
      ]
     },
     "metadata": {},
     "output_type": "display_data"
    },
    {
     "data": {
      "text/plain": [
       "(12715856, 48)"
      ]
     },
     "metadata": {},
     "output_type": "display_data"
    },
    {
     "data": {
      "text/plain": [
       "'2016-04-28'"
      ]
     },
     "metadata": {},
     "output_type": "display_data"
    }
   ],
   "source": [
    "display(train.shape)\n",
    "display(train.fecha_dato.max())\n",
    "train = train[train.fecha_dato<train_fdm]\n",
    "display(train.shape)\n",
    "display(train.fecha_dato.max())\n"
   ]
  },
  {
   "cell_type": "markdown",
   "id": "a1cd7c49",
   "metadata": {},
   "source": [
    "## check that all test UIDs are a subset of train UIDS"
   ]
  },
  {
   "cell_type": "code",
   "execution_count": 78,
   "id": "5d3d8b8e",
   "metadata": {},
   "outputs": [
    {
     "data": {
      "text/plain": [
       "951952"
      ]
     },
     "metadata": {},
     "output_type": "display_data"
    },
    {
     "data": {
      "text/plain": [
       "956645"
      ]
     },
     "metadata": {},
     "output_type": "display_data"
    },
    {
     "data": {
      "text/plain": [
       "False"
      ]
     },
     "metadata": {},
     "output_type": "display_data"
    }
   ],
   "source": [
    "train_uid = set(train.ncodpers.unique())\n",
    "display(len(train_uid))\n",
    "test_uid = set(test.ncodpers.unique())\n",
    "display(len(test_uid))\n",
    "display(test_uid.issubset(train_uid))"
   ]
  },
  {
   "cell_type": "code",
   "execution_count": 79,
   "id": "50de253f",
   "metadata": {},
   "outputs": [
    {
     "data": {
      "text/plain": [
       "951952"
      ]
     },
     "execution_count": 79,
     "metadata": {},
     "output_type": "execute_result"
    }
   ],
   "source": [
    "len(test_uid.intersection(train_uid))"
   ]
  },
  {
   "cell_type": "code",
   "execution_count": 80,
   "id": "e968f428",
   "metadata": {},
   "outputs": [
    {
     "data": {
      "text/plain": [
       "(13642616, 48)"
      ]
     },
     "metadata": {},
     "output_type": "display_data"
    }
   ],
   "source": [
    "new_test_uid = test_uid.intersection(train_uid)\n",
    "test = test[test.ncodpers.isin(new_test_uid)]\n",
    "display(test.shape)"
   ]
  },
  {
   "cell_type": "code",
   "execution_count": 81,
   "id": "b6635cc8",
   "metadata": {},
   "outputs": [
    {
     "data": {
      "text/plain": [
       "951952"
      ]
     },
     "metadata": {},
     "output_type": "display_data"
    },
    {
     "data": {
      "text/plain": [
       "951952"
      ]
     },
     "metadata": {},
     "output_type": "display_data"
    },
    {
     "data": {
      "text/plain": [
       "True"
      ]
     },
     "metadata": {},
     "output_type": "display_data"
    }
   ],
   "source": [
    "#test again \n",
    "train_uid = set(train.ncodpers.unique())\n",
    "display(len(train_uid))\n",
    "test_uid = set(test.ncodpers.unique())\n",
    "display(len(test_uid))\n",
    "display(test_uid.issubset(train_uid))"
   ]
  },
  {
   "cell_type": "markdown",
   "id": "abf621a4",
   "metadata": {},
   "source": [
    "# Create raindom split train private / public "
   ]
  },
  {
   "cell_type": "code",
   "execution_count": 82,
   "id": "93059939",
   "metadata": {},
   "outputs": [
    {
     "name": "stdout",
     "output_type": "stream",
     "text": [
      "Help on method raw_input in module ipykernel.kernelbase:\n",
      "\n",
      "raw_input(prompt='') method of ipykernel.ipkernel.IPythonKernel instance\n",
      "    Forward raw_input to frontends\n",
      "    \n",
      "    Raises\n",
      "    ------\n",
      "    StdinNotImplementedError if active frontend doesn't support stdin.\n",
      "\n"
     ]
    }
   ],
   "source": [
    "help(input)"
   ]
  },
  {
   "cell_type": "code",
   "execution_count": 83,
   "id": "ce9937c9",
   "metadata": {
    "scrolled": false
   },
   "outputs": [
    {
     "name": "stdout",
     "output_type": "stream",
     "text": [
      "1234\n"
     ]
    }
   ],
   "source": [
    "rs = int(input());"
   ]
  },
  {
   "cell_type": "code",
   "execution_count": 84,
   "id": "54e2ada7",
   "metadata": {},
   "outputs": [],
   "source": [
    "np.random.seed(rs)\n",
    "test_private_uid = np.random.choice(list(new_test_uid), size=int(len(new_test_uid)/2), replace=False)"
   ]
  },
  {
   "cell_type": "code",
   "execution_count": 85,
   "id": "fbd72716",
   "metadata": {},
   "outputs": [],
   "source": [
    "test_public_uid = new_test_uid.difference(test_private_uid)"
   ]
  },
  {
   "cell_type": "code",
   "execution_count": 86,
   "id": "bafdfb40",
   "metadata": {},
   "outputs": [
    {
     "data": {
      "text/plain": [
       "475976"
      ]
     },
     "metadata": {},
     "output_type": "display_data"
    },
    {
     "data": {
      "text/plain": [
       "475976"
      ]
     },
     "metadata": {},
     "output_type": "display_data"
    }
   ],
   "source": [
    "display(len(test_public_uid))\n",
    "display(len(test_private_uid))"
   ]
  },
  {
   "cell_type": "code",
   "execution_count": 87,
   "id": "a9053a22",
   "metadata": {},
   "outputs": [
    {
     "data": {
      "text/plain": [
       "926760"
      ]
     },
     "execution_count": 87,
     "metadata": {},
     "output_type": "execute_result"
    }
   ],
   "source": [
    "463380+463380"
   ]
  },
  {
   "cell_type": "code",
   "execution_count": 88,
   "id": "2d48c4d8",
   "metadata": {},
   "outputs": [
    {
     "data": {
      "text/plain": [
       "set()"
      ]
     },
     "execution_count": 88,
     "metadata": {},
     "output_type": "execute_result"
    }
   ],
   "source": [
    "test_public_uid.intersection(test_private_uid)"
   ]
  },
  {
   "cell_type": "markdown",
   "id": "1ce2b931",
   "metadata": {},
   "source": [
    "# Create solution  from test set "
   ]
  },
  {
   "cell_type": "code",
   "execution_count": 64,
   "id": "96bd71a9",
   "metadata": {},
   "outputs": [],
   "source": [
    "test_public_data = []\n",
    "for uid in list(test_public_uid):\n",
    "    test_public_data.append(df2target(train, uid))"
   ]
  },
  {
   "cell_type": "code",
   "execution_count": 66,
   "id": "bb955db3",
   "metadata": {},
   "outputs": [
    {
     "data": {
      "text/plain": [
       "['15890',\n",
       " '15892,ind_cco_fin_ult1,ind_dela_fin_ult1',\n",
       " '15895',\n",
       " '15897,ind_nom_pens_ult1',\n",
       " '15900,ind_cno_fin_ult1',\n",
       " '15902',\n",
       " '15908',\n",
       " '15913,ind_ctop_fin_ult1,ind_cco_fin_ult1,ind_ecue_fin_ult1,ind_valo_fin_ult1',\n",
       " '15914,ind_nomina_ult1,ind_nom_pens_ult1',\n",
       " '15915',\n",
       " '15916,ind_cno_fin_ult1',\n",
       " '15919',\n",
       " '15920,ind_valo_fin_ult1',\n",
       " '15922',\n",
       " '15923,ind_tjcr_fin_ult1,ind_reca_fin_ult1',\n",
       " '15925,ind_recibo_ult1,ind_tjcr_fin_ult1',\n",
       " '15927,ind_cco_fin_ult1,ind_tjcr_fin_ult1',\n",
       " '15928,ind_tjcr_fin_ult1',\n",
       " '15929,ind_recibo_ult1',\n",
       " '15930',\n",
       " '15933',\n",
       " '15936',\n",
       " '15937,ind_tjcr_fin_ult1,ind_cno_fin_ult1',\n",
       " '15940',\n",
       " '15942',\n",
       " '15943,ind_recibo_ult1',\n",
       " '15944,ind_cco_fin_ult1',\n",
       " '15945',\n",
       " '15947',\n",
       " '15948',\n",
       " '15949,ind_recibo_ult1',\n",
       " '15950,ind_cco_fin_ult1',\n",
       " '15952',\n",
       " '15954',\n",
       " '15956',\n",
       " '15958,ind_ctpp_fin_ult1',\n",
       " '15960',\n",
       " '15964,ind_reca_fin_ult1',\n",
       " '15967,ind_ecue_fin_ult1',\n",
       " '15969,ind_cco_fin_ult1',\n",
       " '15973',\n",
       " '15974',\n",
       " '15975,ind_tjcr_fin_ult1,ind_fond_fin_ult1',\n",
       " '15980',\n",
       " '15981',\n",
       " '15982,ind_nomina_ult1,ind_nom_pens_ult1',\n",
       " '15987',\n",
       " '15988,ind_tjcr_fin_ult1',\n",
       " '15989',\n",
       " '15990',\n",
       " '16000,ind_ecue_fin_ult1,ind_recibo_ult1',\n",
       " '16002',\n",
       " '16003',\n",
       " '16009',\n",
       " '16018',\n",
       " '16019,ind_cco_fin_ult1',\n",
       " '16024',\n",
       " '16027,ind_cno_fin_ult1,ind_fond_fin_ult1',\n",
       " '16028',\n",
       " '16036',\n",
       " '16041,ind_ecue_fin_ult1,ind_valo_fin_ult1',\n",
       " '16048',\n",
       " '16051',\n",
       " '16053',\n",
       " '16056,ind_nomina_ult1,ind_nom_pens_ult1,ind_recibo_ult1',\n",
       " '16060',\n",
       " '16065,ind_recibo_ult1',\n",
       " '16070',\n",
       " '16073,ind_dela_fin_ult1',\n",
       " '16082',\n",
       " '16083',\n",
       " '16085',\n",
       " '16088',\n",
       " '16090',\n",
       " '16099',\n",
       " '16100,ind_cco_fin_ult1',\n",
       " '16101',\n",
       " '16110',\n",
       " '16111',\n",
       " '16115',\n",
       " '16119',\n",
       " '16122',\n",
       " '16125,ind_recibo_ult1,ind_ecue_fin_ult1',\n",
       " '16126',\n",
       " '16128',\n",
       " '16138,ind_cco_fin_ult1',\n",
       " '16141',\n",
       " '16145,ind_reca_fin_ult1',\n",
       " '16147',\n",
       " '16148',\n",
       " '16149,ind_tjcr_fin_ult1',\n",
       " '16152,ind_nomina_ult1,ind_nom_pens_ult1',\n",
       " '16161',\n",
       " '16162,ind_cco_fin_ult1',\n",
       " '16166,ind_ecue_fin_ult1',\n",
       " '16167',\n",
       " '16169',\n",
       " '16172',\n",
       " '16176',\n",
       " '16177']"
      ]
     },
     "execution_count": 66,
     "metadata": {},
     "output_type": "execute_result"
    }
   ],
   "source": [
    "test_public_data[:100]"
   ]
  },
  {
   "cell_type": "markdown",
   "id": "b23cb09a",
   "metadata": {},
   "source": [
    "# Remove target columsn from test set "
   ]
  },
  {
   "cell_type": "markdown",
   "id": "e7ffbee9",
   "metadata": {},
   "source": [
    "# Write all to disk "
   ]
  },
  {
   "cell_type": "code",
   "execution_count": null,
   "id": "eb8e5134",
   "metadata": {},
   "outputs": [],
   "source": []
  }
 ],
 "metadata": {
  "kernelspec": {
   "display_name": "Py3_ds1",
   "language": "python",
   "name": "py3_ds1"
  },
  "language_info": {
   "codemirror_mode": {
    "name": "ipython",
    "version": 3
   },
   "file_extension": ".py",
   "mimetype": "text/x-python",
   "name": "python",
   "nbconvert_exporter": "python",
   "pygments_lexer": "ipython3",
   "version": "3.10.5"
  }
 },
 "nbformat": 4,
 "nbformat_minor": 5
}
