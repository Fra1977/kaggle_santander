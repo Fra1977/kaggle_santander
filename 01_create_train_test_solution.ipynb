{
 "cells": [
  {
   "cell_type": "code",
   "execution_count": 5,
   "id": "b7330f7a",
   "metadata": {},
   "outputs": [
    {
     "name": "stdout",
     "output_type": "stream",
     "text": [
      "20220708_nextsteps.pptx  test_submission  Untitled.ipynb\r\n",
      "sample_submission.csv\t test_ver2.csv\t  Untitled.py\r\n",
      "s-product-recomendation  train_ver2.csv   Untitled.txt\r\n"
     ]
    }
   ],
   "source": [
    "!ls"
   ]
  },
  {
   "cell_type": "code",
   "execution_count": 170,
   "id": "9d7f7923",
   "metadata": {},
   "outputs": [],
   "source": [
    "import pandas as pd\n",
    "import numpy as np"
   ]
  },
  {
   "cell_type": "code",
   "execution_count": 171,
   "id": "a0128170",
   "metadata": {},
   "outputs": [],
   "source": [
    "pd.options.display.max_columns=100"
   ]
  },
  {
   "cell_type": "code",
   "execution_count": 172,
   "id": "6c8bd565",
   "metadata": {},
   "outputs": [
    {
     "name": "stderr",
     "output_type": "stream",
     "text": [
      "/home/raischel/Envs/ds1/lib64/python3.10/site-packages/IPython/core/magics/execution.py:1335: DtypeWarning: Columns (5,8,11,15) have mixed types.Specify dtype option on import or set low_memory=False.\n",
      "  exec(code, glob, local_ns)\n"
     ]
    },
    {
     "name": "stdout",
     "output_type": "stream",
     "text": [
      "CPU times: user 28.2 s, sys: 27.3 s, total: 55.5 s\n",
      "Wall time: 1min 20s\n"
     ]
    },
    {
     "data": {
      "text/html": [
       "<div>\n",
       "<style scoped>\n",
       "    .dataframe tbody tr th:only-of-type {\n",
       "        vertical-align: middle;\n",
       "    }\n",
       "\n",
       "    .dataframe tbody tr th {\n",
       "        vertical-align: top;\n",
       "    }\n",
       "\n",
       "    .dataframe thead th {\n",
       "        text-align: right;\n",
       "    }\n",
       "</style>\n",
       "<table border=\"1\" class=\"dataframe\">\n",
       "  <thead>\n",
       "    <tr style=\"text-align: right;\">\n",
       "      <th></th>\n",
       "      <th>fecha_dato</th>\n",
       "      <th>ncodpers</th>\n",
       "      <th>ind_empleado</th>\n",
       "      <th>pais_residencia</th>\n",
       "      <th>sexo</th>\n",
       "      <th>age</th>\n",
       "      <th>fecha_alta</th>\n",
       "      <th>ind_nuevo</th>\n",
       "      <th>antiguedad</th>\n",
       "      <th>indrel</th>\n",
       "      <th>ult_fec_cli_1t</th>\n",
       "      <th>indrel_1mes</th>\n",
       "      <th>tiprel_1mes</th>\n",
       "      <th>indresi</th>\n",
       "      <th>indext</th>\n",
       "      <th>conyuemp</th>\n",
       "      <th>canal_entrada</th>\n",
       "      <th>indfall</th>\n",
       "      <th>tipodom</th>\n",
       "      <th>cod_prov</th>\n",
       "      <th>nomprov</th>\n",
       "      <th>ind_actividad_cliente</th>\n",
       "      <th>renta</th>\n",
       "      <th>segmento</th>\n",
       "      <th>ind_ahor_fin_ult1</th>\n",
       "      <th>ind_aval_fin_ult1</th>\n",
       "      <th>ind_cco_fin_ult1</th>\n",
       "      <th>ind_cder_fin_ult1</th>\n",
       "      <th>ind_cno_fin_ult1</th>\n",
       "      <th>ind_ctju_fin_ult1</th>\n",
       "      <th>ind_ctma_fin_ult1</th>\n",
       "      <th>ind_ctop_fin_ult1</th>\n",
       "      <th>ind_ctpp_fin_ult1</th>\n",
       "      <th>ind_deco_fin_ult1</th>\n",
       "      <th>ind_deme_fin_ult1</th>\n",
       "      <th>ind_dela_fin_ult1</th>\n",
       "      <th>ind_ecue_fin_ult1</th>\n",
       "      <th>ind_fond_fin_ult1</th>\n",
       "      <th>ind_hip_fin_ult1</th>\n",
       "      <th>ind_plan_fin_ult1</th>\n",
       "      <th>ind_pres_fin_ult1</th>\n",
       "      <th>ind_reca_fin_ult1</th>\n",
       "      <th>ind_tjcr_fin_ult1</th>\n",
       "      <th>ind_valo_fin_ult1</th>\n",
       "      <th>ind_viv_fin_ult1</th>\n",
       "      <th>ind_nomina_ult1</th>\n",
       "      <th>ind_nom_pens_ult1</th>\n",
       "      <th>ind_recibo_ult1</th>\n",
       "    </tr>\n",
       "  </thead>\n",
       "  <tbody>\n",
       "    <tr>\n",
       "      <th>0</th>\n",
       "      <td>2015-01-28</td>\n",
       "      <td>1375586</td>\n",
       "      <td>N</td>\n",
       "      <td>ES</td>\n",
       "      <td>H</td>\n",
       "      <td>35</td>\n",
       "      <td>2015-01-12</td>\n",
       "      <td>0.0</td>\n",
       "      <td>6</td>\n",
       "      <td>1.0</td>\n",
       "      <td>NaN</td>\n",
       "      <td>1.0</td>\n",
       "      <td>A</td>\n",
       "      <td>S</td>\n",
       "      <td>N</td>\n",
       "      <td>NaN</td>\n",
       "      <td>KHL</td>\n",
       "      <td>N</td>\n",
       "      <td>1.0</td>\n",
       "      <td>29.0</td>\n",
       "      <td>MALAGA</td>\n",
       "      <td>1.0</td>\n",
       "      <td>87218.10</td>\n",
       "      <td>02 - PARTICULARES</td>\n",
       "      <td>0</td>\n",
       "      <td>0</td>\n",
       "      <td>1</td>\n",
       "      <td>0</td>\n",
       "      <td>0</td>\n",
       "      <td>0</td>\n",
       "      <td>0</td>\n",
       "      <td>0</td>\n",
       "      <td>0</td>\n",
       "      <td>0</td>\n",
       "      <td>0</td>\n",
       "      <td>0</td>\n",
       "      <td>0</td>\n",
       "      <td>0</td>\n",
       "      <td>0</td>\n",
       "      <td>0</td>\n",
       "      <td>0</td>\n",
       "      <td>0</td>\n",
       "      <td>0</td>\n",
       "      <td>0</td>\n",
       "      <td>0</td>\n",
       "      <td>0.0</td>\n",
       "      <td>0.0</td>\n",
       "      <td>0</td>\n",
       "    </tr>\n",
       "    <tr>\n",
       "      <th>1</th>\n",
       "      <td>2015-01-28</td>\n",
       "      <td>1050611</td>\n",
       "      <td>N</td>\n",
       "      <td>ES</td>\n",
       "      <td>V</td>\n",
       "      <td>23</td>\n",
       "      <td>2012-08-10</td>\n",
       "      <td>0.0</td>\n",
       "      <td>35</td>\n",
       "      <td>1.0</td>\n",
       "      <td>NaN</td>\n",
       "      <td>1.0</td>\n",
       "      <td>I</td>\n",
       "      <td>S</td>\n",
       "      <td>S</td>\n",
       "      <td>NaN</td>\n",
       "      <td>KHE</td>\n",
       "      <td>N</td>\n",
       "      <td>1.0</td>\n",
       "      <td>13.0</td>\n",
       "      <td>CIUDAD REAL</td>\n",
       "      <td>0.0</td>\n",
       "      <td>35548.74</td>\n",
       "      <td>03 - UNIVERSITARIO</td>\n",
       "      <td>0</td>\n",
       "      <td>0</td>\n",
       "      <td>1</td>\n",
       "      <td>0</td>\n",
       "      <td>0</td>\n",
       "      <td>0</td>\n",
       "      <td>0</td>\n",
       "      <td>0</td>\n",
       "      <td>0</td>\n",
       "      <td>0</td>\n",
       "      <td>0</td>\n",
       "      <td>0</td>\n",
       "      <td>0</td>\n",
       "      <td>0</td>\n",
       "      <td>0</td>\n",
       "      <td>0</td>\n",
       "      <td>0</td>\n",
       "      <td>0</td>\n",
       "      <td>0</td>\n",
       "      <td>0</td>\n",
       "      <td>0</td>\n",
       "      <td>0.0</td>\n",
       "      <td>0.0</td>\n",
       "      <td>0</td>\n",
       "    </tr>\n",
       "    <tr>\n",
       "      <th>2</th>\n",
       "      <td>2015-01-28</td>\n",
       "      <td>1050612</td>\n",
       "      <td>N</td>\n",
       "      <td>ES</td>\n",
       "      <td>V</td>\n",
       "      <td>23</td>\n",
       "      <td>2012-08-10</td>\n",
       "      <td>0.0</td>\n",
       "      <td>35</td>\n",
       "      <td>1.0</td>\n",
       "      <td>NaN</td>\n",
       "      <td>1.0</td>\n",
       "      <td>I</td>\n",
       "      <td>S</td>\n",
       "      <td>N</td>\n",
       "      <td>NaN</td>\n",
       "      <td>KHE</td>\n",
       "      <td>N</td>\n",
       "      <td>1.0</td>\n",
       "      <td>13.0</td>\n",
       "      <td>CIUDAD REAL</td>\n",
       "      <td>0.0</td>\n",
       "      <td>122179.11</td>\n",
       "      <td>03 - UNIVERSITARIO</td>\n",
       "      <td>0</td>\n",
       "      <td>0</td>\n",
       "      <td>1</td>\n",
       "      <td>0</td>\n",
       "      <td>0</td>\n",
       "      <td>0</td>\n",
       "      <td>0</td>\n",
       "      <td>0</td>\n",
       "      <td>0</td>\n",
       "      <td>0</td>\n",
       "      <td>0</td>\n",
       "      <td>0</td>\n",
       "      <td>0</td>\n",
       "      <td>0</td>\n",
       "      <td>0</td>\n",
       "      <td>0</td>\n",
       "      <td>0</td>\n",
       "      <td>0</td>\n",
       "      <td>0</td>\n",
       "      <td>0</td>\n",
       "      <td>0</td>\n",
       "      <td>0.0</td>\n",
       "      <td>0.0</td>\n",
       "      <td>0</td>\n",
       "    </tr>\n",
       "    <tr>\n",
       "      <th>3</th>\n",
       "      <td>2015-01-28</td>\n",
       "      <td>1050613</td>\n",
       "      <td>N</td>\n",
       "      <td>ES</td>\n",
       "      <td>H</td>\n",
       "      <td>22</td>\n",
       "      <td>2012-08-10</td>\n",
       "      <td>0.0</td>\n",
       "      <td>35</td>\n",
       "      <td>1.0</td>\n",
       "      <td>NaN</td>\n",
       "      <td>1.0</td>\n",
       "      <td>I</td>\n",
       "      <td>S</td>\n",
       "      <td>N</td>\n",
       "      <td>NaN</td>\n",
       "      <td>KHD</td>\n",
       "      <td>N</td>\n",
       "      <td>1.0</td>\n",
       "      <td>50.0</td>\n",
       "      <td>ZARAGOZA</td>\n",
       "      <td>0.0</td>\n",
       "      <td>119775.54</td>\n",
       "      <td>03 - UNIVERSITARIO</td>\n",
       "      <td>0</td>\n",
       "      <td>0</td>\n",
       "      <td>0</td>\n",
       "      <td>0</td>\n",
       "      <td>0</td>\n",
       "      <td>0</td>\n",
       "      <td>0</td>\n",
       "      <td>0</td>\n",
       "      <td>0</td>\n",
       "      <td>1</td>\n",
       "      <td>0</td>\n",
       "      <td>0</td>\n",
       "      <td>0</td>\n",
       "      <td>0</td>\n",
       "      <td>0</td>\n",
       "      <td>0</td>\n",
       "      <td>0</td>\n",
       "      <td>0</td>\n",
       "      <td>0</td>\n",
       "      <td>0</td>\n",
       "      <td>0</td>\n",
       "      <td>0.0</td>\n",
       "      <td>0.0</td>\n",
       "      <td>0</td>\n",
       "    </tr>\n",
       "    <tr>\n",
       "      <th>4</th>\n",
       "      <td>2015-01-28</td>\n",
       "      <td>1050614</td>\n",
       "      <td>N</td>\n",
       "      <td>ES</td>\n",
       "      <td>V</td>\n",
       "      <td>23</td>\n",
       "      <td>2012-08-10</td>\n",
       "      <td>0.0</td>\n",
       "      <td>35</td>\n",
       "      <td>1.0</td>\n",
       "      <td>NaN</td>\n",
       "      <td>1.0</td>\n",
       "      <td>A</td>\n",
       "      <td>S</td>\n",
       "      <td>N</td>\n",
       "      <td>NaN</td>\n",
       "      <td>KHE</td>\n",
       "      <td>N</td>\n",
       "      <td>1.0</td>\n",
       "      <td>50.0</td>\n",
       "      <td>ZARAGOZA</td>\n",
       "      <td>1.0</td>\n",
       "      <td>NaN</td>\n",
       "      <td>03 - UNIVERSITARIO</td>\n",
       "      <td>0</td>\n",
       "      <td>0</td>\n",
       "      <td>1</td>\n",
       "      <td>0</td>\n",
       "      <td>0</td>\n",
       "      <td>0</td>\n",
       "      <td>0</td>\n",
       "      <td>0</td>\n",
       "      <td>0</td>\n",
       "      <td>0</td>\n",
       "      <td>0</td>\n",
       "      <td>0</td>\n",
       "      <td>0</td>\n",
       "      <td>0</td>\n",
       "      <td>0</td>\n",
       "      <td>0</td>\n",
       "      <td>0</td>\n",
       "      <td>0</td>\n",
       "      <td>0</td>\n",
       "      <td>0</td>\n",
       "      <td>0</td>\n",
       "      <td>0.0</td>\n",
       "      <td>0.0</td>\n",
       "      <td>0</td>\n",
       "    </tr>\n",
       "  </tbody>\n",
       "</table>\n",
       "</div>"
      ],
      "text/plain": [
       "   fecha_dato  ncodpers ind_empleado pais_residencia sexo  age  fecha_alta  \\\n",
       "0  2015-01-28   1375586            N              ES    H   35  2015-01-12   \n",
       "1  2015-01-28   1050611            N              ES    V   23  2012-08-10   \n",
       "2  2015-01-28   1050612            N              ES    V   23  2012-08-10   \n",
       "3  2015-01-28   1050613            N              ES    H   22  2012-08-10   \n",
       "4  2015-01-28   1050614            N              ES    V   23  2012-08-10   \n",
       "\n",
       "   ind_nuevo antiguedad  indrel ult_fec_cli_1t indrel_1mes tiprel_1mes  \\\n",
       "0        0.0          6     1.0            NaN         1.0           A   \n",
       "1        0.0         35     1.0            NaN         1.0           I   \n",
       "2        0.0         35     1.0            NaN         1.0           I   \n",
       "3        0.0         35     1.0            NaN         1.0           I   \n",
       "4        0.0         35     1.0            NaN         1.0           A   \n",
       "\n",
       "  indresi indext conyuemp canal_entrada indfall  tipodom  cod_prov  \\\n",
       "0       S      N      NaN           KHL       N      1.0      29.0   \n",
       "1       S      S      NaN           KHE       N      1.0      13.0   \n",
       "2       S      N      NaN           KHE       N      1.0      13.0   \n",
       "3       S      N      NaN           KHD       N      1.0      50.0   \n",
       "4       S      N      NaN           KHE       N      1.0      50.0   \n",
       "\n",
       "       nomprov  ind_actividad_cliente      renta            segmento  \\\n",
       "0       MALAGA                    1.0   87218.10   02 - PARTICULARES   \n",
       "1  CIUDAD REAL                    0.0   35548.74  03 - UNIVERSITARIO   \n",
       "2  CIUDAD REAL                    0.0  122179.11  03 - UNIVERSITARIO   \n",
       "3     ZARAGOZA                    0.0  119775.54  03 - UNIVERSITARIO   \n",
       "4     ZARAGOZA                    1.0        NaN  03 - UNIVERSITARIO   \n",
       "\n",
       "   ind_ahor_fin_ult1  ind_aval_fin_ult1  ind_cco_fin_ult1  ind_cder_fin_ult1  \\\n",
       "0                  0                  0                 1                  0   \n",
       "1                  0                  0                 1                  0   \n",
       "2                  0                  0                 1                  0   \n",
       "3                  0                  0                 0                  0   \n",
       "4                  0                  0                 1                  0   \n",
       "\n",
       "   ind_cno_fin_ult1  ind_ctju_fin_ult1  ind_ctma_fin_ult1  ind_ctop_fin_ult1  \\\n",
       "0                 0                  0                  0                  0   \n",
       "1                 0                  0                  0                  0   \n",
       "2                 0                  0                  0                  0   \n",
       "3                 0                  0                  0                  0   \n",
       "4                 0                  0                  0                  0   \n",
       "\n",
       "   ind_ctpp_fin_ult1  ind_deco_fin_ult1  ind_deme_fin_ult1  ind_dela_fin_ult1  \\\n",
       "0                  0                  0                  0                  0   \n",
       "1                  0                  0                  0                  0   \n",
       "2                  0                  0                  0                  0   \n",
       "3                  0                  1                  0                  0   \n",
       "4                  0                  0                  0                  0   \n",
       "\n",
       "   ind_ecue_fin_ult1  ind_fond_fin_ult1  ind_hip_fin_ult1  ind_plan_fin_ult1  \\\n",
       "0                  0                  0                 0                  0   \n",
       "1                  0                  0                 0                  0   \n",
       "2                  0                  0                 0                  0   \n",
       "3                  0                  0                 0                  0   \n",
       "4                  0                  0                 0                  0   \n",
       "\n",
       "   ind_pres_fin_ult1  ind_reca_fin_ult1  ind_tjcr_fin_ult1  ind_valo_fin_ult1  \\\n",
       "0                  0                  0                  0                  0   \n",
       "1                  0                  0                  0                  0   \n",
       "2                  0                  0                  0                  0   \n",
       "3                  0                  0                  0                  0   \n",
       "4                  0                  0                  0                  0   \n",
       "\n",
       "   ind_viv_fin_ult1  ind_nomina_ult1  ind_nom_pens_ult1  ind_recibo_ult1  \n",
       "0                 0              0.0                0.0                0  \n",
       "1                 0              0.0                0.0                0  \n",
       "2                 0              0.0                0.0                0  \n",
       "3                 0              0.0                0.0                0  \n",
       "4                 0              0.0                0.0                0  "
      ]
     },
     "metadata": {},
     "output_type": "display_data"
    },
    {
     "data": {
      "text/plain": [
       "(13647309, 48)"
      ]
     },
     "metadata": {},
     "output_type": "display_data"
    }
   ],
   "source": [
    "%time train = pd.read_csv(\"train_ver2.csv\")\n",
    "display(train.head())\n",
    "display(train.shape)"
   ]
  },
  {
   "cell_type": "code",
   "execution_count": 173,
   "id": "21964eab",
   "metadata": {},
   "outputs": [
    {
     "data": {
      "text/html": [
       "<div>\n",
       "<style scoped>\n",
       "    .dataframe tbody tr th:only-of-type {\n",
       "        vertical-align: middle;\n",
       "    }\n",
       "\n",
       "    .dataframe tbody tr th {\n",
       "        vertical-align: top;\n",
       "    }\n",
       "\n",
       "    .dataframe thead th {\n",
       "        text-align: right;\n",
       "    }\n",
       "</style>\n",
       "<table border=\"1\" class=\"dataframe\">\n",
       "  <thead>\n",
       "    <tr style=\"text-align: right;\">\n",
       "      <th></th>\n",
       "      <th>ncodpers</th>\n",
       "      <th>ind_nuevo</th>\n",
       "      <th>indrel</th>\n",
       "      <th>tipodom</th>\n",
       "      <th>cod_prov</th>\n",
       "      <th>ind_actividad_cliente</th>\n",
       "      <th>renta</th>\n",
       "      <th>ind_ahor_fin_ult1</th>\n",
       "      <th>ind_aval_fin_ult1</th>\n",
       "      <th>ind_cco_fin_ult1</th>\n",
       "      <th>ind_cder_fin_ult1</th>\n",
       "      <th>ind_cno_fin_ult1</th>\n",
       "      <th>ind_ctju_fin_ult1</th>\n",
       "      <th>ind_ctma_fin_ult1</th>\n",
       "      <th>ind_ctop_fin_ult1</th>\n",
       "      <th>ind_ctpp_fin_ult1</th>\n",
       "      <th>ind_deco_fin_ult1</th>\n",
       "      <th>ind_deme_fin_ult1</th>\n",
       "      <th>ind_dela_fin_ult1</th>\n",
       "      <th>ind_ecue_fin_ult1</th>\n",
       "      <th>ind_fond_fin_ult1</th>\n",
       "      <th>ind_hip_fin_ult1</th>\n",
       "      <th>ind_plan_fin_ult1</th>\n",
       "      <th>ind_pres_fin_ult1</th>\n",
       "      <th>ind_reca_fin_ult1</th>\n",
       "      <th>ind_tjcr_fin_ult1</th>\n",
       "      <th>ind_valo_fin_ult1</th>\n",
       "      <th>ind_viv_fin_ult1</th>\n",
       "      <th>ind_nomina_ult1</th>\n",
       "      <th>ind_nom_pens_ult1</th>\n",
       "      <th>ind_recibo_ult1</th>\n",
       "    </tr>\n",
       "  </thead>\n",
       "  <tbody>\n",
       "    <tr>\n",
       "      <th>count</th>\n",
       "      <td>1.364731e+07</td>\n",
       "      <td>1.361958e+07</td>\n",
       "      <td>1.361958e+07</td>\n",
       "      <td>13619574.0</td>\n",
       "      <td>1.355372e+07</td>\n",
       "      <td>1.361958e+07</td>\n",
       "      <td>1.085293e+07</td>\n",
       "      <td>1.364731e+07</td>\n",
       "      <td>1.364731e+07</td>\n",
       "      <td>1.364731e+07</td>\n",
       "      <td>1.364731e+07</td>\n",
       "      <td>1.364731e+07</td>\n",
       "      <td>1.364731e+07</td>\n",
       "      <td>1.364731e+07</td>\n",
       "      <td>1.364731e+07</td>\n",
       "      <td>1.364731e+07</td>\n",
       "      <td>1.364731e+07</td>\n",
       "      <td>1.364731e+07</td>\n",
       "      <td>1.364731e+07</td>\n",
       "      <td>1.364731e+07</td>\n",
       "      <td>1.364731e+07</td>\n",
       "      <td>1.364731e+07</td>\n",
       "      <td>1.364731e+07</td>\n",
       "      <td>1.364731e+07</td>\n",
       "      <td>1.364731e+07</td>\n",
       "      <td>1.364731e+07</td>\n",
       "      <td>1.364731e+07</td>\n",
       "      <td>1.364731e+07</td>\n",
       "      <td>1.363125e+07</td>\n",
       "      <td>1.363125e+07</td>\n",
       "      <td>1.364731e+07</td>\n",
       "    </tr>\n",
       "    <tr>\n",
       "      <th>mean</th>\n",
       "      <td>8.349042e+05</td>\n",
       "      <td>5.956184e-02</td>\n",
       "      <td>1.178399e+00</td>\n",
       "      <td>1.0</td>\n",
       "      <td>2.657147e+01</td>\n",
       "      <td>4.578105e-01</td>\n",
       "      <td>1.342543e+05</td>\n",
       "      <td>1.022912e-04</td>\n",
       "      <td>2.315475e-05</td>\n",
       "      <td>6.554837e-01</td>\n",
       "      <td>3.939238e-04</td>\n",
       "      <td>8.086722e-02</td>\n",
       "      <td>9.474175e-03</td>\n",
       "      <td>9.726606e-03</td>\n",
       "      <td>1.290083e-01</td>\n",
       "      <td>4.330583e-02</td>\n",
       "      <td>1.778739e-03</td>\n",
       "      <td>1.660987e-03</td>\n",
       "      <td>4.296679e-02</td>\n",
       "      <td>8.274357e-02</td>\n",
       "      <td>1.848599e-02</td>\n",
       "      <td>5.886582e-03</td>\n",
       "      <td>9.170965e-03</td>\n",
       "      <td>2.627404e-03</td>\n",
       "      <td>5.253636e-02</td>\n",
       "      <td>4.438868e-02</td>\n",
       "      <td>2.560761e-02</td>\n",
       "      <td>3.847718e-03</td>\n",
       "      <td>5.472434e-02</td>\n",
       "      <td>5.942854e-02</td>\n",
       "      <td>1.279162e-01</td>\n",
       "    </tr>\n",
       "    <tr>\n",
       "      <th>std</th>\n",
       "      <td>4.315650e+05</td>\n",
       "      <td>2.366733e-01</td>\n",
       "      <td>4.177469e+00</td>\n",
       "      <td>0.0</td>\n",
       "      <td>1.278402e+01</td>\n",
       "      <td>4.982169e-01</td>\n",
       "      <td>2.306202e+05</td>\n",
       "      <td>1.011340e-02</td>\n",
       "      <td>4.811883e-03</td>\n",
       "      <td>4.752103e-01</td>\n",
       "      <td>1.984361e-02</td>\n",
       "      <td>2.726311e-01</td>\n",
       "      <td>9.687320e-02</td>\n",
       "      <td>9.814275e-02</td>\n",
       "      <td>3.352091e-01</td>\n",
       "      <td>2.035447e-01</td>\n",
       "      <td>4.213757e-02</td>\n",
       "      <td>4.072135e-02</td>\n",
       "      <td>2.027823e-01</td>\n",
       "      <td>2.754942e-01</td>\n",
       "      <td>1.347006e-01</td>\n",
       "      <td>7.649791e-02</td>\n",
       "      <td>9.532502e-02</td>\n",
       "      <td>5.119083e-02</td>\n",
       "      <td>2.231060e-01</td>\n",
       "      <td>2.059571e-01</td>\n",
       "      <td>1.579616e-01</td>\n",
       "      <td>6.191053e-02</td>\n",
       "      <td>2.274414e-01</td>\n",
       "      <td>2.364250e-01</td>\n",
       "      <td>3.339965e-01</td>\n",
       "    </tr>\n",
       "    <tr>\n",
       "      <th>min</th>\n",
       "      <td>1.588900e+04</td>\n",
       "      <td>0.000000e+00</td>\n",
       "      <td>1.000000e+00</td>\n",
       "      <td>1.0</td>\n",
       "      <td>1.000000e+00</td>\n",
       "      <td>0.000000e+00</td>\n",
       "      <td>1.202730e+03</td>\n",
       "      <td>0.000000e+00</td>\n",
       "      <td>0.000000e+00</td>\n",
       "      <td>0.000000e+00</td>\n",
       "      <td>0.000000e+00</td>\n",
       "      <td>0.000000e+00</td>\n",
       "      <td>0.000000e+00</td>\n",
       "      <td>0.000000e+00</td>\n",
       "      <td>0.000000e+00</td>\n",
       "      <td>0.000000e+00</td>\n",
       "      <td>0.000000e+00</td>\n",
       "      <td>0.000000e+00</td>\n",
       "      <td>0.000000e+00</td>\n",
       "      <td>0.000000e+00</td>\n",
       "      <td>0.000000e+00</td>\n",
       "      <td>0.000000e+00</td>\n",
       "      <td>0.000000e+00</td>\n",
       "      <td>0.000000e+00</td>\n",
       "      <td>0.000000e+00</td>\n",
       "      <td>0.000000e+00</td>\n",
       "      <td>0.000000e+00</td>\n",
       "      <td>0.000000e+00</td>\n",
       "      <td>0.000000e+00</td>\n",
       "      <td>0.000000e+00</td>\n",
       "      <td>0.000000e+00</td>\n",
       "    </tr>\n",
       "    <tr>\n",
       "      <th>25%</th>\n",
       "      <td>4.528130e+05</td>\n",
       "      <td>0.000000e+00</td>\n",
       "      <td>1.000000e+00</td>\n",
       "      <td>1.0</td>\n",
       "      <td>1.500000e+01</td>\n",
       "      <td>0.000000e+00</td>\n",
       "      <td>6.871098e+04</td>\n",
       "      <td>0.000000e+00</td>\n",
       "      <td>0.000000e+00</td>\n",
       "      <td>0.000000e+00</td>\n",
       "      <td>0.000000e+00</td>\n",
       "      <td>0.000000e+00</td>\n",
       "      <td>0.000000e+00</td>\n",
       "      <td>0.000000e+00</td>\n",
       "      <td>0.000000e+00</td>\n",
       "      <td>0.000000e+00</td>\n",
       "      <td>0.000000e+00</td>\n",
       "      <td>0.000000e+00</td>\n",
       "      <td>0.000000e+00</td>\n",
       "      <td>0.000000e+00</td>\n",
       "      <td>0.000000e+00</td>\n",
       "      <td>0.000000e+00</td>\n",
       "      <td>0.000000e+00</td>\n",
       "      <td>0.000000e+00</td>\n",
       "      <td>0.000000e+00</td>\n",
       "      <td>0.000000e+00</td>\n",
       "      <td>0.000000e+00</td>\n",
       "      <td>0.000000e+00</td>\n",
       "      <td>0.000000e+00</td>\n",
       "      <td>0.000000e+00</td>\n",
       "      <td>0.000000e+00</td>\n",
       "    </tr>\n",
       "    <tr>\n",
       "      <th>50%</th>\n",
       "      <td>9.318930e+05</td>\n",
       "      <td>0.000000e+00</td>\n",
       "      <td>1.000000e+00</td>\n",
       "      <td>1.0</td>\n",
       "      <td>2.800000e+01</td>\n",
       "      <td>0.000000e+00</td>\n",
       "      <td>1.018500e+05</td>\n",
       "      <td>0.000000e+00</td>\n",
       "      <td>0.000000e+00</td>\n",
       "      <td>1.000000e+00</td>\n",
       "      <td>0.000000e+00</td>\n",
       "      <td>0.000000e+00</td>\n",
       "      <td>0.000000e+00</td>\n",
       "      <td>0.000000e+00</td>\n",
       "      <td>0.000000e+00</td>\n",
       "      <td>0.000000e+00</td>\n",
       "      <td>0.000000e+00</td>\n",
       "      <td>0.000000e+00</td>\n",
       "      <td>0.000000e+00</td>\n",
       "      <td>0.000000e+00</td>\n",
       "      <td>0.000000e+00</td>\n",
       "      <td>0.000000e+00</td>\n",
       "      <td>0.000000e+00</td>\n",
       "      <td>0.000000e+00</td>\n",
       "      <td>0.000000e+00</td>\n",
       "      <td>0.000000e+00</td>\n",
       "      <td>0.000000e+00</td>\n",
       "      <td>0.000000e+00</td>\n",
       "      <td>0.000000e+00</td>\n",
       "      <td>0.000000e+00</td>\n",
       "      <td>0.000000e+00</td>\n",
       "    </tr>\n",
       "    <tr>\n",
       "      <th>75%</th>\n",
       "      <td>1.199286e+06</td>\n",
       "      <td>0.000000e+00</td>\n",
       "      <td>1.000000e+00</td>\n",
       "      <td>1.0</td>\n",
       "      <td>3.500000e+01</td>\n",
       "      <td>1.000000e+00</td>\n",
       "      <td>1.559560e+05</td>\n",
       "      <td>0.000000e+00</td>\n",
       "      <td>0.000000e+00</td>\n",
       "      <td>1.000000e+00</td>\n",
       "      <td>0.000000e+00</td>\n",
       "      <td>0.000000e+00</td>\n",
       "      <td>0.000000e+00</td>\n",
       "      <td>0.000000e+00</td>\n",
       "      <td>0.000000e+00</td>\n",
       "      <td>0.000000e+00</td>\n",
       "      <td>0.000000e+00</td>\n",
       "      <td>0.000000e+00</td>\n",
       "      <td>0.000000e+00</td>\n",
       "      <td>0.000000e+00</td>\n",
       "      <td>0.000000e+00</td>\n",
       "      <td>0.000000e+00</td>\n",
       "      <td>0.000000e+00</td>\n",
       "      <td>0.000000e+00</td>\n",
       "      <td>0.000000e+00</td>\n",
       "      <td>0.000000e+00</td>\n",
       "      <td>0.000000e+00</td>\n",
       "      <td>0.000000e+00</td>\n",
       "      <td>0.000000e+00</td>\n",
       "      <td>0.000000e+00</td>\n",
       "      <td>0.000000e+00</td>\n",
       "    </tr>\n",
       "    <tr>\n",
       "      <th>max</th>\n",
       "      <td>1.553689e+06</td>\n",
       "      <td>1.000000e+00</td>\n",
       "      <td>9.900000e+01</td>\n",
       "      <td>1.0</td>\n",
       "      <td>5.200000e+01</td>\n",
       "      <td>1.000000e+00</td>\n",
       "      <td>2.889440e+07</td>\n",
       "      <td>1.000000e+00</td>\n",
       "      <td>1.000000e+00</td>\n",
       "      <td>1.000000e+00</td>\n",
       "      <td>1.000000e+00</td>\n",
       "      <td>1.000000e+00</td>\n",
       "      <td>1.000000e+00</td>\n",
       "      <td>1.000000e+00</td>\n",
       "      <td>1.000000e+00</td>\n",
       "      <td>1.000000e+00</td>\n",
       "      <td>1.000000e+00</td>\n",
       "      <td>1.000000e+00</td>\n",
       "      <td>1.000000e+00</td>\n",
       "      <td>1.000000e+00</td>\n",
       "      <td>1.000000e+00</td>\n",
       "      <td>1.000000e+00</td>\n",
       "      <td>1.000000e+00</td>\n",
       "      <td>1.000000e+00</td>\n",
       "      <td>1.000000e+00</td>\n",
       "      <td>1.000000e+00</td>\n",
       "      <td>1.000000e+00</td>\n",
       "      <td>1.000000e+00</td>\n",
       "      <td>1.000000e+00</td>\n",
       "      <td>1.000000e+00</td>\n",
       "      <td>1.000000e+00</td>\n",
       "    </tr>\n",
       "  </tbody>\n",
       "</table>\n",
       "</div>"
      ],
      "text/plain": [
       "           ncodpers     ind_nuevo        indrel     tipodom      cod_prov  \\\n",
       "count  1.364731e+07  1.361958e+07  1.361958e+07  13619574.0  1.355372e+07   \n",
       "mean   8.349042e+05  5.956184e-02  1.178399e+00         1.0  2.657147e+01   \n",
       "std    4.315650e+05  2.366733e-01  4.177469e+00         0.0  1.278402e+01   \n",
       "min    1.588900e+04  0.000000e+00  1.000000e+00         1.0  1.000000e+00   \n",
       "25%    4.528130e+05  0.000000e+00  1.000000e+00         1.0  1.500000e+01   \n",
       "50%    9.318930e+05  0.000000e+00  1.000000e+00         1.0  2.800000e+01   \n",
       "75%    1.199286e+06  0.000000e+00  1.000000e+00         1.0  3.500000e+01   \n",
       "max    1.553689e+06  1.000000e+00  9.900000e+01         1.0  5.200000e+01   \n",
       "\n",
       "       ind_actividad_cliente         renta  ind_ahor_fin_ult1  \\\n",
       "count           1.361958e+07  1.085293e+07       1.364731e+07   \n",
       "mean            4.578105e-01  1.342543e+05       1.022912e-04   \n",
       "std             4.982169e-01  2.306202e+05       1.011340e-02   \n",
       "min             0.000000e+00  1.202730e+03       0.000000e+00   \n",
       "25%             0.000000e+00  6.871098e+04       0.000000e+00   \n",
       "50%             0.000000e+00  1.018500e+05       0.000000e+00   \n",
       "75%             1.000000e+00  1.559560e+05       0.000000e+00   \n",
       "max             1.000000e+00  2.889440e+07       1.000000e+00   \n",
       "\n",
       "       ind_aval_fin_ult1  ind_cco_fin_ult1  ind_cder_fin_ult1  \\\n",
       "count       1.364731e+07      1.364731e+07       1.364731e+07   \n",
       "mean        2.315475e-05      6.554837e-01       3.939238e-04   \n",
       "std         4.811883e-03      4.752103e-01       1.984361e-02   \n",
       "min         0.000000e+00      0.000000e+00       0.000000e+00   \n",
       "25%         0.000000e+00      0.000000e+00       0.000000e+00   \n",
       "50%         0.000000e+00      1.000000e+00       0.000000e+00   \n",
       "75%         0.000000e+00      1.000000e+00       0.000000e+00   \n",
       "max         1.000000e+00      1.000000e+00       1.000000e+00   \n",
       "\n",
       "       ind_cno_fin_ult1  ind_ctju_fin_ult1  ind_ctma_fin_ult1  \\\n",
       "count      1.364731e+07       1.364731e+07       1.364731e+07   \n",
       "mean       8.086722e-02       9.474175e-03       9.726606e-03   \n",
       "std        2.726311e-01       9.687320e-02       9.814275e-02   \n",
       "min        0.000000e+00       0.000000e+00       0.000000e+00   \n",
       "25%        0.000000e+00       0.000000e+00       0.000000e+00   \n",
       "50%        0.000000e+00       0.000000e+00       0.000000e+00   \n",
       "75%        0.000000e+00       0.000000e+00       0.000000e+00   \n",
       "max        1.000000e+00       1.000000e+00       1.000000e+00   \n",
       "\n",
       "       ind_ctop_fin_ult1  ind_ctpp_fin_ult1  ind_deco_fin_ult1  \\\n",
       "count       1.364731e+07       1.364731e+07       1.364731e+07   \n",
       "mean        1.290083e-01       4.330583e-02       1.778739e-03   \n",
       "std         3.352091e-01       2.035447e-01       4.213757e-02   \n",
       "min         0.000000e+00       0.000000e+00       0.000000e+00   \n",
       "25%         0.000000e+00       0.000000e+00       0.000000e+00   \n",
       "50%         0.000000e+00       0.000000e+00       0.000000e+00   \n",
       "75%         0.000000e+00       0.000000e+00       0.000000e+00   \n",
       "max         1.000000e+00       1.000000e+00       1.000000e+00   \n",
       "\n",
       "       ind_deme_fin_ult1  ind_dela_fin_ult1  ind_ecue_fin_ult1  \\\n",
       "count       1.364731e+07       1.364731e+07       1.364731e+07   \n",
       "mean        1.660987e-03       4.296679e-02       8.274357e-02   \n",
       "std         4.072135e-02       2.027823e-01       2.754942e-01   \n",
       "min         0.000000e+00       0.000000e+00       0.000000e+00   \n",
       "25%         0.000000e+00       0.000000e+00       0.000000e+00   \n",
       "50%         0.000000e+00       0.000000e+00       0.000000e+00   \n",
       "75%         0.000000e+00       0.000000e+00       0.000000e+00   \n",
       "max         1.000000e+00       1.000000e+00       1.000000e+00   \n",
       "\n",
       "       ind_fond_fin_ult1  ind_hip_fin_ult1  ind_plan_fin_ult1  \\\n",
       "count       1.364731e+07      1.364731e+07       1.364731e+07   \n",
       "mean        1.848599e-02      5.886582e-03       9.170965e-03   \n",
       "std         1.347006e-01      7.649791e-02       9.532502e-02   \n",
       "min         0.000000e+00      0.000000e+00       0.000000e+00   \n",
       "25%         0.000000e+00      0.000000e+00       0.000000e+00   \n",
       "50%         0.000000e+00      0.000000e+00       0.000000e+00   \n",
       "75%         0.000000e+00      0.000000e+00       0.000000e+00   \n",
       "max         1.000000e+00      1.000000e+00       1.000000e+00   \n",
       "\n",
       "       ind_pres_fin_ult1  ind_reca_fin_ult1  ind_tjcr_fin_ult1  \\\n",
       "count       1.364731e+07       1.364731e+07       1.364731e+07   \n",
       "mean        2.627404e-03       5.253636e-02       4.438868e-02   \n",
       "std         5.119083e-02       2.231060e-01       2.059571e-01   \n",
       "min         0.000000e+00       0.000000e+00       0.000000e+00   \n",
       "25%         0.000000e+00       0.000000e+00       0.000000e+00   \n",
       "50%         0.000000e+00       0.000000e+00       0.000000e+00   \n",
       "75%         0.000000e+00       0.000000e+00       0.000000e+00   \n",
       "max         1.000000e+00       1.000000e+00       1.000000e+00   \n",
       "\n",
       "       ind_valo_fin_ult1  ind_viv_fin_ult1  ind_nomina_ult1  \\\n",
       "count       1.364731e+07      1.364731e+07     1.363125e+07   \n",
       "mean        2.560761e-02      3.847718e-03     5.472434e-02   \n",
       "std         1.579616e-01      6.191053e-02     2.274414e-01   \n",
       "min         0.000000e+00      0.000000e+00     0.000000e+00   \n",
       "25%         0.000000e+00      0.000000e+00     0.000000e+00   \n",
       "50%         0.000000e+00      0.000000e+00     0.000000e+00   \n",
       "75%         0.000000e+00      0.000000e+00     0.000000e+00   \n",
       "max         1.000000e+00      1.000000e+00     1.000000e+00   \n",
       "\n",
       "       ind_nom_pens_ult1  ind_recibo_ult1  \n",
       "count       1.363125e+07     1.364731e+07  \n",
       "mean        5.942854e-02     1.279162e-01  \n",
       "std         2.364250e-01     3.339965e-01  \n",
       "min         0.000000e+00     0.000000e+00  \n",
       "25%         0.000000e+00     0.000000e+00  \n",
       "50%         0.000000e+00     0.000000e+00  \n",
       "75%         0.000000e+00     0.000000e+00  \n",
       "max         1.000000e+00     1.000000e+00  "
      ]
     },
     "execution_count": 173,
     "metadata": {},
     "output_type": "execute_result"
    }
   ],
   "source": [
    "train.describe()\n"
   ]
  },
  {
   "cell_type": "code",
   "execution_count": 174,
   "id": "c9989d95",
   "metadata": {},
   "outputs": [
    {
     "data": {
      "text/plain": [
       "14.236811983546666"
      ]
     },
     "execution_count": 174,
     "metadata": {},
     "output_type": "execute_result"
    }
   ],
   "source": [
    "train.groupby(\"ncodpers\").ind_nuevo.count().mean()"
   ]
  },
  {
   "cell_type": "code",
   "execution_count": 162,
   "id": "2953964e",
   "metadata": {},
   "outputs": [
    {
     "name": "stderr",
     "output_type": "stream",
     "text": [
      "/home/raischel/Envs/ds1/lib64/python3.10/site-packages/IPython/core/magics/execution.py:1335: DtypeWarning: Columns (15) have mixed types.Specify dtype option on import or set low_memory=False.\n",
      "  exec(code, glob, local_ns)\n"
     ]
    },
    {
     "name": "stdout",
     "output_type": "stream",
     "text": [
      "CPU times: user 1.3 s, sys: 214 ms, total: 1.52 s\n",
      "Wall time: 2.04 s\n"
     ]
    }
   ],
   "source": [
    "%time test = pd.read_csv(\"test_ver2.csv\")"
   ]
  },
  {
   "cell_type": "code",
   "execution_count": 163,
   "id": "c02c5c64",
   "metadata": {},
   "outputs": [
    {
     "data": {
      "text/plain": [
       "(929615, 24)"
      ]
     },
     "execution_count": 163,
     "metadata": {},
     "output_type": "execute_result"
    }
   ],
   "source": [
    "test.shape"
   ]
  },
  {
   "cell_type": "code",
   "execution_count": 164,
   "id": "d9cace59",
   "metadata": {},
   "outputs": [
    {
     "data": {
      "text/plain": [
       "1.0"
      ]
     },
     "execution_count": 164,
     "metadata": {},
     "output_type": "execute_result"
    }
   ],
   "source": [
    "test.groupby(\"ncodpers\").ind_nuevo.count().mean()"
   ]
  },
  {
   "cell_type": "code",
   "execution_count": 165,
   "id": "2d906073",
   "metadata": {},
   "outputs": [
    {
     "data": {
      "text/plain": [
       "ncodpers\n",
       "15889    2016-05-28\n",
       "15890    2016-05-28\n",
       "15891    2015-08-28\n",
       "15892    2016-05-28\n",
       "15893    2016-05-28\n",
       "Name: fecha_dato, dtype: object"
      ]
     },
     "execution_count": 165,
     "metadata": {},
     "output_type": "execute_result"
    }
   ],
   "source": [
    "train.groupby(\"ncodpers\").fecha_dato.max().head()"
   ]
  },
  {
   "cell_type": "code",
   "execution_count": 119,
   "id": "7a004cf1",
   "metadata": {},
   "outputs": [
    {
     "data": {
      "text/plain": [
       "ncodpers\n",
       "15889    2016-06-28\n",
       "15890    2016-06-28\n",
       "15892    2016-06-28\n",
       "15893    2016-06-28\n",
       "15894    2016-06-28\n",
       "Name: fecha_dato, dtype: object"
      ]
     },
     "execution_count": 119,
     "metadata": {},
     "output_type": "execute_result"
    }
   ],
   "source": [
    "test.groupby(\"ncodpers\").fecha_dato.max().head()"
   ]
  },
  {
   "cell_type": "code",
   "execution_count": 127,
   "id": "b7282073",
   "metadata": {},
   "outputs": [
    {
     "data": {
      "text/plain": [
       "Index(['fecha_dato', 'ncodpers', 'ind_empleado', 'pais_residencia', 'sexo',\n",
       "       'age', 'fecha_alta', 'ind_nuevo', 'antiguedad', 'indrel',\n",
       "       'ult_fec_cli_1t', 'indrel_1mes', 'tiprel_1mes', 'indresi', 'indext',\n",
       "       'conyuemp', 'canal_entrada', 'indfall', 'tipodom', 'cod_prov',\n",
       "       'nomprov', 'ind_actividad_cliente', 'renta', 'segmento',\n",
       "       'ind_ahor_fin_ult1', 'ind_aval_fin_ult1', 'ind_cco_fin_ult1',\n",
       "       'ind_cder_fin_ult1', 'ind_cno_fin_ult1', 'ind_ctju_fin_ult1',\n",
       "       'ind_ctma_fin_ult1', 'ind_ctop_fin_ult1', 'ind_ctpp_fin_ult1',\n",
       "       'ind_deco_fin_ult1', 'ind_deme_fin_ult1', 'ind_dela_fin_ult1',\n",
       "       'ind_ecue_fin_ult1', 'ind_fond_fin_ult1', 'ind_hip_fin_ult1',\n",
       "       'ind_plan_fin_ult1', 'ind_pres_fin_ult1', 'ind_reca_fin_ult1',\n",
       "       'ind_tjcr_fin_ult1', 'ind_valo_fin_ult1', 'ind_viv_fin_ult1',\n",
       "       'ind_nomina_ult1', 'ind_nom_pens_ult1', 'ind_recibo_ult1'],\n",
       "      dtype='object')"
      ]
     },
     "execution_count": 127,
     "metadata": {},
     "output_type": "execute_result"
    }
   ],
   "source": [
    "train.columns"
   ]
  },
  {
   "cell_type": "code",
   "execution_count": 128,
   "id": "da35f421",
   "metadata": {},
   "outputs": [
    {
     "data": {
      "text/plain": [
       "Index(['fecha_dato', 'ncodpers', 'ind_empleado', 'pais_residencia', 'sexo',\n",
       "       'age', 'fecha_alta', 'ind_nuevo', 'antiguedad', 'indrel',\n",
       "       'ult_fec_cli_1t', 'indrel_1mes', 'tiprel_1mes', 'indresi', 'indext',\n",
       "       'conyuemp', 'canal_entrada', 'indfall', 'tipodom', 'cod_prov',\n",
       "       'nomprov', 'ind_actividad_cliente', 'renta', 'segmento'],\n",
       "      dtype='object')"
      ]
     },
     "execution_count": 128,
     "metadata": {},
     "output_type": "execute_result"
    }
   ],
   "source": [
    "test.columns"
   ]
  },
  {
   "cell_type": "code",
   "execution_count": 166,
   "id": "d64fc889",
   "metadata": {},
   "outputs": [
    {
     "data": {
      "text/plain": [
       "956645"
      ]
     },
     "execution_count": 166,
     "metadata": {},
     "output_type": "execute_result"
    }
   ],
   "source": [
    "train_uid = set(train.ncodpers.unique())\n",
    "len(train_uid)"
   ]
  },
  {
   "cell_type": "code",
   "execution_count": 167,
   "id": "b5aaa335",
   "metadata": {},
   "outputs": [
    {
     "data": {
      "text/plain": [
       "929615"
      ]
     },
     "execution_count": 167,
     "metadata": {},
     "output_type": "execute_result"
    }
   ],
   "source": [
    "test_uid = set(test.ncodpers.unique())\n",
    "len(test_uid)"
   ]
  },
  {
   "cell_type": "code",
   "execution_count": 168,
   "id": "c6a45432",
   "metadata": {},
   "outputs": [
    {
     "data": {
      "text/plain": [
       "929615"
      ]
     },
     "execution_count": 168,
     "metadata": {},
     "output_type": "execute_result"
    }
   ],
   "source": [
    "len(train_uid.intersection(test_uid))"
   ]
  },
  {
   "cell_type": "code",
   "execution_count": 169,
   "id": "e435ae87",
   "metadata": {},
   "outputs": [
    {
     "data": {
      "text/plain": [
       "True"
      ]
     },
     "execution_count": 169,
     "metadata": {},
     "output_type": "execute_result"
    }
   ],
   "source": [
    "test_uid.issubset(train_uid)"
   ]
  },
  {
   "cell_type": "markdown",
   "id": "33618786",
   "metadata": {},
   "source": [
    "So, in conclusion:\n",
    "\n",
    "    - train set has ind_xxx_fin_ult1 target columsn , test set does not\n",
    "    - tarin has on avg 14 months of history\n",
    "    - test set only has last month for each user, 2016-06-28\n",
    "    - uids of test set are subset of uids of train set\n",
    "    - instead of plitting by uids, as below, we should split by months. \n",
    "    - The first n months should be for train and feature building.\n",
    "    - The last month n+1 (i.e. all uids therein)are the test set to predict the product bought in the last month. \n",
    "    "
   ]
  },
  {
   "cell_type": "markdown",
   "id": "48b23709",
   "metadata": {},
   "source": [
    "## Train Set Split by uid"
   ]
  },
  {
   "cell_type": "code",
   "execution_count": 14,
   "id": "885d9e0b",
   "metadata": {},
   "outputs": [
    {
     "data": {
      "text/plain": [
       "(956645,)"
      ]
     },
     "metadata": {},
     "output_type": "display_data"
    }
   ],
   "source": [
    "uids = train.ncodpers.unique()\n",
    "display(uids.shape)"
   ]
  },
  {
   "cell_type": "code",
   "execution_count": null,
   "id": "39e122ed",
   "metadata": {},
   "outputs": [],
   "source": []
  },
  {
   "cell_type": "code",
   "execution_count": 15,
   "id": "76e1c2ca",
   "metadata": {},
   "outputs": [],
   "source": [
    "#uids_test_public\n",
    "\n",
    "np.random.seed(123456) \n",
    "sample_sizes = int(0.07*uids.shape[0] )"
   ]
  },
  {
   "cell_type": "code",
   "execution_count": 16,
   "id": "cf29876a",
   "metadata": {},
   "outputs": [
    {
     "data": {
      "text/plain": [
       "66965"
      ]
     },
     "execution_count": 16,
     "metadata": {},
     "output_type": "execute_result"
    }
   ],
   "source": [
    "uids_test_public = set(np.random.choice(uids, size=sample_sizes,  replace=False))\n",
    "len(uids_test_public)"
   ]
  },
  {
   "cell_type": "code",
   "execution_count": 17,
   "id": "014dc8bf",
   "metadata": {},
   "outputs": [
    {
     "data": {
      "text/plain": [
       "956645"
      ]
     },
     "metadata": {},
     "output_type": "display_data"
    },
    {
     "data": {
      "text/plain": [
       "889680"
      ]
     },
     "metadata": {},
     "output_type": "display_data"
    }
   ],
   "source": [
    "uids_train = set(uids)\n",
    "display(len(uids_train))\n",
    "uids_train.difference_update(uids_test_public)\n",
    "display(len(uids_train))"
   ]
  },
  {
   "cell_type": "code",
   "execution_count": 18,
   "id": "97b49c2c",
   "metadata": {},
   "outputs": [
    {
     "data": {
      "text/plain": [
       "66965"
      ]
     },
     "execution_count": 18,
     "metadata": {},
     "output_type": "execute_result"
    }
   ],
   "source": [
    "956645 - 889680"
   ]
  },
  {
   "cell_type": "code",
   "execution_count": 19,
   "id": "688efdf0",
   "metadata": {},
   "outputs": [
    {
     "data": {
      "text/plain": [
       "0.06999984320202374"
      ]
     },
     "execution_count": 19,
     "metadata": {},
     "output_type": "execute_result"
    }
   ],
   "source": [
    "66965/956645"
   ]
  },
  {
   "cell_type": "code",
   "execution_count": 20,
   "id": "148eed34",
   "metadata": {},
   "outputs": [
    {
     "data": {
      "text/plain": [
       "66965"
      ]
     },
     "execution_count": 20,
     "metadata": {},
     "output_type": "execute_result"
    }
   ],
   "source": [
    "uids_test_private = set(np.random.choice(np.array(list(uids_train)), size=sample_sizes,  replace=False))\n",
    "len(uids_test_private)"
   ]
  },
  {
   "cell_type": "code",
   "execution_count": 21,
   "id": "0c7a24da",
   "metadata": {},
   "outputs": [
    {
     "data": {
      "text/plain": [
       "889680"
      ]
     },
     "metadata": {},
     "output_type": "display_data"
    },
    {
     "data": {
      "text/plain": [
       "822715"
      ]
     },
     "metadata": {},
     "output_type": "display_data"
    }
   ],
   "source": [
    "#uids_train = set(uids)\n",
    "display(len(uids_train))\n",
    "uids_train.difference_update(uids_test_private)\n",
    "display(len(uids_train))"
   ]
  },
  {
   "cell_type": "code",
   "execution_count": 22,
   "id": "ecb03c8e",
   "metadata": {},
   "outputs": [],
   "source": [
    "assert(len(uids_train.intersection(uids_test_private))==0)\n",
    "assert(len(uids_train.intersection(uids_test_public))==0)\n",
    "assert(len(uids_test_public.intersection(uids_test_private))==0)"
   ]
  },
  {
   "cell_type": "markdown",
   "id": "2ece991e",
   "metadata": {},
   "source": [
    "# Slit into train / test_public and test_private sets"
   ]
  },
  {
   "cell_type": "code",
   "execution_count": 23,
   "id": "f917754c",
   "metadata": {},
   "outputs": [],
   "source": [
    "test_public  = train[train.ncodpers.isin(uids_test_public)]\n",
    "test_private  = train[train.ncodpers.isin(uids_test_private)]\n",
    "train = train[~train.ncodpers.isin(uids_test_private)]\n",
    "train = train[~train.ncodpers.isin(uids_test_public )]"
   ]
  },
  {
   "cell_type": "code",
   "execution_count": 24,
   "id": "2863506c",
   "metadata": {},
   "outputs": [
    {
     "data": {
      "text/plain": [
       "(11734949, 48)"
      ]
     },
     "metadata": {},
     "output_type": "display_data"
    },
    {
     "data": {
      "text/plain": [
       "(956666, 48)"
      ]
     },
     "metadata": {},
     "output_type": "display_data"
    },
    {
     "data": {
      "text/plain": [
       "(955694, 48)"
      ]
     },
     "metadata": {},
     "output_type": "display_data"
    }
   ],
   "source": [
    "display(train.shape)\n",
    "display(test_public.shape)\n",
    "display(test_private.shape)"
   ]
  },
  {
   "cell_type": "code",
   "execution_count": 25,
   "id": "943a1b25",
   "metadata": {},
   "outputs": [
    {
     "data": {
      "text/plain": [
       "822715"
      ]
     },
     "metadata": {},
     "output_type": "display_data"
    },
    {
     "data": {
      "text/plain": [
       "66965"
      ]
     },
     "metadata": {},
     "output_type": "display_data"
    },
    {
     "data": {
      "text/plain": [
       "66965"
      ]
     },
     "metadata": {},
     "output_type": "display_data"
    }
   ],
   "source": [
    "display(train.ncodpers.nunique())\n",
    "display(test_public.ncodpers.nunique())\n",
    "display(test_private.ncodpers.nunique())"
   ]
  },
  {
   "cell_type": "code",
   "execution_count": 44,
   "id": "7363afcc",
   "metadata": {},
   "outputs": [
    {
     "data": {
      "text/plain": [
       "0.08094119751634477"
      ]
     },
     "execution_count": 44,
     "metadata": {},
     "output_type": "execute_result"
    }
   ],
   "source": [
    "66965/827329"
   ]
  },
  {
   "cell_type": "code",
   "execution_count": 27,
   "id": "0b1febfb",
   "metadata": {},
   "outputs": [],
   "source": [
    "assert(len(uids_test_private.intersection(uids_test_public))==0)\n",
    "assert(len(uids_test_public.intersection(uids_test_private))==0)\n",
    "assert(len(uids_test_public.intersection(uids_train))==0)"
   ]
  },
  {
   "cell_type": "markdown",
   "id": "a7a2347d",
   "metadata": {},
   "source": [
    "# Check metrics"
   ]
  },
  {
   "cell_type": "code",
   "execution_count": 28,
   "id": "62a5cc2b",
   "metadata": {},
   "outputs": [
    {
     "data": {
      "text/html": [
       "<div>\n",
       "<style scoped>\n",
       "    .dataframe tbody tr th:only-of-type {\n",
       "        vertical-align: middle;\n",
       "    }\n",
       "\n",
       "    .dataframe tbody tr th {\n",
       "        vertical-align: top;\n",
       "    }\n",
       "\n",
       "    .dataframe thead th {\n",
       "        text-align: right;\n",
       "    }\n",
       "</style>\n",
       "<table border=\"1\" class=\"dataframe\">\n",
       "  <thead>\n",
       "    <tr style=\"text-align: right;\">\n",
       "      <th></th>\n",
       "      <th>fecha_dato</th>\n",
       "      <th>ind_empleado</th>\n",
       "      <th>pais_residencia</th>\n",
       "      <th>sexo</th>\n",
       "      <th>age</th>\n",
       "      <th>fecha_alta</th>\n",
       "      <th>ind_nuevo</th>\n",
       "      <th>antiguedad</th>\n",
       "      <th>indrel</th>\n",
       "      <th>ult_fec_cli_1t</th>\n",
       "      <th>indrel_1mes</th>\n",
       "      <th>tiprel_1mes</th>\n",
       "      <th>indresi</th>\n",
       "      <th>indext</th>\n",
       "      <th>conyuemp</th>\n",
       "      <th>canal_entrada</th>\n",
       "      <th>indfall</th>\n",
       "      <th>tipodom</th>\n",
       "      <th>cod_prov</th>\n",
       "      <th>nomprov</th>\n",
       "      <th>ind_actividad_cliente</th>\n",
       "      <th>renta</th>\n",
       "      <th>segmento</th>\n",
       "      <th>ind_ahor_fin_ult1</th>\n",
       "      <th>ind_aval_fin_ult1</th>\n",
       "      <th>ind_cco_fin_ult1</th>\n",
       "      <th>ind_cder_fin_ult1</th>\n",
       "      <th>ind_cno_fin_ult1</th>\n",
       "      <th>ind_ctju_fin_ult1</th>\n",
       "      <th>ind_ctma_fin_ult1</th>\n",
       "      <th>ind_ctop_fin_ult1</th>\n",
       "      <th>ind_ctpp_fin_ult1</th>\n",
       "      <th>ind_deco_fin_ult1</th>\n",
       "      <th>ind_deme_fin_ult1</th>\n",
       "      <th>ind_dela_fin_ult1</th>\n",
       "      <th>ind_ecue_fin_ult1</th>\n",
       "      <th>ind_fond_fin_ult1</th>\n",
       "      <th>ind_hip_fin_ult1</th>\n",
       "      <th>ind_plan_fin_ult1</th>\n",
       "      <th>ind_pres_fin_ult1</th>\n",
       "      <th>ind_reca_fin_ult1</th>\n",
       "      <th>ind_tjcr_fin_ult1</th>\n",
       "      <th>ind_valo_fin_ult1</th>\n",
       "      <th>ind_viv_fin_ult1</th>\n",
       "      <th>ind_nomina_ult1</th>\n",
       "      <th>ind_nom_pens_ult1</th>\n",
       "      <th>ind_recibo_ult1</th>\n",
       "    </tr>\n",
       "    <tr>\n",
       "      <th>ncodpers</th>\n",
       "      <th></th>\n",
       "      <th></th>\n",
       "      <th></th>\n",
       "      <th></th>\n",
       "      <th></th>\n",
       "      <th></th>\n",
       "      <th></th>\n",
       "      <th></th>\n",
       "      <th></th>\n",
       "      <th></th>\n",
       "      <th></th>\n",
       "      <th></th>\n",
       "      <th></th>\n",
       "      <th></th>\n",
       "      <th></th>\n",
       "      <th></th>\n",
       "      <th></th>\n",
       "      <th></th>\n",
       "      <th></th>\n",
       "      <th></th>\n",
       "      <th></th>\n",
       "      <th></th>\n",
       "      <th></th>\n",
       "      <th></th>\n",
       "      <th></th>\n",
       "      <th></th>\n",
       "      <th></th>\n",
       "      <th></th>\n",
       "      <th></th>\n",
       "      <th></th>\n",
       "      <th></th>\n",
       "      <th></th>\n",
       "      <th></th>\n",
       "      <th></th>\n",
       "      <th></th>\n",
       "      <th></th>\n",
       "      <th></th>\n",
       "      <th></th>\n",
       "      <th></th>\n",
       "      <th></th>\n",
       "      <th></th>\n",
       "      <th></th>\n",
       "      <th></th>\n",
       "      <th></th>\n",
       "      <th></th>\n",
       "      <th></th>\n",
       "      <th></th>\n",
       "    </tr>\n",
       "  </thead>\n",
       "  <tbody>\n",
       "    <tr>\n",
       "      <th>15889</th>\n",
       "      <td>17</td>\n",
       "      <td>17</td>\n",
       "      <td>17</td>\n",
       "      <td>17</td>\n",
       "      <td>17</td>\n",
       "      <td>17</td>\n",
       "      <td>17</td>\n",
       "      <td>17</td>\n",
       "      <td>17</td>\n",
       "      <td>0</td>\n",
       "      <td>17</td>\n",
       "      <td>17</td>\n",
       "      <td>17</td>\n",
       "      <td>17</td>\n",
       "      <td>17</td>\n",
       "      <td>17</td>\n",
       "      <td>17</td>\n",
       "      <td>17</td>\n",
       "      <td>17</td>\n",
       "      <td>17</td>\n",
       "      <td>17</td>\n",
       "      <td>17</td>\n",
       "      <td>17</td>\n",
       "      <td>17</td>\n",
       "      <td>17</td>\n",
       "      <td>17</td>\n",
       "      <td>17</td>\n",
       "      <td>17</td>\n",
       "      <td>17</td>\n",
       "      <td>17</td>\n",
       "      <td>17</td>\n",
       "      <td>17</td>\n",
       "      <td>17</td>\n",
       "      <td>17</td>\n",
       "      <td>17</td>\n",
       "      <td>17</td>\n",
       "      <td>17</td>\n",
       "      <td>17</td>\n",
       "      <td>17</td>\n",
       "      <td>17</td>\n",
       "      <td>17</td>\n",
       "      <td>17</td>\n",
       "      <td>17</td>\n",
       "      <td>17</td>\n",
       "      <td>17</td>\n",
       "      <td>17</td>\n",
       "      <td>17</td>\n",
       "    </tr>\n",
       "    <tr>\n",
       "      <th>15890</th>\n",
       "      <td>17</td>\n",
       "      <td>17</td>\n",
       "      <td>17</td>\n",
       "      <td>17</td>\n",
       "      <td>17</td>\n",
       "      <td>17</td>\n",
       "      <td>17</td>\n",
       "      <td>17</td>\n",
       "      <td>17</td>\n",
       "      <td>0</td>\n",
       "      <td>17</td>\n",
       "      <td>17</td>\n",
       "      <td>17</td>\n",
       "      <td>17</td>\n",
       "      <td>17</td>\n",
       "      <td>17</td>\n",
       "      <td>17</td>\n",
       "      <td>17</td>\n",
       "      <td>17</td>\n",
       "      <td>17</td>\n",
       "      <td>17</td>\n",
       "      <td>17</td>\n",
       "      <td>17</td>\n",
       "      <td>17</td>\n",
       "      <td>17</td>\n",
       "      <td>17</td>\n",
       "      <td>17</td>\n",
       "      <td>17</td>\n",
       "      <td>17</td>\n",
       "      <td>17</td>\n",
       "      <td>17</td>\n",
       "      <td>17</td>\n",
       "      <td>17</td>\n",
       "      <td>17</td>\n",
       "      <td>17</td>\n",
       "      <td>17</td>\n",
       "      <td>17</td>\n",
       "      <td>17</td>\n",
       "      <td>17</td>\n",
       "      <td>17</td>\n",
       "      <td>17</td>\n",
       "      <td>17</td>\n",
       "      <td>17</td>\n",
       "      <td>17</td>\n",
       "      <td>17</td>\n",
       "      <td>17</td>\n",
       "      <td>17</td>\n",
       "    </tr>\n",
       "    <tr>\n",
       "      <th>15891</th>\n",
       "      <td>2</td>\n",
       "      <td>2</td>\n",
       "      <td>2</td>\n",
       "      <td>2</td>\n",
       "      <td>2</td>\n",
       "      <td>2</td>\n",
       "      <td>2</td>\n",
       "      <td>2</td>\n",
       "      <td>2</td>\n",
       "      <td>1</td>\n",
       "      <td>2</td>\n",
       "      <td>2</td>\n",
       "      <td>2</td>\n",
       "      <td>2</td>\n",
       "      <td>2</td>\n",
       "      <td>2</td>\n",
       "      <td>2</td>\n",
       "      <td>2</td>\n",
       "      <td>2</td>\n",
       "      <td>2</td>\n",
       "      <td>2</td>\n",
       "      <td>0</td>\n",
       "      <td>1</td>\n",
       "      <td>2</td>\n",
       "      <td>2</td>\n",
       "      <td>2</td>\n",
       "      <td>2</td>\n",
       "      <td>2</td>\n",
       "      <td>2</td>\n",
       "      <td>2</td>\n",
       "      <td>2</td>\n",
       "      <td>2</td>\n",
       "      <td>2</td>\n",
       "      <td>2</td>\n",
       "      <td>2</td>\n",
       "      <td>2</td>\n",
       "      <td>2</td>\n",
       "      <td>2</td>\n",
       "      <td>2</td>\n",
       "      <td>2</td>\n",
       "      <td>2</td>\n",
       "      <td>2</td>\n",
       "      <td>2</td>\n",
       "      <td>2</td>\n",
       "      <td>2</td>\n",
       "      <td>2</td>\n",
       "      <td>2</td>\n",
       "    </tr>\n",
       "    <tr>\n",
       "      <th>15892</th>\n",
       "      <td>17</td>\n",
       "      <td>17</td>\n",
       "      <td>17</td>\n",
       "      <td>17</td>\n",
       "      <td>17</td>\n",
       "      <td>17</td>\n",
       "      <td>17</td>\n",
       "      <td>17</td>\n",
       "      <td>17</td>\n",
       "      <td>0</td>\n",
       "      <td>17</td>\n",
       "      <td>17</td>\n",
       "      <td>17</td>\n",
       "      <td>17</td>\n",
       "      <td>17</td>\n",
       "      <td>17</td>\n",
       "      <td>17</td>\n",
       "      <td>17</td>\n",
       "      <td>17</td>\n",
       "      <td>17</td>\n",
       "      <td>17</td>\n",
       "      <td>17</td>\n",
       "      <td>17</td>\n",
       "      <td>17</td>\n",
       "      <td>17</td>\n",
       "      <td>17</td>\n",
       "      <td>17</td>\n",
       "      <td>17</td>\n",
       "      <td>17</td>\n",
       "      <td>17</td>\n",
       "      <td>17</td>\n",
       "      <td>17</td>\n",
       "      <td>17</td>\n",
       "      <td>17</td>\n",
       "      <td>17</td>\n",
       "      <td>17</td>\n",
       "      <td>17</td>\n",
       "      <td>17</td>\n",
       "      <td>17</td>\n",
       "      <td>17</td>\n",
       "      <td>17</td>\n",
       "      <td>17</td>\n",
       "      <td>17</td>\n",
       "      <td>17</td>\n",
       "      <td>17</td>\n",
       "      <td>17</td>\n",
       "      <td>17</td>\n",
       "    </tr>\n",
       "    <tr>\n",
       "      <th>15893</th>\n",
       "      <td>17</td>\n",
       "      <td>17</td>\n",
       "      <td>17</td>\n",
       "      <td>17</td>\n",
       "      <td>17</td>\n",
       "      <td>17</td>\n",
       "      <td>17</td>\n",
       "      <td>17</td>\n",
       "      <td>17</td>\n",
       "      <td>0</td>\n",
       "      <td>17</td>\n",
       "      <td>17</td>\n",
       "      <td>17</td>\n",
       "      <td>17</td>\n",
       "      <td>17</td>\n",
       "      <td>17</td>\n",
       "      <td>17</td>\n",
       "      <td>17</td>\n",
       "      <td>17</td>\n",
       "      <td>17</td>\n",
       "      <td>17</td>\n",
       "      <td>17</td>\n",
       "      <td>17</td>\n",
       "      <td>17</td>\n",
       "      <td>17</td>\n",
       "      <td>17</td>\n",
       "      <td>17</td>\n",
       "      <td>17</td>\n",
       "      <td>17</td>\n",
       "      <td>17</td>\n",
       "      <td>17</td>\n",
       "      <td>17</td>\n",
       "      <td>17</td>\n",
       "      <td>17</td>\n",
       "      <td>17</td>\n",
       "      <td>17</td>\n",
       "      <td>17</td>\n",
       "      <td>17</td>\n",
       "      <td>17</td>\n",
       "      <td>17</td>\n",
       "      <td>17</td>\n",
       "      <td>17</td>\n",
       "      <td>17</td>\n",
       "      <td>17</td>\n",
       "      <td>17</td>\n",
       "      <td>17</td>\n",
       "      <td>17</td>\n",
       "    </tr>\n",
       "    <tr>\n",
       "      <th>...</th>\n",
       "      <td>...</td>\n",
       "      <td>...</td>\n",
       "      <td>...</td>\n",
       "      <td>...</td>\n",
       "      <td>...</td>\n",
       "      <td>...</td>\n",
       "      <td>...</td>\n",
       "      <td>...</td>\n",
       "      <td>...</td>\n",
       "      <td>...</td>\n",
       "      <td>...</td>\n",
       "      <td>...</td>\n",
       "      <td>...</td>\n",
       "      <td>...</td>\n",
       "      <td>...</td>\n",
       "      <td>...</td>\n",
       "      <td>...</td>\n",
       "      <td>...</td>\n",
       "      <td>...</td>\n",
       "      <td>...</td>\n",
       "      <td>...</td>\n",
       "      <td>...</td>\n",
       "      <td>...</td>\n",
       "      <td>...</td>\n",
       "      <td>...</td>\n",
       "      <td>...</td>\n",
       "      <td>...</td>\n",
       "      <td>...</td>\n",
       "      <td>...</td>\n",
       "      <td>...</td>\n",
       "      <td>...</td>\n",
       "      <td>...</td>\n",
       "      <td>...</td>\n",
       "      <td>...</td>\n",
       "      <td>...</td>\n",
       "      <td>...</td>\n",
       "      <td>...</td>\n",
       "      <td>...</td>\n",
       "      <td>...</td>\n",
       "      <td>...</td>\n",
       "      <td>...</td>\n",
       "      <td>...</td>\n",
       "      <td>...</td>\n",
       "      <td>...</td>\n",
       "      <td>...</td>\n",
       "      <td>...</td>\n",
       "      <td>...</td>\n",
       "    </tr>\n",
       "    <tr>\n",
       "      <th>1553684</th>\n",
       "      <td>1</td>\n",
       "      <td>1</td>\n",
       "      <td>1</td>\n",
       "      <td>1</td>\n",
       "      <td>1</td>\n",
       "      <td>1</td>\n",
       "      <td>1</td>\n",
       "      <td>1</td>\n",
       "      <td>1</td>\n",
       "      <td>0</td>\n",
       "      <td>0</td>\n",
       "      <td>0</td>\n",
       "      <td>1</td>\n",
       "      <td>1</td>\n",
       "      <td>0</td>\n",
       "      <td>0</td>\n",
       "      <td>1</td>\n",
       "      <td>1</td>\n",
       "      <td>1</td>\n",
       "      <td>1</td>\n",
       "      <td>1</td>\n",
       "      <td>0</td>\n",
       "      <td>0</td>\n",
       "      <td>1</td>\n",
       "      <td>1</td>\n",
       "      <td>1</td>\n",
       "      <td>1</td>\n",
       "      <td>1</td>\n",
       "      <td>1</td>\n",
       "      <td>1</td>\n",
       "      <td>1</td>\n",
       "      <td>1</td>\n",
       "      <td>1</td>\n",
       "      <td>1</td>\n",
       "      <td>1</td>\n",
       "      <td>1</td>\n",
       "      <td>1</td>\n",
       "      <td>1</td>\n",
       "      <td>1</td>\n",
       "      <td>1</td>\n",
       "      <td>1</td>\n",
       "      <td>1</td>\n",
       "      <td>1</td>\n",
       "      <td>1</td>\n",
       "      <td>1</td>\n",
       "      <td>1</td>\n",
       "      <td>1</td>\n",
       "    </tr>\n",
       "    <tr>\n",
       "      <th>1553685</th>\n",
       "      <td>1</td>\n",
       "      <td>1</td>\n",
       "      <td>1</td>\n",
       "      <td>1</td>\n",
       "      <td>1</td>\n",
       "      <td>1</td>\n",
       "      <td>1</td>\n",
       "      <td>1</td>\n",
       "      <td>1</td>\n",
       "      <td>0</td>\n",
       "      <td>0</td>\n",
       "      <td>0</td>\n",
       "      <td>1</td>\n",
       "      <td>1</td>\n",
       "      <td>0</td>\n",
       "      <td>0</td>\n",
       "      <td>1</td>\n",
       "      <td>1</td>\n",
       "      <td>1</td>\n",
       "      <td>1</td>\n",
       "      <td>1</td>\n",
       "      <td>0</td>\n",
       "      <td>0</td>\n",
       "      <td>1</td>\n",
       "      <td>1</td>\n",
       "      <td>1</td>\n",
       "      <td>1</td>\n",
       "      <td>1</td>\n",
       "      <td>1</td>\n",
       "      <td>1</td>\n",
       "      <td>1</td>\n",
       "      <td>1</td>\n",
       "      <td>1</td>\n",
       "      <td>1</td>\n",
       "      <td>1</td>\n",
       "      <td>1</td>\n",
       "      <td>1</td>\n",
       "      <td>1</td>\n",
       "      <td>1</td>\n",
       "      <td>1</td>\n",
       "      <td>1</td>\n",
       "      <td>1</td>\n",
       "      <td>1</td>\n",
       "      <td>1</td>\n",
       "      <td>1</td>\n",
       "      <td>1</td>\n",
       "      <td>1</td>\n",
       "    </tr>\n",
       "    <tr>\n",
       "      <th>1553686</th>\n",
       "      <td>1</td>\n",
       "      <td>1</td>\n",
       "      <td>1</td>\n",
       "      <td>1</td>\n",
       "      <td>1</td>\n",
       "      <td>1</td>\n",
       "      <td>1</td>\n",
       "      <td>1</td>\n",
       "      <td>1</td>\n",
       "      <td>0</td>\n",
       "      <td>0</td>\n",
       "      <td>0</td>\n",
       "      <td>1</td>\n",
       "      <td>1</td>\n",
       "      <td>0</td>\n",
       "      <td>0</td>\n",
       "      <td>1</td>\n",
       "      <td>1</td>\n",
       "      <td>1</td>\n",
       "      <td>1</td>\n",
       "      <td>1</td>\n",
       "      <td>0</td>\n",
       "      <td>0</td>\n",
       "      <td>1</td>\n",
       "      <td>1</td>\n",
       "      <td>1</td>\n",
       "      <td>1</td>\n",
       "      <td>1</td>\n",
       "      <td>1</td>\n",
       "      <td>1</td>\n",
       "      <td>1</td>\n",
       "      <td>1</td>\n",
       "      <td>1</td>\n",
       "      <td>1</td>\n",
       "      <td>1</td>\n",
       "      <td>1</td>\n",
       "      <td>1</td>\n",
       "      <td>1</td>\n",
       "      <td>1</td>\n",
       "      <td>1</td>\n",
       "      <td>1</td>\n",
       "      <td>1</td>\n",
       "      <td>1</td>\n",
       "      <td>1</td>\n",
       "      <td>1</td>\n",
       "      <td>1</td>\n",
       "      <td>1</td>\n",
       "    </tr>\n",
       "    <tr>\n",
       "      <th>1553687</th>\n",
       "      <td>1</td>\n",
       "      <td>1</td>\n",
       "      <td>1</td>\n",
       "      <td>1</td>\n",
       "      <td>1</td>\n",
       "      <td>1</td>\n",
       "      <td>1</td>\n",
       "      <td>1</td>\n",
       "      <td>1</td>\n",
       "      <td>0</td>\n",
       "      <td>0</td>\n",
       "      <td>0</td>\n",
       "      <td>1</td>\n",
       "      <td>1</td>\n",
       "      <td>0</td>\n",
       "      <td>0</td>\n",
       "      <td>1</td>\n",
       "      <td>1</td>\n",
       "      <td>1</td>\n",
       "      <td>1</td>\n",
       "      <td>1</td>\n",
       "      <td>0</td>\n",
       "      <td>0</td>\n",
       "      <td>1</td>\n",
       "      <td>1</td>\n",
       "      <td>1</td>\n",
       "      <td>1</td>\n",
       "      <td>1</td>\n",
       "      <td>1</td>\n",
       "      <td>1</td>\n",
       "      <td>1</td>\n",
       "      <td>1</td>\n",
       "      <td>1</td>\n",
       "      <td>1</td>\n",
       "      <td>1</td>\n",
       "      <td>1</td>\n",
       "      <td>1</td>\n",
       "      <td>1</td>\n",
       "      <td>1</td>\n",
       "      <td>1</td>\n",
       "      <td>1</td>\n",
       "      <td>1</td>\n",
       "      <td>1</td>\n",
       "      <td>1</td>\n",
       "      <td>1</td>\n",
       "      <td>1</td>\n",
       "      <td>1</td>\n",
       "    </tr>\n",
       "    <tr>\n",
       "      <th>1553688</th>\n",
       "      <td>1</td>\n",
       "      <td>1</td>\n",
       "      <td>1</td>\n",
       "      <td>1</td>\n",
       "      <td>1</td>\n",
       "      <td>1</td>\n",
       "      <td>1</td>\n",
       "      <td>1</td>\n",
       "      <td>1</td>\n",
       "      <td>0</td>\n",
       "      <td>0</td>\n",
       "      <td>0</td>\n",
       "      <td>1</td>\n",
       "      <td>1</td>\n",
       "      <td>0</td>\n",
       "      <td>0</td>\n",
       "      <td>1</td>\n",
       "      <td>1</td>\n",
       "      <td>1</td>\n",
       "      <td>1</td>\n",
       "      <td>1</td>\n",
       "      <td>0</td>\n",
       "      <td>0</td>\n",
       "      <td>1</td>\n",
       "      <td>1</td>\n",
       "      <td>1</td>\n",
       "      <td>1</td>\n",
       "      <td>1</td>\n",
       "      <td>1</td>\n",
       "      <td>1</td>\n",
       "      <td>1</td>\n",
       "      <td>1</td>\n",
       "      <td>1</td>\n",
       "      <td>1</td>\n",
       "      <td>1</td>\n",
       "      <td>1</td>\n",
       "      <td>1</td>\n",
       "      <td>1</td>\n",
       "      <td>1</td>\n",
       "      <td>1</td>\n",
       "      <td>1</td>\n",
       "      <td>1</td>\n",
       "      <td>1</td>\n",
       "      <td>1</td>\n",
       "      <td>1</td>\n",
       "      <td>1</td>\n",
       "      <td>1</td>\n",
       "    </tr>\n",
       "  </tbody>\n",
       "</table>\n",
       "<p>822715 rows × 47 columns</p>\n",
       "</div>"
      ],
      "text/plain": [
       "          fecha_dato  ind_empleado  pais_residencia  sexo  age  fecha_alta  \\\n",
       "ncodpers                                                                     \n",
       "15889             17            17               17    17   17          17   \n",
       "15890             17            17               17    17   17          17   \n",
       "15891              2             2                2     2    2           2   \n",
       "15892             17            17               17    17   17          17   \n",
       "15893             17            17               17    17   17          17   \n",
       "...              ...           ...              ...   ...  ...         ...   \n",
       "1553684            1             1                1     1    1           1   \n",
       "1553685            1             1                1     1    1           1   \n",
       "1553686            1             1                1     1    1           1   \n",
       "1553687            1             1                1     1    1           1   \n",
       "1553688            1             1                1     1    1           1   \n",
       "\n",
       "          ind_nuevo  antiguedad  indrel  ult_fec_cli_1t  indrel_1mes  \\\n",
       "ncodpers                                                               \n",
       "15889            17          17      17               0           17   \n",
       "15890            17          17      17               0           17   \n",
       "15891             2           2       2               1            2   \n",
       "15892            17          17      17               0           17   \n",
       "15893            17          17      17               0           17   \n",
       "...             ...         ...     ...             ...          ...   \n",
       "1553684           1           1       1               0            0   \n",
       "1553685           1           1       1               0            0   \n",
       "1553686           1           1       1               0            0   \n",
       "1553687           1           1       1               0            0   \n",
       "1553688           1           1       1               0            0   \n",
       "\n",
       "          tiprel_1mes  indresi  indext  conyuemp  canal_entrada  indfall  \\\n",
       "ncodpers                                                                   \n",
       "15889              17       17      17        17             17       17   \n",
       "15890              17       17      17        17             17       17   \n",
       "15891               2        2       2         2              2        2   \n",
       "15892              17       17      17        17             17       17   \n",
       "15893              17       17      17        17             17       17   \n",
       "...               ...      ...     ...       ...            ...      ...   \n",
       "1553684             0        1       1         0              0        1   \n",
       "1553685             0        1       1         0              0        1   \n",
       "1553686             0        1       1         0              0        1   \n",
       "1553687             0        1       1         0              0        1   \n",
       "1553688             0        1       1         0              0        1   \n",
       "\n",
       "          tipodom  cod_prov  nomprov  ind_actividad_cliente  renta  segmento  \\\n",
       "ncodpers                                                                       \n",
       "15889          17        17       17                     17     17        17   \n",
       "15890          17        17       17                     17     17        17   \n",
       "15891           2         2        2                      2      0         1   \n",
       "15892          17        17       17                     17     17        17   \n",
       "15893          17        17       17                     17     17        17   \n",
       "...           ...       ...      ...                    ...    ...       ...   \n",
       "1553684         1         1        1                      1      0         0   \n",
       "1553685         1         1        1                      1      0         0   \n",
       "1553686         1         1        1                      1      0         0   \n",
       "1553687         1         1        1                      1      0         0   \n",
       "1553688         1         1        1                      1      0         0   \n",
       "\n",
       "          ind_ahor_fin_ult1  ind_aval_fin_ult1  ind_cco_fin_ult1  \\\n",
       "ncodpers                                                           \n",
       "15889                    17                 17                17   \n",
       "15890                    17                 17                17   \n",
       "15891                     2                  2                 2   \n",
       "15892                    17                 17                17   \n",
       "15893                    17                 17                17   \n",
       "...                     ...                ...               ...   \n",
       "1553684                   1                  1                 1   \n",
       "1553685                   1                  1                 1   \n",
       "1553686                   1                  1                 1   \n",
       "1553687                   1                  1                 1   \n",
       "1553688                   1                  1                 1   \n",
       "\n",
       "          ind_cder_fin_ult1  ind_cno_fin_ult1  ind_ctju_fin_ult1  \\\n",
       "ncodpers                                                           \n",
       "15889                    17                17                 17   \n",
       "15890                    17                17                 17   \n",
       "15891                     2                 2                  2   \n",
       "15892                    17                17                 17   \n",
       "15893                    17                17                 17   \n",
       "...                     ...               ...                ...   \n",
       "1553684                   1                 1                  1   \n",
       "1553685                   1                 1                  1   \n",
       "1553686                   1                 1                  1   \n",
       "1553687                   1                 1                  1   \n",
       "1553688                   1                 1                  1   \n",
       "\n",
       "          ind_ctma_fin_ult1  ind_ctop_fin_ult1  ind_ctpp_fin_ult1  \\\n",
       "ncodpers                                                            \n",
       "15889                    17                 17                 17   \n",
       "15890                    17                 17                 17   \n",
       "15891                     2                  2                  2   \n",
       "15892                    17                 17                 17   \n",
       "15893                    17                 17                 17   \n",
       "...                     ...                ...                ...   \n",
       "1553684                   1                  1                  1   \n",
       "1553685                   1                  1                  1   \n",
       "1553686                   1                  1                  1   \n",
       "1553687                   1                  1                  1   \n",
       "1553688                   1                  1                  1   \n",
       "\n",
       "          ind_deco_fin_ult1  ind_deme_fin_ult1  ind_dela_fin_ult1  \\\n",
       "ncodpers                                                            \n",
       "15889                    17                 17                 17   \n",
       "15890                    17                 17                 17   \n",
       "15891                     2                  2                  2   \n",
       "15892                    17                 17                 17   \n",
       "15893                    17                 17                 17   \n",
       "...                     ...                ...                ...   \n",
       "1553684                   1                  1                  1   \n",
       "1553685                   1                  1                  1   \n",
       "1553686                   1                  1                  1   \n",
       "1553687                   1                  1                  1   \n",
       "1553688                   1                  1                  1   \n",
       "\n",
       "          ind_ecue_fin_ult1  ind_fond_fin_ult1  ind_hip_fin_ult1  \\\n",
       "ncodpers                                                           \n",
       "15889                    17                 17                17   \n",
       "15890                    17                 17                17   \n",
       "15891                     2                  2                 2   \n",
       "15892                    17                 17                17   \n",
       "15893                    17                 17                17   \n",
       "...                     ...                ...               ...   \n",
       "1553684                   1                  1                 1   \n",
       "1553685                   1                  1                 1   \n",
       "1553686                   1                  1                 1   \n",
       "1553687                   1                  1                 1   \n",
       "1553688                   1                  1                 1   \n",
       "\n",
       "          ind_plan_fin_ult1  ind_pres_fin_ult1  ind_reca_fin_ult1  \\\n",
       "ncodpers                                                            \n",
       "15889                    17                 17                 17   \n",
       "15890                    17                 17                 17   \n",
       "15891                     2                  2                  2   \n",
       "15892                    17                 17                 17   \n",
       "15893                    17                 17                 17   \n",
       "...                     ...                ...                ...   \n",
       "1553684                   1                  1                  1   \n",
       "1553685                   1                  1                  1   \n",
       "1553686                   1                  1                  1   \n",
       "1553687                   1                  1                  1   \n",
       "1553688                   1                  1                  1   \n",
       "\n",
       "          ind_tjcr_fin_ult1  ind_valo_fin_ult1  ind_viv_fin_ult1  \\\n",
       "ncodpers                                                           \n",
       "15889                    17                 17                17   \n",
       "15890                    17                 17                17   \n",
       "15891                     2                  2                 2   \n",
       "15892                    17                 17                17   \n",
       "15893                    17                 17                17   \n",
       "...                     ...                ...               ...   \n",
       "1553684                   1                  1                 1   \n",
       "1553685                   1                  1                 1   \n",
       "1553686                   1                  1                 1   \n",
       "1553687                   1                  1                 1   \n",
       "1553688                   1                  1                 1   \n",
       "\n",
       "          ind_nomina_ult1  ind_nom_pens_ult1  ind_recibo_ult1  \n",
       "ncodpers                                                       \n",
       "15889                  17                 17               17  \n",
       "15890                  17                 17               17  \n",
       "15891                   2                  2                2  \n",
       "15892                  17                 17               17  \n",
       "15893                  17                 17               17  \n",
       "...                   ...                ...              ...  \n",
       "1553684                 1                  1                1  \n",
       "1553685                 1                  1                1  \n",
       "1553686                 1                  1                1  \n",
       "1553687                 1                  1                1  \n",
       "1553688                 1                  1                1  \n",
       "\n",
       "[822715 rows x 47 columns]"
      ]
     },
     "execution_count": 28,
     "metadata": {},
     "output_type": "execute_result"
    }
   ],
   "source": [
    "train.groupby(\"ncodpers\").count()"
   ]
  },
  {
   "cell_type": "code",
   "execution_count": 29,
   "id": "fbfee8b7",
   "metadata": {},
   "outputs": [
    {
     "data": {
      "text/plain": [
       "14.263686695878889"
      ]
     },
     "metadata": {},
     "output_type": "display_data"
    },
    {
     "data": {
      "text/plain": [
       "4.028991782302301"
      ]
     },
     "metadata": {},
     "output_type": "display_data"
    },
    {
     "data": {
      "text/plain": [
       "14.286059882027924"
      ]
     },
     "metadata": {},
     "output_type": "display_data"
    },
    {
     "data": {
      "text/plain": [
       "4.026842757092107"
      ]
     },
     "metadata": {},
     "output_type": "display_data"
    },
    {
     "data": {
      "text/plain": [
       "14.271544836855073"
      ]
     },
     "metadata": {},
     "output_type": "display_data"
    },
    {
     "data": {
      "text/plain": [
       "4.029656482184818"
      ]
     },
     "metadata": {},
     "output_type": "display_data"
    }
   ],
   "source": [
    "display(train.groupby(\"ncodpers\").age.count().mean(), train.groupby(\"ncodpers\").age.count().std())\n",
    "display(test_public.groupby(\"ncodpers\").age.count().mean(), test_public.groupby(\"ncodpers\").age.count().std())\n",
    "display(test_private.groupby(\"ncodpers\").age.count().mean(), test_private.groupby(\"ncodpers\").age.count().std())"
   ]
  },
  {
   "cell_type": "markdown",
   "id": "4ed9d071",
   "metadata": {},
   "source": [
    "# Function to tranfer one person time series into target string"
   ]
  },
  {
   "cell_type": "code",
   "execution_count": 30,
   "id": "cb233f3d",
   "metadata": {},
   "outputs": [
    {
     "data": {
      "text/plain": [
       "822715"
      ]
     },
     "execution_count": 30,
     "metadata": {},
     "output_type": "execute_result"
    }
   ],
   "source": [
    "len(uids_train)"
   ]
  },
  {
   "cell_type": "code",
   "execution_count": 33,
   "id": "9b66fc38",
   "metadata": {},
   "outputs": [
    {
     "data": {
      "text/html": [
       "<div>\n",
       "<style scoped>\n",
       "    .dataframe tbody tr th:only-of-type {\n",
       "        vertical-align: middle;\n",
       "    }\n",
       "\n",
       "    .dataframe tbody tr th {\n",
       "        vertical-align: top;\n",
       "    }\n",
       "\n",
       "    .dataframe thead th {\n",
       "        text-align: right;\n",
       "    }\n",
       "</style>\n",
       "<table border=\"1\" class=\"dataframe\">\n",
       "  <thead>\n",
       "    <tr style=\"text-align: right;\">\n",
       "      <th></th>\n",
       "      <th>fecha_dato</th>\n",
       "      <th>ncodpers</th>\n",
       "      <th>ind_empleado</th>\n",
       "      <th>pais_residencia</th>\n",
       "      <th>sexo</th>\n",
       "      <th>age</th>\n",
       "      <th>fecha_alta</th>\n",
       "      <th>ind_nuevo</th>\n",
       "      <th>antiguedad</th>\n",
       "      <th>indrel</th>\n",
       "      <th>ult_fec_cli_1t</th>\n",
       "      <th>indrel_1mes</th>\n",
       "      <th>tiprel_1mes</th>\n",
       "      <th>indresi</th>\n",
       "      <th>indext</th>\n",
       "      <th>conyuemp</th>\n",
       "      <th>canal_entrada</th>\n",
       "      <th>indfall</th>\n",
       "      <th>tipodom</th>\n",
       "      <th>cod_prov</th>\n",
       "      <th>nomprov</th>\n",
       "      <th>ind_actividad_cliente</th>\n",
       "      <th>renta</th>\n",
       "      <th>segmento</th>\n",
       "      <th>ind_ahor_fin_ult1</th>\n",
       "      <th>ind_aval_fin_ult1</th>\n",
       "      <th>ind_cco_fin_ult1</th>\n",
       "      <th>ind_cder_fin_ult1</th>\n",
       "      <th>ind_cno_fin_ult1</th>\n",
       "      <th>ind_ctju_fin_ult1</th>\n",
       "      <th>ind_ctma_fin_ult1</th>\n",
       "      <th>ind_ctop_fin_ult1</th>\n",
       "      <th>ind_ctpp_fin_ult1</th>\n",
       "      <th>ind_deco_fin_ult1</th>\n",
       "      <th>ind_deme_fin_ult1</th>\n",
       "      <th>ind_dela_fin_ult1</th>\n",
       "      <th>ind_ecue_fin_ult1</th>\n",
       "      <th>ind_fond_fin_ult1</th>\n",
       "      <th>ind_hip_fin_ult1</th>\n",
       "      <th>ind_plan_fin_ult1</th>\n",
       "      <th>ind_pres_fin_ult1</th>\n",
       "      <th>ind_reca_fin_ult1</th>\n",
       "      <th>ind_tjcr_fin_ult1</th>\n",
       "      <th>ind_valo_fin_ult1</th>\n",
       "      <th>ind_viv_fin_ult1</th>\n",
       "      <th>ind_nomina_ult1</th>\n",
       "      <th>ind_nom_pens_ult1</th>\n",
       "      <th>ind_recibo_ult1</th>\n",
       "    </tr>\n",
       "  </thead>\n",
       "  <tbody>\n",
       "    <tr>\n",
       "      <th>416971</th>\n",
       "      <td>2015-01-28</td>\n",
       "      <td>15897</td>\n",
       "      <td>A</td>\n",
       "      <td>ES</td>\n",
       "      <td>V</td>\n",
       "      <td>61</td>\n",
       "      <td>1995-01-16</td>\n",
       "      <td>0.0</td>\n",
       "      <td>246</td>\n",
       "      <td>1.0</td>\n",
       "      <td>NaN</td>\n",
       "      <td>1.0</td>\n",
       "      <td>A</td>\n",
       "      <td>S</td>\n",
       "      <td>N</td>\n",
       "      <td>N</td>\n",
       "      <td>KAT</td>\n",
       "      <td>N</td>\n",
       "      <td>1.0</td>\n",
       "      <td>28.0</td>\n",
       "      <td>MADRID</td>\n",
       "      <td>1.0</td>\n",
       "      <td>175450.05</td>\n",
       "      <td>01 - TOP</td>\n",
       "      <td>0</td>\n",
       "      <td>0</td>\n",
       "      <td>1</td>\n",
       "      <td>0</td>\n",
       "      <td>1</td>\n",
       "      <td>0</td>\n",
       "      <td>0</td>\n",
       "      <td>1</td>\n",
       "      <td>0</td>\n",
       "      <td>0</td>\n",
       "      <td>0</td>\n",
       "      <td>0</td>\n",
       "      <td>1</td>\n",
       "      <td>1</td>\n",
       "      <td>0</td>\n",
       "      <td>1</td>\n",
       "      <td>0</td>\n",
       "      <td>1</td>\n",
       "      <td>1</td>\n",
       "      <td>1</td>\n",
       "      <td>0</td>\n",
       "      <td>0.0</td>\n",
       "      <td>1.0</td>\n",
       "      <td>1</td>\n",
       "    </tr>\n",
       "    <tr>\n",
       "      <th>836218</th>\n",
       "      <td>2015-02-28</td>\n",
       "      <td>15897</td>\n",
       "      <td>A</td>\n",
       "      <td>ES</td>\n",
       "      <td>V</td>\n",
       "      <td>61</td>\n",
       "      <td>1995-01-16</td>\n",
       "      <td>0.0</td>\n",
       "      <td>246</td>\n",
       "      <td>1.0</td>\n",
       "      <td>NaN</td>\n",
       "      <td>1.0</td>\n",
       "      <td>A</td>\n",
       "      <td>S</td>\n",
       "      <td>N</td>\n",
       "      <td>N</td>\n",
       "      <td>KAT</td>\n",
       "      <td>N</td>\n",
       "      <td>1.0</td>\n",
       "      <td>28.0</td>\n",
       "      <td>MADRID</td>\n",
       "      <td>1.0</td>\n",
       "      <td>175450.05</td>\n",
       "      <td>01 - TOP</td>\n",
       "      <td>0</td>\n",
       "      <td>0</td>\n",
       "      <td>1</td>\n",
       "      <td>0</td>\n",
       "      <td>1</td>\n",
       "      <td>0</td>\n",
       "      <td>0</td>\n",
       "      <td>1</td>\n",
       "      <td>0</td>\n",
       "      <td>0</td>\n",
       "      <td>0</td>\n",
       "      <td>0</td>\n",
       "      <td>1</td>\n",
       "      <td>1</td>\n",
       "      <td>0</td>\n",
       "      <td>1</td>\n",
       "      <td>0</td>\n",
       "      <td>1</td>\n",
       "      <td>1</td>\n",
       "      <td>1</td>\n",
       "      <td>0</td>\n",
       "      <td>0.0</td>\n",
       "      <td>1.0</td>\n",
       "      <td>1</td>\n",
       "    </tr>\n",
       "    <tr>\n",
       "      <th>1673955</th>\n",
       "      <td>2015-03-28</td>\n",
       "      <td>15897</td>\n",
       "      <td>A</td>\n",
       "      <td>ES</td>\n",
       "      <td>V</td>\n",
       "      <td>61</td>\n",
       "      <td>1995-01-16</td>\n",
       "      <td>0.0</td>\n",
       "      <td>246</td>\n",
       "      <td>1.0</td>\n",
       "      <td>NaN</td>\n",
       "      <td>1.0</td>\n",
       "      <td>A</td>\n",
       "      <td>S</td>\n",
       "      <td>N</td>\n",
       "      <td>N</td>\n",
       "      <td>KAT</td>\n",
       "      <td>N</td>\n",
       "      <td>1.0</td>\n",
       "      <td>28.0</td>\n",
       "      <td>MADRID</td>\n",
       "      <td>1.0</td>\n",
       "      <td>175450.05</td>\n",
       "      <td>01 - TOP</td>\n",
       "      <td>0</td>\n",
       "      <td>0</td>\n",
       "      <td>1</td>\n",
       "      <td>0</td>\n",
       "      <td>1</td>\n",
       "      <td>0</td>\n",
       "      <td>0</td>\n",
       "      <td>1</td>\n",
       "      <td>0</td>\n",
       "      <td>0</td>\n",
       "      <td>0</td>\n",
       "      <td>0</td>\n",
       "      <td>1</td>\n",
       "      <td>1</td>\n",
       "      <td>0</td>\n",
       "      <td>1</td>\n",
       "      <td>0</td>\n",
       "      <td>1</td>\n",
       "      <td>1</td>\n",
       "      <td>1</td>\n",
       "      <td>0</td>\n",
       "      <td>0.0</td>\n",
       "      <td>0.0</td>\n",
       "      <td>1</td>\n",
       "    </tr>\n",
       "    <tr>\n",
       "      <th>2092178</th>\n",
       "      <td>2015-04-28</td>\n",
       "      <td>15897</td>\n",
       "      <td>A</td>\n",
       "      <td>ES</td>\n",
       "      <td>V</td>\n",
       "      <td>61</td>\n",
       "      <td>1995-01-16</td>\n",
       "      <td>0.0</td>\n",
       "      <td>246</td>\n",
       "      <td>1.0</td>\n",
       "      <td>NaN</td>\n",
       "      <td>1.0</td>\n",
       "      <td>A</td>\n",
       "      <td>S</td>\n",
       "      <td>N</td>\n",
       "      <td>N</td>\n",
       "      <td>KAT</td>\n",
       "      <td>N</td>\n",
       "      <td>1.0</td>\n",
       "      <td>28.0</td>\n",
       "      <td>MADRID</td>\n",
       "      <td>1.0</td>\n",
       "      <td>175450.05</td>\n",
       "      <td>01 - TOP</td>\n",
       "      <td>0</td>\n",
       "      <td>0</td>\n",
       "      <td>1</td>\n",
       "      <td>0</td>\n",
       "      <td>1</td>\n",
       "      <td>0</td>\n",
       "      <td>0</td>\n",
       "      <td>1</td>\n",
       "      <td>0</td>\n",
       "      <td>0</td>\n",
       "      <td>0</td>\n",
       "      <td>0</td>\n",
       "      <td>1</td>\n",
       "      <td>1</td>\n",
       "      <td>0</td>\n",
       "      <td>1</td>\n",
       "      <td>0</td>\n",
       "      <td>1</td>\n",
       "      <td>1</td>\n",
       "      <td>1</td>\n",
       "      <td>0</td>\n",
       "      <td>0.0</td>\n",
       "      <td>1.0</td>\n",
       "      <td>1</td>\n",
       "    </tr>\n",
       "    <tr>\n",
       "      <th>2933726</th>\n",
       "      <td>2015-05-28</td>\n",
       "      <td>15897</td>\n",
       "      <td>A</td>\n",
       "      <td>ES</td>\n",
       "      <td>V</td>\n",
       "      <td>61</td>\n",
       "      <td>1995-01-16</td>\n",
       "      <td>0.0</td>\n",
       "      <td>246</td>\n",
       "      <td>1.0</td>\n",
       "      <td>NaN</td>\n",
       "      <td>1.0</td>\n",
       "      <td>A</td>\n",
       "      <td>S</td>\n",
       "      <td>N</td>\n",
       "      <td>N</td>\n",
       "      <td>KAT</td>\n",
       "      <td>N</td>\n",
       "      <td>1.0</td>\n",
       "      <td>28.0</td>\n",
       "      <td>MADRID</td>\n",
       "      <td>1.0</td>\n",
       "      <td>175450.05</td>\n",
       "      <td>01 - TOP</td>\n",
       "      <td>0</td>\n",
       "      <td>0</td>\n",
       "      <td>1</td>\n",
       "      <td>0</td>\n",
       "      <td>1</td>\n",
       "      <td>0</td>\n",
       "      <td>0</td>\n",
       "      <td>1</td>\n",
       "      <td>0</td>\n",
       "      <td>0</td>\n",
       "      <td>0</td>\n",
       "      <td>0</td>\n",
       "      <td>1</td>\n",
       "      <td>1</td>\n",
       "      <td>0</td>\n",
       "      <td>1</td>\n",
       "      <td>0</td>\n",
       "      <td>1</td>\n",
       "      <td>1</td>\n",
       "      <td>1</td>\n",
       "      <td>0</td>\n",
       "      <td>0.0</td>\n",
       "      <td>0.0</td>\n",
       "      <td>1</td>\n",
       "    </tr>\n",
       "    <tr>\n",
       "      <th>3565733</th>\n",
       "      <td>2015-06-28</td>\n",
       "      <td>15897</td>\n",
       "      <td>A</td>\n",
       "      <td>ES</td>\n",
       "      <td>V</td>\n",
       "      <td>61</td>\n",
       "      <td>1995-01-16</td>\n",
       "      <td>0.0</td>\n",
       "      <td>246</td>\n",
       "      <td>1.0</td>\n",
       "      <td>NaN</td>\n",
       "      <td>1.0</td>\n",
       "      <td>A</td>\n",
       "      <td>S</td>\n",
       "      <td>N</td>\n",
       "      <td>N</td>\n",
       "      <td>KAT</td>\n",
       "      <td>N</td>\n",
       "      <td>1.0</td>\n",
       "      <td>28.0</td>\n",
       "      <td>MADRID</td>\n",
       "      <td>1.0</td>\n",
       "      <td>175450.05</td>\n",
       "      <td>01 - TOP</td>\n",
       "      <td>0</td>\n",
       "      <td>0</td>\n",
       "      <td>1</td>\n",
       "      <td>0</td>\n",
       "      <td>1</td>\n",
       "      <td>0</td>\n",
       "      <td>0</td>\n",
       "      <td>1</td>\n",
       "      <td>0</td>\n",
       "      <td>0</td>\n",
       "      <td>0</td>\n",
       "      <td>0</td>\n",
       "      <td>1</td>\n",
       "      <td>1</td>\n",
       "      <td>0</td>\n",
       "      <td>1</td>\n",
       "      <td>0</td>\n",
       "      <td>1</td>\n",
       "      <td>1</td>\n",
       "      <td>1</td>\n",
       "      <td>0</td>\n",
       "      <td>0.0</td>\n",
       "      <td>1.0</td>\n",
       "      <td>1</td>\n",
       "    </tr>\n",
       "    <tr>\n",
       "      <th>4078988</th>\n",
       "      <td>2015-07-28</td>\n",
       "      <td>15897</td>\n",
       "      <td>A</td>\n",
       "      <td>ES</td>\n",
       "      <td>V</td>\n",
       "      <td>61</td>\n",
       "      <td>1995-01-16</td>\n",
       "      <td>0.0</td>\n",
       "      <td>246</td>\n",
       "      <td>1.0</td>\n",
       "      <td>NaN</td>\n",
       "      <td>1</td>\n",
       "      <td>A</td>\n",
       "      <td>S</td>\n",
       "      <td>N</td>\n",
       "      <td>N</td>\n",
       "      <td>KAT</td>\n",
       "      <td>N</td>\n",
       "      <td>1.0</td>\n",
       "      <td>28.0</td>\n",
       "      <td>MADRID</td>\n",
       "      <td>1.0</td>\n",
       "      <td>175450.05</td>\n",
       "      <td>01 - TOP</td>\n",
       "      <td>0</td>\n",
       "      <td>0</td>\n",
       "      <td>1</td>\n",
       "      <td>0</td>\n",
       "      <td>1</td>\n",
       "      <td>0</td>\n",
       "      <td>0</td>\n",
       "      <td>1</td>\n",
       "      <td>0</td>\n",
       "      <td>0</td>\n",
       "      <td>0</td>\n",
       "      <td>0</td>\n",
       "      <td>1</td>\n",
       "      <td>1</td>\n",
       "      <td>0</td>\n",
       "      <td>1</td>\n",
       "      <td>0</td>\n",
       "      <td>1</td>\n",
       "      <td>1</td>\n",
       "      <td>1</td>\n",
       "      <td>0</td>\n",
       "      <td>0.0</td>\n",
       "      <td>1.0</td>\n",
       "      <td>1</td>\n",
       "    </tr>\n",
       "    <tr>\n",
       "      <th>5319236</th>\n",
       "      <td>2015-08-28</td>\n",
       "      <td>15897</td>\n",
       "      <td>A</td>\n",
       "      <td>ES</td>\n",
       "      <td>V</td>\n",
       "      <td>62</td>\n",
       "      <td>1995-01-16</td>\n",
       "      <td>0.0</td>\n",
       "      <td>247</td>\n",
       "      <td>1.0</td>\n",
       "      <td>NaN</td>\n",
       "      <td>1.0</td>\n",
       "      <td>A</td>\n",
       "      <td>S</td>\n",
       "      <td>N</td>\n",
       "      <td>N</td>\n",
       "      <td>KAT</td>\n",
       "      <td>N</td>\n",
       "      <td>1.0</td>\n",
       "      <td>28.0</td>\n",
       "      <td>MADRID</td>\n",
       "      <td>1.0</td>\n",
       "      <td>175450.05</td>\n",
       "      <td>01 - TOP</td>\n",
       "      <td>0</td>\n",
       "      <td>0</td>\n",
       "      <td>1</td>\n",
       "      <td>0</td>\n",
       "      <td>1</td>\n",
       "      <td>0</td>\n",
       "      <td>0</td>\n",
       "      <td>1</td>\n",
       "      <td>0</td>\n",
       "      <td>0</td>\n",
       "      <td>0</td>\n",
       "      <td>0</td>\n",
       "      <td>1</td>\n",
       "      <td>1</td>\n",
       "      <td>0</td>\n",
       "      <td>1</td>\n",
       "      <td>0</td>\n",
       "      <td>1</td>\n",
       "      <td>1</td>\n",
       "      <td>1</td>\n",
       "      <td>0</td>\n",
       "      <td>0.0</td>\n",
       "      <td>1.0</td>\n",
       "      <td>1</td>\n",
       "    </tr>\n",
       "    <tr>\n",
       "      <th>5705181</th>\n",
       "      <td>2015-09-28</td>\n",
       "      <td>15897</td>\n",
       "      <td>A</td>\n",
       "      <td>ES</td>\n",
       "      <td>V</td>\n",
       "      <td>62</td>\n",
       "      <td>1995-01-16</td>\n",
       "      <td>0.0</td>\n",
       "      <td>248</td>\n",
       "      <td>1.0</td>\n",
       "      <td>NaN</td>\n",
       "      <td>1.0</td>\n",
       "      <td>A</td>\n",
       "      <td>S</td>\n",
       "      <td>N</td>\n",
       "      <td>N</td>\n",
       "      <td>KAT</td>\n",
       "      <td>N</td>\n",
       "      <td>1.0</td>\n",
       "      <td>28.0</td>\n",
       "      <td>MADRID</td>\n",
       "      <td>1.0</td>\n",
       "      <td>175450.05</td>\n",
       "      <td>01 - TOP</td>\n",
       "      <td>0</td>\n",
       "      <td>0</td>\n",
       "      <td>1</td>\n",
       "      <td>0</td>\n",
       "      <td>1</td>\n",
       "      <td>0</td>\n",
       "      <td>0</td>\n",
       "      <td>1</td>\n",
       "      <td>0</td>\n",
       "      <td>0</td>\n",
       "      <td>0</td>\n",
       "      <td>0</td>\n",
       "      <td>1</td>\n",
       "      <td>1</td>\n",
       "      <td>0</td>\n",
       "      <td>1</td>\n",
       "      <td>0</td>\n",
       "      <td>1</td>\n",
       "      <td>1</td>\n",
       "      <td>1</td>\n",
       "      <td>0</td>\n",
       "      <td>0.0</td>\n",
       "      <td>1.0</td>\n",
       "      <td>1</td>\n",
       "    </tr>\n",
       "    <tr>\n",
       "      <th>6909784</th>\n",
       "      <td>2015-10-28</td>\n",
       "      <td>15897</td>\n",
       "      <td>A</td>\n",
       "      <td>ES</td>\n",
       "      <td>V</td>\n",
       "      <td>62</td>\n",
       "      <td>1995-01-16</td>\n",
       "      <td>0.0</td>\n",
       "      <td>249</td>\n",
       "      <td>1.0</td>\n",
       "      <td>NaN</td>\n",
       "      <td>1</td>\n",
       "      <td>A</td>\n",
       "      <td>S</td>\n",
       "      <td>N</td>\n",
       "      <td>N</td>\n",
       "      <td>KAT</td>\n",
       "      <td>N</td>\n",
       "      <td>1.0</td>\n",
       "      <td>28.0</td>\n",
       "      <td>MADRID</td>\n",
       "      <td>1.0</td>\n",
       "      <td>175450.05</td>\n",
       "      <td>01 - TOP</td>\n",
       "      <td>0</td>\n",
       "      <td>0</td>\n",
       "      <td>1</td>\n",
       "      <td>0</td>\n",
       "      <td>1</td>\n",
       "      <td>0</td>\n",
       "      <td>0</td>\n",
       "      <td>1</td>\n",
       "      <td>0</td>\n",
       "      <td>0</td>\n",
       "      <td>0</td>\n",
       "      <td>0</td>\n",
       "      <td>1</td>\n",
       "      <td>1</td>\n",
       "      <td>0</td>\n",
       "      <td>1</td>\n",
       "      <td>0</td>\n",
       "      <td>1</td>\n",
       "      <td>1</td>\n",
       "      <td>1</td>\n",
       "      <td>0</td>\n",
       "      <td>0.0</td>\n",
       "      <td>1.0</td>\n",
       "      <td>1</td>\n",
       "    </tr>\n",
       "    <tr>\n",
       "      <th>7450499</th>\n",
       "      <td>2015-11-28</td>\n",
       "      <td>15897</td>\n",
       "      <td>A</td>\n",
       "      <td>ES</td>\n",
       "      <td>V</td>\n",
       "      <td>62</td>\n",
       "      <td>1995-01-16</td>\n",
       "      <td>0.0</td>\n",
       "      <td>250</td>\n",
       "      <td>1.0</td>\n",
       "      <td>NaN</td>\n",
       "      <td>1.0</td>\n",
       "      <td>A</td>\n",
       "      <td>S</td>\n",
       "      <td>N</td>\n",
       "      <td>N</td>\n",
       "      <td>KAT</td>\n",
       "      <td>N</td>\n",
       "      <td>1.0</td>\n",
       "      <td>28.0</td>\n",
       "      <td>MADRID</td>\n",
       "      <td>1.0</td>\n",
       "      <td>175450.05</td>\n",
       "      <td>01 - TOP</td>\n",
       "      <td>0</td>\n",
       "      <td>0</td>\n",
       "      <td>1</td>\n",
       "      <td>0</td>\n",
       "      <td>1</td>\n",
       "      <td>0</td>\n",
       "      <td>0</td>\n",
       "      <td>1</td>\n",
       "      <td>0</td>\n",
       "      <td>0</td>\n",
       "      <td>0</td>\n",
       "      <td>0</td>\n",
       "      <td>1</td>\n",
       "      <td>1</td>\n",
       "      <td>0</td>\n",
       "      <td>1</td>\n",
       "      <td>0</td>\n",
       "      <td>1</td>\n",
       "      <td>1</td>\n",
       "      <td>1</td>\n",
       "      <td>0</td>\n",
       "      <td>0.0</td>\n",
       "      <td>1.0</td>\n",
       "      <td>1</td>\n",
       "    </tr>\n",
       "    <tr>\n",
       "      <th>8617999</th>\n",
       "      <td>2015-12-28</td>\n",
       "      <td>15897</td>\n",
       "      <td>A</td>\n",
       "      <td>ES</td>\n",
       "      <td>V</td>\n",
       "      <td>62</td>\n",
       "      <td>1995-01-16</td>\n",
       "      <td>0.0</td>\n",
       "      <td>251</td>\n",
       "      <td>1.0</td>\n",
       "      <td>NaN</td>\n",
       "      <td>1</td>\n",
       "      <td>A</td>\n",
       "      <td>S</td>\n",
       "      <td>N</td>\n",
       "      <td>N</td>\n",
       "      <td>KAT</td>\n",
       "      <td>N</td>\n",
       "      <td>1.0</td>\n",
       "      <td>28.0</td>\n",
       "      <td>MADRID</td>\n",
       "      <td>1.0</td>\n",
       "      <td>175450.05</td>\n",
       "      <td>01 - TOP</td>\n",
       "      <td>0</td>\n",
       "      <td>0</td>\n",
       "      <td>1</td>\n",
       "      <td>0</td>\n",
       "      <td>1</td>\n",
       "      <td>0</td>\n",
       "      <td>0</td>\n",
       "      <td>1</td>\n",
       "      <td>0</td>\n",
       "      <td>0</td>\n",
       "      <td>0</td>\n",
       "      <td>0</td>\n",
       "      <td>1</td>\n",
       "      <td>1</td>\n",
       "      <td>0</td>\n",
       "      <td>1</td>\n",
       "      <td>0</td>\n",
       "      <td>1</td>\n",
       "      <td>1</td>\n",
       "      <td>1</td>\n",
       "      <td>0</td>\n",
       "      <td>0.0</td>\n",
       "      <td>1.0</td>\n",
       "      <td>1</td>\n",
       "    </tr>\n",
       "    <tr>\n",
       "      <th>9401562</th>\n",
       "      <td>2016-01-28</td>\n",
       "      <td>15897</td>\n",
       "      <td>A</td>\n",
       "      <td>ES</td>\n",
       "      <td>V</td>\n",
       "      <td>62</td>\n",
       "      <td>1995-01-16</td>\n",
       "      <td>0.0</td>\n",
       "      <td>252</td>\n",
       "      <td>1.0</td>\n",
       "      <td>NaN</td>\n",
       "      <td>1.0</td>\n",
       "      <td>A</td>\n",
       "      <td>S</td>\n",
       "      <td>N</td>\n",
       "      <td>N</td>\n",
       "      <td>KAT</td>\n",
       "      <td>N</td>\n",
       "      <td>1.0</td>\n",
       "      <td>28.0</td>\n",
       "      <td>MADRID</td>\n",
       "      <td>1.0</td>\n",
       "      <td>175450.05</td>\n",
       "      <td>01 - TOP</td>\n",
       "      <td>0</td>\n",
       "      <td>0</td>\n",
       "      <td>1</td>\n",
       "      <td>0</td>\n",
       "      <td>1</td>\n",
       "      <td>0</td>\n",
       "      <td>0</td>\n",
       "      <td>1</td>\n",
       "      <td>0</td>\n",
       "      <td>0</td>\n",
       "      <td>0</td>\n",
       "      <td>0</td>\n",
       "      <td>1</td>\n",
       "      <td>1</td>\n",
       "      <td>0</td>\n",
       "      <td>1</td>\n",
       "      <td>0</td>\n",
       "      <td>1</td>\n",
       "      <td>1</td>\n",
       "      <td>1</td>\n",
       "      <td>0</td>\n",
       "      <td>0.0</td>\n",
       "      <td>0.0</td>\n",
       "      <td>1</td>\n",
       "    </tr>\n",
       "    <tr>\n",
       "      <th>10426093</th>\n",
       "      <td>2016-02-28</td>\n",
       "      <td>15897</td>\n",
       "      <td>A</td>\n",
       "      <td>ES</td>\n",
       "      <td>V</td>\n",
       "      <td>62</td>\n",
       "      <td>1995-01-16</td>\n",
       "      <td>0.0</td>\n",
       "      <td>253</td>\n",
       "      <td>1.0</td>\n",
       "      <td>NaN</td>\n",
       "      <td>1.0</td>\n",
       "      <td>A</td>\n",
       "      <td>S</td>\n",
       "      <td>N</td>\n",
       "      <td>N</td>\n",
       "      <td>KAT</td>\n",
       "      <td>N</td>\n",
       "      <td>1.0</td>\n",
       "      <td>28.0</td>\n",
       "      <td>MADRID</td>\n",
       "      <td>1.0</td>\n",
       "      <td>175450.05</td>\n",
       "      <td>01 - TOP</td>\n",
       "      <td>0</td>\n",
       "      <td>0</td>\n",
       "      <td>1</td>\n",
       "      <td>0</td>\n",
       "      <td>1</td>\n",
       "      <td>0</td>\n",
       "      <td>0</td>\n",
       "      <td>1</td>\n",
       "      <td>0</td>\n",
       "      <td>0</td>\n",
       "      <td>0</td>\n",
       "      <td>0</td>\n",
       "      <td>1</td>\n",
       "      <td>1</td>\n",
       "      <td>0</td>\n",
       "      <td>1</td>\n",
       "      <td>0</td>\n",
       "      <td>1</td>\n",
       "      <td>1</td>\n",
       "      <td>1</td>\n",
       "      <td>0</td>\n",
       "      <td>0.0</td>\n",
       "      <td>1.0</td>\n",
       "      <td>1</td>\n",
       "    </tr>\n",
       "    <tr>\n",
       "      <th>11170864</th>\n",
       "      <td>2016-03-28</td>\n",
       "      <td>15897</td>\n",
       "      <td>A</td>\n",
       "      <td>ES</td>\n",
       "      <td>V</td>\n",
       "      <td>62</td>\n",
       "      <td>1995-01-16</td>\n",
       "      <td>0.0</td>\n",
       "      <td>254</td>\n",
       "      <td>1.0</td>\n",
       "      <td>NaN</td>\n",
       "      <td>1.0</td>\n",
       "      <td>A</td>\n",
       "      <td>S</td>\n",
       "      <td>N</td>\n",
       "      <td>N</td>\n",
       "      <td>KAT</td>\n",
       "      <td>N</td>\n",
       "      <td>1.0</td>\n",
       "      <td>28.0</td>\n",
       "      <td>MADRID</td>\n",
       "      <td>1.0</td>\n",
       "      <td>175450.05</td>\n",
       "      <td>01 - TOP</td>\n",
       "      <td>0</td>\n",
       "      <td>0</td>\n",
       "      <td>0</td>\n",
       "      <td>0</td>\n",
       "      <td>1</td>\n",
       "      <td>0</td>\n",
       "      <td>0</td>\n",
       "      <td>1</td>\n",
       "      <td>0</td>\n",
       "      <td>0</td>\n",
       "      <td>0</td>\n",
       "      <td>0</td>\n",
       "      <td>1</td>\n",
       "      <td>1</td>\n",
       "      <td>0</td>\n",
       "      <td>1</td>\n",
       "      <td>0</td>\n",
       "      <td>1</td>\n",
       "      <td>1</td>\n",
       "      <td>1</td>\n",
       "      <td>0</td>\n",
       "      <td>0.0</td>\n",
       "      <td>1.0</td>\n",
       "      <td>1</td>\n",
       "    </tr>\n",
       "    <tr>\n",
       "      <th>12221048</th>\n",
       "      <td>2016-04-28</td>\n",
       "      <td>15897</td>\n",
       "      <td>A</td>\n",
       "      <td>ES</td>\n",
       "      <td>V</td>\n",
       "      <td>62</td>\n",
       "      <td>1995-01-16</td>\n",
       "      <td>0.0</td>\n",
       "      <td>255</td>\n",
       "      <td>1.0</td>\n",
       "      <td>NaN</td>\n",
       "      <td>1</td>\n",
       "      <td>A</td>\n",
       "      <td>S</td>\n",
       "      <td>N</td>\n",
       "      <td>N</td>\n",
       "      <td>KAT</td>\n",
       "      <td>N</td>\n",
       "      <td>1.0</td>\n",
       "      <td>28.0</td>\n",
       "      <td>MADRID</td>\n",
       "      <td>1.0</td>\n",
       "      <td>175450.05</td>\n",
       "      <td>01 - TOP</td>\n",
       "      <td>0</td>\n",
       "      <td>0</td>\n",
       "      <td>0</td>\n",
       "      <td>0</td>\n",
       "      <td>1</td>\n",
       "      <td>0</td>\n",
       "      <td>0</td>\n",
       "      <td>1</td>\n",
       "      <td>0</td>\n",
       "      <td>0</td>\n",
       "      <td>0</td>\n",
       "      <td>0</td>\n",
       "      <td>1</td>\n",
       "      <td>1</td>\n",
       "      <td>0</td>\n",
       "      <td>1</td>\n",
       "      <td>0</td>\n",
       "      <td>1</td>\n",
       "      <td>1</td>\n",
       "      <td>1</td>\n",
       "      <td>0</td>\n",
       "      <td>0.0</td>\n",
       "      <td>1.0</td>\n",
       "      <td>1</td>\n",
       "    </tr>\n",
       "    <tr>\n",
       "      <th>13026336</th>\n",
       "      <td>2016-05-28</td>\n",
       "      <td>15897</td>\n",
       "      <td>A</td>\n",
       "      <td>ES</td>\n",
       "      <td>V</td>\n",
       "      <td>62</td>\n",
       "      <td>1995-01-16</td>\n",
       "      <td>0.0</td>\n",
       "      <td>256</td>\n",
       "      <td>1.0</td>\n",
       "      <td>NaN</td>\n",
       "      <td>1.0</td>\n",
       "      <td>A</td>\n",
       "      <td>S</td>\n",
       "      <td>N</td>\n",
       "      <td>N</td>\n",
       "      <td>KAT</td>\n",
       "      <td>N</td>\n",
       "      <td>1.0</td>\n",
       "      <td>28.0</td>\n",
       "      <td>MADRID</td>\n",
       "      <td>1.0</td>\n",
       "      <td>175450.05</td>\n",
       "      <td>01 - TOP</td>\n",
       "      <td>0</td>\n",
       "      <td>0</td>\n",
       "      <td>0</td>\n",
       "      <td>0</td>\n",
       "      <td>1</td>\n",
       "      <td>0</td>\n",
       "      <td>0</td>\n",
       "      <td>1</td>\n",
       "      <td>0</td>\n",
       "      <td>0</td>\n",
       "      <td>0</td>\n",
       "      <td>0</td>\n",
       "      <td>1</td>\n",
       "      <td>1</td>\n",
       "      <td>0</td>\n",
       "      <td>1</td>\n",
       "      <td>0</td>\n",
       "      <td>1</td>\n",
       "      <td>1</td>\n",
       "      <td>1</td>\n",
       "      <td>0</td>\n",
       "      <td>0.0</td>\n",
       "      <td>1.0</td>\n",
       "      <td>1</td>\n",
       "    </tr>\n",
       "  </tbody>\n",
       "</table>\n",
       "</div>"
      ],
      "text/plain": [
       "          fecha_dato  ncodpers ind_empleado pais_residencia sexo  age  \\\n",
       "416971    2015-01-28     15897            A              ES    V   61   \n",
       "836218    2015-02-28     15897            A              ES    V   61   \n",
       "1673955   2015-03-28     15897            A              ES    V   61   \n",
       "2092178   2015-04-28     15897            A              ES    V   61   \n",
       "2933726   2015-05-28     15897            A              ES    V   61   \n",
       "3565733   2015-06-28     15897            A              ES    V   61   \n",
       "4078988   2015-07-28     15897            A              ES    V   61   \n",
       "5319236   2015-08-28     15897            A              ES    V   62   \n",
       "5705181   2015-09-28     15897            A              ES    V   62   \n",
       "6909784   2015-10-28     15897            A              ES    V   62   \n",
       "7450499   2015-11-28     15897            A              ES    V   62   \n",
       "8617999   2015-12-28     15897            A              ES    V   62   \n",
       "9401562   2016-01-28     15897            A              ES    V   62   \n",
       "10426093  2016-02-28     15897            A              ES    V   62   \n",
       "11170864  2016-03-28     15897            A              ES    V   62   \n",
       "12221048  2016-04-28     15897            A              ES    V   62   \n",
       "13026336  2016-05-28     15897            A              ES    V   62   \n",
       "\n",
       "          fecha_alta  ind_nuevo antiguedad  indrel ult_fec_cli_1t indrel_1mes  \\\n",
       "416971    1995-01-16        0.0        246     1.0            NaN         1.0   \n",
       "836218    1995-01-16        0.0        246     1.0            NaN         1.0   \n",
       "1673955   1995-01-16        0.0        246     1.0            NaN         1.0   \n",
       "2092178   1995-01-16        0.0        246     1.0            NaN         1.0   \n",
       "2933726   1995-01-16        0.0        246     1.0            NaN         1.0   \n",
       "3565733   1995-01-16        0.0        246     1.0            NaN         1.0   \n",
       "4078988   1995-01-16        0.0        246     1.0            NaN           1   \n",
       "5319236   1995-01-16        0.0        247     1.0            NaN         1.0   \n",
       "5705181   1995-01-16        0.0        248     1.0            NaN         1.0   \n",
       "6909784   1995-01-16        0.0        249     1.0            NaN           1   \n",
       "7450499   1995-01-16        0.0        250     1.0            NaN         1.0   \n",
       "8617999   1995-01-16        0.0        251     1.0            NaN           1   \n",
       "9401562   1995-01-16        0.0        252     1.0            NaN         1.0   \n",
       "10426093  1995-01-16        0.0        253     1.0            NaN         1.0   \n",
       "11170864  1995-01-16        0.0        254     1.0            NaN         1.0   \n",
       "12221048  1995-01-16        0.0        255     1.0            NaN           1   \n",
       "13026336  1995-01-16        0.0        256     1.0            NaN         1.0   \n",
       "\n",
       "         tiprel_1mes indresi indext conyuemp canal_entrada indfall  tipodom  \\\n",
       "416971             A       S      N        N           KAT       N      1.0   \n",
       "836218             A       S      N        N           KAT       N      1.0   \n",
       "1673955            A       S      N        N           KAT       N      1.0   \n",
       "2092178            A       S      N        N           KAT       N      1.0   \n",
       "2933726            A       S      N        N           KAT       N      1.0   \n",
       "3565733            A       S      N        N           KAT       N      1.0   \n",
       "4078988            A       S      N        N           KAT       N      1.0   \n",
       "5319236            A       S      N        N           KAT       N      1.0   \n",
       "5705181            A       S      N        N           KAT       N      1.0   \n",
       "6909784            A       S      N        N           KAT       N      1.0   \n",
       "7450499            A       S      N        N           KAT       N      1.0   \n",
       "8617999            A       S      N        N           KAT       N      1.0   \n",
       "9401562            A       S      N        N           KAT       N      1.0   \n",
       "10426093           A       S      N        N           KAT       N      1.0   \n",
       "11170864           A       S      N        N           KAT       N      1.0   \n",
       "12221048           A       S      N        N           KAT       N      1.0   \n",
       "13026336           A       S      N        N           KAT       N      1.0   \n",
       "\n",
       "          cod_prov nomprov  ind_actividad_cliente      renta  segmento  \\\n",
       "416971        28.0  MADRID                    1.0  175450.05  01 - TOP   \n",
       "836218        28.0  MADRID                    1.0  175450.05  01 - TOP   \n",
       "1673955       28.0  MADRID                    1.0  175450.05  01 - TOP   \n",
       "2092178       28.0  MADRID                    1.0  175450.05  01 - TOP   \n",
       "2933726       28.0  MADRID                    1.0  175450.05  01 - TOP   \n",
       "3565733       28.0  MADRID                    1.0  175450.05  01 - TOP   \n",
       "4078988       28.0  MADRID                    1.0  175450.05  01 - TOP   \n",
       "5319236       28.0  MADRID                    1.0  175450.05  01 - TOP   \n",
       "5705181       28.0  MADRID                    1.0  175450.05  01 - TOP   \n",
       "6909784       28.0  MADRID                    1.0  175450.05  01 - TOP   \n",
       "7450499       28.0  MADRID                    1.0  175450.05  01 - TOP   \n",
       "8617999       28.0  MADRID                    1.0  175450.05  01 - TOP   \n",
       "9401562       28.0  MADRID                    1.0  175450.05  01 - TOP   \n",
       "10426093      28.0  MADRID                    1.0  175450.05  01 - TOP   \n",
       "11170864      28.0  MADRID                    1.0  175450.05  01 - TOP   \n",
       "12221048      28.0  MADRID                    1.0  175450.05  01 - TOP   \n",
       "13026336      28.0  MADRID                    1.0  175450.05  01 - TOP   \n",
       "\n",
       "          ind_ahor_fin_ult1  ind_aval_fin_ult1  ind_cco_fin_ult1  \\\n",
       "416971                    0                  0                 1   \n",
       "836218                    0                  0                 1   \n",
       "1673955                   0                  0                 1   \n",
       "2092178                   0                  0                 1   \n",
       "2933726                   0                  0                 1   \n",
       "3565733                   0                  0                 1   \n",
       "4078988                   0                  0                 1   \n",
       "5319236                   0                  0                 1   \n",
       "5705181                   0                  0                 1   \n",
       "6909784                   0                  0                 1   \n",
       "7450499                   0                  0                 1   \n",
       "8617999                   0                  0                 1   \n",
       "9401562                   0                  0                 1   \n",
       "10426093                  0                  0                 1   \n",
       "11170864                  0                  0                 0   \n",
       "12221048                  0                  0                 0   \n",
       "13026336                  0                  0                 0   \n",
       "\n",
       "          ind_cder_fin_ult1  ind_cno_fin_ult1  ind_ctju_fin_ult1  \\\n",
       "416971                    0                 1                  0   \n",
       "836218                    0                 1                  0   \n",
       "1673955                   0                 1                  0   \n",
       "2092178                   0                 1                  0   \n",
       "2933726                   0                 1                  0   \n",
       "3565733                   0                 1                  0   \n",
       "4078988                   0                 1                  0   \n",
       "5319236                   0                 1                  0   \n",
       "5705181                   0                 1                  0   \n",
       "6909784                   0                 1                  0   \n",
       "7450499                   0                 1                  0   \n",
       "8617999                   0                 1                  0   \n",
       "9401562                   0                 1                  0   \n",
       "10426093                  0                 1                  0   \n",
       "11170864                  0                 1                  0   \n",
       "12221048                  0                 1                  0   \n",
       "13026336                  0                 1                  0   \n",
       "\n",
       "          ind_ctma_fin_ult1  ind_ctop_fin_ult1  ind_ctpp_fin_ult1  \\\n",
       "416971                    0                  1                  0   \n",
       "836218                    0                  1                  0   \n",
       "1673955                   0                  1                  0   \n",
       "2092178                   0                  1                  0   \n",
       "2933726                   0                  1                  0   \n",
       "3565733                   0                  1                  0   \n",
       "4078988                   0                  1                  0   \n",
       "5319236                   0                  1                  0   \n",
       "5705181                   0                  1                  0   \n",
       "6909784                   0                  1                  0   \n",
       "7450499                   0                  1                  0   \n",
       "8617999                   0                  1                  0   \n",
       "9401562                   0                  1                  0   \n",
       "10426093                  0                  1                  0   \n",
       "11170864                  0                  1                  0   \n",
       "12221048                  0                  1                  0   \n",
       "13026336                  0                  1                  0   \n",
       "\n",
       "          ind_deco_fin_ult1  ind_deme_fin_ult1  ind_dela_fin_ult1  \\\n",
       "416971                    0                  0                  0   \n",
       "836218                    0                  0                  0   \n",
       "1673955                   0                  0                  0   \n",
       "2092178                   0                  0                  0   \n",
       "2933726                   0                  0                  0   \n",
       "3565733                   0                  0                  0   \n",
       "4078988                   0                  0                  0   \n",
       "5319236                   0                  0                  0   \n",
       "5705181                   0                  0                  0   \n",
       "6909784                   0                  0                  0   \n",
       "7450499                   0                  0                  0   \n",
       "8617999                   0                  0                  0   \n",
       "9401562                   0                  0                  0   \n",
       "10426093                  0                  0                  0   \n",
       "11170864                  0                  0                  0   \n",
       "12221048                  0                  0                  0   \n",
       "13026336                  0                  0                  0   \n",
       "\n",
       "          ind_ecue_fin_ult1  ind_fond_fin_ult1  ind_hip_fin_ult1  \\\n",
       "416971                    1                  1                 0   \n",
       "836218                    1                  1                 0   \n",
       "1673955                   1                  1                 0   \n",
       "2092178                   1                  1                 0   \n",
       "2933726                   1                  1                 0   \n",
       "3565733                   1                  1                 0   \n",
       "4078988                   1                  1                 0   \n",
       "5319236                   1                  1                 0   \n",
       "5705181                   1                  1                 0   \n",
       "6909784                   1                  1                 0   \n",
       "7450499                   1                  1                 0   \n",
       "8617999                   1                  1                 0   \n",
       "9401562                   1                  1                 0   \n",
       "10426093                  1                  1                 0   \n",
       "11170864                  1                  1                 0   \n",
       "12221048                  1                  1                 0   \n",
       "13026336                  1                  1                 0   \n",
       "\n",
       "          ind_plan_fin_ult1  ind_pres_fin_ult1  ind_reca_fin_ult1  \\\n",
       "416971                    1                  0                  1   \n",
       "836218                    1                  0                  1   \n",
       "1673955                   1                  0                  1   \n",
       "2092178                   1                  0                  1   \n",
       "2933726                   1                  0                  1   \n",
       "3565733                   1                  0                  1   \n",
       "4078988                   1                  0                  1   \n",
       "5319236                   1                  0                  1   \n",
       "5705181                   1                  0                  1   \n",
       "6909784                   1                  0                  1   \n",
       "7450499                   1                  0                  1   \n",
       "8617999                   1                  0                  1   \n",
       "9401562                   1                  0                  1   \n",
       "10426093                  1                  0                  1   \n",
       "11170864                  1                  0                  1   \n",
       "12221048                  1                  0                  1   \n",
       "13026336                  1                  0                  1   \n",
       "\n",
       "          ind_tjcr_fin_ult1  ind_valo_fin_ult1  ind_viv_fin_ult1  \\\n",
       "416971                    1                  1                 0   \n",
       "836218                    1                  1                 0   \n",
       "1673955                   1                  1                 0   \n",
       "2092178                   1                  1                 0   \n",
       "2933726                   1                  1                 0   \n",
       "3565733                   1                  1                 0   \n",
       "4078988                   1                  1                 0   \n",
       "5319236                   1                  1                 0   \n",
       "5705181                   1                  1                 0   \n",
       "6909784                   1                  1                 0   \n",
       "7450499                   1                  1                 0   \n",
       "8617999                   1                  1                 0   \n",
       "9401562                   1                  1                 0   \n",
       "10426093                  1                  1                 0   \n",
       "11170864                  1                  1                 0   \n",
       "12221048                  1                  1                 0   \n",
       "13026336                  1                  1                 0   \n",
       "\n",
       "          ind_nomina_ult1  ind_nom_pens_ult1  ind_recibo_ult1  \n",
       "416971                0.0                1.0                1  \n",
       "836218                0.0                1.0                1  \n",
       "1673955               0.0                0.0                1  \n",
       "2092178               0.0                1.0                1  \n",
       "2933726               0.0                0.0                1  \n",
       "3565733               0.0                1.0                1  \n",
       "4078988               0.0                1.0                1  \n",
       "5319236               0.0                1.0                1  \n",
       "5705181               0.0                1.0                1  \n",
       "6909784               0.0                1.0                1  \n",
       "7450499               0.0                1.0                1  \n",
       "8617999               0.0                1.0                1  \n",
       "9401562               0.0                0.0                1  \n",
       "10426093              0.0                1.0                1  \n",
       "11170864              0.0                1.0                1  \n",
       "12221048              0.0                1.0                1  \n",
       "13026336              0.0                1.0                1  "
      ]
     },
     "execution_count": 33,
     "metadata": {},
     "output_type": "execute_result"
    }
   ],
   "source": [
    "k=7\n",
    "dfi=train[train.ncodpers==list(uids_train)[k]]\n",
    "dfi"
   ]
  },
  {
   "cell_type": "code",
   "execution_count": 34,
   "id": "683ef9d9",
   "metadata": {},
   "outputs": [
    {
     "data": {
      "text/plain": [
       "Index(['fecha_dato', 'ncodpers', 'ind_empleado', 'pais_residencia', 'sexo',\n",
       "       'age', 'fecha_alta', 'ind_nuevo', 'antiguedad', 'indrel',\n",
       "       'ult_fec_cli_1t', 'indrel_1mes', 'tiprel_1mes', 'indresi', 'indext',\n",
       "       'conyuemp', 'canal_entrada', 'indfall', 'tipodom', 'cod_prov',\n",
       "       'nomprov', 'ind_actividad_cliente', 'renta', 'segmento',\n",
       "       'ind_ahor_fin_ult1', 'ind_aval_fin_ult1', 'ind_cco_fin_ult1',\n",
       "       'ind_cder_fin_ult1', 'ind_cno_fin_ult1', 'ind_ctju_fin_ult1',\n",
       "       'ind_ctma_fin_ult1', 'ind_ctop_fin_ult1', 'ind_ctpp_fin_ult1',\n",
       "       'ind_deco_fin_ult1', 'ind_deme_fin_ult1', 'ind_dela_fin_ult1',\n",
       "       'ind_ecue_fin_ult1', 'ind_fond_fin_ult1', 'ind_hip_fin_ult1',\n",
       "       'ind_plan_fin_ult1', 'ind_pres_fin_ult1', 'ind_reca_fin_ult1',\n",
       "       'ind_tjcr_fin_ult1', 'ind_valo_fin_ult1', 'ind_viv_fin_ult1',\n",
       "       'ind_nomina_ult1', 'ind_nom_pens_ult1', 'ind_recibo_ult1'],\n",
       "      dtype='object')"
      ]
     },
     "execution_count": 34,
     "metadata": {},
     "output_type": "execute_result"
    }
   ],
   "source": [
    "dfi.sort_values(\"fecha_dato\",  ascending=True)\n",
    "dfi.columns"
   ]
  },
  {
   "cell_type": "code",
   "execution_count": 35,
   "id": "f5af7db1",
   "metadata": {},
   "outputs": [
    {
     "data": {
      "text/html": [
       "<div>\n",
       "<style scoped>\n",
       "    .dataframe tbody tr th:only-of-type {\n",
       "        vertical-align: middle;\n",
       "    }\n",
       "\n",
       "    .dataframe tbody tr th {\n",
       "        vertical-align: top;\n",
       "    }\n",
       "\n",
       "    .dataframe thead th {\n",
       "        text-align: right;\n",
       "    }\n",
       "</style>\n",
       "<table border=\"1\" class=\"dataframe\">\n",
       "  <thead>\n",
       "    <tr style=\"text-align: right;\">\n",
       "      <th></th>\n",
       "      <th>ind_ahor_fin_ult1</th>\n",
       "      <th>ind_aval_fin_ult1</th>\n",
       "      <th>ind_cco_fin_ult1</th>\n",
       "      <th>ind_cder_fin_ult1</th>\n",
       "      <th>ind_cno_fin_ult1</th>\n",
       "      <th>ind_ctju_fin_ult1</th>\n",
       "      <th>ind_ctma_fin_ult1</th>\n",
       "      <th>ind_ctop_fin_ult1</th>\n",
       "      <th>ind_ctpp_fin_ult1</th>\n",
       "      <th>ind_deco_fin_ult1</th>\n",
       "      <th>ind_deme_fin_ult1</th>\n",
       "      <th>ind_dela_fin_ult1</th>\n",
       "      <th>ind_ecue_fin_ult1</th>\n",
       "      <th>ind_fond_fin_ult1</th>\n",
       "      <th>ind_hip_fin_ult1</th>\n",
       "      <th>ind_plan_fin_ult1</th>\n",
       "      <th>ind_pres_fin_ult1</th>\n",
       "      <th>ind_reca_fin_ult1</th>\n",
       "      <th>ind_tjcr_fin_ult1</th>\n",
       "      <th>ind_valo_fin_ult1</th>\n",
       "      <th>ind_viv_fin_ult1</th>\n",
       "      <th>ind_nomina_ult1</th>\n",
       "      <th>ind_nom_pens_ult1</th>\n",
       "      <th>ind_recibo_ult1</th>\n",
       "    </tr>\n",
       "  </thead>\n",
       "  <tbody>\n",
       "    <tr>\n",
       "      <th>416971</th>\n",
       "      <td>0</td>\n",
       "      <td>0</td>\n",
       "      <td>1</td>\n",
       "      <td>0</td>\n",
       "      <td>1</td>\n",
       "      <td>0</td>\n",
       "      <td>0</td>\n",
       "      <td>1</td>\n",
       "      <td>0</td>\n",
       "      <td>0</td>\n",
       "      <td>0</td>\n",
       "      <td>0</td>\n",
       "      <td>1</td>\n",
       "      <td>1</td>\n",
       "      <td>0</td>\n",
       "      <td>1</td>\n",
       "      <td>0</td>\n",
       "      <td>1</td>\n",
       "      <td>1</td>\n",
       "      <td>1</td>\n",
       "      <td>0</td>\n",
       "      <td>0.0</td>\n",
       "      <td>1.0</td>\n",
       "      <td>1</td>\n",
       "    </tr>\n",
       "    <tr>\n",
       "      <th>836218</th>\n",
       "      <td>0</td>\n",
       "      <td>0</td>\n",
       "      <td>1</td>\n",
       "      <td>0</td>\n",
       "      <td>1</td>\n",
       "      <td>0</td>\n",
       "      <td>0</td>\n",
       "      <td>1</td>\n",
       "      <td>0</td>\n",
       "      <td>0</td>\n",
       "      <td>0</td>\n",
       "      <td>0</td>\n",
       "      <td>1</td>\n",
       "      <td>1</td>\n",
       "      <td>0</td>\n",
       "      <td>1</td>\n",
       "      <td>0</td>\n",
       "      <td>1</td>\n",
       "      <td>1</td>\n",
       "      <td>1</td>\n",
       "      <td>0</td>\n",
       "      <td>0.0</td>\n",
       "      <td>1.0</td>\n",
       "      <td>1</td>\n",
       "    </tr>\n",
       "    <tr>\n",
       "      <th>1673955</th>\n",
       "      <td>0</td>\n",
       "      <td>0</td>\n",
       "      <td>1</td>\n",
       "      <td>0</td>\n",
       "      <td>1</td>\n",
       "      <td>0</td>\n",
       "      <td>0</td>\n",
       "      <td>1</td>\n",
       "      <td>0</td>\n",
       "      <td>0</td>\n",
       "      <td>0</td>\n",
       "      <td>0</td>\n",
       "      <td>1</td>\n",
       "      <td>1</td>\n",
       "      <td>0</td>\n",
       "      <td>1</td>\n",
       "      <td>0</td>\n",
       "      <td>1</td>\n",
       "      <td>1</td>\n",
       "      <td>1</td>\n",
       "      <td>0</td>\n",
       "      <td>0.0</td>\n",
       "      <td>0.0</td>\n",
       "      <td>1</td>\n",
       "    </tr>\n",
       "    <tr>\n",
       "      <th>2092178</th>\n",
       "      <td>0</td>\n",
       "      <td>0</td>\n",
       "      <td>1</td>\n",
       "      <td>0</td>\n",
       "      <td>1</td>\n",
       "      <td>0</td>\n",
       "      <td>0</td>\n",
       "      <td>1</td>\n",
       "      <td>0</td>\n",
       "      <td>0</td>\n",
       "      <td>0</td>\n",
       "      <td>0</td>\n",
       "      <td>1</td>\n",
       "      <td>1</td>\n",
       "      <td>0</td>\n",
       "      <td>1</td>\n",
       "      <td>0</td>\n",
       "      <td>1</td>\n",
       "      <td>1</td>\n",
       "      <td>1</td>\n",
       "      <td>0</td>\n",
       "      <td>0.0</td>\n",
       "      <td>1.0</td>\n",
       "      <td>1</td>\n",
       "    </tr>\n",
       "    <tr>\n",
       "      <th>2933726</th>\n",
       "      <td>0</td>\n",
       "      <td>0</td>\n",
       "      <td>1</td>\n",
       "      <td>0</td>\n",
       "      <td>1</td>\n",
       "      <td>0</td>\n",
       "      <td>0</td>\n",
       "      <td>1</td>\n",
       "      <td>0</td>\n",
       "      <td>0</td>\n",
       "      <td>0</td>\n",
       "      <td>0</td>\n",
       "      <td>1</td>\n",
       "      <td>1</td>\n",
       "      <td>0</td>\n",
       "      <td>1</td>\n",
       "      <td>0</td>\n",
       "      <td>1</td>\n",
       "      <td>1</td>\n",
       "      <td>1</td>\n",
       "      <td>0</td>\n",
       "      <td>0.0</td>\n",
       "      <td>0.0</td>\n",
       "      <td>1</td>\n",
       "    </tr>\n",
       "    <tr>\n",
       "      <th>3565733</th>\n",
       "      <td>0</td>\n",
       "      <td>0</td>\n",
       "      <td>1</td>\n",
       "      <td>0</td>\n",
       "      <td>1</td>\n",
       "      <td>0</td>\n",
       "      <td>0</td>\n",
       "      <td>1</td>\n",
       "      <td>0</td>\n",
       "      <td>0</td>\n",
       "      <td>0</td>\n",
       "      <td>0</td>\n",
       "      <td>1</td>\n",
       "      <td>1</td>\n",
       "      <td>0</td>\n",
       "      <td>1</td>\n",
       "      <td>0</td>\n",
       "      <td>1</td>\n",
       "      <td>1</td>\n",
       "      <td>1</td>\n",
       "      <td>0</td>\n",
       "      <td>0.0</td>\n",
       "      <td>1.0</td>\n",
       "      <td>1</td>\n",
       "    </tr>\n",
       "    <tr>\n",
       "      <th>4078988</th>\n",
       "      <td>0</td>\n",
       "      <td>0</td>\n",
       "      <td>1</td>\n",
       "      <td>0</td>\n",
       "      <td>1</td>\n",
       "      <td>0</td>\n",
       "      <td>0</td>\n",
       "      <td>1</td>\n",
       "      <td>0</td>\n",
       "      <td>0</td>\n",
       "      <td>0</td>\n",
       "      <td>0</td>\n",
       "      <td>1</td>\n",
       "      <td>1</td>\n",
       "      <td>0</td>\n",
       "      <td>1</td>\n",
       "      <td>0</td>\n",
       "      <td>1</td>\n",
       "      <td>1</td>\n",
       "      <td>1</td>\n",
       "      <td>0</td>\n",
       "      <td>0.0</td>\n",
       "      <td>1.0</td>\n",
       "      <td>1</td>\n",
       "    </tr>\n",
       "    <tr>\n",
       "      <th>5319236</th>\n",
       "      <td>0</td>\n",
       "      <td>0</td>\n",
       "      <td>1</td>\n",
       "      <td>0</td>\n",
       "      <td>1</td>\n",
       "      <td>0</td>\n",
       "      <td>0</td>\n",
       "      <td>1</td>\n",
       "      <td>0</td>\n",
       "      <td>0</td>\n",
       "      <td>0</td>\n",
       "      <td>0</td>\n",
       "      <td>1</td>\n",
       "      <td>1</td>\n",
       "      <td>0</td>\n",
       "      <td>1</td>\n",
       "      <td>0</td>\n",
       "      <td>1</td>\n",
       "      <td>1</td>\n",
       "      <td>1</td>\n",
       "      <td>0</td>\n",
       "      <td>0.0</td>\n",
       "      <td>1.0</td>\n",
       "      <td>1</td>\n",
       "    </tr>\n",
       "    <tr>\n",
       "      <th>5705181</th>\n",
       "      <td>0</td>\n",
       "      <td>0</td>\n",
       "      <td>1</td>\n",
       "      <td>0</td>\n",
       "      <td>1</td>\n",
       "      <td>0</td>\n",
       "      <td>0</td>\n",
       "      <td>1</td>\n",
       "      <td>0</td>\n",
       "      <td>0</td>\n",
       "      <td>0</td>\n",
       "      <td>0</td>\n",
       "      <td>1</td>\n",
       "      <td>1</td>\n",
       "      <td>0</td>\n",
       "      <td>1</td>\n",
       "      <td>0</td>\n",
       "      <td>1</td>\n",
       "      <td>1</td>\n",
       "      <td>1</td>\n",
       "      <td>0</td>\n",
       "      <td>0.0</td>\n",
       "      <td>1.0</td>\n",
       "      <td>1</td>\n",
       "    </tr>\n",
       "    <tr>\n",
       "      <th>6909784</th>\n",
       "      <td>0</td>\n",
       "      <td>0</td>\n",
       "      <td>1</td>\n",
       "      <td>0</td>\n",
       "      <td>1</td>\n",
       "      <td>0</td>\n",
       "      <td>0</td>\n",
       "      <td>1</td>\n",
       "      <td>0</td>\n",
       "      <td>0</td>\n",
       "      <td>0</td>\n",
       "      <td>0</td>\n",
       "      <td>1</td>\n",
       "      <td>1</td>\n",
       "      <td>0</td>\n",
       "      <td>1</td>\n",
       "      <td>0</td>\n",
       "      <td>1</td>\n",
       "      <td>1</td>\n",
       "      <td>1</td>\n",
       "      <td>0</td>\n",
       "      <td>0.0</td>\n",
       "      <td>1.0</td>\n",
       "      <td>1</td>\n",
       "    </tr>\n",
       "    <tr>\n",
       "      <th>7450499</th>\n",
       "      <td>0</td>\n",
       "      <td>0</td>\n",
       "      <td>1</td>\n",
       "      <td>0</td>\n",
       "      <td>1</td>\n",
       "      <td>0</td>\n",
       "      <td>0</td>\n",
       "      <td>1</td>\n",
       "      <td>0</td>\n",
       "      <td>0</td>\n",
       "      <td>0</td>\n",
       "      <td>0</td>\n",
       "      <td>1</td>\n",
       "      <td>1</td>\n",
       "      <td>0</td>\n",
       "      <td>1</td>\n",
       "      <td>0</td>\n",
       "      <td>1</td>\n",
       "      <td>1</td>\n",
       "      <td>1</td>\n",
       "      <td>0</td>\n",
       "      <td>0.0</td>\n",
       "      <td>1.0</td>\n",
       "      <td>1</td>\n",
       "    </tr>\n",
       "    <tr>\n",
       "      <th>8617999</th>\n",
       "      <td>0</td>\n",
       "      <td>0</td>\n",
       "      <td>1</td>\n",
       "      <td>0</td>\n",
       "      <td>1</td>\n",
       "      <td>0</td>\n",
       "      <td>0</td>\n",
       "      <td>1</td>\n",
       "      <td>0</td>\n",
       "      <td>0</td>\n",
       "      <td>0</td>\n",
       "      <td>0</td>\n",
       "      <td>1</td>\n",
       "      <td>1</td>\n",
       "      <td>0</td>\n",
       "      <td>1</td>\n",
       "      <td>0</td>\n",
       "      <td>1</td>\n",
       "      <td>1</td>\n",
       "      <td>1</td>\n",
       "      <td>0</td>\n",
       "      <td>0.0</td>\n",
       "      <td>1.0</td>\n",
       "      <td>1</td>\n",
       "    </tr>\n",
       "    <tr>\n",
       "      <th>9401562</th>\n",
       "      <td>0</td>\n",
       "      <td>0</td>\n",
       "      <td>1</td>\n",
       "      <td>0</td>\n",
       "      <td>1</td>\n",
       "      <td>0</td>\n",
       "      <td>0</td>\n",
       "      <td>1</td>\n",
       "      <td>0</td>\n",
       "      <td>0</td>\n",
       "      <td>0</td>\n",
       "      <td>0</td>\n",
       "      <td>1</td>\n",
       "      <td>1</td>\n",
       "      <td>0</td>\n",
       "      <td>1</td>\n",
       "      <td>0</td>\n",
       "      <td>1</td>\n",
       "      <td>1</td>\n",
       "      <td>1</td>\n",
       "      <td>0</td>\n",
       "      <td>0.0</td>\n",
       "      <td>0.0</td>\n",
       "      <td>1</td>\n",
       "    </tr>\n",
       "    <tr>\n",
       "      <th>10426093</th>\n",
       "      <td>0</td>\n",
       "      <td>0</td>\n",
       "      <td>1</td>\n",
       "      <td>0</td>\n",
       "      <td>1</td>\n",
       "      <td>0</td>\n",
       "      <td>0</td>\n",
       "      <td>1</td>\n",
       "      <td>0</td>\n",
       "      <td>0</td>\n",
       "      <td>0</td>\n",
       "      <td>0</td>\n",
       "      <td>1</td>\n",
       "      <td>1</td>\n",
       "      <td>0</td>\n",
       "      <td>1</td>\n",
       "      <td>0</td>\n",
       "      <td>1</td>\n",
       "      <td>1</td>\n",
       "      <td>1</td>\n",
       "      <td>0</td>\n",
       "      <td>0.0</td>\n",
       "      <td>1.0</td>\n",
       "      <td>1</td>\n",
       "    </tr>\n",
       "    <tr>\n",
       "      <th>11170864</th>\n",
       "      <td>0</td>\n",
       "      <td>0</td>\n",
       "      <td>0</td>\n",
       "      <td>0</td>\n",
       "      <td>1</td>\n",
       "      <td>0</td>\n",
       "      <td>0</td>\n",
       "      <td>1</td>\n",
       "      <td>0</td>\n",
       "      <td>0</td>\n",
       "      <td>0</td>\n",
       "      <td>0</td>\n",
       "      <td>1</td>\n",
       "      <td>1</td>\n",
       "      <td>0</td>\n",
       "      <td>1</td>\n",
       "      <td>0</td>\n",
       "      <td>1</td>\n",
       "      <td>1</td>\n",
       "      <td>1</td>\n",
       "      <td>0</td>\n",
       "      <td>0.0</td>\n",
       "      <td>1.0</td>\n",
       "      <td>1</td>\n",
       "    </tr>\n",
       "    <tr>\n",
       "      <th>12221048</th>\n",
       "      <td>0</td>\n",
       "      <td>0</td>\n",
       "      <td>0</td>\n",
       "      <td>0</td>\n",
       "      <td>1</td>\n",
       "      <td>0</td>\n",
       "      <td>0</td>\n",
       "      <td>1</td>\n",
       "      <td>0</td>\n",
       "      <td>0</td>\n",
       "      <td>0</td>\n",
       "      <td>0</td>\n",
       "      <td>1</td>\n",
       "      <td>1</td>\n",
       "      <td>0</td>\n",
       "      <td>1</td>\n",
       "      <td>0</td>\n",
       "      <td>1</td>\n",
       "      <td>1</td>\n",
       "      <td>1</td>\n",
       "      <td>0</td>\n",
       "      <td>0.0</td>\n",
       "      <td>1.0</td>\n",
       "      <td>1</td>\n",
       "    </tr>\n",
       "    <tr>\n",
       "      <th>13026336</th>\n",
       "      <td>0</td>\n",
       "      <td>0</td>\n",
       "      <td>0</td>\n",
       "      <td>0</td>\n",
       "      <td>1</td>\n",
       "      <td>0</td>\n",
       "      <td>0</td>\n",
       "      <td>1</td>\n",
       "      <td>0</td>\n",
       "      <td>0</td>\n",
       "      <td>0</td>\n",
       "      <td>0</td>\n",
       "      <td>1</td>\n",
       "      <td>1</td>\n",
       "      <td>0</td>\n",
       "      <td>1</td>\n",
       "      <td>0</td>\n",
       "      <td>1</td>\n",
       "      <td>1</td>\n",
       "      <td>1</td>\n",
       "      <td>0</td>\n",
       "      <td>0.0</td>\n",
       "      <td>1.0</td>\n",
       "      <td>1</td>\n",
       "    </tr>\n",
       "  </tbody>\n",
       "</table>\n",
       "</div>"
      ],
      "text/plain": [
       "          ind_ahor_fin_ult1  ind_aval_fin_ult1  ind_cco_fin_ult1  \\\n",
       "416971                    0                  0                 1   \n",
       "836218                    0                  0                 1   \n",
       "1673955                   0                  0                 1   \n",
       "2092178                   0                  0                 1   \n",
       "2933726                   0                  0                 1   \n",
       "3565733                   0                  0                 1   \n",
       "4078988                   0                  0                 1   \n",
       "5319236                   0                  0                 1   \n",
       "5705181                   0                  0                 1   \n",
       "6909784                   0                  0                 1   \n",
       "7450499                   0                  0                 1   \n",
       "8617999                   0                  0                 1   \n",
       "9401562                   0                  0                 1   \n",
       "10426093                  0                  0                 1   \n",
       "11170864                  0                  0                 0   \n",
       "12221048                  0                  0                 0   \n",
       "13026336                  0                  0                 0   \n",
       "\n",
       "          ind_cder_fin_ult1  ind_cno_fin_ult1  ind_ctju_fin_ult1  \\\n",
       "416971                    0                 1                  0   \n",
       "836218                    0                 1                  0   \n",
       "1673955                   0                 1                  0   \n",
       "2092178                   0                 1                  0   \n",
       "2933726                   0                 1                  0   \n",
       "3565733                   0                 1                  0   \n",
       "4078988                   0                 1                  0   \n",
       "5319236                   0                 1                  0   \n",
       "5705181                   0                 1                  0   \n",
       "6909784                   0                 1                  0   \n",
       "7450499                   0                 1                  0   \n",
       "8617999                   0                 1                  0   \n",
       "9401562                   0                 1                  0   \n",
       "10426093                  0                 1                  0   \n",
       "11170864                  0                 1                  0   \n",
       "12221048                  0                 1                  0   \n",
       "13026336                  0                 1                  0   \n",
       "\n",
       "          ind_ctma_fin_ult1  ind_ctop_fin_ult1  ind_ctpp_fin_ult1  \\\n",
       "416971                    0                  1                  0   \n",
       "836218                    0                  1                  0   \n",
       "1673955                   0                  1                  0   \n",
       "2092178                   0                  1                  0   \n",
       "2933726                   0                  1                  0   \n",
       "3565733                   0                  1                  0   \n",
       "4078988                   0                  1                  0   \n",
       "5319236                   0                  1                  0   \n",
       "5705181                   0                  1                  0   \n",
       "6909784                   0                  1                  0   \n",
       "7450499                   0                  1                  0   \n",
       "8617999                   0                  1                  0   \n",
       "9401562                   0                  1                  0   \n",
       "10426093                  0                  1                  0   \n",
       "11170864                  0                  1                  0   \n",
       "12221048                  0                  1                  0   \n",
       "13026336                  0                  1                  0   \n",
       "\n",
       "          ind_deco_fin_ult1  ind_deme_fin_ult1  ind_dela_fin_ult1  \\\n",
       "416971                    0                  0                  0   \n",
       "836218                    0                  0                  0   \n",
       "1673955                   0                  0                  0   \n",
       "2092178                   0                  0                  0   \n",
       "2933726                   0                  0                  0   \n",
       "3565733                   0                  0                  0   \n",
       "4078988                   0                  0                  0   \n",
       "5319236                   0                  0                  0   \n",
       "5705181                   0                  0                  0   \n",
       "6909784                   0                  0                  0   \n",
       "7450499                   0                  0                  0   \n",
       "8617999                   0                  0                  0   \n",
       "9401562                   0                  0                  0   \n",
       "10426093                  0                  0                  0   \n",
       "11170864                  0                  0                  0   \n",
       "12221048                  0                  0                  0   \n",
       "13026336                  0                  0                  0   \n",
       "\n",
       "          ind_ecue_fin_ult1  ind_fond_fin_ult1  ind_hip_fin_ult1  \\\n",
       "416971                    1                  1                 0   \n",
       "836218                    1                  1                 0   \n",
       "1673955                   1                  1                 0   \n",
       "2092178                   1                  1                 0   \n",
       "2933726                   1                  1                 0   \n",
       "3565733                   1                  1                 0   \n",
       "4078988                   1                  1                 0   \n",
       "5319236                   1                  1                 0   \n",
       "5705181                   1                  1                 0   \n",
       "6909784                   1                  1                 0   \n",
       "7450499                   1                  1                 0   \n",
       "8617999                   1                  1                 0   \n",
       "9401562                   1                  1                 0   \n",
       "10426093                  1                  1                 0   \n",
       "11170864                  1                  1                 0   \n",
       "12221048                  1                  1                 0   \n",
       "13026336                  1                  1                 0   \n",
       "\n",
       "          ind_plan_fin_ult1  ind_pres_fin_ult1  ind_reca_fin_ult1  \\\n",
       "416971                    1                  0                  1   \n",
       "836218                    1                  0                  1   \n",
       "1673955                   1                  0                  1   \n",
       "2092178                   1                  0                  1   \n",
       "2933726                   1                  0                  1   \n",
       "3565733                   1                  0                  1   \n",
       "4078988                   1                  0                  1   \n",
       "5319236                   1                  0                  1   \n",
       "5705181                   1                  0                  1   \n",
       "6909784                   1                  0                  1   \n",
       "7450499                   1                  0                  1   \n",
       "8617999                   1                  0                  1   \n",
       "9401562                   1                  0                  1   \n",
       "10426093                  1                  0                  1   \n",
       "11170864                  1                  0                  1   \n",
       "12221048                  1                  0                  1   \n",
       "13026336                  1                  0                  1   \n",
       "\n",
       "          ind_tjcr_fin_ult1  ind_valo_fin_ult1  ind_viv_fin_ult1  \\\n",
       "416971                    1                  1                 0   \n",
       "836218                    1                  1                 0   \n",
       "1673955                   1                  1                 0   \n",
       "2092178                   1                  1                 0   \n",
       "2933726                   1                  1                 0   \n",
       "3565733                   1                  1                 0   \n",
       "4078988                   1                  1                 0   \n",
       "5319236                   1                  1                 0   \n",
       "5705181                   1                  1                 0   \n",
       "6909784                   1                  1                 0   \n",
       "7450499                   1                  1                 0   \n",
       "8617999                   1                  1                 0   \n",
       "9401562                   1                  1                 0   \n",
       "10426093                  1                  1                 0   \n",
       "11170864                  1                  1                 0   \n",
       "12221048                  1                  1                 0   \n",
       "13026336                  1                  1                 0   \n",
       "\n",
       "          ind_nomina_ult1  ind_nom_pens_ult1  ind_recibo_ult1  \n",
       "416971                0.0                1.0                1  \n",
       "836218                0.0                1.0                1  \n",
       "1673955               0.0                0.0                1  \n",
       "2092178               0.0                1.0                1  \n",
       "2933726               0.0                0.0                1  \n",
       "3565733               0.0                1.0                1  \n",
       "4078988               0.0                1.0                1  \n",
       "5319236               0.0                1.0                1  \n",
       "5705181               0.0                1.0                1  \n",
       "6909784               0.0                1.0                1  \n",
       "7450499               0.0                1.0                1  \n",
       "8617999               0.0                1.0                1  \n",
       "9401562               0.0                0.0                1  \n",
       "10426093              0.0                1.0                1  \n",
       "11170864              0.0                1.0                1  \n",
       "12221048              0.0                1.0                1  \n",
       "13026336              0.0                1.0                1  "
      ]
     },
     "execution_count": 35,
     "metadata": {},
     "output_type": "execute_result"
    }
   ],
   "source": [
    "target_cols = [ 'ind_ahor_fin_ult1', 'ind_aval_fin_ult1', 'ind_cco_fin_ult1',\n",
    "       'ind_cder_fin_ult1', 'ind_cno_fin_ult1', 'ind_ctju_fin_ult1',\n",
    "       'ind_ctma_fin_ult1', 'ind_ctop_fin_ult1', 'ind_ctpp_fin_ult1',\n",
    "       'ind_deco_fin_ult1', 'ind_deme_fin_ult1', 'ind_dela_fin_ult1',\n",
    "       'ind_ecue_fin_ult1', 'ind_fond_fin_ult1', 'ind_hip_fin_ult1',\n",
    "       'ind_plan_fin_ult1', 'ind_pres_fin_ult1', 'ind_reca_fin_ult1',\n",
    "       'ind_tjcr_fin_ult1', 'ind_valo_fin_ult1', 'ind_viv_fin_ult1',\n",
    "       'ind_nomina_ult1', 'ind_nom_pens_ult1', 'ind_recibo_ult1']\n",
    "dfi[target_cols]"
   ]
  },
  {
   "cell_type": "code",
   "execution_count": 36,
   "id": "a9507abe",
   "metadata": {},
   "outputs": [
    {
     "data": {
      "text/html": [
       "<div>\n",
       "<style scoped>\n",
       "    .dataframe tbody tr th:only-of-type {\n",
       "        vertical-align: middle;\n",
       "    }\n",
       "\n",
       "    .dataframe tbody tr th {\n",
       "        vertical-align: top;\n",
       "    }\n",
       "\n",
       "    .dataframe thead th {\n",
       "        text-align: right;\n",
       "    }\n",
       "</style>\n",
       "<table border=\"1\" class=\"dataframe\">\n",
       "  <thead>\n",
       "    <tr style=\"text-align: right;\">\n",
       "      <th></th>\n",
       "      <th>ind_ahor_fin_ult1</th>\n",
       "      <th>ind_aval_fin_ult1</th>\n",
       "      <th>ind_cco_fin_ult1</th>\n",
       "      <th>ind_cder_fin_ult1</th>\n",
       "      <th>ind_cno_fin_ult1</th>\n",
       "      <th>ind_ctju_fin_ult1</th>\n",
       "      <th>ind_ctma_fin_ult1</th>\n",
       "      <th>ind_ctop_fin_ult1</th>\n",
       "      <th>ind_ctpp_fin_ult1</th>\n",
       "      <th>ind_deco_fin_ult1</th>\n",
       "      <th>ind_deme_fin_ult1</th>\n",
       "      <th>ind_dela_fin_ult1</th>\n",
       "      <th>ind_ecue_fin_ult1</th>\n",
       "      <th>ind_fond_fin_ult1</th>\n",
       "      <th>ind_hip_fin_ult1</th>\n",
       "      <th>ind_plan_fin_ult1</th>\n",
       "      <th>ind_pres_fin_ult1</th>\n",
       "      <th>ind_reca_fin_ult1</th>\n",
       "      <th>ind_tjcr_fin_ult1</th>\n",
       "      <th>ind_valo_fin_ult1</th>\n",
       "      <th>ind_viv_fin_ult1</th>\n",
       "      <th>ind_nomina_ult1</th>\n",
       "      <th>ind_nom_pens_ult1</th>\n",
       "      <th>ind_recibo_ult1</th>\n",
       "    </tr>\n",
       "  </thead>\n",
       "  <tbody>\n",
       "    <tr>\n",
       "      <th>416971</th>\n",
       "      <td>NaN</td>\n",
       "      <td>NaN</td>\n",
       "      <td>NaN</td>\n",
       "      <td>NaN</td>\n",
       "      <td>NaN</td>\n",
       "      <td>NaN</td>\n",
       "      <td>NaN</td>\n",
       "      <td>NaN</td>\n",
       "      <td>NaN</td>\n",
       "      <td>NaN</td>\n",
       "      <td>NaN</td>\n",
       "      <td>NaN</td>\n",
       "      <td>NaN</td>\n",
       "      <td>NaN</td>\n",
       "      <td>NaN</td>\n",
       "      <td>NaN</td>\n",
       "      <td>NaN</td>\n",
       "      <td>NaN</td>\n",
       "      <td>NaN</td>\n",
       "      <td>NaN</td>\n",
       "      <td>NaN</td>\n",
       "      <td>NaN</td>\n",
       "      <td>NaN</td>\n",
       "      <td>NaN</td>\n",
       "    </tr>\n",
       "    <tr>\n",
       "      <th>836218</th>\n",
       "      <td>0.0</td>\n",
       "      <td>0.0</td>\n",
       "      <td>0.0</td>\n",
       "      <td>0.0</td>\n",
       "      <td>0.0</td>\n",
       "      <td>0.0</td>\n",
       "      <td>0.0</td>\n",
       "      <td>0.0</td>\n",
       "      <td>0.0</td>\n",
       "      <td>0.0</td>\n",
       "      <td>0.0</td>\n",
       "      <td>0.0</td>\n",
       "      <td>0.0</td>\n",
       "      <td>0.0</td>\n",
       "      <td>0.0</td>\n",
       "      <td>0.0</td>\n",
       "      <td>0.0</td>\n",
       "      <td>0.0</td>\n",
       "      <td>0.0</td>\n",
       "      <td>0.0</td>\n",
       "      <td>0.0</td>\n",
       "      <td>0.0</td>\n",
       "      <td>0.0</td>\n",
       "      <td>0.0</td>\n",
       "    </tr>\n",
       "    <tr>\n",
       "      <th>1673955</th>\n",
       "      <td>0.0</td>\n",
       "      <td>0.0</td>\n",
       "      <td>0.0</td>\n",
       "      <td>0.0</td>\n",
       "      <td>0.0</td>\n",
       "      <td>0.0</td>\n",
       "      <td>0.0</td>\n",
       "      <td>0.0</td>\n",
       "      <td>0.0</td>\n",
       "      <td>0.0</td>\n",
       "      <td>0.0</td>\n",
       "      <td>0.0</td>\n",
       "      <td>0.0</td>\n",
       "      <td>0.0</td>\n",
       "      <td>0.0</td>\n",
       "      <td>0.0</td>\n",
       "      <td>0.0</td>\n",
       "      <td>0.0</td>\n",
       "      <td>0.0</td>\n",
       "      <td>0.0</td>\n",
       "      <td>0.0</td>\n",
       "      <td>0.0</td>\n",
       "      <td>-1.0</td>\n",
       "      <td>0.0</td>\n",
       "    </tr>\n",
       "    <tr>\n",
       "      <th>2092178</th>\n",
       "      <td>0.0</td>\n",
       "      <td>0.0</td>\n",
       "      <td>0.0</td>\n",
       "      <td>0.0</td>\n",
       "      <td>0.0</td>\n",
       "      <td>0.0</td>\n",
       "      <td>0.0</td>\n",
       "      <td>0.0</td>\n",
       "      <td>0.0</td>\n",
       "      <td>0.0</td>\n",
       "      <td>0.0</td>\n",
       "      <td>0.0</td>\n",
       "      <td>0.0</td>\n",
       "      <td>0.0</td>\n",
       "      <td>0.0</td>\n",
       "      <td>0.0</td>\n",
       "      <td>0.0</td>\n",
       "      <td>0.0</td>\n",
       "      <td>0.0</td>\n",
       "      <td>0.0</td>\n",
       "      <td>0.0</td>\n",
       "      <td>0.0</td>\n",
       "      <td>1.0</td>\n",
       "      <td>0.0</td>\n",
       "    </tr>\n",
       "    <tr>\n",
       "      <th>2933726</th>\n",
       "      <td>0.0</td>\n",
       "      <td>0.0</td>\n",
       "      <td>0.0</td>\n",
       "      <td>0.0</td>\n",
       "      <td>0.0</td>\n",
       "      <td>0.0</td>\n",
       "      <td>0.0</td>\n",
       "      <td>0.0</td>\n",
       "      <td>0.0</td>\n",
       "      <td>0.0</td>\n",
       "      <td>0.0</td>\n",
       "      <td>0.0</td>\n",
       "      <td>0.0</td>\n",
       "      <td>0.0</td>\n",
       "      <td>0.0</td>\n",
       "      <td>0.0</td>\n",
       "      <td>0.0</td>\n",
       "      <td>0.0</td>\n",
       "      <td>0.0</td>\n",
       "      <td>0.0</td>\n",
       "      <td>0.0</td>\n",
       "      <td>0.0</td>\n",
       "      <td>-1.0</td>\n",
       "      <td>0.0</td>\n",
       "    </tr>\n",
       "    <tr>\n",
       "      <th>3565733</th>\n",
       "      <td>0.0</td>\n",
       "      <td>0.0</td>\n",
       "      <td>0.0</td>\n",
       "      <td>0.0</td>\n",
       "      <td>0.0</td>\n",
       "      <td>0.0</td>\n",
       "      <td>0.0</td>\n",
       "      <td>0.0</td>\n",
       "      <td>0.0</td>\n",
       "      <td>0.0</td>\n",
       "      <td>0.0</td>\n",
       "      <td>0.0</td>\n",
       "      <td>0.0</td>\n",
       "      <td>0.0</td>\n",
       "      <td>0.0</td>\n",
       "      <td>0.0</td>\n",
       "      <td>0.0</td>\n",
       "      <td>0.0</td>\n",
       "      <td>0.0</td>\n",
       "      <td>0.0</td>\n",
       "      <td>0.0</td>\n",
       "      <td>0.0</td>\n",
       "      <td>1.0</td>\n",
       "      <td>0.0</td>\n",
       "    </tr>\n",
       "    <tr>\n",
       "      <th>4078988</th>\n",
       "      <td>0.0</td>\n",
       "      <td>0.0</td>\n",
       "      <td>0.0</td>\n",
       "      <td>0.0</td>\n",
       "      <td>0.0</td>\n",
       "      <td>0.0</td>\n",
       "      <td>0.0</td>\n",
       "      <td>0.0</td>\n",
       "      <td>0.0</td>\n",
       "      <td>0.0</td>\n",
       "      <td>0.0</td>\n",
       "      <td>0.0</td>\n",
       "      <td>0.0</td>\n",
       "      <td>0.0</td>\n",
       "      <td>0.0</td>\n",
       "      <td>0.0</td>\n",
       "      <td>0.0</td>\n",
       "      <td>0.0</td>\n",
       "      <td>0.0</td>\n",
       "      <td>0.0</td>\n",
       "      <td>0.0</td>\n",
       "      <td>0.0</td>\n",
       "      <td>0.0</td>\n",
       "      <td>0.0</td>\n",
       "    </tr>\n",
       "    <tr>\n",
       "      <th>5319236</th>\n",
       "      <td>0.0</td>\n",
       "      <td>0.0</td>\n",
       "      <td>0.0</td>\n",
       "      <td>0.0</td>\n",
       "      <td>0.0</td>\n",
       "      <td>0.0</td>\n",
       "      <td>0.0</td>\n",
       "      <td>0.0</td>\n",
       "      <td>0.0</td>\n",
       "      <td>0.0</td>\n",
       "      <td>0.0</td>\n",
       "      <td>0.0</td>\n",
       "      <td>0.0</td>\n",
       "      <td>0.0</td>\n",
       "      <td>0.0</td>\n",
       "      <td>0.0</td>\n",
       "      <td>0.0</td>\n",
       "      <td>0.0</td>\n",
       "      <td>0.0</td>\n",
       "      <td>0.0</td>\n",
       "      <td>0.0</td>\n",
       "      <td>0.0</td>\n",
       "      <td>0.0</td>\n",
       "      <td>0.0</td>\n",
       "    </tr>\n",
       "    <tr>\n",
       "      <th>5705181</th>\n",
       "      <td>0.0</td>\n",
       "      <td>0.0</td>\n",
       "      <td>0.0</td>\n",
       "      <td>0.0</td>\n",
       "      <td>0.0</td>\n",
       "      <td>0.0</td>\n",
       "      <td>0.0</td>\n",
       "      <td>0.0</td>\n",
       "      <td>0.0</td>\n",
       "      <td>0.0</td>\n",
       "      <td>0.0</td>\n",
       "      <td>0.0</td>\n",
       "      <td>0.0</td>\n",
       "      <td>0.0</td>\n",
       "      <td>0.0</td>\n",
       "      <td>0.0</td>\n",
       "      <td>0.0</td>\n",
       "      <td>0.0</td>\n",
       "      <td>0.0</td>\n",
       "      <td>0.0</td>\n",
       "      <td>0.0</td>\n",
       "      <td>0.0</td>\n",
       "      <td>0.0</td>\n",
       "      <td>0.0</td>\n",
       "    </tr>\n",
       "    <tr>\n",
       "      <th>6909784</th>\n",
       "      <td>0.0</td>\n",
       "      <td>0.0</td>\n",
       "      <td>0.0</td>\n",
       "      <td>0.0</td>\n",
       "      <td>0.0</td>\n",
       "      <td>0.0</td>\n",
       "      <td>0.0</td>\n",
       "      <td>0.0</td>\n",
       "      <td>0.0</td>\n",
       "      <td>0.0</td>\n",
       "      <td>0.0</td>\n",
       "      <td>0.0</td>\n",
       "      <td>0.0</td>\n",
       "      <td>0.0</td>\n",
       "      <td>0.0</td>\n",
       "      <td>0.0</td>\n",
       "      <td>0.0</td>\n",
       "      <td>0.0</td>\n",
       "      <td>0.0</td>\n",
       "      <td>0.0</td>\n",
       "      <td>0.0</td>\n",
       "      <td>0.0</td>\n",
       "      <td>0.0</td>\n",
       "      <td>0.0</td>\n",
       "    </tr>\n",
       "    <tr>\n",
       "      <th>7450499</th>\n",
       "      <td>0.0</td>\n",
       "      <td>0.0</td>\n",
       "      <td>0.0</td>\n",
       "      <td>0.0</td>\n",
       "      <td>0.0</td>\n",
       "      <td>0.0</td>\n",
       "      <td>0.0</td>\n",
       "      <td>0.0</td>\n",
       "      <td>0.0</td>\n",
       "      <td>0.0</td>\n",
       "      <td>0.0</td>\n",
       "      <td>0.0</td>\n",
       "      <td>0.0</td>\n",
       "      <td>0.0</td>\n",
       "      <td>0.0</td>\n",
       "      <td>0.0</td>\n",
       "      <td>0.0</td>\n",
       "      <td>0.0</td>\n",
       "      <td>0.0</td>\n",
       "      <td>0.0</td>\n",
       "      <td>0.0</td>\n",
       "      <td>0.0</td>\n",
       "      <td>0.0</td>\n",
       "      <td>0.0</td>\n",
       "    </tr>\n",
       "    <tr>\n",
       "      <th>8617999</th>\n",
       "      <td>0.0</td>\n",
       "      <td>0.0</td>\n",
       "      <td>0.0</td>\n",
       "      <td>0.0</td>\n",
       "      <td>0.0</td>\n",
       "      <td>0.0</td>\n",
       "      <td>0.0</td>\n",
       "      <td>0.0</td>\n",
       "      <td>0.0</td>\n",
       "      <td>0.0</td>\n",
       "      <td>0.0</td>\n",
       "      <td>0.0</td>\n",
       "      <td>0.0</td>\n",
       "      <td>0.0</td>\n",
       "      <td>0.0</td>\n",
       "      <td>0.0</td>\n",
       "      <td>0.0</td>\n",
       "      <td>0.0</td>\n",
       "      <td>0.0</td>\n",
       "      <td>0.0</td>\n",
       "      <td>0.0</td>\n",
       "      <td>0.0</td>\n",
       "      <td>0.0</td>\n",
       "      <td>0.0</td>\n",
       "    </tr>\n",
       "    <tr>\n",
       "      <th>9401562</th>\n",
       "      <td>0.0</td>\n",
       "      <td>0.0</td>\n",
       "      <td>0.0</td>\n",
       "      <td>0.0</td>\n",
       "      <td>0.0</td>\n",
       "      <td>0.0</td>\n",
       "      <td>0.0</td>\n",
       "      <td>0.0</td>\n",
       "      <td>0.0</td>\n",
       "      <td>0.0</td>\n",
       "      <td>0.0</td>\n",
       "      <td>0.0</td>\n",
       "      <td>0.0</td>\n",
       "      <td>0.0</td>\n",
       "      <td>0.0</td>\n",
       "      <td>0.0</td>\n",
       "      <td>0.0</td>\n",
       "      <td>0.0</td>\n",
       "      <td>0.0</td>\n",
       "      <td>0.0</td>\n",
       "      <td>0.0</td>\n",
       "      <td>0.0</td>\n",
       "      <td>-1.0</td>\n",
       "      <td>0.0</td>\n",
       "    </tr>\n",
       "    <tr>\n",
       "      <th>10426093</th>\n",
       "      <td>0.0</td>\n",
       "      <td>0.0</td>\n",
       "      <td>0.0</td>\n",
       "      <td>0.0</td>\n",
       "      <td>0.0</td>\n",
       "      <td>0.0</td>\n",
       "      <td>0.0</td>\n",
       "      <td>0.0</td>\n",
       "      <td>0.0</td>\n",
       "      <td>0.0</td>\n",
       "      <td>0.0</td>\n",
       "      <td>0.0</td>\n",
       "      <td>0.0</td>\n",
       "      <td>0.0</td>\n",
       "      <td>0.0</td>\n",
       "      <td>0.0</td>\n",
       "      <td>0.0</td>\n",
       "      <td>0.0</td>\n",
       "      <td>0.0</td>\n",
       "      <td>0.0</td>\n",
       "      <td>0.0</td>\n",
       "      <td>0.0</td>\n",
       "      <td>1.0</td>\n",
       "      <td>0.0</td>\n",
       "    </tr>\n",
       "    <tr>\n",
       "      <th>11170864</th>\n",
       "      <td>0.0</td>\n",
       "      <td>0.0</td>\n",
       "      <td>-1.0</td>\n",
       "      <td>0.0</td>\n",
       "      <td>0.0</td>\n",
       "      <td>0.0</td>\n",
       "      <td>0.0</td>\n",
       "      <td>0.0</td>\n",
       "      <td>0.0</td>\n",
       "      <td>0.0</td>\n",
       "      <td>0.0</td>\n",
       "      <td>0.0</td>\n",
       "      <td>0.0</td>\n",
       "      <td>0.0</td>\n",
       "      <td>0.0</td>\n",
       "      <td>0.0</td>\n",
       "      <td>0.0</td>\n",
       "      <td>0.0</td>\n",
       "      <td>0.0</td>\n",
       "      <td>0.0</td>\n",
       "      <td>0.0</td>\n",
       "      <td>0.0</td>\n",
       "      <td>0.0</td>\n",
       "      <td>0.0</td>\n",
       "    </tr>\n",
       "    <tr>\n",
       "      <th>12221048</th>\n",
       "      <td>0.0</td>\n",
       "      <td>0.0</td>\n",
       "      <td>0.0</td>\n",
       "      <td>0.0</td>\n",
       "      <td>0.0</td>\n",
       "      <td>0.0</td>\n",
       "      <td>0.0</td>\n",
       "      <td>0.0</td>\n",
       "      <td>0.0</td>\n",
       "      <td>0.0</td>\n",
       "      <td>0.0</td>\n",
       "      <td>0.0</td>\n",
       "      <td>0.0</td>\n",
       "      <td>0.0</td>\n",
       "      <td>0.0</td>\n",
       "      <td>0.0</td>\n",
       "      <td>0.0</td>\n",
       "      <td>0.0</td>\n",
       "      <td>0.0</td>\n",
       "      <td>0.0</td>\n",
       "      <td>0.0</td>\n",
       "      <td>0.0</td>\n",
       "      <td>0.0</td>\n",
       "      <td>0.0</td>\n",
       "    </tr>\n",
       "    <tr>\n",
       "      <th>13026336</th>\n",
       "      <td>0.0</td>\n",
       "      <td>0.0</td>\n",
       "      <td>0.0</td>\n",
       "      <td>0.0</td>\n",
       "      <td>0.0</td>\n",
       "      <td>0.0</td>\n",
       "      <td>0.0</td>\n",
       "      <td>0.0</td>\n",
       "      <td>0.0</td>\n",
       "      <td>0.0</td>\n",
       "      <td>0.0</td>\n",
       "      <td>0.0</td>\n",
       "      <td>0.0</td>\n",
       "      <td>0.0</td>\n",
       "      <td>0.0</td>\n",
       "      <td>0.0</td>\n",
       "      <td>0.0</td>\n",
       "      <td>0.0</td>\n",
       "      <td>0.0</td>\n",
       "      <td>0.0</td>\n",
       "      <td>0.0</td>\n",
       "      <td>0.0</td>\n",
       "      <td>0.0</td>\n",
       "      <td>0.0</td>\n",
       "    </tr>\n",
       "  </tbody>\n",
       "</table>\n",
       "</div>"
      ],
      "text/plain": [
       "          ind_ahor_fin_ult1  ind_aval_fin_ult1  ind_cco_fin_ult1  \\\n",
       "416971                  NaN                NaN               NaN   \n",
       "836218                  0.0                0.0               0.0   \n",
       "1673955                 0.0                0.0               0.0   \n",
       "2092178                 0.0                0.0               0.0   \n",
       "2933726                 0.0                0.0               0.0   \n",
       "3565733                 0.0                0.0               0.0   \n",
       "4078988                 0.0                0.0               0.0   \n",
       "5319236                 0.0                0.0               0.0   \n",
       "5705181                 0.0                0.0               0.0   \n",
       "6909784                 0.0                0.0               0.0   \n",
       "7450499                 0.0                0.0               0.0   \n",
       "8617999                 0.0                0.0               0.0   \n",
       "9401562                 0.0                0.0               0.0   \n",
       "10426093                0.0                0.0               0.0   \n",
       "11170864                0.0                0.0              -1.0   \n",
       "12221048                0.0                0.0               0.0   \n",
       "13026336                0.0                0.0               0.0   \n",
       "\n",
       "          ind_cder_fin_ult1  ind_cno_fin_ult1  ind_ctju_fin_ult1  \\\n",
       "416971                  NaN               NaN                NaN   \n",
       "836218                  0.0               0.0                0.0   \n",
       "1673955                 0.0               0.0                0.0   \n",
       "2092178                 0.0               0.0                0.0   \n",
       "2933726                 0.0               0.0                0.0   \n",
       "3565733                 0.0               0.0                0.0   \n",
       "4078988                 0.0               0.0                0.0   \n",
       "5319236                 0.0               0.0                0.0   \n",
       "5705181                 0.0               0.0                0.0   \n",
       "6909784                 0.0               0.0                0.0   \n",
       "7450499                 0.0               0.0                0.0   \n",
       "8617999                 0.0               0.0                0.0   \n",
       "9401562                 0.0               0.0                0.0   \n",
       "10426093                0.0               0.0                0.0   \n",
       "11170864                0.0               0.0                0.0   \n",
       "12221048                0.0               0.0                0.0   \n",
       "13026336                0.0               0.0                0.0   \n",
       "\n",
       "          ind_ctma_fin_ult1  ind_ctop_fin_ult1  ind_ctpp_fin_ult1  \\\n",
       "416971                  NaN                NaN                NaN   \n",
       "836218                  0.0                0.0                0.0   \n",
       "1673955                 0.0                0.0                0.0   \n",
       "2092178                 0.0                0.0                0.0   \n",
       "2933726                 0.0                0.0                0.0   \n",
       "3565733                 0.0                0.0                0.0   \n",
       "4078988                 0.0                0.0                0.0   \n",
       "5319236                 0.0                0.0                0.0   \n",
       "5705181                 0.0                0.0                0.0   \n",
       "6909784                 0.0                0.0                0.0   \n",
       "7450499                 0.0                0.0                0.0   \n",
       "8617999                 0.0                0.0                0.0   \n",
       "9401562                 0.0                0.0                0.0   \n",
       "10426093                0.0                0.0                0.0   \n",
       "11170864                0.0                0.0                0.0   \n",
       "12221048                0.0                0.0                0.0   \n",
       "13026336                0.0                0.0                0.0   \n",
       "\n",
       "          ind_deco_fin_ult1  ind_deme_fin_ult1  ind_dela_fin_ult1  \\\n",
       "416971                  NaN                NaN                NaN   \n",
       "836218                  0.0                0.0                0.0   \n",
       "1673955                 0.0                0.0                0.0   \n",
       "2092178                 0.0                0.0                0.0   \n",
       "2933726                 0.0                0.0                0.0   \n",
       "3565733                 0.0                0.0                0.0   \n",
       "4078988                 0.0                0.0                0.0   \n",
       "5319236                 0.0                0.0                0.0   \n",
       "5705181                 0.0                0.0                0.0   \n",
       "6909784                 0.0                0.0                0.0   \n",
       "7450499                 0.0                0.0                0.0   \n",
       "8617999                 0.0                0.0                0.0   \n",
       "9401562                 0.0                0.0                0.0   \n",
       "10426093                0.0                0.0                0.0   \n",
       "11170864                0.0                0.0                0.0   \n",
       "12221048                0.0                0.0                0.0   \n",
       "13026336                0.0                0.0                0.0   \n",
       "\n",
       "          ind_ecue_fin_ult1  ind_fond_fin_ult1  ind_hip_fin_ult1  \\\n",
       "416971                  NaN                NaN               NaN   \n",
       "836218                  0.0                0.0               0.0   \n",
       "1673955                 0.0                0.0               0.0   \n",
       "2092178                 0.0                0.0               0.0   \n",
       "2933726                 0.0                0.0               0.0   \n",
       "3565733                 0.0                0.0               0.0   \n",
       "4078988                 0.0                0.0               0.0   \n",
       "5319236                 0.0                0.0               0.0   \n",
       "5705181                 0.0                0.0               0.0   \n",
       "6909784                 0.0                0.0               0.0   \n",
       "7450499                 0.0                0.0               0.0   \n",
       "8617999                 0.0                0.0               0.0   \n",
       "9401562                 0.0                0.0               0.0   \n",
       "10426093                0.0                0.0               0.0   \n",
       "11170864                0.0                0.0               0.0   \n",
       "12221048                0.0                0.0               0.0   \n",
       "13026336                0.0                0.0               0.0   \n",
       "\n",
       "          ind_plan_fin_ult1  ind_pres_fin_ult1  ind_reca_fin_ult1  \\\n",
       "416971                  NaN                NaN                NaN   \n",
       "836218                  0.0                0.0                0.0   \n",
       "1673955                 0.0                0.0                0.0   \n",
       "2092178                 0.0                0.0                0.0   \n",
       "2933726                 0.0                0.0                0.0   \n",
       "3565733                 0.0                0.0                0.0   \n",
       "4078988                 0.0                0.0                0.0   \n",
       "5319236                 0.0                0.0                0.0   \n",
       "5705181                 0.0                0.0                0.0   \n",
       "6909784                 0.0                0.0                0.0   \n",
       "7450499                 0.0                0.0                0.0   \n",
       "8617999                 0.0                0.0                0.0   \n",
       "9401562                 0.0                0.0                0.0   \n",
       "10426093                0.0                0.0                0.0   \n",
       "11170864                0.0                0.0                0.0   \n",
       "12221048                0.0                0.0                0.0   \n",
       "13026336                0.0                0.0                0.0   \n",
       "\n",
       "          ind_tjcr_fin_ult1  ind_valo_fin_ult1  ind_viv_fin_ult1  \\\n",
       "416971                  NaN                NaN               NaN   \n",
       "836218                  0.0                0.0               0.0   \n",
       "1673955                 0.0                0.0               0.0   \n",
       "2092178                 0.0                0.0               0.0   \n",
       "2933726                 0.0                0.0               0.0   \n",
       "3565733                 0.0                0.0               0.0   \n",
       "4078988                 0.0                0.0               0.0   \n",
       "5319236                 0.0                0.0               0.0   \n",
       "5705181                 0.0                0.0               0.0   \n",
       "6909784                 0.0                0.0               0.0   \n",
       "7450499                 0.0                0.0               0.0   \n",
       "8617999                 0.0                0.0               0.0   \n",
       "9401562                 0.0                0.0               0.0   \n",
       "10426093                0.0                0.0               0.0   \n",
       "11170864                0.0                0.0               0.0   \n",
       "12221048                0.0                0.0               0.0   \n",
       "13026336                0.0                0.0               0.0   \n",
       "\n",
       "          ind_nomina_ult1  ind_nom_pens_ult1  ind_recibo_ult1  \n",
       "416971                NaN                NaN              NaN  \n",
       "836218                0.0                0.0              0.0  \n",
       "1673955               0.0               -1.0              0.0  \n",
       "2092178               0.0                1.0              0.0  \n",
       "2933726               0.0               -1.0              0.0  \n",
       "3565733               0.0                1.0              0.0  \n",
       "4078988               0.0                0.0              0.0  \n",
       "5319236               0.0                0.0              0.0  \n",
       "5705181               0.0                0.0              0.0  \n",
       "6909784               0.0                0.0              0.0  \n",
       "7450499               0.0                0.0              0.0  \n",
       "8617999               0.0                0.0              0.0  \n",
       "9401562               0.0               -1.0              0.0  \n",
       "10426093              0.0                1.0              0.0  \n",
       "11170864              0.0                0.0              0.0  \n",
       "12221048              0.0                0.0              0.0  \n",
       "13026336              0.0                0.0              0.0  "
      ]
     },
     "execution_count": 36,
     "metadata": {},
     "output_type": "execute_result"
    }
   ],
   "source": [
    "dfi[target_cols].diff(axis=0)#.max(axis=0).max()"
   ]
  },
  {
   "cell_type": "code",
   "execution_count": 37,
   "id": "b136c4dc",
   "metadata": {},
   "outputs": [],
   "source": [
    "def search_target(df, uid):\n",
    "    dfi=train[train.ncodpers==uid].sort_values(\"fecha_dato\",  ascending=True)\n",
    "    mx=dfi[target_cols].diff(axis=0).max(axis=0).max()\n",
    "    mn=dfi[target_cols].diff(axis=0).min(axis=0).min()\n",
    "    return mn,mx"
   ]
  },
  {
   "cell_type": "code",
   "execution_count": 41,
   "id": "21cfabf2",
   "metadata": {},
   "outputs": [
    {
     "data": {
      "text/plain": [
       "(-1.0, 1.0)"
      ]
     },
     "execution_count": 41,
     "metadata": {},
     "output_type": "execute_result"
    }
   ],
   "source": [
    "search_target(train, list(uids_train)[k])"
   ]
  },
  {
   "cell_type": "code",
   "execution_count": 43,
   "id": "2d1e7479",
   "metadata": {},
   "outputs": [
    {
     "data": {
      "text/plain": [
       "1.0"
      ]
     },
     "metadata": {},
     "output_type": "display_data"
    },
    {
     "data": {
      "text/plain": [
       "nan"
      ]
     },
     "metadata": {},
     "output_type": "display_data"
    },
    {
     "data": {
      "text/plain": [
       "0.0"
      ]
     },
     "metadata": {},
     "output_type": "display_data"
    },
    {
     "data": {
      "text/plain": [
       "0.0"
      ]
     },
     "metadata": {},
     "output_type": "display_data"
    },
    {
     "data": {
      "text/plain": [
       "nan"
      ]
     },
     "metadata": {},
     "output_type": "display_data"
    },
    {
     "data": {
      "text/plain": [
       "0.0"
      ]
     },
     "metadata": {},
     "output_type": "display_data"
    },
    {
     "data": {
      "text/plain": [
       "0.0"
      ]
     },
     "metadata": {},
     "output_type": "display_data"
    },
    {
     "data": {
      "text/plain": [
       "0.0"
      ]
     },
     "metadata": {},
     "output_type": "display_data"
    },
    {
     "data": {
      "text/plain": [
       "nan"
      ]
     },
     "metadata": {},
     "output_type": "display_data"
    },
    {
     "data": {
      "text/plain": [
       "1.0"
      ]
     },
     "metadata": {},
     "output_type": "display_data"
    },
    {
     "data": {
      "text/plain": [
       "0.0"
      ]
     },
     "metadata": {},
     "output_type": "display_data"
    },
    {
     "data": {
      "text/plain": [
       "nan"
      ]
     },
     "metadata": {},
     "output_type": "display_data"
    },
    {
     "data": {
      "text/plain": [
       "1.0"
      ]
     },
     "metadata": {},
     "output_type": "display_data"
    },
    {
     "data": {
      "text/plain": [
       "0.0"
      ]
     },
     "metadata": {},
     "output_type": "display_data"
    },
    {
     "data": {
      "text/plain": [
       "0.0"
      ]
     },
     "metadata": {},
     "output_type": "display_data"
    },
    {
     "data": {
      "text/plain": [
       "0.0"
      ]
     },
     "metadata": {},
     "output_type": "display_data"
    },
    {
     "data": {
      "text/plain": [
       "0.0"
      ]
     },
     "metadata": {},
     "output_type": "display_data"
    },
    {
     "data": {
      "text/plain": [
       "0.0"
      ]
     },
     "metadata": {},
     "output_type": "display_data"
    },
    {
     "data": {
      "text/plain": [
       "0.0"
      ]
     },
     "metadata": {},
     "output_type": "display_data"
    },
    {
     "data": {
      "text/plain": [
       "0.0"
      ]
     },
     "metadata": {},
     "output_type": "display_data"
    },
    {
     "data": {
      "text/plain": [
       "0.0"
      ]
     },
     "metadata": {},
     "output_type": "display_data"
    },
    {
     "data": {
      "text/plain": [
       "0.0"
      ]
     },
     "metadata": {},
     "output_type": "display_data"
    },
    {
     "data": {
      "text/plain": [
       "0.0"
      ]
     },
     "metadata": {},
     "output_type": "display_data"
    },
    {
     "data": {
      "text/plain": [
       "0.0"
      ]
     },
     "metadata": {},
     "output_type": "display_data"
    },
    {
     "data": {
      "text/plain": [
       "0.0"
      ]
     },
     "metadata": {},
     "output_type": "display_data"
    },
    {
     "data": {
      "text/plain": [
       "0.0"
      ]
     },
     "metadata": {},
     "output_type": "display_data"
    },
    {
     "data": {
      "text/plain": [
       "0.0"
      ]
     },
     "metadata": {},
     "output_type": "display_data"
    },
    {
     "data": {
      "text/plain": [
       "0.0"
      ]
     },
     "metadata": {},
     "output_type": "display_data"
    },
    {
     "data": {
      "text/plain": [
       "nan"
      ]
     },
     "metadata": {},
     "output_type": "display_data"
    },
    {
     "data": {
      "text/plain": [
       "nan"
      ]
     },
     "metadata": {},
     "output_type": "display_data"
    },
    {
     "data": {
      "text/plain": [
       "0.0"
      ]
     },
     "metadata": {},
     "output_type": "display_data"
    },
    {
     "data": {
      "text/plain": [
       "0.0"
      ]
     },
     "metadata": {},
     "output_type": "display_data"
    },
    {
     "data": {
      "text/plain": [
       "nan"
      ]
     },
     "metadata": {},
     "output_type": "display_data"
    },
    {
     "data": {
      "text/plain": [
       "0.0"
      ]
     },
     "metadata": {},
     "output_type": "display_data"
    },
    {
     "data": {
      "text/plain": [
       "0.0"
      ]
     },
     "metadata": {},
     "output_type": "display_data"
    },
    {
     "data": {
      "text/plain": [
       "0.0"
      ]
     },
     "metadata": {},
     "output_type": "display_data"
    },
    {
     "data": {
      "text/plain": [
       "1.0"
      ]
     },
     "metadata": {},
     "output_type": "display_data"
    },
    {
     "data": {
      "text/plain": [
       "0.0"
      ]
     },
     "metadata": {},
     "output_type": "display_data"
    },
    {
     "data": {
      "text/plain": [
       "0.0"
      ]
     },
     "metadata": {},
     "output_type": "display_data"
    },
    {
     "data": {
      "text/plain": [
       "1.0"
      ]
     },
     "metadata": {},
     "output_type": "display_data"
    },
    {
     "data": {
      "text/plain": [
       "1.0"
      ]
     },
     "metadata": {},
     "output_type": "display_data"
    },
    {
     "data": {
      "text/plain": [
       "1.0"
      ]
     },
     "metadata": {},
     "output_type": "display_data"
    },
    {
     "data": {
      "text/plain": [
       "0.0"
      ]
     },
     "metadata": {},
     "output_type": "display_data"
    },
    {
     "data": {
      "text/plain": [
       "0.0"
      ]
     },
     "metadata": {},
     "output_type": "display_data"
    },
    {
     "data": {
      "text/plain": [
       "1.0"
      ]
     },
     "metadata": {},
     "output_type": "display_data"
    },
    {
     "data": {
      "text/plain": [
       "0.0"
      ]
     },
     "metadata": {},
     "output_type": "display_data"
    },
    {
     "data": {
      "text/plain": [
       "0.0"
      ]
     },
     "metadata": {},
     "output_type": "display_data"
    },
    {
     "data": {
      "text/plain": [
       "0.0"
      ]
     },
     "metadata": {},
     "output_type": "display_data"
    },
    {
     "data": {
      "text/plain": [
       "0.0"
      ]
     },
     "metadata": {},
     "output_type": "display_data"
    },
    {
     "data": {
      "text/plain": [
       "0.0"
      ]
     },
     "metadata": {},
     "output_type": "display_data"
    },
    {
     "data": {
      "text/plain": [
       "0.0"
      ]
     },
     "metadata": {},
     "output_type": "display_data"
    },
    {
     "data": {
      "text/plain": [
       "0.0"
      ]
     },
     "metadata": {},
     "output_type": "display_data"
    },
    {
     "data": {
      "text/plain": [
       "0.0"
      ]
     },
     "metadata": {},
     "output_type": "display_data"
    },
    {
     "data": {
      "text/plain": [
       "0.0"
      ]
     },
     "metadata": {},
     "output_type": "display_data"
    },
    {
     "data": {
      "text/plain": [
       "0.0"
      ]
     },
     "metadata": {},
     "output_type": "display_data"
    },
    {
     "data": {
      "text/plain": [
       "0.0"
      ]
     },
     "metadata": {},
     "output_type": "display_data"
    },
    {
     "data": {
      "text/plain": [
       "0.0"
      ]
     },
     "metadata": {},
     "output_type": "display_data"
    },
    {
     "data": {
      "text/plain": [
       "nan"
      ]
     },
     "metadata": {},
     "output_type": "display_data"
    },
    {
     "data": {
      "text/plain": [
       "0.0"
      ]
     },
     "metadata": {},
     "output_type": "display_data"
    },
    {
     "data": {
      "text/plain": [
       "0.0"
      ]
     },
     "metadata": {},
     "output_type": "display_data"
    },
    {
     "data": {
      "text/plain": [
       "0.0"
      ]
     },
     "metadata": {},
     "output_type": "display_data"
    },
    {
     "data": {
      "text/plain": [
       "0.0"
      ]
     },
     "metadata": {},
     "output_type": "display_data"
    },
    {
     "data": {
      "text/plain": [
       "0.0"
      ]
     },
     "metadata": {},
     "output_type": "display_data"
    },
    {
     "data": {
      "text/plain": [
       "0.0"
      ]
     },
     "metadata": {},
     "output_type": "display_data"
    },
    {
     "data": {
      "text/plain": [
       "0.0"
      ]
     },
     "metadata": {},
     "output_type": "display_data"
    },
    {
     "data": {
      "text/plain": [
       "0.0"
      ]
     },
     "metadata": {},
     "output_type": "display_data"
    },
    {
     "data": {
      "text/plain": [
       "1.0"
      ]
     },
     "metadata": {},
     "output_type": "display_data"
    },
    {
     "data": {
      "text/plain": [
       "0.0"
      ]
     },
     "metadata": {},
     "output_type": "display_data"
    },
    {
     "data": {
      "text/plain": [
       "1.0"
      ]
     },
     "metadata": {},
     "output_type": "display_data"
    },
    {
     "data": {
      "text/plain": [
       "1.0"
      ]
     },
     "metadata": {},
     "output_type": "display_data"
    },
    {
     "data": {
      "text/plain": [
       "0.0"
      ]
     },
     "metadata": {},
     "output_type": "display_data"
    },
    {
     "data": {
      "text/plain": [
       "0.0"
      ]
     },
     "metadata": {},
     "output_type": "display_data"
    },
    {
     "data": {
      "text/plain": [
       "1.0"
      ]
     },
     "metadata": {},
     "output_type": "display_data"
    },
    {
     "data": {
      "text/plain": [
       "0.0"
      ]
     },
     "metadata": {},
     "output_type": "display_data"
    },
    {
     "data": {
      "text/plain": [
       "0.0"
      ]
     },
     "metadata": {},
     "output_type": "display_data"
    },
    {
     "data": {
      "text/plain": [
       "0.0"
      ]
     },
     "metadata": {},
     "output_type": "display_data"
    },
    {
     "data": {
      "text/plain": [
       "0.0"
      ]
     },
     "metadata": {},
     "output_type": "display_data"
    },
    {
     "data": {
      "text/plain": [
       "1.0"
      ]
     },
     "metadata": {},
     "output_type": "display_data"
    },
    {
     "data": {
      "text/plain": [
       "nan"
      ]
     },
     "metadata": {},
     "output_type": "display_data"
    },
    {
     "data": {
      "text/plain": [
       "0.0"
      ]
     },
     "metadata": {},
     "output_type": "display_data"
    },
    {
     "data": {
      "text/plain": [
       "0.0"
      ]
     },
     "metadata": {},
     "output_type": "display_data"
    },
    {
     "data": {
      "text/plain": [
       "0.0"
      ]
     },
     "metadata": {},
     "output_type": "display_data"
    },
    {
     "data": {
      "text/plain": [
       "0.0"
      ]
     },
     "metadata": {},
     "output_type": "display_data"
    },
    {
     "data": {
      "text/plain": [
       "0.0"
      ]
     },
     "metadata": {},
     "output_type": "display_data"
    },
    {
     "data": {
      "text/plain": [
       "0.0"
      ]
     },
     "metadata": {},
     "output_type": "display_data"
    },
    {
     "data": {
      "text/plain": [
       "nan"
      ]
     },
     "metadata": {},
     "output_type": "display_data"
    },
    {
     "data": {
      "text/plain": [
       "0.0"
      ]
     },
     "metadata": {},
     "output_type": "display_data"
    },
    {
     "data": {
      "text/plain": [
       "0.0"
      ]
     },
     "metadata": {},
     "output_type": "display_data"
    },
    {
     "data": {
      "text/plain": [
       "0.0"
      ]
     },
     "metadata": {},
     "output_type": "display_data"
    },
    {
     "data": {
      "text/plain": [
       "0.0"
      ]
     },
     "metadata": {},
     "output_type": "display_data"
    },
    {
     "data": {
      "text/plain": [
       "0.0"
      ]
     },
     "metadata": {},
     "output_type": "display_data"
    },
    {
     "data": {
      "text/plain": [
       "0.0"
      ]
     },
     "metadata": {},
     "output_type": "display_data"
    },
    {
     "data": {
      "text/plain": [
       "0.0"
      ]
     },
     "metadata": {},
     "output_type": "display_data"
    },
    {
     "data": {
      "text/plain": [
       "0.0"
      ]
     },
     "metadata": {},
     "output_type": "display_data"
    },
    {
     "data": {
      "text/plain": [
       "0.0"
      ]
     },
     "metadata": {},
     "output_type": "display_data"
    },
    {
     "data": {
      "text/plain": [
       "0.0"
      ]
     },
     "metadata": {},
     "output_type": "display_data"
    },
    {
     "data": {
      "text/plain": [
       "0.0"
      ]
     },
     "metadata": {},
     "output_type": "display_data"
    },
    {
     "data": {
      "text/plain": [
       "0.0"
      ]
     },
     "metadata": {},
     "output_type": "display_data"
    },
    {
     "data": {
      "text/plain": [
       "0.0"
      ]
     },
     "metadata": {},
     "output_type": "display_data"
    },
    {
     "data": {
      "text/plain": [
       "0.0"
      ]
     },
     "metadata": {},
     "output_type": "display_data"
    }
   ],
   "source": [
    "for i in range(100):\n",
    "    display(search_target(train, uids[i])[1])"
   ]
  },
  {
   "cell_type": "code",
   "execution_count": 45,
   "id": "b2aff1e2",
   "metadata": {},
   "outputs": [
    {
     "data": {
      "text/plain": [
       "(-1.0, 1.0)"
      ]
     },
     "metadata": {},
     "output_type": "display_data"
    }
   ],
   "source": [
    "i=0\n",
    "display(search_target(train, uids[i]))"
   ]
  },
  {
   "cell_type": "code",
   "execution_count": 124,
   "id": "1af1e619",
   "metadata": {},
   "outputs": [
    {
     "data": {
      "text/html": [
       "<div>\n",
       "<style scoped>\n",
       "    .dataframe tbody tr th:only-of-type {\n",
       "        vertical-align: middle;\n",
       "    }\n",
       "\n",
       "    .dataframe tbody tr th {\n",
       "        vertical-align: top;\n",
       "    }\n",
       "\n",
       "    .dataframe thead th {\n",
       "        text-align: right;\n",
       "    }\n",
       "</style>\n",
       "<table border=\"1\" class=\"dataframe\">\n",
       "  <thead>\n",
       "    <tr style=\"text-align: right;\">\n",
       "      <th></th>\n",
       "      <th>ind_ahor_fin_ult1</th>\n",
       "      <th>ind_aval_fin_ult1</th>\n",
       "      <th>ind_cco_fin_ult1</th>\n",
       "      <th>ind_cder_fin_ult1</th>\n",
       "      <th>ind_cno_fin_ult1</th>\n",
       "      <th>ind_ctju_fin_ult1</th>\n",
       "      <th>ind_ctma_fin_ult1</th>\n",
       "      <th>ind_ctop_fin_ult1</th>\n",
       "      <th>ind_ctpp_fin_ult1</th>\n",
       "      <th>ind_deco_fin_ult1</th>\n",
       "      <th>ind_deme_fin_ult1</th>\n",
       "      <th>ind_dela_fin_ult1</th>\n",
       "      <th>ind_ecue_fin_ult1</th>\n",
       "      <th>ind_fond_fin_ult1</th>\n",
       "      <th>ind_hip_fin_ult1</th>\n",
       "      <th>ind_plan_fin_ult1</th>\n",
       "      <th>ind_pres_fin_ult1</th>\n",
       "      <th>ind_reca_fin_ult1</th>\n",
       "      <th>ind_tjcr_fin_ult1</th>\n",
       "      <th>ind_valo_fin_ult1</th>\n",
       "      <th>ind_viv_fin_ult1</th>\n",
       "      <th>ind_nomina_ult1</th>\n",
       "      <th>ind_nom_pens_ult1</th>\n",
       "      <th>ind_recibo_ult1</th>\n",
       "    </tr>\n",
       "    <tr>\n",
       "      <th>fecha_dato</th>\n",
       "      <th></th>\n",
       "      <th></th>\n",
       "      <th></th>\n",
       "      <th></th>\n",
       "      <th></th>\n",
       "      <th></th>\n",
       "      <th></th>\n",
       "      <th></th>\n",
       "      <th></th>\n",
       "      <th></th>\n",
       "      <th></th>\n",
       "      <th></th>\n",
       "      <th></th>\n",
       "      <th></th>\n",
       "      <th></th>\n",
       "      <th></th>\n",
       "      <th></th>\n",
       "      <th></th>\n",
       "      <th></th>\n",
       "      <th></th>\n",
       "      <th></th>\n",
       "      <th></th>\n",
       "      <th></th>\n",
       "      <th></th>\n",
       "    </tr>\n",
       "  </thead>\n",
       "  <tbody>\n",
       "    <tr>\n",
       "      <th>2015-01-28</th>\n",
       "      <td>NaN</td>\n",
       "      <td>NaN</td>\n",
       "      <td>NaN</td>\n",
       "      <td>NaN</td>\n",
       "      <td>NaN</td>\n",
       "      <td>NaN</td>\n",
       "      <td>NaN</td>\n",
       "      <td>NaN</td>\n",
       "      <td>NaN</td>\n",
       "      <td>NaN</td>\n",
       "      <td>NaN</td>\n",
       "      <td>NaN</td>\n",
       "      <td>NaN</td>\n",
       "      <td>NaN</td>\n",
       "      <td>NaN</td>\n",
       "      <td>NaN</td>\n",
       "      <td>NaN</td>\n",
       "      <td>NaN</td>\n",
       "      <td>NaN</td>\n",
       "      <td>NaN</td>\n",
       "      <td>NaN</td>\n",
       "      <td>NaN</td>\n",
       "      <td>NaN</td>\n",
       "      <td>NaN</td>\n",
       "    </tr>\n",
       "    <tr>\n",
       "      <th>2015-02-28</th>\n",
       "      <td>0.0</td>\n",
       "      <td>0.0</td>\n",
       "      <td>0.0</td>\n",
       "      <td>0.0</td>\n",
       "      <td>0.0</td>\n",
       "      <td>0.0</td>\n",
       "      <td>0.0</td>\n",
       "      <td>0.0</td>\n",
       "      <td>0.0</td>\n",
       "      <td>0.0</td>\n",
       "      <td>0.0</td>\n",
       "      <td>0.0</td>\n",
       "      <td>0.0</td>\n",
       "      <td>0.0</td>\n",
       "      <td>0.0</td>\n",
       "      <td>0.0</td>\n",
       "      <td>0.0</td>\n",
       "      <td>0.0</td>\n",
       "      <td>0.0</td>\n",
       "      <td>0.0</td>\n",
       "      <td>0.0</td>\n",
       "      <td>0.0</td>\n",
       "      <td>0.0</td>\n",
       "      <td>0.0</td>\n",
       "    </tr>\n",
       "    <tr>\n",
       "      <th>2015-03-28</th>\n",
       "      <td>0.0</td>\n",
       "      <td>0.0</td>\n",
       "      <td>0.0</td>\n",
       "      <td>0.0</td>\n",
       "      <td>0.0</td>\n",
       "      <td>0.0</td>\n",
       "      <td>0.0</td>\n",
       "      <td>0.0</td>\n",
       "      <td>0.0</td>\n",
       "      <td>0.0</td>\n",
       "      <td>0.0</td>\n",
       "      <td>0.0</td>\n",
       "      <td>0.0</td>\n",
       "      <td>0.0</td>\n",
       "      <td>0.0</td>\n",
       "      <td>0.0</td>\n",
       "      <td>0.0</td>\n",
       "      <td>0.0</td>\n",
       "      <td>0.0</td>\n",
       "      <td>0.0</td>\n",
       "      <td>0.0</td>\n",
       "      <td>0.0</td>\n",
       "      <td>0.0</td>\n",
       "      <td>0.0</td>\n",
       "    </tr>\n",
       "    <tr>\n",
       "      <th>2015-04-28</th>\n",
       "      <td>0.0</td>\n",
       "      <td>0.0</td>\n",
       "      <td>0.0</td>\n",
       "      <td>0.0</td>\n",
       "      <td>0.0</td>\n",
       "      <td>0.0</td>\n",
       "      <td>0.0</td>\n",
       "      <td>0.0</td>\n",
       "      <td>0.0</td>\n",
       "      <td>0.0</td>\n",
       "      <td>0.0</td>\n",
       "      <td>0.0</td>\n",
       "      <td>0.0</td>\n",
       "      <td>0.0</td>\n",
       "      <td>0.0</td>\n",
       "      <td>0.0</td>\n",
       "      <td>0.0</td>\n",
       "      <td>0.0</td>\n",
       "      <td>0.0</td>\n",
       "      <td>0.0</td>\n",
       "      <td>0.0</td>\n",
       "      <td>0.0</td>\n",
       "      <td>0.0</td>\n",
       "      <td>0.0</td>\n",
       "    </tr>\n",
       "    <tr>\n",
       "      <th>2015-05-28</th>\n",
       "      <td>0.0</td>\n",
       "      <td>0.0</td>\n",
       "      <td>0.0</td>\n",
       "      <td>0.0</td>\n",
       "      <td>0.0</td>\n",
       "      <td>0.0</td>\n",
       "      <td>0.0</td>\n",
       "      <td>0.0</td>\n",
       "      <td>0.0</td>\n",
       "      <td>0.0</td>\n",
       "      <td>0.0</td>\n",
       "      <td>0.0</td>\n",
       "      <td>0.0</td>\n",
       "      <td>0.0</td>\n",
       "      <td>0.0</td>\n",
       "      <td>0.0</td>\n",
       "      <td>0.0</td>\n",
       "      <td>0.0</td>\n",
       "      <td>0.0</td>\n",
       "      <td>0.0</td>\n",
       "      <td>0.0</td>\n",
       "      <td>0.0</td>\n",
       "      <td>0.0</td>\n",
       "      <td>0.0</td>\n",
       "    </tr>\n",
       "    <tr>\n",
       "      <th>2015-06-28</th>\n",
       "      <td>0.0</td>\n",
       "      <td>0.0</td>\n",
       "      <td>0.0</td>\n",
       "      <td>0.0</td>\n",
       "      <td>0.0</td>\n",
       "      <td>0.0</td>\n",
       "      <td>0.0</td>\n",
       "      <td>0.0</td>\n",
       "      <td>0.0</td>\n",
       "      <td>0.0</td>\n",
       "      <td>0.0</td>\n",
       "      <td>0.0</td>\n",
       "      <td>0.0</td>\n",
       "      <td>0.0</td>\n",
       "      <td>0.0</td>\n",
       "      <td>0.0</td>\n",
       "      <td>0.0</td>\n",
       "      <td>0.0</td>\n",
       "      <td>0.0</td>\n",
       "      <td>0.0</td>\n",
       "      <td>0.0</td>\n",
       "      <td>0.0</td>\n",
       "      <td>0.0</td>\n",
       "      <td>0.0</td>\n",
       "    </tr>\n",
       "    <tr>\n",
       "      <th>2015-07-28</th>\n",
       "      <td>0.0</td>\n",
       "      <td>0.0</td>\n",
       "      <td>0.0</td>\n",
       "      <td>0.0</td>\n",
       "      <td>0.0</td>\n",
       "      <td>0.0</td>\n",
       "      <td>0.0</td>\n",
       "      <td>0.0</td>\n",
       "      <td>0.0</td>\n",
       "      <td>0.0</td>\n",
       "      <td>0.0</td>\n",
       "      <td>0.0</td>\n",
       "      <td>0.0</td>\n",
       "      <td>0.0</td>\n",
       "      <td>0.0</td>\n",
       "      <td>0.0</td>\n",
       "      <td>0.0</td>\n",
       "      <td>0.0</td>\n",
       "      <td>0.0</td>\n",
       "      <td>0.0</td>\n",
       "      <td>0.0</td>\n",
       "      <td>0.0</td>\n",
       "      <td>0.0</td>\n",
       "      <td>0.0</td>\n",
       "    </tr>\n",
       "    <tr>\n",
       "      <th>2015-08-28</th>\n",
       "      <td>0.0</td>\n",
       "      <td>0.0</td>\n",
       "      <td>0.0</td>\n",
       "      <td>0.0</td>\n",
       "      <td>0.0</td>\n",
       "      <td>0.0</td>\n",
       "      <td>0.0</td>\n",
       "      <td>0.0</td>\n",
       "      <td>0.0</td>\n",
       "      <td>0.0</td>\n",
       "      <td>0.0</td>\n",
       "      <td>0.0</td>\n",
       "      <td>0.0</td>\n",
       "      <td>0.0</td>\n",
       "      <td>0.0</td>\n",
       "      <td>0.0</td>\n",
       "      <td>0.0</td>\n",
       "      <td>0.0</td>\n",
       "      <td>0.0</td>\n",
       "      <td>0.0</td>\n",
       "      <td>0.0</td>\n",
       "      <td>0.0</td>\n",
       "      <td>0.0</td>\n",
       "      <td>0.0</td>\n",
       "    </tr>\n",
       "    <tr>\n",
       "      <th>2015-09-28</th>\n",
       "      <td>0.0</td>\n",
       "      <td>0.0</td>\n",
       "      <td>0.0</td>\n",
       "      <td>0.0</td>\n",
       "      <td>0.0</td>\n",
       "      <td>0.0</td>\n",
       "      <td>0.0</td>\n",
       "      <td>0.0</td>\n",
       "      <td>0.0</td>\n",
       "      <td>0.0</td>\n",
       "      <td>0.0</td>\n",
       "      <td>0.0</td>\n",
       "      <td>0.0</td>\n",
       "      <td>0.0</td>\n",
       "      <td>0.0</td>\n",
       "      <td>0.0</td>\n",
       "      <td>0.0</td>\n",
       "      <td>0.0</td>\n",
       "      <td>0.0</td>\n",
       "      <td>0.0</td>\n",
       "      <td>0.0</td>\n",
       "      <td>0.0</td>\n",
       "      <td>0.0</td>\n",
       "      <td>0.0</td>\n",
       "    </tr>\n",
       "    <tr>\n",
       "      <th>2015-10-28</th>\n",
       "      <td>0.0</td>\n",
       "      <td>0.0</td>\n",
       "      <td>0.0</td>\n",
       "      <td>0.0</td>\n",
       "      <td>0.0</td>\n",
       "      <td>0.0</td>\n",
       "      <td>0.0</td>\n",
       "      <td>0.0</td>\n",
       "      <td>0.0</td>\n",
       "      <td>0.0</td>\n",
       "      <td>0.0</td>\n",
       "      <td>0.0</td>\n",
       "      <td>0.0</td>\n",
       "      <td>0.0</td>\n",
       "      <td>0.0</td>\n",
       "      <td>0.0</td>\n",
       "      <td>0.0</td>\n",
       "      <td>0.0</td>\n",
       "      <td>0.0</td>\n",
       "      <td>0.0</td>\n",
       "      <td>0.0</td>\n",
       "      <td>0.0</td>\n",
       "      <td>0.0</td>\n",
       "      <td>0.0</td>\n",
       "    </tr>\n",
       "    <tr>\n",
       "      <th>2015-11-28</th>\n",
       "      <td>0.0</td>\n",
       "      <td>0.0</td>\n",
       "      <td>0.0</td>\n",
       "      <td>0.0</td>\n",
       "      <td>0.0</td>\n",
       "      <td>0.0</td>\n",
       "      <td>0.0</td>\n",
       "      <td>0.0</td>\n",
       "      <td>0.0</td>\n",
       "      <td>0.0</td>\n",
       "      <td>0.0</td>\n",
       "      <td>0.0</td>\n",
       "      <td>0.0</td>\n",
       "      <td>0.0</td>\n",
       "      <td>0.0</td>\n",
       "      <td>0.0</td>\n",
       "      <td>0.0</td>\n",
       "      <td>0.0</td>\n",
       "      <td>0.0</td>\n",
       "      <td>0.0</td>\n",
       "      <td>0.0</td>\n",
       "      <td>0.0</td>\n",
       "      <td>0.0</td>\n",
       "      <td>0.0</td>\n",
       "    </tr>\n",
       "    <tr>\n",
       "      <th>2015-12-28</th>\n",
       "      <td>0.0</td>\n",
       "      <td>0.0</td>\n",
       "      <td>0.0</td>\n",
       "      <td>0.0</td>\n",
       "      <td>0.0</td>\n",
       "      <td>0.0</td>\n",
       "      <td>0.0</td>\n",
       "      <td>0.0</td>\n",
       "      <td>0.0</td>\n",
       "      <td>0.0</td>\n",
       "      <td>0.0</td>\n",
       "      <td>0.0</td>\n",
       "      <td>0.0</td>\n",
       "      <td>0.0</td>\n",
       "      <td>0.0</td>\n",
       "      <td>0.0</td>\n",
       "      <td>0.0</td>\n",
       "      <td>0.0</td>\n",
       "      <td>0.0</td>\n",
       "      <td>0.0</td>\n",
       "      <td>0.0</td>\n",
       "      <td>0.0</td>\n",
       "      <td>0.0</td>\n",
       "      <td>0.0</td>\n",
       "    </tr>\n",
       "    <tr>\n",
       "      <th>2016-01-28</th>\n",
       "      <td>0.0</td>\n",
       "      <td>0.0</td>\n",
       "      <td>0.0</td>\n",
       "      <td>0.0</td>\n",
       "      <td>0.0</td>\n",
       "      <td>0.0</td>\n",
       "      <td>0.0</td>\n",
       "      <td>0.0</td>\n",
       "      <td>0.0</td>\n",
       "      <td>0.0</td>\n",
       "      <td>0.0</td>\n",
       "      <td>0.0</td>\n",
       "      <td>0.0</td>\n",
       "      <td>0.0</td>\n",
       "      <td>0.0</td>\n",
       "      <td>0.0</td>\n",
       "      <td>0.0</td>\n",
       "      <td>0.0</td>\n",
       "      <td>0.0</td>\n",
       "      <td>0.0</td>\n",
       "      <td>0.0</td>\n",
       "      <td>0.0</td>\n",
       "      <td>0.0</td>\n",
       "      <td>0.0</td>\n",
       "    </tr>\n",
       "    <tr>\n",
       "      <th>2016-02-28</th>\n",
       "      <td>0.0</td>\n",
       "      <td>0.0</td>\n",
       "      <td>0.0</td>\n",
       "      <td>0.0</td>\n",
       "      <td>0.0</td>\n",
       "      <td>0.0</td>\n",
       "      <td>0.0</td>\n",
       "      <td>0.0</td>\n",
       "      <td>0.0</td>\n",
       "      <td>0.0</td>\n",
       "      <td>0.0</td>\n",
       "      <td>0.0</td>\n",
       "      <td>0.0</td>\n",
       "      <td>0.0</td>\n",
       "      <td>0.0</td>\n",
       "      <td>0.0</td>\n",
       "      <td>0.0</td>\n",
       "      <td>0.0</td>\n",
       "      <td>0.0</td>\n",
       "      <td>0.0</td>\n",
       "      <td>0.0</td>\n",
       "      <td>0.0</td>\n",
       "      <td>0.0</td>\n",
       "      <td>0.0</td>\n",
       "    </tr>\n",
       "    <tr>\n",
       "      <th>2016-03-28</th>\n",
       "      <td>0.0</td>\n",
       "      <td>0.0</td>\n",
       "      <td>0.0</td>\n",
       "      <td>0.0</td>\n",
       "      <td>0.0</td>\n",
       "      <td>0.0</td>\n",
       "      <td>0.0</td>\n",
       "      <td>0.0</td>\n",
       "      <td>0.0</td>\n",
       "      <td>0.0</td>\n",
       "      <td>0.0</td>\n",
       "      <td>0.0</td>\n",
       "      <td>0.0</td>\n",
       "      <td>0.0</td>\n",
       "      <td>0.0</td>\n",
       "      <td>0.0</td>\n",
       "      <td>0.0</td>\n",
       "      <td>0.0</td>\n",
       "      <td>0.0</td>\n",
       "      <td>0.0</td>\n",
       "      <td>0.0</td>\n",
       "      <td>0.0</td>\n",
       "      <td>0.0</td>\n",
       "      <td>0.0</td>\n",
       "    </tr>\n",
       "    <tr>\n",
       "      <th>2016-04-28</th>\n",
       "      <td>0.0</td>\n",
       "      <td>0.0</td>\n",
       "      <td>0.0</td>\n",
       "      <td>0.0</td>\n",
       "      <td>0.0</td>\n",
       "      <td>0.0</td>\n",
       "      <td>0.0</td>\n",
       "      <td>0.0</td>\n",
       "      <td>0.0</td>\n",
       "      <td>0.0</td>\n",
       "      <td>0.0</td>\n",
       "      <td>0.0</td>\n",
       "      <td>0.0</td>\n",
       "      <td>0.0</td>\n",
       "      <td>0.0</td>\n",
       "      <td>0.0</td>\n",
       "      <td>0.0</td>\n",
       "      <td>0.0</td>\n",
       "      <td>0.0</td>\n",
       "      <td>0.0</td>\n",
       "      <td>0.0</td>\n",
       "      <td>0.0</td>\n",
       "      <td>0.0</td>\n",
       "      <td>0.0</td>\n",
       "    </tr>\n",
       "    <tr>\n",
       "      <th>2016-05-28</th>\n",
       "      <td>0.0</td>\n",
       "      <td>0.0</td>\n",
       "      <td>0.0</td>\n",
       "      <td>0.0</td>\n",
       "      <td>0.0</td>\n",
       "      <td>0.0</td>\n",
       "      <td>0.0</td>\n",
       "      <td>0.0</td>\n",
       "      <td>0.0</td>\n",
       "      <td>0.0</td>\n",
       "      <td>0.0</td>\n",
       "      <td>0.0</td>\n",
       "      <td>0.0</td>\n",
       "      <td>0.0</td>\n",
       "      <td>0.0</td>\n",
       "      <td>0.0</td>\n",
       "      <td>0.0</td>\n",
       "      <td>0.0</td>\n",
       "      <td>0.0</td>\n",
       "      <td>0.0</td>\n",
       "      <td>0.0</td>\n",
       "      <td>0.0</td>\n",
       "      <td>0.0</td>\n",
       "      <td>0.0</td>\n",
       "    </tr>\n",
       "  </tbody>\n",
       "</table>\n",
       "</div>"
      ],
      "text/plain": [
       "            ind_ahor_fin_ult1  ind_aval_fin_ult1  ind_cco_fin_ult1  \\\n",
       "fecha_dato                                                           \n",
       "2015-01-28                NaN                NaN               NaN   \n",
       "2015-02-28                0.0                0.0               0.0   \n",
       "2015-03-28                0.0                0.0               0.0   \n",
       "2015-04-28                0.0                0.0               0.0   \n",
       "2015-05-28                0.0                0.0               0.0   \n",
       "2015-06-28                0.0                0.0               0.0   \n",
       "2015-07-28                0.0                0.0               0.0   \n",
       "2015-08-28                0.0                0.0               0.0   \n",
       "2015-09-28                0.0                0.0               0.0   \n",
       "2015-10-28                0.0                0.0               0.0   \n",
       "2015-11-28                0.0                0.0               0.0   \n",
       "2015-12-28                0.0                0.0               0.0   \n",
       "2016-01-28                0.0                0.0               0.0   \n",
       "2016-02-28                0.0                0.0               0.0   \n",
       "2016-03-28                0.0                0.0               0.0   \n",
       "2016-04-28                0.0                0.0               0.0   \n",
       "2016-05-28                0.0                0.0               0.0   \n",
       "\n",
       "            ind_cder_fin_ult1  ind_cno_fin_ult1  ind_ctju_fin_ult1  \\\n",
       "fecha_dato                                                           \n",
       "2015-01-28                NaN               NaN                NaN   \n",
       "2015-02-28                0.0               0.0                0.0   \n",
       "2015-03-28                0.0               0.0                0.0   \n",
       "2015-04-28                0.0               0.0                0.0   \n",
       "2015-05-28                0.0               0.0                0.0   \n",
       "2015-06-28                0.0               0.0                0.0   \n",
       "2015-07-28                0.0               0.0                0.0   \n",
       "2015-08-28                0.0               0.0                0.0   \n",
       "2015-09-28                0.0               0.0                0.0   \n",
       "2015-10-28                0.0               0.0                0.0   \n",
       "2015-11-28                0.0               0.0                0.0   \n",
       "2015-12-28                0.0               0.0                0.0   \n",
       "2016-01-28                0.0               0.0                0.0   \n",
       "2016-02-28                0.0               0.0                0.0   \n",
       "2016-03-28                0.0               0.0                0.0   \n",
       "2016-04-28                0.0               0.0                0.0   \n",
       "2016-05-28                0.0               0.0                0.0   \n",
       "\n",
       "            ind_ctma_fin_ult1  ind_ctop_fin_ult1  ind_ctpp_fin_ult1  \\\n",
       "fecha_dato                                                            \n",
       "2015-01-28                NaN                NaN                NaN   \n",
       "2015-02-28                0.0                0.0                0.0   \n",
       "2015-03-28                0.0                0.0                0.0   \n",
       "2015-04-28                0.0                0.0                0.0   \n",
       "2015-05-28                0.0                0.0                0.0   \n",
       "2015-06-28                0.0                0.0                0.0   \n",
       "2015-07-28                0.0                0.0                0.0   \n",
       "2015-08-28                0.0                0.0                0.0   \n",
       "2015-09-28                0.0                0.0                0.0   \n",
       "2015-10-28                0.0                0.0                0.0   \n",
       "2015-11-28                0.0                0.0                0.0   \n",
       "2015-12-28                0.0                0.0                0.0   \n",
       "2016-01-28                0.0                0.0                0.0   \n",
       "2016-02-28                0.0                0.0                0.0   \n",
       "2016-03-28                0.0                0.0                0.0   \n",
       "2016-04-28                0.0                0.0                0.0   \n",
       "2016-05-28                0.0                0.0                0.0   \n",
       "\n",
       "            ind_deco_fin_ult1  ind_deme_fin_ult1  ind_dela_fin_ult1  \\\n",
       "fecha_dato                                                            \n",
       "2015-01-28                NaN                NaN                NaN   \n",
       "2015-02-28                0.0                0.0                0.0   \n",
       "2015-03-28                0.0                0.0                0.0   \n",
       "2015-04-28                0.0                0.0                0.0   \n",
       "2015-05-28                0.0                0.0                0.0   \n",
       "2015-06-28                0.0                0.0                0.0   \n",
       "2015-07-28                0.0                0.0                0.0   \n",
       "2015-08-28                0.0                0.0                0.0   \n",
       "2015-09-28                0.0                0.0                0.0   \n",
       "2015-10-28                0.0                0.0                0.0   \n",
       "2015-11-28                0.0                0.0                0.0   \n",
       "2015-12-28                0.0                0.0                0.0   \n",
       "2016-01-28                0.0                0.0                0.0   \n",
       "2016-02-28                0.0                0.0                0.0   \n",
       "2016-03-28                0.0                0.0                0.0   \n",
       "2016-04-28                0.0                0.0                0.0   \n",
       "2016-05-28                0.0                0.0                0.0   \n",
       "\n",
       "            ind_ecue_fin_ult1  ind_fond_fin_ult1  ind_hip_fin_ult1  \\\n",
       "fecha_dato                                                           \n",
       "2015-01-28                NaN                NaN               NaN   \n",
       "2015-02-28                0.0                0.0               0.0   \n",
       "2015-03-28                0.0                0.0               0.0   \n",
       "2015-04-28                0.0                0.0               0.0   \n",
       "2015-05-28                0.0                0.0               0.0   \n",
       "2015-06-28                0.0                0.0               0.0   \n",
       "2015-07-28                0.0                0.0               0.0   \n",
       "2015-08-28                0.0                0.0               0.0   \n",
       "2015-09-28                0.0                0.0               0.0   \n",
       "2015-10-28                0.0                0.0               0.0   \n",
       "2015-11-28                0.0                0.0               0.0   \n",
       "2015-12-28                0.0                0.0               0.0   \n",
       "2016-01-28                0.0                0.0               0.0   \n",
       "2016-02-28                0.0                0.0               0.0   \n",
       "2016-03-28                0.0                0.0               0.0   \n",
       "2016-04-28                0.0                0.0               0.0   \n",
       "2016-05-28                0.0                0.0               0.0   \n",
       "\n",
       "            ind_plan_fin_ult1  ind_pres_fin_ult1  ind_reca_fin_ult1  \\\n",
       "fecha_dato                                                            \n",
       "2015-01-28                NaN                NaN                NaN   \n",
       "2015-02-28                0.0                0.0                0.0   \n",
       "2015-03-28                0.0                0.0                0.0   \n",
       "2015-04-28                0.0                0.0                0.0   \n",
       "2015-05-28                0.0                0.0                0.0   \n",
       "2015-06-28                0.0                0.0                0.0   \n",
       "2015-07-28                0.0                0.0                0.0   \n",
       "2015-08-28                0.0                0.0                0.0   \n",
       "2015-09-28                0.0                0.0                0.0   \n",
       "2015-10-28                0.0                0.0                0.0   \n",
       "2015-11-28                0.0                0.0                0.0   \n",
       "2015-12-28                0.0                0.0                0.0   \n",
       "2016-01-28                0.0                0.0                0.0   \n",
       "2016-02-28                0.0                0.0                0.0   \n",
       "2016-03-28                0.0                0.0                0.0   \n",
       "2016-04-28                0.0                0.0                0.0   \n",
       "2016-05-28                0.0                0.0                0.0   \n",
       "\n",
       "            ind_tjcr_fin_ult1  ind_valo_fin_ult1  ind_viv_fin_ult1  \\\n",
       "fecha_dato                                                           \n",
       "2015-01-28                NaN                NaN               NaN   \n",
       "2015-02-28                0.0                0.0               0.0   \n",
       "2015-03-28                0.0                0.0               0.0   \n",
       "2015-04-28                0.0                0.0               0.0   \n",
       "2015-05-28                0.0                0.0               0.0   \n",
       "2015-06-28                0.0                0.0               0.0   \n",
       "2015-07-28                0.0                0.0               0.0   \n",
       "2015-08-28                0.0                0.0               0.0   \n",
       "2015-09-28                0.0                0.0               0.0   \n",
       "2015-10-28                0.0                0.0               0.0   \n",
       "2015-11-28                0.0                0.0               0.0   \n",
       "2015-12-28                0.0                0.0               0.0   \n",
       "2016-01-28                0.0                0.0               0.0   \n",
       "2016-02-28                0.0                0.0               0.0   \n",
       "2016-03-28                0.0                0.0               0.0   \n",
       "2016-04-28                0.0                0.0               0.0   \n",
       "2016-05-28                0.0                0.0               0.0   \n",
       "\n",
       "            ind_nomina_ult1  ind_nom_pens_ult1  ind_recibo_ult1  \n",
       "fecha_dato                                                       \n",
       "2015-01-28              NaN                NaN              NaN  \n",
       "2015-02-28              0.0                0.0              0.0  \n",
       "2015-03-28              0.0                0.0              0.0  \n",
       "2015-04-28              0.0                0.0              0.0  \n",
       "2015-05-28              0.0                0.0              0.0  \n",
       "2015-06-28              0.0                0.0              0.0  \n",
       "2015-07-28              0.0                0.0              0.0  \n",
       "2015-08-28              0.0                0.0              0.0  \n",
       "2015-09-28              0.0                0.0              0.0  \n",
       "2015-10-28              0.0                0.0              0.0  \n",
       "2015-11-28              0.0                0.0              0.0  \n",
       "2015-12-28              0.0                0.0              0.0  \n",
       "2016-01-28              0.0                0.0              0.0  \n",
       "2016-02-28              0.0                0.0              0.0  \n",
       "2016-03-28              0.0                0.0              0.0  \n",
       "2016-04-28              0.0                0.0              0.0  \n",
       "2016-05-28              0.0                0.0              0.0  "
      ]
     },
     "execution_count": 124,
     "metadata": {},
     "output_type": "execute_result"
    }
   ],
   "source": [
    "dfi=train[train.ncodpers==uids[i]].sort_values(\"fecha_dato\",  ascending=True)\n",
    "dfi.index = dfi.fecha_dato\n",
    "dfi[target_cols].diff(axis=0)"
   ]
  },
  {
   "cell_type": "code",
   "execution_count": 126,
   "id": "282bce90",
   "metadata": {},
   "outputs": [
    {
     "data": {
      "text/plain": [
       "ind_ahor_fin_ult1    0.0\n",
       "ind_aval_fin_ult1    0.0\n",
       "ind_cco_fin_ult1     0.0\n",
       "ind_cder_fin_ult1    0.0\n",
       "ind_cno_fin_ult1     0.0\n",
       "ind_ctju_fin_ult1    0.0\n",
       "ind_ctma_fin_ult1    0.0\n",
       "ind_ctop_fin_ult1    0.0\n",
       "ind_ctpp_fin_ult1    0.0\n",
       "ind_deco_fin_ult1    0.0\n",
       "ind_deme_fin_ult1    0.0\n",
       "ind_dela_fin_ult1    0.0\n",
       "ind_ecue_fin_ult1    0.0\n",
       "ind_fond_fin_ult1    0.0\n",
       "ind_hip_fin_ult1     0.0\n",
       "ind_plan_fin_ult1    0.0\n",
       "ind_pres_fin_ult1    0.0\n",
       "ind_reca_fin_ult1    0.0\n",
       "ind_tjcr_fin_ult1    0.0\n",
       "ind_valo_fin_ult1    0.0\n",
       "ind_viv_fin_ult1     0.0\n",
       "ind_nomina_ult1      0.0\n",
       "ind_nom_pens_ult1    0.0\n",
       "ind_recibo_ult1      0.0\n",
       "Name: 2016-05-28, dtype: float64"
      ]
     },
     "execution_count": 126,
     "metadata": {},
     "output_type": "execute_result"
    }
   ],
   "source": [
    "dfid = dfi[target_cols].diff(axis=0)\n",
    "dfid.iloc[-1,:]#[dfid>0]"
   ]
  },
  {
   "cell_type": "code",
   "execution_count": 76,
   "id": "8c1aed14",
   "metadata": {},
   "outputs": [
    {
     "data": {
      "text/plain": [
       "['ind_recibo_ult1', 'ind_recibo_ult1']"
      ]
     },
     "execution_count": 76,
     "metadata": {},
     "output_type": "execute_result"
    }
   ],
   "source": [
    "#dfid[dfid>0].sort_values()\n",
    "a=dfid[dfid >0].stack()#.index.tolist()\n",
    "a.reset_index()[\"level_1\"].values.tolist()"
   ]
  },
  {
   "cell_type": "code",
   "execution_count": 101,
   "id": "4bb199d0",
   "metadata": {},
   "outputs": [],
   "source": [
    "def df2target(df,uid):\n",
    "    \"\"\" must return df of format\n",
    "    ncodpers,added_products\n",
    "    15889,ind_tjcr_fin_ult1\n",
    "    15890,ind_tjcr_fin_ult1 ind_recibo_ult1\n",
    "    15892,ind_nomina_ult1\n",
    "    15893,\n",
    "    etc.\n",
    "    \"\"\"\n",
    "    #dfi = df.ncodpers==uid#.isin(ncodpers)\n",
    "    dfi=df[df.ncodpers==uid].sort_values(\"fecha_dato\",  ascending=True)\n",
    "    #dfi.sort(\"fecha_dato\", inplace=True, ascending=True)\n",
    "    dfid=dfi[target_cols].diff(axis=0)\n",
    "    a=dfid[dfid >0].stack()#.index.tolist()\n",
    "    a=a.reset_index()[\"level_1\"].unique().tolist()\n",
    "    a=\",\".join([str(uid),]+a)\n",
    "    return a"
   ]
  },
  {
   "cell_type": "code",
   "execution_count": 102,
   "id": "1ef8f06e",
   "metadata": {},
   "outputs": [
    {
     "data": {
      "text/plain": [
       "'1375586,ind_recibo_ult1'"
      ]
     },
     "execution_count": 102,
     "metadata": {},
     "output_type": "execute_result"
    }
   ],
   "source": [
    "df2target(train, uids[0])"
   ]
  },
  {
   "cell_type": "code",
   "execution_count": 103,
   "id": "3a438957",
   "metadata": {},
   "outputs": [
    {
     "data": {
      "text/plain": [
       "'1375586,ind_recibo_ult1'"
      ]
     },
     "metadata": {},
     "output_type": "display_data"
    },
    {
     "data": {
      "text/plain": [
       "'1050611'"
      ]
     },
     "metadata": {},
     "output_type": "display_data"
    },
    {
     "data": {
      "text/plain": [
       "'1050612'"
      ]
     },
     "metadata": {},
     "output_type": "display_data"
    },
    {
     "data": {
      "text/plain": [
       "'1050613'"
      ]
     },
     "metadata": {},
     "output_type": "display_data"
    },
    {
     "data": {
      "text/plain": [
       "'1050614'"
      ]
     },
     "metadata": {},
     "output_type": "display_data"
    },
    {
     "data": {
      "text/plain": [
       "'1050615'"
      ]
     },
     "metadata": {},
     "output_type": "display_data"
    },
    {
     "data": {
      "text/plain": [
       "'1050616'"
      ]
     },
     "metadata": {},
     "output_type": "display_data"
    },
    {
     "data": {
      "text/plain": [
       "'1050617'"
      ]
     },
     "metadata": {},
     "output_type": "display_data"
    },
    {
     "data": {
      "text/plain": [
       "'1050619'"
      ]
     },
     "metadata": {},
     "output_type": "display_data"
    },
    {
     "data": {
      "text/plain": [
       "'1050620,ind_reca_fin_ult1'"
      ]
     },
     "metadata": {},
     "output_type": "display_data"
    },
    {
     "data": {
      "text/plain": [
       "'1050621'"
      ]
     },
     "metadata": {},
     "output_type": "display_data"
    },
    {
     "data": {
      "text/plain": [
       "'1050622'"
      ]
     },
     "metadata": {},
     "output_type": "display_data"
    },
    {
     "data": {
      "text/plain": [
       "'1050623,ind_recibo_ult1,ind_cco_fin_ult1'"
      ]
     },
     "metadata": {},
     "output_type": "display_data"
    },
    {
     "data": {
      "text/plain": [
       "'1050624'"
      ]
     },
     "metadata": {},
     "output_type": "display_data"
    },
    {
     "data": {
      "text/plain": [
       "'1050625'"
      ]
     },
     "metadata": {},
     "output_type": "display_data"
    },
    {
     "data": {
      "text/plain": [
       "'1050626'"
      ]
     },
     "metadata": {},
     "output_type": "display_data"
    },
    {
     "data": {
      "text/plain": [
       "'1050610'"
      ]
     },
     "metadata": {},
     "output_type": "display_data"
    },
    {
     "data": {
      "text/plain": [
       "'1050627'"
      ]
     },
     "metadata": {},
     "output_type": "display_data"
    },
    {
     "data": {
      "text/plain": [
       "'1050609'"
      ]
     },
     "metadata": {},
     "output_type": "display_data"
    },
    {
     "data": {
      "text/plain": [
       "'1050605'"
      ]
     },
     "metadata": {},
     "output_type": "display_data"
    },
    {
     "data": {
      "text/plain": [
       "'1050582'"
      ]
     },
     "metadata": {},
     "output_type": "display_data"
    },
    {
     "data": {
      "text/plain": [
       "'1050586'"
      ]
     },
     "metadata": {},
     "output_type": "display_data"
    },
    {
     "data": {
      "text/plain": [
       "'1050588'"
      ]
     },
     "metadata": {},
     "output_type": "display_data"
    },
    {
     "data": {
      "text/plain": [
       "'1050589'"
      ]
     },
     "metadata": {},
     "output_type": "display_data"
    },
    {
     "data": {
      "text/plain": [
       "'1050591'"
      ]
     },
     "metadata": {},
     "output_type": "display_data"
    },
    {
     "data": {
      "text/plain": [
       "'1050592'"
      ]
     },
     "metadata": {},
     "output_type": "display_data"
    },
    {
     "data": {
      "text/plain": [
       "'1050595'"
      ]
     },
     "metadata": {},
     "output_type": "display_data"
    },
    {
     "data": {
      "text/plain": [
       "'1050596'"
      ]
     },
     "metadata": {},
     "output_type": "display_data"
    },
    {
     "data": {
      "text/plain": [
       "'1050597'"
      ]
     },
     "metadata": {},
     "output_type": "display_data"
    },
    {
     "data": {
      "text/plain": [
       "'1050598'"
      ]
     },
     "metadata": {},
     "output_type": "display_data"
    },
    {
     "data": {
      "text/plain": [
       "'1050599'"
      ]
     },
     "metadata": {},
     "output_type": "display_data"
    },
    {
     "data": {
      "text/plain": [
       "'1050601'"
      ]
     },
     "metadata": {},
     "output_type": "display_data"
    },
    {
     "data": {
      "text/plain": [
       "'1050602'"
      ]
     },
     "metadata": {},
     "output_type": "display_data"
    },
    {
     "data": {
      "text/plain": [
       "'1050603'"
      ]
     },
     "metadata": {},
     "output_type": "display_data"
    },
    {
     "data": {
      "text/plain": [
       "'1050604'"
      ]
     },
     "metadata": {},
     "output_type": "display_data"
    },
    {
     "data": {
      "text/plain": [
       "'1050607'"
      ]
     },
     "metadata": {},
     "output_type": "display_data"
    },
    {
     "data": {
      "text/plain": [
       "'1050580,ind_recibo_ult1'"
      ]
     },
     "metadata": {},
     "output_type": "display_data"
    },
    {
     "data": {
      "text/plain": [
       "'1050628'"
      ]
     },
     "metadata": {},
     "output_type": "display_data"
    },
    {
     "data": {
      "text/plain": [
       "'1050630'"
      ]
     },
     "metadata": {},
     "output_type": "display_data"
    },
    {
     "data": {
      "text/plain": [
       "'1050669,ind_reca_fin_ult1'"
      ]
     },
     "metadata": {},
     "output_type": "display_data"
    },
    {
     "data": {
      "text/plain": [
       "'1050670,ind_cco_fin_ult1'"
      ]
     },
     "metadata": {},
     "output_type": "display_data"
    },
    {
     "data": {
      "text/plain": [
       "'1050676,ind_ecue_fin_ult1,ind_cco_fin_ult1,ind_recibo_ult1'"
      ]
     },
     "metadata": {},
     "output_type": "display_data"
    },
    {
     "data": {
      "text/plain": [
       "'1050679'"
      ]
     },
     "metadata": {},
     "output_type": "display_data"
    },
    {
     "data": {
      "text/plain": [
       "'1050680'"
      ]
     },
     "metadata": {},
     "output_type": "display_data"
    },
    {
     "data": {
      "text/plain": [
       "'1050686,ind_recibo_ult1'"
      ]
     },
     "metadata": {},
     "output_type": "display_data"
    },
    {
     "data": {
      "text/plain": [
       "'1050688'"
      ]
     },
     "metadata": {},
     "output_type": "display_data"
    },
    {
     "data": {
      "text/plain": [
       "'1050693'"
      ]
     },
     "metadata": {},
     "output_type": "display_data"
    },
    {
     "data": {
      "text/plain": [
       "'1050694'"
      ]
     },
     "metadata": {},
     "output_type": "display_data"
    },
    {
     "data": {
      "text/plain": [
       "'1050697'"
      ]
     },
     "metadata": {},
     "output_type": "display_data"
    },
    {
     "data": {
      "text/plain": [
       "'1050703'"
      ]
     },
     "metadata": {},
     "output_type": "display_data"
    },
    {
     "data": {
      "text/plain": [
       "'1050704'"
      ]
     },
     "metadata": {},
     "output_type": "display_data"
    },
    {
     "data": {
      "text/plain": [
       "'1050706'"
      ]
     },
     "metadata": {},
     "output_type": "display_data"
    },
    {
     "data": {
      "text/plain": [
       "'1050707'"
      ]
     },
     "metadata": {},
     "output_type": "display_data"
    },
    {
     "data": {
      "text/plain": [
       "'1050710'"
      ]
     },
     "metadata": {},
     "output_type": "display_data"
    },
    {
     "data": {
      "text/plain": [
       "'1050663'"
      ]
     },
     "metadata": {},
     "output_type": "display_data"
    },
    {
     "data": {
      "text/plain": [
       "'1050629'"
      ]
     },
     "metadata": {},
     "output_type": "display_data"
    },
    {
     "data": {
      "text/plain": [
       "'1050662'"
      ]
     },
     "metadata": {},
     "output_type": "display_data"
    },
    {
     "data": {
      "text/plain": [
       "'1050660'"
      ]
     },
     "metadata": {},
     "output_type": "display_data"
    },
    {
     "data": {
      "text/plain": [
       "'1050632'"
      ]
     },
     "metadata": {},
     "output_type": "display_data"
    },
    {
     "data": {
      "text/plain": [
       "'1050633'"
      ]
     },
     "metadata": {},
     "output_type": "display_data"
    },
    {
     "data": {
      "text/plain": [
       "'1050634'"
      ]
     },
     "metadata": {},
     "output_type": "display_data"
    },
    {
     "data": {
      "text/plain": [
       "'1050635'"
      ]
     },
     "metadata": {},
     "output_type": "display_data"
    },
    {
     "data": {
      "text/plain": [
       "'1050636'"
      ]
     },
     "metadata": {},
     "output_type": "display_data"
    },
    {
     "data": {
      "text/plain": [
       "'1050639'"
      ]
     },
     "metadata": {},
     "output_type": "display_data"
    },
    {
     "data": {
      "text/plain": [
       "'1050641'"
      ]
     },
     "metadata": {},
     "output_type": "display_data"
    },
    {
     "data": {
      "text/plain": [
       "'1050642'"
      ]
     },
     "metadata": {},
     "output_type": "display_data"
    },
    {
     "data": {
      "text/plain": [
       "'1050647,ind_recibo_ult1,ind_cco_fin_ult1,ind_nomina_ult1,ind_nom_pens_ult1'"
      ]
     },
     "metadata": {},
     "output_type": "display_data"
    },
    {
     "data": {
      "text/plain": [
       "'1050648'"
      ]
     },
     "metadata": {},
     "output_type": "display_data"
    },
    {
     "data": {
      "text/plain": [
       "'1050651,ind_nomina_ult1,ind_nom_pens_ult1'"
      ]
     },
     "metadata": {},
     "output_type": "display_data"
    },
    {
     "data": {
      "text/plain": [
       "'1050652,ind_nomina_ult1,ind_nom_pens_ult1,ind_recibo_ult1'"
      ]
     },
     "metadata": {},
     "output_type": "display_data"
    },
    {
     "data": {
      "text/plain": [
       "'1050655'"
      ]
     },
     "metadata": {},
     "output_type": "display_data"
    },
    {
     "data": {
      "text/plain": [
       "'1050658'"
      ]
     },
     "metadata": {},
     "output_type": "display_data"
    },
    {
     "data": {
      "text/plain": [
       "'1050659,ind_recibo_ult1,ind_nomina_ult1,ind_nom_pens_ult1,ind_valo_fin_ult1'"
      ]
     },
     "metadata": {},
     "output_type": "display_data"
    },
    {
     "data": {
      "text/plain": [
       "'1050661'"
      ]
     },
     "metadata": {},
     "output_type": "display_data"
    },
    {
     "data": {
      "text/plain": [
       "'1050711'"
      ]
     },
     "metadata": {},
     "output_type": "display_data"
    },
    {
     "data": {
      "text/plain": [
       "'1050579'"
      ]
     },
     "metadata": {},
     "output_type": "display_data"
    },
    {
     "data": {
      "text/plain": [
       "'1050577'"
      ]
     },
     "metadata": {},
     "output_type": "display_data"
    },
    {
     "data": {
      "text/plain": [
       "'1050507,ind_recibo_ult1'"
      ]
     },
     "metadata": {},
     "output_type": "display_data"
    },
    {
     "data": {
      "text/plain": [
       "'1050508'"
      ]
     },
     "metadata": {},
     "output_type": "display_data"
    },
    {
     "data": {
      "text/plain": [
       "'1050509'"
      ]
     },
     "metadata": {},
     "output_type": "display_data"
    },
    {
     "data": {
      "text/plain": [
       "'1050511'"
      ]
     },
     "metadata": {},
     "output_type": "display_data"
    },
    {
     "data": {
      "text/plain": [
       "'1050512'"
      ]
     },
     "metadata": {},
     "output_type": "display_data"
    },
    {
     "data": {
      "text/plain": [
       "'1050513'"
      ]
     },
     "metadata": {},
     "output_type": "display_data"
    },
    {
     "data": {
      "text/plain": [
       "'1050514'"
      ]
     },
     "metadata": {},
     "output_type": "display_data"
    },
    {
     "data": {
      "text/plain": [
       "'1050515'"
      ]
     },
     "metadata": {},
     "output_type": "display_data"
    },
    {
     "data": {
      "text/plain": [
       "'1050516'"
      ]
     },
     "metadata": {},
     "output_type": "display_data"
    },
    {
     "data": {
      "text/plain": [
       "'1050517'"
      ]
     },
     "metadata": {},
     "output_type": "display_data"
    },
    {
     "data": {
      "text/plain": [
       "'1050520'"
      ]
     },
     "metadata": {},
     "output_type": "display_data"
    },
    {
     "data": {
      "text/plain": [
       "'1050521'"
      ]
     },
     "metadata": {},
     "output_type": "display_data"
    },
    {
     "data": {
      "text/plain": [
       "'1050522'"
      ]
     },
     "metadata": {},
     "output_type": "display_data"
    },
    {
     "data": {
      "text/plain": [
       "'1050523'"
      ]
     },
     "metadata": {},
     "output_type": "display_data"
    },
    {
     "data": {
      "text/plain": [
       "'1050524'"
      ]
     },
     "metadata": {},
     "output_type": "display_data"
    },
    {
     "data": {
      "text/plain": [
       "'1050505'"
      ]
     },
     "metadata": {},
     "output_type": "display_data"
    },
    {
     "data": {
      "text/plain": [
       "'1050525'"
      ]
     },
     "metadata": {},
     "output_type": "display_data"
    },
    {
     "data": {
      "text/plain": [
       "'1050504'"
      ]
     },
     "metadata": {},
     "output_type": "display_data"
    },
    {
     "data": {
      "text/plain": [
       "'1050502'"
      ]
     },
     "metadata": {},
     "output_type": "display_data"
    },
    {
     "data": {
      "text/plain": [
       "'1050487'"
      ]
     },
     "metadata": {},
     "output_type": "display_data"
    },
    {
     "data": {
      "text/plain": [
       "'1050488'"
      ]
     },
     "metadata": {},
     "output_type": "display_data"
    },
    {
     "data": {
      "text/plain": [
       "'1050489'"
      ]
     },
     "metadata": {},
     "output_type": "display_data"
    },
    {
     "data": {
      "text/plain": [
       "'1050490'"
      ]
     },
     "metadata": {},
     "output_type": "display_data"
    }
   ],
   "source": [
    "for i in range(100):\n",
    "    display(df2target(train, uids[i]))"
   ]
  },
  {
   "cell_type": "markdown",
   "id": "3cf8c991",
   "metadata": {},
   "source": [
    "# Create Output files"
   ]
  },
  {
   "cell_type": "markdown",
   "id": "37c401a7",
   "metadata": {},
   "source": [
    "1. Train set"
   ]
  },
  {
   "cell_type": "code",
   "execution_count": 104,
   "id": "2cec6b49",
   "metadata": {},
   "outputs": [
    {
     "name": "stdout",
     "output_type": "stream",
     "text": [
      "/bin/bash: line 1: s: command not found\r\n"
     ]
    }
   ],
   "source": [
    "!s"
   ]
  },
  {
   "cell_type": "code",
   "execution_count": 105,
   "id": "ae5a34b6",
   "metadata": {},
   "outputs": [
    {
     "name": "stdout",
     "output_type": "stream",
     "text": [
      "20220708_nextsteps.pptx  test_submission  Untitled.ipynb\r\n",
      "sample_submission.csv\t test_ver2.csv\t  Untitled.py\r\n",
      "s-product-recomendation  train_ver2.csv   Untitled.txt\r\n"
     ]
    }
   ],
   "source": [
    "!ls"
   ]
  },
  {
   "cell_type": "code",
   "execution_count": 106,
   "id": "0dfcbf96",
   "metadata": {},
   "outputs": [
    {
     "name": "stdout",
     "output_type": "stream",
     "text": [
      "/home/raischel/Synology/Drive/Arbeit/BNPP/Kaggle/Kaggle_santander_prodrec\r\n"
     ]
    }
   ],
   "source": [
    "!pwd"
   ]
  },
  {
   "cell_type": "code",
   "execution_count": 107,
   "id": "b36dff31",
   "metadata": {},
   "outputs": [
    {
     "data": {
      "text/plain": [
       "(11734949, 48)"
      ]
     },
     "execution_count": 107,
     "metadata": {},
     "output_type": "execute_result"
    }
   ],
   "source": [
    "train.shape"
   ]
  },
  {
   "cell_type": "code",
   "execution_count": 108,
   "id": "068a1049",
   "metadata": {},
   "outputs": [
    {
     "data": {
      "text/html": [
       "<div>\n",
       "<style scoped>\n",
       "    .dataframe tbody tr th:only-of-type {\n",
       "        vertical-align: middle;\n",
       "    }\n",
       "\n",
       "    .dataframe tbody tr th {\n",
       "        vertical-align: top;\n",
       "    }\n",
       "\n",
       "    .dataframe thead th {\n",
       "        text-align: right;\n",
       "    }\n",
       "</style>\n",
       "<table border=\"1\" class=\"dataframe\">\n",
       "  <thead>\n",
       "    <tr style=\"text-align: right;\">\n",
       "      <th></th>\n",
       "      <th>fecha_dato</th>\n",
       "      <th>ncodpers</th>\n",
       "      <th>ind_empleado</th>\n",
       "      <th>pais_residencia</th>\n",
       "      <th>sexo</th>\n",
       "      <th>age</th>\n",
       "      <th>fecha_alta</th>\n",
       "      <th>ind_nuevo</th>\n",
       "      <th>antiguedad</th>\n",
       "      <th>indrel</th>\n",
       "      <th>ult_fec_cli_1t</th>\n",
       "      <th>indrel_1mes</th>\n",
       "      <th>tiprel_1mes</th>\n",
       "      <th>indresi</th>\n",
       "      <th>indext</th>\n",
       "      <th>conyuemp</th>\n",
       "      <th>canal_entrada</th>\n",
       "      <th>indfall</th>\n",
       "      <th>tipodom</th>\n",
       "      <th>cod_prov</th>\n",
       "      <th>nomprov</th>\n",
       "      <th>ind_actividad_cliente</th>\n",
       "      <th>renta</th>\n",
       "      <th>segmento</th>\n",
       "      <th>ind_ahor_fin_ult1</th>\n",
       "      <th>ind_aval_fin_ult1</th>\n",
       "      <th>ind_cco_fin_ult1</th>\n",
       "      <th>ind_cder_fin_ult1</th>\n",
       "      <th>ind_cno_fin_ult1</th>\n",
       "      <th>ind_ctju_fin_ult1</th>\n",
       "      <th>ind_ctma_fin_ult1</th>\n",
       "      <th>ind_ctop_fin_ult1</th>\n",
       "      <th>ind_ctpp_fin_ult1</th>\n",
       "      <th>ind_deco_fin_ult1</th>\n",
       "      <th>ind_deme_fin_ult1</th>\n",
       "      <th>ind_dela_fin_ult1</th>\n",
       "      <th>ind_ecue_fin_ult1</th>\n",
       "      <th>ind_fond_fin_ult1</th>\n",
       "      <th>ind_hip_fin_ult1</th>\n",
       "      <th>ind_plan_fin_ult1</th>\n",
       "      <th>ind_pres_fin_ult1</th>\n",
       "      <th>ind_reca_fin_ult1</th>\n",
       "      <th>ind_tjcr_fin_ult1</th>\n",
       "      <th>ind_valo_fin_ult1</th>\n",
       "      <th>ind_viv_fin_ult1</th>\n",
       "      <th>ind_nomina_ult1</th>\n",
       "      <th>ind_nom_pens_ult1</th>\n",
       "      <th>ind_recibo_ult1</th>\n",
       "    </tr>\n",
       "  </thead>\n",
       "  <tbody>\n",
       "    <tr>\n",
       "      <th>0</th>\n",
       "      <td>2015-01-28</td>\n",
       "      <td>1375586</td>\n",
       "      <td>N</td>\n",
       "      <td>ES</td>\n",
       "      <td>H</td>\n",
       "      <td>35</td>\n",
       "      <td>2015-01-12</td>\n",
       "      <td>0.0</td>\n",
       "      <td>6</td>\n",
       "      <td>1.0</td>\n",
       "      <td>NaN</td>\n",
       "      <td>1.0</td>\n",
       "      <td>A</td>\n",
       "      <td>S</td>\n",
       "      <td>N</td>\n",
       "      <td>NaN</td>\n",
       "      <td>KHL</td>\n",
       "      <td>N</td>\n",
       "      <td>1.0</td>\n",
       "      <td>29.0</td>\n",
       "      <td>MALAGA</td>\n",
       "      <td>1.0</td>\n",
       "      <td>87218.10</td>\n",
       "      <td>02 - PARTICULARES</td>\n",
       "      <td>0</td>\n",
       "      <td>0</td>\n",
       "      <td>1</td>\n",
       "      <td>0</td>\n",
       "      <td>0</td>\n",
       "      <td>0</td>\n",
       "      <td>0</td>\n",
       "      <td>0</td>\n",
       "      <td>0</td>\n",
       "      <td>0</td>\n",
       "      <td>0</td>\n",
       "      <td>0</td>\n",
       "      <td>0</td>\n",
       "      <td>0</td>\n",
       "      <td>0</td>\n",
       "      <td>0</td>\n",
       "      <td>0</td>\n",
       "      <td>0</td>\n",
       "      <td>0</td>\n",
       "      <td>0</td>\n",
       "      <td>0</td>\n",
       "      <td>0.0</td>\n",
       "      <td>0.0</td>\n",
       "      <td>0</td>\n",
       "    </tr>\n",
       "    <tr>\n",
       "      <th>2</th>\n",
       "      <td>2015-01-28</td>\n",
       "      <td>1050612</td>\n",
       "      <td>N</td>\n",
       "      <td>ES</td>\n",
       "      <td>V</td>\n",
       "      <td>23</td>\n",
       "      <td>2012-08-10</td>\n",
       "      <td>0.0</td>\n",
       "      <td>35</td>\n",
       "      <td>1.0</td>\n",
       "      <td>NaN</td>\n",
       "      <td>1.0</td>\n",
       "      <td>I</td>\n",
       "      <td>S</td>\n",
       "      <td>N</td>\n",
       "      <td>NaN</td>\n",
       "      <td>KHE</td>\n",
       "      <td>N</td>\n",
       "      <td>1.0</td>\n",
       "      <td>13.0</td>\n",
       "      <td>CIUDAD REAL</td>\n",
       "      <td>0.0</td>\n",
       "      <td>122179.11</td>\n",
       "      <td>03 - UNIVERSITARIO</td>\n",
       "      <td>0</td>\n",
       "      <td>0</td>\n",
       "      <td>1</td>\n",
       "      <td>0</td>\n",
       "      <td>0</td>\n",
       "      <td>0</td>\n",
       "      <td>0</td>\n",
       "      <td>0</td>\n",
       "      <td>0</td>\n",
       "      <td>0</td>\n",
       "      <td>0</td>\n",
       "      <td>0</td>\n",
       "      <td>0</td>\n",
       "      <td>0</td>\n",
       "      <td>0</td>\n",
       "      <td>0</td>\n",
       "      <td>0</td>\n",
       "      <td>0</td>\n",
       "      <td>0</td>\n",
       "      <td>0</td>\n",
       "      <td>0</td>\n",
       "      <td>0.0</td>\n",
       "      <td>0.0</td>\n",
       "      <td>0</td>\n",
       "    </tr>\n",
       "    <tr>\n",
       "      <th>3</th>\n",
       "      <td>2015-01-28</td>\n",
       "      <td>1050613</td>\n",
       "      <td>N</td>\n",
       "      <td>ES</td>\n",
       "      <td>H</td>\n",
       "      <td>22</td>\n",
       "      <td>2012-08-10</td>\n",
       "      <td>0.0</td>\n",
       "      <td>35</td>\n",
       "      <td>1.0</td>\n",
       "      <td>NaN</td>\n",
       "      <td>1.0</td>\n",
       "      <td>I</td>\n",
       "      <td>S</td>\n",
       "      <td>N</td>\n",
       "      <td>NaN</td>\n",
       "      <td>KHD</td>\n",
       "      <td>N</td>\n",
       "      <td>1.0</td>\n",
       "      <td>50.0</td>\n",
       "      <td>ZARAGOZA</td>\n",
       "      <td>0.0</td>\n",
       "      <td>119775.54</td>\n",
       "      <td>03 - UNIVERSITARIO</td>\n",
       "      <td>0</td>\n",
       "      <td>0</td>\n",
       "      <td>0</td>\n",
       "      <td>0</td>\n",
       "      <td>0</td>\n",
       "      <td>0</td>\n",
       "      <td>0</td>\n",
       "      <td>0</td>\n",
       "      <td>0</td>\n",
       "      <td>1</td>\n",
       "      <td>0</td>\n",
       "      <td>0</td>\n",
       "      <td>0</td>\n",
       "      <td>0</td>\n",
       "      <td>0</td>\n",
       "      <td>0</td>\n",
       "      <td>0</td>\n",
       "      <td>0</td>\n",
       "      <td>0</td>\n",
       "      <td>0</td>\n",
       "      <td>0</td>\n",
       "      <td>0.0</td>\n",
       "      <td>0.0</td>\n",
       "      <td>0</td>\n",
       "    </tr>\n",
       "    <tr>\n",
       "      <th>5</th>\n",
       "      <td>2015-01-28</td>\n",
       "      <td>1050615</td>\n",
       "      <td>N</td>\n",
       "      <td>ES</td>\n",
       "      <td>H</td>\n",
       "      <td>23</td>\n",
       "      <td>2012-08-10</td>\n",
       "      <td>0.0</td>\n",
       "      <td>35</td>\n",
       "      <td>1.0</td>\n",
       "      <td>NaN</td>\n",
       "      <td>1.0</td>\n",
       "      <td>I</td>\n",
       "      <td>S</td>\n",
       "      <td>N</td>\n",
       "      <td>NaN</td>\n",
       "      <td>KHE</td>\n",
       "      <td>N</td>\n",
       "      <td>1.0</td>\n",
       "      <td>45.0</td>\n",
       "      <td>TOLEDO</td>\n",
       "      <td>0.0</td>\n",
       "      <td>22220.04</td>\n",
       "      <td>03 - UNIVERSITARIO</td>\n",
       "      <td>0</td>\n",
       "      <td>0</td>\n",
       "      <td>1</td>\n",
       "      <td>0</td>\n",
       "      <td>0</td>\n",
       "      <td>0</td>\n",
       "      <td>0</td>\n",
       "      <td>0</td>\n",
       "      <td>0</td>\n",
       "      <td>0</td>\n",
       "      <td>0</td>\n",
       "      <td>0</td>\n",
       "      <td>0</td>\n",
       "      <td>0</td>\n",
       "      <td>0</td>\n",
       "      <td>0</td>\n",
       "      <td>0</td>\n",
       "      <td>0</td>\n",
       "      <td>0</td>\n",
       "      <td>0</td>\n",
       "      <td>0</td>\n",
       "      <td>0.0</td>\n",
       "      <td>0.0</td>\n",
       "      <td>0</td>\n",
       "    </tr>\n",
       "    <tr>\n",
       "      <th>6</th>\n",
       "      <td>2015-01-28</td>\n",
       "      <td>1050616</td>\n",
       "      <td>N</td>\n",
       "      <td>ES</td>\n",
       "      <td>H</td>\n",
       "      <td>23</td>\n",
       "      <td>2012-08-10</td>\n",
       "      <td>0.0</td>\n",
       "      <td>35</td>\n",
       "      <td>1.0</td>\n",
       "      <td>NaN</td>\n",
       "      <td>1.0</td>\n",
       "      <td>I</td>\n",
       "      <td>S</td>\n",
       "      <td>N</td>\n",
       "      <td>NaN</td>\n",
       "      <td>KHE</td>\n",
       "      <td>N</td>\n",
       "      <td>1.0</td>\n",
       "      <td>24.0</td>\n",
       "      <td>LEON</td>\n",
       "      <td>0.0</td>\n",
       "      <td>295590.36</td>\n",
       "      <td>03 - UNIVERSITARIO</td>\n",
       "      <td>0</td>\n",
       "      <td>0</td>\n",
       "      <td>1</td>\n",
       "      <td>0</td>\n",
       "      <td>0</td>\n",
       "      <td>0</td>\n",
       "      <td>0</td>\n",
       "      <td>0</td>\n",
       "      <td>0</td>\n",
       "      <td>0</td>\n",
       "      <td>0</td>\n",
       "      <td>0</td>\n",
       "      <td>0</td>\n",
       "      <td>0</td>\n",
       "      <td>0</td>\n",
       "      <td>0</td>\n",
       "      <td>0</td>\n",
       "      <td>0</td>\n",
       "      <td>0</td>\n",
       "      <td>0</td>\n",
       "      <td>0</td>\n",
       "      <td>0.0</td>\n",
       "      <td>0.0</td>\n",
       "      <td>0</td>\n",
       "    </tr>\n",
       "  </tbody>\n",
       "</table>\n",
       "</div>"
      ],
      "text/plain": [
       "   fecha_dato  ncodpers ind_empleado pais_residencia sexo  age  fecha_alta  \\\n",
       "0  2015-01-28   1375586            N              ES    H   35  2015-01-12   \n",
       "2  2015-01-28   1050612            N              ES    V   23  2012-08-10   \n",
       "3  2015-01-28   1050613            N              ES    H   22  2012-08-10   \n",
       "5  2015-01-28   1050615            N              ES    H   23  2012-08-10   \n",
       "6  2015-01-28   1050616            N              ES    H   23  2012-08-10   \n",
       "\n",
       "   ind_nuevo antiguedad  indrel ult_fec_cli_1t indrel_1mes tiprel_1mes  \\\n",
       "0        0.0          6     1.0            NaN         1.0           A   \n",
       "2        0.0         35     1.0            NaN         1.0           I   \n",
       "3        0.0         35     1.0            NaN         1.0           I   \n",
       "5        0.0         35     1.0            NaN         1.0           I   \n",
       "6        0.0         35     1.0            NaN         1.0           I   \n",
       "\n",
       "  indresi indext conyuemp canal_entrada indfall  tipodom  cod_prov  \\\n",
       "0       S      N      NaN           KHL       N      1.0      29.0   \n",
       "2       S      N      NaN           KHE       N      1.0      13.0   \n",
       "3       S      N      NaN           KHD       N      1.0      50.0   \n",
       "5       S      N      NaN           KHE       N      1.0      45.0   \n",
       "6       S      N      NaN           KHE       N      1.0      24.0   \n",
       "\n",
       "       nomprov  ind_actividad_cliente      renta            segmento  \\\n",
       "0       MALAGA                    1.0   87218.10   02 - PARTICULARES   \n",
       "2  CIUDAD REAL                    0.0  122179.11  03 - UNIVERSITARIO   \n",
       "3     ZARAGOZA                    0.0  119775.54  03 - UNIVERSITARIO   \n",
       "5       TOLEDO                    0.0   22220.04  03 - UNIVERSITARIO   \n",
       "6         LEON                    0.0  295590.36  03 - UNIVERSITARIO   \n",
       "\n",
       "   ind_ahor_fin_ult1  ind_aval_fin_ult1  ind_cco_fin_ult1  ind_cder_fin_ult1  \\\n",
       "0                  0                  0                 1                  0   \n",
       "2                  0                  0                 1                  0   \n",
       "3                  0                  0                 0                  0   \n",
       "5                  0                  0                 1                  0   \n",
       "6                  0                  0                 1                  0   \n",
       "\n",
       "   ind_cno_fin_ult1  ind_ctju_fin_ult1  ind_ctma_fin_ult1  ind_ctop_fin_ult1  \\\n",
       "0                 0                  0                  0                  0   \n",
       "2                 0                  0                  0                  0   \n",
       "3                 0                  0                  0                  0   \n",
       "5                 0                  0                  0                  0   \n",
       "6                 0                  0                  0                  0   \n",
       "\n",
       "   ind_ctpp_fin_ult1  ind_deco_fin_ult1  ind_deme_fin_ult1  ind_dela_fin_ult1  \\\n",
       "0                  0                  0                  0                  0   \n",
       "2                  0                  0                  0                  0   \n",
       "3                  0                  1                  0                  0   \n",
       "5                  0                  0                  0                  0   \n",
       "6                  0                  0                  0                  0   \n",
       "\n",
       "   ind_ecue_fin_ult1  ind_fond_fin_ult1  ind_hip_fin_ult1  ind_plan_fin_ult1  \\\n",
       "0                  0                  0                 0                  0   \n",
       "2                  0                  0                 0                  0   \n",
       "3                  0                  0                 0                  0   \n",
       "5                  0                  0                 0                  0   \n",
       "6                  0                  0                 0                  0   \n",
       "\n",
       "   ind_pres_fin_ult1  ind_reca_fin_ult1  ind_tjcr_fin_ult1  ind_valo_fin_ult1  \\\n",
       "0                  0                  0                  0                  0   \n",
       "2                  0                  0                  0                  0   \n",
       "3                  0                  0                  0                  0   \n",
       "5                  0                  0                  0                  0   \n",
       "6                  0                  0                  0                  0   \n",
       "\n",
       "   ind_viv_fin_ult1  ind_nomina_ult1  ind_nom_pens_ult1  ind_recibo_ult1  \n",
       "0                 0              0.0                0.0                0  \n",
       "2                 0              0.0                0.0                0  \n",
       "3                 0              0.0                0.0                0  \n",
       "5                 0              0.0                0.0                0  \n",
       "6                 0              0.0                0.0                0  "
      ]
     },
     "execution_count": 108,
     "metadata": {},
     "output_type": "execute_result"
    }
   ],
   "source": [
    "train.head()"
   ]
  },
  {
   "cell_type": "code",
   "execution_count": 129,
   "id": "086b27c4",
   "metadata": {},
   "outputs": [],
   "source": [
    "#train.to_csv(\"train_FR.csv.gz\")\n",
    "!rm train_FR.csv.gz"
   ]
  },
  {
   "cell_type": "markdown",
   "id": "3d2a9f2a",
   "metadata": {},
   "source": [
    "2. test_private"
   ]
  },
  {
   "cell_type": "code",
   "execution_count": 110,
   "id": "6c2f230d",
   "metadata": {},
   "outputs": [
    {
     "data": {
      "text/html": [
       "<div>\n",
       "<style scoped>\n",
       "    .dataframe tbody tr th:only-of-type {\n",
       "        vertical-align: middle;\n",
       "    }\n",
       "\n",
       "    .dataframe tbody tr th {\n",
       "        vertical-align: top;\n",
       "    }\n",
       "\n",
       "    .dataframe thead th {\n",
       "        text-align: right;\n",
       "    }\n",
       "</style>\n",
       "<table border=\"1\" class=\"dataframe\">\n",
       "  <thead>\n",
       "    <tr style=\"text-align: right;\">\n",
       "      <th></th>\n",
       "      <th>fecha_dato</th>\n",
       "      <th>ncodpers</th>\n",
       "      <th>ind_empleado</th>\n",
       "      <th>pais_residencia</th>\n",
       "      <th>sexo</th>\n",
       "      <th>age</th>\n",
       "      <th>fecha_alta</th>\n",
       "      <th>ind_nuevo</th>\n",
       "      <th>antiguedad</th>\n",
       "      <th>indrel</th>\n",
       "      <th>ult_fec_cli_1t</th>\n",
       "      <th>indrel_1mes</th>\n",
       "      <th>tiprel_1mes</th>\n",
       "      <th>indresi</th>\n",
       "      <th>indext</th>\n",
       "      <th>conyuemp</th>\n",
       "      <th>canal_entrada</th>\n",
       "      <th>indfall</th>\n",
       "      <th>tipodom</th>\n",
       "      <th>cod_prov</th>\n",
       "      <th>nomprov</th>\n",
       "      <th>ind_actividad_cliente</th>\n",
       "      <th>renta</th>\n",
       "      <th>segmento</th>\n",
       "      <th>ind_ahor_fin_ult1</th>\n",
       "      <th>ind_aval_fin_ult1</th>\n",
       "      <th>ind_cco_fin_ult1</th>\n",
       "      <th>ind_cder_fin_ult1</th>\n",
       "      <th>ind_cno_fin_ult1</th>\n",
       "      <th>ind_ctju_fin_ult1</th>\n",
       "      <th>ind_ctma_fin_ult1</th>\n",
       "      <th>ind_ctop_fin_ult1</th>\n",
       "      <th>ind_ctpp_fin_ult1</th>\n",
       "      <th>ind_deco_fin_ult1</th>\n",
       "      <th>ind_deme_fin_ult1</th>\n",
       "      <th>ind_dela_fin_ult1</th>\n",
       "      <th>ind_ecue_fin_ult1</th>\n",
       "      <th>ind_fond_fin_ult1</th>\n",
       "      <th>ind_hip_fin_ult1</th>\n",
       "      <th>ind_plan_fin_ult1</th>\n",
       "      <th>ind_pres_fin_ult1</th>\n",
       "      <th>ind_reca_fin_ult1</th>\n",
       "      <th>ind_tjcr_fin_ult1</th>\n",
       "      <th>ind_valo_fin_ult1</th>\n",
       "      <th>ind_viv_fin_ult1</th>\n",
       "      <th>ind_nomina_ult1</th>\n",
       "      <th>ind_nom_pens_ult1</th>\n",
       "      <th>ind_recibo_ult1</th>\n",
       "    </tr>\n",
       "  </thead>\n",
       "  <tbody>\n",
       "    <tr>\n",
       "      <th>4</th>\n",
       "      <td>2015-01-28</td>\n",
       "      <td>1050614</td>\n",
       "      <td>N</td>\n",
       "      <td>ES</td>\n",
       "      <td>V</td>\n",
       "      <td>23</td>\n",
       "      <td>2012-08-10</td>\n",
       "      <td>0.0</td>\n",
       "      <td>35</td>\n",
       "      <td>1.0</td>\n",
       "      <td>NaN</td>\n",
       "      <td>1.0</td>\n",
       "      <td>A</td>\n",
       "      <td>S</td>\n",
       "      <td>N</td>\n",
       "      <td>NaN</td>\n",
       "      <td>KHE</td>\n",
       "      <td>N</td>\n",
       "      <td>1.0</td>\n",
       "      <td>50.0</td>\n",
       "      <td>ZARAGOZA</td>\n",
       "      <td>1.0</td>\n",
       "      <td>NaN</td>\n",
       "      <td>03 - UNIVERSITARIO</td>\n",
       "      <td>0</td>\n",
       "      <td>0</td>\n",
       "      <td>1</td>\n",
       "      <td>0</td>\n",
       "      <td>0</td>\n",
       "      <td>0</td>\n",
       "      <td>0</td>\n",
       "      <td>0</td>\n",
       "      <td>0</td>\n",
       "      <td>0</td>\n",
       "      <td>0</td>\n",
       "      <td>0</td>\n",
       "      <td>0</td>\n",
       "      <td>0</td>\n",
       "      <td>0</td>\n",
       "      <td>0</td>\n",
       "      <td>0</td>\n",
       "      <td>0</td>\n",
       "      <td>0</td>\n",
       "      <td>0</td>\n",
       "      <td>0</td>\n",
       "      <td>0.0</td>\n",
       "      <td>0.0</td>\n",
       "      <td>0</td>\n",
       "    </tr>\n",
       "    <tr>\n",
       "      <th>28</th>\n",
       "      <td>2015-01-28</td>\n",
       "      <td>1050597</td>\n",
       "      <td>N</td>\n",
       "      <td>ES</td>\n",
       "      <td>H</td>\n",
       "      <td>23</td>\n",
       "      <td>2012-08-10</td>\n",
       "      <td>0.0</td>\n",
       "      <td>35</td>\n",
       "      <td>1.0</td>\n",
       "      <td>NaN</td>\n",
       "      <td>1.0</td>\n",
       "      <td>A</td>\n",
       "      <td>S</td>\n",
       "      <td>N</td>\n",
       "      <td>NaN</td>\n",
       "      <td>KHE</td>\n",
       "      <td>N</td>\n",
       "      <td>1.0</td>\n",
       "      <td>45.0</td>\n",
       "      <td>TOLEDO</td>\n",
       "      <td>0.0</td>\n",
       "      <td>NaN</td>\n",
       "      <td>03 - UNIVERSITARIO</td>\n",
       "      <td>0</td>\n",
       "      <td>0</td>\n",
       "      <td>1</td>\n",
       "      <td>0</td>\n",
       "      <td>0</td>\n",
       "      <td>0</td>\n",
       "      <td>0</td>\n",
       "      <td>0</td>\n",
       "      <td>0</td>\n",
       "      <td>0</td>\n",
       "      <td>0</td>\n",
       "      <td>0</td>\n",
       "      <td>0</td>\n",
       "      <td>0</td>\n",
       "      <td>0</td>\n",
       "      <td>0</td>\n",
       "      <td>0</td>\n",
       "      <td>0</td>\n",
       "      <td>0</td>\n",
       "      <td>0</td>\n",
       "      <td>0</td>\n",
       "      <td>0.0</td>\n",
       "      <td>0.0</td>\n",
       "      <td>0</td>\n",
       "    </tr>\n",
       "    <tr>\n",
       "      <th>29</th>\n",
       "      <td>2015-01-28</td>\n",
       "      <td>1050598</td>\n",
       "      <td>N</td>\n",
       "      <td>ES</td>\n",
       "      <td>H</td>\n",
       "      <td>23</td>\n",
       "      <td>2012-08-10</td>\n",
       "      <td>0.0</td>\n",
       "      <td>35</td>\n",
       "      <td>1.0</td>\n",
       "      <td>NaN</td>\n",
       "      <td>1.0</td>\n",
       "      <td>A</td>\n",
       "      <td>S</td>\n",
       "      <td>N</td>\n",
       "      <td>NaN</td>\n",
       "      <td>KHE</td>\n",
       "      <td>N</td>\n",
       "      <td>1.0</td>\n",
       "      <td>45.0</td>\n",
       "      <td>TOLEDO</td>\n",
       "      <td>1.0</td>\n",
       "      <td>90408.75</td>\n",
       "      <td>03 - UNIVERSITARIO</td>\n",
       "      <td>0</td>\n",
       "      <td>0</td>\n",
       "      <td>1</td>\n",
       "      <td>0</td>\n",
       "      <td>0</td>\n",
       "      <td>0</td>\n",
       "      <td>0</td>\n",
       "      <td>0</td>\n",
       "      <td>0</td>\n",
       "      <td>0</td>\n",
       "      <td>0</td>\n",
       "      <td>0</td>\n",
       "      <td>0</td>\n",
       "      <td>0</td>\n",
       "      <td>0</td>\n",
       "      <td>0</td>\n",
       "      <td>0</td>\n",
       "      <td>0</td>\n",
       "      <td>0</td>\n",
       "      <td>0</td>\n",
       "      <td>0</td>\n",
       "      <td>0.0</td>\n",
       "      <td>0.0</td>\n",
       "      <td>0</td>\n",
       "    </tr>\n",
       "    <tr>\n",
       "      <th>78</th>\n",
       "      <td>2015-01-28</td>\n",
       "      <td>1050508</td>\n",
       "      <td>N</td>\n",
       "      <td>ES</td>\n",
       "      <td>H</td>\n",
       "      <td>27</td>\n",
       "      <td>2012-08-10</td>\n",
       "      <td>0.0</td>\n",
       "      <td>35</td>\n",
       "      <td>1.0</td>\n",
       "      <td>NaN</td>\n",
       "      <td>1.0</td>\n",
       "      <td>A</td>\n",
       "      <td>S</td>\n",
       "      <td>S</td>\n",
       "      <td>NaN</td>\n",
       "      <td>KHE</td>\n",
       "      <td>N</td>\n",
       "      <td>1.0</td>\n",
       "      <td>8.0</td>\n",
       "      <td>BARCELONA</td>\n",
       "      <td>1.0</td>\n",
       "      <td>173223.78</td>\n",
       "      <td>03 - UNIVERSITARIO</td>\n",
       "      <td>0</td>\n",
       "      <td>0</td>\n",
       "      <td>1</td>\n",
       "      <td>0</td>\n",
       "      <td>0</td>\n",
       "      <td>0</td>\n",
       "      <td>0</td>\n",
       "      <td>0</td>\n",
       "      <td>0</td>\n",
       "      <td>0</td>\n",
       "      <td>0</td>\n",
       "      <td>0</td>\n",
       "      <td>0</td>\n",
       "      <td>0</td>\n",
       "      <td>0</td>\n",
       "      <td>0</td>\n",
       "      <td>0</td>\n",
       "      <td>0</td>\n",
       "      <td>0</td>\n",
       "      <td>0</td>\n",
       "      <td>0</td>\n",
       "      <td>0.0</td>\n",
       "      <td>0.0</td>\n",
       "      <td>0</td>\n",
       "    </tr>\n",
       "    <tr>\n",
       "      <th>111</th>\n",
       "      <td>2015-01-28</td>\n",
       "      <td>1050503</td>\n",
       "      <td>N</td>\n",
       "      <td>ES</td>\n",
       "      <td>V</td>\n",
       "      <td>23</td>\n",
       "      <td>2012-08-10</td>\n",
       "      <td>0.0</td>\n",
       "      <td>35</td>\n",
       "      <td>1.0</td>\n",
       "      <td>NaN</td>\n",
       "      <td>1.0</td>\n",
       "      <td>A</td>\n",
       "      <td>S</td>\n",
       "      <td>N</td>\n",
       "      <td>NaN</td>\n",
       "      <td>KHE</td>\n",
       "      <td>N</td>\n",
       "      <td>1.0</td>\n",
       "      <td>36.0</td>\n",
       "      <td>PONTEVEDRA</td>\n",
       "      <td>1.0</td>\n",
       "      <td>NaN</td>\n",
       "      <td>03 - UNIVERSITARIO</td>\n",
       "      <td>0</td>\n",
       "      <td>0</td>\n",
       "      <td>1</td>\n",
       "      <td>0</td>\n",
       "      <td>0</td>\n",
       "      <td>0</td>\n",
       "      <td>0</td>\n",
       "      <td>0</td>\n",
       "      <td>0</td>\n",
       "      <td>0</td>\n",
       "      <td>0</td>\n",
       "      <td>0</td>\n",
       "      <td>0</td>\n",
       "      <td>0</td>\n",
       "      <td>0</td>\n",
       "      <td>0</td>\n",
       "      <td>0</td>\n",
       "      <td>0</td>\n",
       "      <td>0</td>\n",
       "      <td>0</td>\n",
       "      <td>0</td>\n",
       "      <td>0.0</td>\n",
       "      <td>0.0</td>\n",
       "      <td>0</td>\n",
       "    </tr>\n",
       "  </tbody>\n",
       "</table>\n",
       "</div>"
      ],
      "text/plain": [
       "     fecha_dato  ncodpers ind_empleado pais_residencia sexo  age  fecha_alta  \\\n",
       "4    2015-01-28   1050614            N              ES    V   23  2012-08-10   \n",
       "28   2015-01-28   1050597            N              ES    H   23  2012-08-10   \n",
       "29   2015-01-28   1050598            N              ES    H   23  2012-08-10   \n",
       "78   2015-01-28   1050508            N              ES    H   27  2012-08-10   \n",
       "111  2015-01-28   1050503            N              ES    V   23  2012-08-10   \n",
       "\n",
       "     ind_nuevo antiguedad  indrel ult_fec_cli_1t indrel_1mes tiprel_1mes  \\\n",
       "4          0.0         35     1.0            NaN         1.0           A   \n",
       "28         0.0         35     1.0            NaN         1.0           A   \n",
       "29         0.0         35     1.0            NaN         1.0           A   \n",
       "78         0.0         35     1.0            NaN         1.0           A   \n",
       "111        0.0         35     1.0            NaN         1.0           A   \n",
       "\n",
       "    indresi indext conyuemp canal_entrada indfall  tipodom  cod_prov  \\\n",
       "4         S      N      NaN           KHE       N      1.0      50.0   \n",
       "28        S      N      NaN           KHE       N      1.0      45.0   \n",
       "29        S      N      NaN           KHE       N      1.0      45.0   \n",
       "78        S      S      NaN           KHE       N      1.0       8.0   \n",
       "111       S      N      NaN           KHE       N      1.0      36.0   \n",
       "\n",
       "        nomprov  ind_actividad_cliente      renta            segmento  \\\n",
       "4      ZARAGOZA                    1.0        NaN  03 - UNIVERSITARIO   \n",
       "28       TOLEDO                    0.0        NaN  03 - UNIVERSITARIO   \n",
       "29       TOLEDO                    1.0   90408.75  03 - UNIVERSITARIO   \n",
       "78    BARCELONA                    1.0  173223.78  03 - UNIVERSITARIO   \n",
       "111  PONTEVEDRA                    1.0        NaN  03 - UNIVERSITARIO   \n",
       "\n",
       "     ind_ahor_fin_ult1  ind_aval_fin_ult1  ind_cco_fin_ult1  \\\n",
       "4                    0                  0                 1   \n",
       "28                   0                  0                 1   \n",
       "29                   0                  0                 1   \n",
       "78                   0                  0                 1   \n",
       "111                  0                  0                 1   \n",
       "\n",
       "     ind_cder_fin_ult1  ind_cno_fin_ult1  ind_ctju_fin_ult1  \\\n",
       "4                    0                 0                  0   \n",
       "28                   0                 0                  0   \n",
       "29                   0                 0                  0   \n",
       "78                   0                 0                  0   \n",
       "111                  0                 0                  0   \n",
       "\n",
       "     ind_ctma_fin_ult1  ind_ctop_fin_ult1  ind_ctpp_fin_ult1  \\\n",
       "4                    0                  0                  0   \n",
       "28                   0                  0                  0   \n",
       "29                   0                  0                  0   \n",
       "78                   0                  0                  0   \n",
       "111                  0                  0                  0   \n",
       "\n",
       "     ind_deco_fin_ult1  ind_deme_fin_ult1  ind_dela_fin_ult1  \\\n",
       "4                    0                  0                  0   \n",
       "28                   0                  0                  0   \n",
       "29                   0                  0                  0   \n",
       "78                   0                  0                  0   \n",
       "111                  0                  0                  0   \n",
       "\n",
       "     ind_ecue_fin_ult1  ind_fond_fin_ult1  ind_hip_fin_ult1  \\\n",
       "4                    0                  0                 0   \n",
       "28                   0                  0                 0   \n",
       "29                   0                  0                 0   \n",
       "78                   0                  0                 0   \n",
       "111                  0                  0                 0   \n",
       "\n",
       "     ind_plan_fin_ult1  ind_pres_fin_ult1  ind_reca_fin_ult1  \\\n",
       "4                    0                  0                  0   \n",
       "28                   0                  0                  0   \n",
       "29                   0                  0                  0   \n",
       "78                   0                  0                  0   \n",
       "111                  0                  0                  0   \n",
       "\n",
       "     ind_tjcr_fin_ult1  ind_valo_fin_ult1  ind_viv_fin_ult1  ind_nomina_ult1  \\\n",
       "4                    0                  0                 0              0.0   \n",
       "28                   0                  0                 0              0.0   \n",
       "29                   0                  0                 0              0.0   \n",
       "78                   0                  0                 0              0.0   \n",
       "111                  0                  0                 0              0.0   \n",
       "\n",
       "     ind_nom_pens_ult1  ind_recibo_ult1  \n",
       "4                  0.0                0  \n",
       "28                 0.0                0  \n",
       "29                 0.0                0  \n",
       "78                 0.0                0  \n",
       "111                0.0                0  "
      ]
     },
     "execution_count": 110,
     "metadata": {},
     "output_type": "execute_result"
    }
   ],
   "source": [
    "test_private.head()"
   ]
  },
  {
   "cell_type": "code",
   "execution_count": 116,
   "id": "c5119973",
   "metadata": {},
   "outputs": [
    {
     "data": {
      "text/plain": [
       "14.271544836855073"
      ]
     },
     "execution_count": 116,
     "metadata": {},
     "output_type": "execute_result"
    }
   ],
   "source": [
    "test_private.groupby(\"ncodpers\").fecha_dato.count().mean()"
   ]
  },
  {
   "cell_type": "code",
   "execution_count": 118,
   "id": "d1915d8f",
   "metadata": {},
   "outputs": [
    {
     "data": {
      "text/plain": [
       "ncodpers\n",
       "15907    2016-05-28\n",
       "15926    2016-05-28\n",
       "15960    2016-05-28\n",
       "16052    2016-05-28\n",
       "16095    2016-05-28\n",
       "Name: fecha_dato, dtype: object"
      ]
     },
     "execution_count": 118,
     "metadata": {},
     "output_type": "execute_result"
    }
   ],
   "source": [
    "test_private.groupby(\"ncodpers\").fecha_dato.max().head()"
   ]
  },
  {
   "cell_type": "markdown",
   "id": "5008ee44",
   "metadata": {},
   "source": [
    "Done: \n",
    "\n",
    "    - split train / test set (private / public) \n",
    "    - created solution on test set (in principle) \n",
    "\n",
    "Next steps:\n",
    "\n",
    "        - recreate target on last month only, 2016-05-28\n",
    "        - remove last month 2016-05-28 from train set \n",
    "        - save train and test sets to csv\n",
    "        - create solution file of format : \n",
    "\n",
    "            ncodpers,added_products\n",
    "            15889,ind_tjcr_fin_ult1\n",
    "            15890,ind_tjcr_fin_ult1 ind_recibo_ult1\n",
    "            15892,ind_nomina_ult1\n",
    "            15893,\n",
    "            etc.\n",
    "            \n",
    "         + added Usage=\"Public\"|\"Private\" columns\n",
    "        - add PEdro as host: ask for Kaggle UN\n",
    "        - upload code to gitlab.\n",
    "        - do a sandbox submission.\n",
    "            \n",
    "        "
   ]
  },
  {
   "cell_type": "code",
   "execution_count": 130,
   "id": "156508e2",
   "metadata": {},
   "outputs": [
    {
     "data": {
      "text/plain": [
       "(11734949, 48)"
      ]
     },
     "metadata": {},
     "output_type": "display_data"
    },
    {
     "data": {
      "text/html": [
       "<div>\n",
       "<style scoped>\n",
       "    .dataframe tbody tr th:only-of-type {\n",
       "        vertical-align: middle;\n",
       "    }\n",
       "\n",
       "    .dataframe tbody tr th {\n",
       "        vertical-align: top;\n",
       "    }\n",
       "\n",
       "    .dataframe thead th {\n",
       "        text-align: right;\n",
       "    }\n",
       "</style>\n",
       "<table border=\"1\" class=\"dataframe\">\n",
       "  <thead>\n",
       "    <tr style=\"text-align: right;\">\n",
       "      <th></th>\n",
       "      <th>fecha_dato</th>\n",
       "      <th>ncodpers</th>\n",
       "      <th>ind_empleado</th>\n",
       "      <th>pais_residencia</th>\n",
       "      <th>sexo</th>\n",
       "      <th>age</th>\n",
       "      <th>fecha_alta</th>\n",
       "      <th>ind_nuevo</th>\n",
       "      <th>antiguedad</th>\n",
       "      <th>indrel</th>\n",
       "      <th>ult_fec_cli_1t</th>\n",
       "      <th>indrel_1mes</th>\n",
       "      <th>tiprel_1mes</th>\n",
       "      <th>indresi</th>\n",
       "      <th>indext</th>\n",
       "      <th>conyuemp</th>\n",
       "      <th>canal_entrada</th>\n",
       "      <th>indfall</th>\n",
       "      <th>tipodom</th>\n",
       "      <th>cod_prov</th>\n",
       "      <th>nomprov</th>\n",
       "      <th>ind_actividad_cliente</th>\n",
       "      <th>renta</th>\n",
       "      <th>segmento</th>\n",
       "      <th>ind_ahor_fin_ult1</th>\n",
       "      <th>ind_aval_fin_ult1</th>\n",
       "      <th>ind_cco_fin_ult1</th>\n",
       "      <th>ind_cder_fin_ult1</th>\n",
       "      <th>ind_cno_fin_ult1</th>\n",
       "      <th>ind_ctju_fin_ult1</th>\n",
       "      <th>ind_ctma_fin_ult1</th>\n",
       "      <th>ind_ctop_fin_ult1</th>\n",
       "      <th>ind_ctpp_fin_ult1</th>\n",
       "      <th>ind_deco_fin_ult1</th>\n",
       "      <th>ind_deme_fin_ult1</th>\n",
       "      <th>ind_dela_fin_ult1</th>\n",
       "      <th>ind_ecue_fin_ult1</th>\n",
       "      <th>ind_fond_fin_ult1</th>\n",
       "      <th>ind_hip_fin_ult1</th>\n",
       "      <th>ind_plan_fin_ult1</th>\n",
       "      <th>ind_pres_fin_ult1</th>\n",
       "      <th>ind_reca_fin_ult1</th>\n",
       "      <th>ind_tjcr_fin_ult1</th>\n",
       "      <th>ind_valo_fin_ult1</th>\n",
       "      <th>ind_viv_fin_ult1</th>\n",
       "      <th>ind_nomina_ult1</th>\n",
       "      <th>ind_nom_pens_ult1</th>\n",
       "      <th>ind_recibo_ult1</th>\n",
       "    </tr>\n",
       "  </thead>\n",
       "  <tbody>\n",
       "    <tr>\n",
       "      <th>0</th>\n",
       "      <td>2015-01-28</td>\n",
       "      <td>1375586</td>\n",
       "      <td>N</td>\n",
       "      <td>ES</td>\n",
       "      <td>H</td>\n",
       "      <td>35</td>\n",
       "      <td>2015-01-12</td>\n",
       "      <td>0.0</td>\n",
       "      <td>6</td>\n",
       "      <td>1.0</td>\n",
       "      <td>NaN</td>\n",
       "      <td>1.0</td>\n",
       "      <td>A</td>\n",
       "      <td>S</td>\n",
       "      <td>N</td>\n",
       "      <td>NaN</td>\n",
       "      <td>KHL</td>\n",
       "      <td>N</td>\n",
       "      <td>1.0</td>\n",
       "      <td>29.0</td>\n",
       "      <td>MALAGA</td>\n",
       "      <td>1.0</td>\n",
       "      <td>87218.10</td>\n",
       "      <td>02 - PARTICULARES</td>\n",
       "      <td>0</td>\n",
       "      <td>0</td>\n",
       "      <td>1</td>\n",
       "      <td>0</td>\n",
       "      <td>0</td>\n",
       "      <td>0</td>\n",
       "      <td>0</td>\n",
       "      <td>0</td>\n",
       "      <td>0</td>\n",
       "      <td>0</td>\n",
       "      <td>0</td>\n",
       "      <td>0</td>\n",
       "      <td>0</td>\n",
       "      <td>0</td>\n",
       "      <td>0</td>\n",
       "      <td>0</td>\n",
       "      <td>0</td>\n",
       "      <td>0</td>\n",
       "      <td>0</td>\n",
       "      <td>0</td>\n",
       "      <td>0</td>\n",
       "      <td>0.0</td>\n",
       "      <td>0.0</td>\n",
       "      <td>0</td>\n",
       "    </tr>\n",
       "    <tr>\n",
       "      <th>2</th>\n",
       "      <td>2015-01-28</td>\n",
       "      <td>1050612</td>\n",
       "      <td>N</td>\n",
       "      <td>ES</td>\n",
       "      <td>V</td>\n",
       "      <td>23</td>\n",
       "      <td>2012-08-10</td>\n",
       "      <td>0.0</td>\n",
       "      <td>35</td>\n",
       "      <td>1.0</td>\n",
       "      <td>NaN</td>\n",
       "      <td>1.0</td>\n",
       "      <td>I</td>\n",
       "      <td>S</td>\n",
       "      <td>N</td>\n",
       "      <td>NaN</td>\n",
       "      <td>KHE</td>\n",
       "      <td>N</td>\n",
       "      <td>1.0</td>\n",
       "      <td>13.0</td>\n",
       "      <td>CIUDAD REAL</td>\n",
       "      <td>0.0</td>\n",
       "      <td>122179.11</td>\n",
       "      <td>03 - UNIVERSITARIO</td>\n",
       "      <td>0</td>\n",
       "      <td>0</td>\n",
       "      <td>1</td>\n",
       "      <td>0</td>\n",
       "      <td>0</td>\n",
       "      <td>0</td>\n",
       "      <td>0</td>\n",
       "      <td>0</td>\n",
       "      <td>0</td>\n",
       "      <td>0</td>\n",
       "      <td>0</td>\n",
       "      <td>0</td>\n",
       "      <td>0</td>\n",
       "      <td>0</td>\n",
       "      <td>0</td>\n",
       "      <td>0</td>\n",
       "      <td>0</td>\n",
       "      <td>0</td>\n",
       "      <td>0</td>\n",
       "      <td>0</td>\n",
       "      <td>0</td>\n",
       "      <td>0.0</td>\n",
       "      <td>0.0</td>\n",
       "      <td>0</td>\n",
       "    </tr>\n",
       "    <tr>\n",
       "      <th>3</th>\n",
       "      <td>2015-01-28</td>\n",
       "      <td>1050613</td>\n",
       "      <td>N</td>\n",
       "      <td>ES</td>\n",
       "      <td>H</td>\n",
       "      <td>22</td>\n",
       "      <td>2012-08-10</td>\n",
       "      <td>0.0</td>\n",
       "      <td>35</td>\n",
       "      <td>1.0</td>\n",
       "      <td>NaN</td>\n",
       "      <td>1.0</td>\n",
       "      <td>I</td>\n",
       "      <td>S</td>\n",
       "      <td>N</td>\n",
       "      <td>NaN</td>\n",
       "      <td>KHD</td>\n",
       "      <td>N</td>\n",
       "      <td>1.0</td>\n",
       "      <td>50.0</td>\n",
       "      <td>ZARAGOZA</td>\n",
       "      <td>0.0</td>\n",
       "      <td>119775.54</td>\n",
       "      <td>03 - UNIVERSITARIO</td>\n",
       "      <td>0</td>\n",
       "      <td>0</td>\n",
       "      <td>0</td>\n",
       "      <td>0</td>\n",
       "      <td>0</td>\n",
       "      <td>0</td>\n",
       "      <td>0</td>\n",
       "      <td>0</td>\n",
       "      <td>0</td>\n",
       "      <td>1</td>\n",
       "      <td>0</td>\n",
       "      <td>0</td>\n",
       "      <td>0</td>\n",
       "      <td>0</td>\n",
       "      <td>0</td>\n",
       "      <td>0</td>\n",
       "      <td>0</td>\n",
       "      <td>0</td>\n",
       "      <td>0</td>\n",
       "      <td>0</td>\n",
       "      <td>0</td>\n",
       "      <td>0.0</td>\n",
       "      <td>0.0</td>\n",
       "      <td>0</td>\n",
       "    </tr>\n",
       "    <tr>\n",
       "      <th>5</th>\n",
       "      <td>2015-01-28</td>\n",
       "      <td>1050615</td>\n",
       "      <td>N</td>\n",
       "      <td>ES</td>\n",
       "      <td>H</td>\n",
       "      <td>23</td>\n",
       "      <td>2012-08-10</td>\n",
       "      <td>0.0</td>\n",
       "      <td>35</td>\n",
       "      <td>1.0</td>\n",
       "      <td>NaN</td>\n",
       "      <td>1.0</td>\n",
       "      <td>I</td>\n",
       "      <td>S</td>\n",
       "      <td>N</td>\n",
       "      <td>NaN</td>\n",
       "      <td>KHE</td>\n",
       "      <td>N</td>\n",
       "      <td>1.0</td>\n",
       "      <td>45.0</td>\n",
       "      <td>TOLEDO</td>\n",
       "      <td>0.0</td>\n",
       "      <td>22220.04</td>\n",
       "      <td>03 - UNIVERSITARIO</td>\n",
       "      <td>0</td>\n",
       "      <td>0</td>\n",
       "      <td>1</td>\n",
       "      <td>0</td>\n",
       "      <td>0</td>\n",
       "      <td>0</td>\n",
       "      <td>0</td>\n",
       "      <td>0</td>\n",
       "      <td>0</td>\n",
       "      <td>0</td>\n",
       "      <td>0</td>\n",
       "      <td>0</td>\n",
       "      <td>0</td>\n",
       "      <td>0</td>\n",
       "      <td>0</td>\n",
       "      <td>0</td>\n",
       "      <td>0</td>\n",
       "      <td>0</td>\n",
       "      <td>0</td>\n",
       "      <td>0</td>\n",
       "      <td>0</td>\n",
       "      <td>0.0</td>\n",
       "      <td>0.0</td>\n",
       "      <td>0</td>\n",
       "    </tr>\n",
       "    <tr>\n",
       "      <th>6</th>\n",
       "      <td>2015-01-28</td>\n",
       "      <td>1050616</td>\n",
       "      <td>N</td>\n",
       "      <td>ES</td>\n",
       "      <td>H</td>\n",
       "      <td>23</td>\n",
       "      <td>2012-08-10</td>\n",
       "      <td>0.0</td>\n",
       "      <td>35</td>\n",
       "      <td>1.0</td>\n",
       "      <td>NaN</td>\n",
       "      <td>1.0</td>\n",
       "      <td>I</td>\n",
       "      <td>S</td>\n",
       "      <td>N</td>\n",
       "      <td>NaN</td>\n",
       "      <td>KHE</td>\n",
       "      <td>N</td>\n",
       "      <td>1.0</td>\n",
       "      <td>24.0</td>\n",
       "      <td>LEON</td>\n",
       "      <td>0.0</td>\n",
       "      <td>295590.36</td>\n",
       "      <td>03 - UNIVERSITARIO</td>\n",
       "      <td>0</td>\n",
       "      <td>0</td>\n",
       "      <td>1</td>\n",
       "      <td>0</td>\n",
       "      <td>0</td>\n",
       "      <td>0</td>\n",
       "      <td>0</td>\n",
       "      <td>0</td>\n",
       "      <td>0</td>\n",
       "      <td>0</td>\n",
       "      <td>0</td>\n",
       "      <td>0</td>\n",
       "      <td>0</td>\n",
       "      <td>0</td>\n",
       "      <td>0</td>\n",
       "      <td>0</td>\n",
       "      <td>0</td>\n",
       "      <td>0</td>\n",
       "      <td>0</td>\n",
       "      <td>0</td>\n",
       "      <td>0</td>\n",
       "      <td>0.0</td>\n",
       "      <td>0.0</td>\n",
       "      <td>0</td>\n",
       "    </tr>\n",
       "  </tbody>\n",
       "</table>\n",
       "</div>"
      ],
      "text/plain": [
       "   fecha_dato  ncodpers ind_empleado pais_residencia sexo  age  fecha_alta  \\\n",
       "0  2015-01-28   1375586            N              ES    H   35  2015-01-12   \n",
       "2  2015-01-28   1050612            N              ES    V   23  2012-08-10   \n",
       "3  2015-01-28   1050613            N              ES    H   22  2012-08-10   \n",
       "5  2015-01-28   1050615            N              ES    H   23  2012-08-10   \n",
       "6  2015-01-28   1050616            N              ES    H   23  2012-08-10   \n",
       "\n",
       "   ind_nuevo antiguedad  indrel ult_fec_cli_1t indrel_1mes tiprel_1mes  \\\n",
       "0        0.0          6     1.0            NaN         1.0           A   \n",
       "2        0.0         35     1.0            NaN         1.0           I   \n",
       "3        0.0         35     1.0            NaN         1.0           I   \n",
       "5        0.0         35     1.0            NaN         1.0           I   \n",
       "6        0.0         35     1.0            NaN         1.0           I   \n",
       "\n",
       "  indresi indext conyuemp canal_entrada indfall  tipodom  cod_prov  \\\n",
       "0       S      N      NaN           KHL       N      1.0      29.0   \n",
       "2       S      N      NaN           KHE       N      1.0      13.0   \n",
       "3       S      N      NaN           KHD       N      1.0      50.0   \n",
       "5       S      N      NaN           KHE       N      1.0      45.0   \n",
       "6       S      N      NaN           KHE       N      1.0      24.0   \n",
       "\n",
       "       nomprov  ind_actividad_cliente      renta            segmento  \\\n",
       "0       MALAGA                    1.0   87218.10   02 - PARTICULARES   \n",
       "2  CIUDAD REAL                    0.0  122179.11  03 - UNIVERSITARIO   \n",
       "3     ZARAGOZA                    0.0  119775.54  03 - UNIVERSITARIO   \n",
       "5       TOLEDO                    0.0   22220.04  03 - UNIVERSITARIO   \n",
       "6         LEON                    0.0  295590.36  03 - UNIVERSITARIO   \n",
       "\n",
       "   ind_ahor_fin_ult1  ind_aval_fin_ult1  ind_cco_fin_ult1  ind_cder_fin_ult1  \\\n",
       "0                  0                  0                 1                  0   \n",
       "2                  0                  0                 1                  0   \n",
       "3                  0                  0                 0                  0   \n",
       "5                  0                  0                 1                  0   \n",
       "6                  0                  0                 1                  0   \n",
       "\n",
       "   ind_cno_fin_ult1  ind_ctju_fin_ult1  ind_ctma_fin_ult1  ind_ctop_fin_ult1  \\\n",
       "0                 0                  0                  0                  0   \n",
       "2                 0                  0                  0                  0   \n",
       "3                 0                  0                  0                  0   \n",
       "5                 0                  0                  0                  0   \n",
       "6                 0                  0                  0                  0   \n",
       "\n",
       "   ind_ctpp_fin_ult1  ind_deco_fin_ult1  ind_deme_fin_ult1  ind_dela_fin_ult1  \\\n",
       "0                  0                  0                  0                  0   \n",
       "2                  0                  0                  0                  0   \n",
       "3                  0                  1                  0                  0   \n",
       "5                  0                  0                  0                  0   \n",
       "6                  0                  0                  0                  0   \n",
       "\n",
       "   ind_ecue_fin_ult1  ind_fond_fin_ult1  ind_hip_fin_ult1  ind_plan_fin_ult1  \\\n",
       "0                  0                  0                 0                  0   \n",
       "2                  0                  0                 0                  0   \n",
       "3                  0                  0                 0                  0   \n",
       "5                  0                  0                 0                  0   \n",
       "6                  0                  0                 0                  0   \n",
       "\n",
       "   ind_pres_fin_ult1  ind_reca_fin_ult1  ind_tjcr_fin_ult1  ind_valo_fin_ult1  \\\n",
       "0                  0                  0                  0                  0   \n",
       "2                  0                  0                  0                  0   \n",
       "3                  0                  0                  0                  0   \n",
       "5                  0                  0                  0                  0   \n",
       "6                  0                  0                  0                  0   \n",
       "\n",
       "   ind_viv_fin_ult1  ind_nomina_ult1  ind_nom_pens_ult1  ind_recibo_ult1  \n",
       "0                 0              0.0                0.0                0  \n",
       "2                 0              0.0                0.0                0  \n",
       "3                 0              0.0                0.0                0  \n",
       "5                 0              0.0                0.0                0  \n",
       "6                 0              0.0                0.0                0  "
      ]
     },
     "metadata": {},
     "output_type": "display_data"
    }
   ],
   "source": [
    "display(train.shape)\n",
    "display(train.head())"
   ]
  },
  {
   "cell_type": "code",
   "execution_count": 135,
   "id": "fbeacbb3",
   "metadata": {},
   "outputs": [
    {
     "data": {
      "text/plain": [
       "(10933982, 48)"
      ]
     },
     "execution_count": 135,
     "metadata": {},
     "output_type": "execute_result"
    }
   ],
   "source": [
    "#train[train.fecha_dato<\"2016-06-28\"]\n",
    "train=train[train.fecha_dato<train.fecha_dato.max()]\n",
    "train.shape"
   ]
  },
  {
   "cell_type": "code",
   "execution_count": 136,
   "id": "dd6416d2",
   "metadata": {},
   "outputs": [
    {
     "data": {
      "text/plain": [
       "'2016-04-28'"
      ]
     },
     "execution_count": 136,
     "metadata": {},
     "output_type": "execute_result"
    }
   ],
   "source": [
    "train.fecha_dato.max()"
   ]
  },
  {
   "cell_type": "code",
   "execution_count": 140,
   "id": "a3086e22",
   "metadata": {},
   "outputs": [
    {
     "data": {
      "text/plain": [
       "(955694, 48)"
      ]
     },
     "execution_count": 140,
     "metadata": {},
     "output_type": "execute_result"
    }
   ],
   "source": [
    "test_private.shape"
   ]
  },
  {
   "cell_type": "code",
   "execution_count": 143,
   "id": "8ea287ad",
   "metadata": {},
   "outputs": [
    {
     "data": {
      "text/plain": [
       "'2016-05-28'"
      ]
     },
     "execution_count": 143,
     "metadata": {},
     "output_type": "execute_result"
    }
   ],
   "source": [
    "test_fdm = test_private.fecha_dato.max()\n",
    "test_fdm"
   ]
  },
  {
   "cell_type": "code",
   "execution_count": 142,
   "id": "09096b3d",
   "metadata": {},
   "outputs": [
    {
     "data": {
      "text/plain": [
       "2016-05-28    65233\n",
       "2016-04-28    64998\n",
       "2016-03-28    64753\n",
       "2016-02-28    64491\n",
       "2016-01-28    64165\n",
       "2015-12-28    63883\n",
       "2015-11-28    63428\n",
       "2015-10-28    62449\n",
       "2015-09-28    60576\n",
       "2015-08-28    59055\n",
       "2015-07-28    58112\n",
       "2015-06-28    44281\n",
       "2015-05-28    44271\n",
       "2015-04-28    44150\n",
       "2015-03-28    44085\n",
       "2015-02-28    43945\n",
       "2015-01-28    43819\n",
       "Name: fecha_dato, dtype: int64"
      ]
     },
     "execution_count": 142,
     "metadata": {},
     "output_type": "execute_result"
    }
   ],
   "source": [
    "test_private.fecha_dato.value_counts()"
   ]
  },
  {
   "cell_type": "code",
   "execution_count": 144,
   "id": "01391118",
   "metadata": {},
   "outputs": [
    {
     "data": {
      "text/plain": [
       "2016-05-28    65253\n",
       "2016-04-28    65027\n",
       "2016-03-28    64774\n",
       "2016-02-28    64511\n",
       "2016-01-28    64189\n",
       "2015-12-28    63891\n",
       "2015-11-28    63515\n",
       "2015-10-28    62504\n",
       "2015-09-28    60595\n",
       "2015-08-28    59044\n",
       "2015-07-28    58083\n",
       "2015-06-28    44435\n",
       "2015-05-28    44397\n",
       "2015-04-28    44294\n",
       "2015-03-28    44179\n",
       "2015-02-28    44055\n",
       "2015-01-28    43920\n",
       "Name: fecha_dato, dtype: int64"
      ]
     },
     "execution_count": 144,
     "metadata": {},
     "output_type": "execute_result"
    }
   ],
   "source": [
    "test_public.fecha_dato.value_counts()"
   ]
  },
  {
   "cell_type": "code",
   "execution_count": 145,
   "id": "8d631a50",
   "metadata": {},
   "outputs": [],
   "source": [
    "test_private = test_private[test_private.fecha_dato==test_fdm]\n",
    "test_public = test_public[test_public.fecha_dato==test_fdm]"
   ]
  },
  {
   "cell_type": "code",
   "execution_count": 147,
   "id": "77d9cd64",
   "metadata": {},
   "outputs": [
    {
     "data": {
      "text/plain": [
       "2016-05-28    65233\n",
       "Name: fecha_dato, dtype: int64"
      ]
     },
     "metadata": {},
     "output_type": "display_data"
    },
    {
     "data": {
      "text/plain": [
       "2016-05-28    65253\n",
       "Name: fecha_dato, dtype: int64"
      ]
     },
     "metadata": {},
     "output_type": "display_data"
    }
   ],
   "source": [
    "display(test_private.fecha_dato.value_counts())\n",
    "display(test_public.fecha_dato.value_counts())"
   ]
  },
  {
   "cell_type": "code",
   "execution_count": 148,
   "id": "8fff3b04",
   "metadata": {},
   "outputs": [
    {
     "data": {
      "text/plain": [
       "65233"
      ]
     },
     "metadata": {},
     "output_type": "display_data"
    },
    {
     "data": {
      "text/plain": [
       "65253"
      ]
     },
     "metadata": {},
     "output_type": "display_data"
    }
   ],
   "source": [
    "display(test_private.ncodpers.nunique())\n",
    "display(test_public.ncodpers.nunique())"
   ]
  },
  {
   "cell_type": "code",
   "execution_count": 151,
   "id": "313bb5b2",
   "metadata": {},
   "outputs": [
    {
     "name": "stdout",
     "output_type": "stream",
     "text": [
      "CPU times: user 3min 42s, sys: 82.2 ms, total: 3min 42s\n",
      "Wall time: 3min 42s\n"
     ]
    }
   ],
   "source": [
    "# DSave to disk \n",
    "%time train.to_csv(\"train_fr.csv.gz\")"
   ]
  },
  {
   "cell_type": "code",
   "execution_count": 152,
   "id": "abeea373",
   "metadata": {},
   "outputs": [
    {
     "data": {
      "text/html": [
       "<div>\n",
       "<style scoped>\n",
       "    .dataframe tbody tr th:only-of-type {\n",
       "        vertical-align: middle;\n",
       "    }\n",
       "\n",
       "    .dataframe tbody tr th {\n",
       "        vertical-align: top;\n",
       "    }\n",
       "\n",
       "    .dataframe thead th {\n",
       "        text-align: right;\n",
       "    }\n",
       "</style>\n",
       "<table border=\"1\" class=\"dataframe\">\n",
       "  <thead>\n",
       "    <tr style=\"text-align: right;\">\n",
       "      <th></th>\n",
       "      <th>fecha_dato</th>\n",
       "      <th>ncodpers</th>\n",
       "      <th>ind_empleado</th>\n",
       "      <th>pais_residencia</th>\n",
       "      <th>sexo</th>\n",
       "      <th>age</th>\n",
       "      <th>fecha_alta</th>\n",
       "      <th>ind_nuevo</th>\n",
       "      <th>antiguedad</th>\n",
       "      <th>indrel</th>\n",
       "      <th>ult_fec_cli_1t</th>\n",
       "      <th>indrel_1mes</th>\n",
       "      <th>tiprel_1mes</th>\n",
       "      <th>indresi</th>\n",
       "      <th>indext</th>\n",
       "      <th>conyuemp</th>\n",
       "      <th>canal_entrada</th>\n",
       "      <th>indfall</th>\n",
       "      <th>tipodom</th>\n",
       "      <th>cod_prov</th>\n",
       "      <th>nomprov</th>\n",
       "      <th>ind_actividad_cliente</th>\n",
       "      <th>renta</th>\n",
       "      <th>segmento</th>\n",
       "      <th>ind_ahor_fin_ult1</th>\n",
       "      <th>ind_aval_fin_ult1</th>\n",
       "      <th>ind_cco_fin_ult1</th>\n",
       "      <th>ind_cder_fin_ult1</th>\n",
       "      <th>ind_cno_fin_ult1</th>\n",
       "      <th>ind_ctju_fin_ult1</th>\n",
       "      <th>ind_ctma_fin_ult1</th>\n",
       "      <th>ind_ctop_fin_ult1</th>\n",
       "      <th>ind_ctpp_fin_ult1</th>\n",
       "      <th>ind_deco_fin_ult1</th>\n",
       "      <th>ind_deme_fin_ult1</th>\n",
       "      <th>ind_dela_fin_ult1</th>\n",
       "      <th>ind_ecue_fin_ult1</th>\n",
       "      <th>ind_fond_fin_ult1</th>\n",
       "      <th>ind_hip_fin_ult1</th>\n",
       "      <th>ind_plan_fin_ult1</th>\n",
       "      <th>ind_pres_fin_ult1</th>\n",
       "      <th>ind_reca_fin_ult1</th>\n",
       "      <th>ind_tjcr_fin_ult1</th>\n",
       "      <th>ind_valo_fin_ult1</th>\n",
       "      <th>ind_viv_fin_ult1</th>\n",
       "      <th>ind_nomina_ult1</th>\n",
       "      <th>ind_nom_pens_ult1</th>\n",
       "      <th>ind_recibo_ult1</th>\n",
       "    </tr>\n",
       "  </thead>\n",
       "  <tbody>\n",
       "    <tr>\n",
       "      <th>12715859</th>\n",
       "      <td>2016-05-28</td>\n",
       "      <td>657790</td>\n",
       "      <td>N</td>\n",
       "      <td>ES</td>\n",
       "      <td>V</td>\n",
       "      <td>42</td>\n",
       "      <td>2006-11-18</td>\n",
       "      <td>0.0</td>\n",
       "      <td>114</td>\n",
       "      <td>1.0</td>\n",
       "      <td>NaN</td>\n",
       "      <td>1</td>\n",
       "      <td>A</td>\n",
       "      <td>S</td>\n",
       "      <td>N</td>\n",
       "      <td>NaN</td>\n",
       "      <td>KBF</td>\n",
       "      <td>N</td>\n",
       "      <td>1.0</td>\n",
       "      <td>48.0</td>\n",
       "      <td>BIZKAIA</td>\n",
       "      <td>1.0</td>\n",
       "      <td>NaN</td>\n",
       "      <td>02 - PARTICULARES</td>\n",
       "      <td>0</td>\n",
       "      <td>0</td>\n",
       "      <td>0</td>\n",
       "      <td>0</td>\n",
       "      <td>1</td>\n",
       "      <td>0</td>\n",
       "      <td>0</td>\n",
       "      <td>0</td>\n",
       "      <td>0</td>\n",
       "      <td>0</td>\n",
       "      <td>0</td>\n",
       "      <td>0</td>\n",
       "      <td>1</td>\n",
       "      <td>0</td>\n",
       "      <td>0</td>\n",
       "      <td>0</td>\n",
       "      <td>0</td>\n",
       "      <td>0</td>\n",
       "      <td>1</td>\n",
       "      <td>0</td>\n",
       "      <td>0</td>\n",
       "      <td>1.0</td>\n",
       "      <td>1.0</td>\n",
       "      <td>1</td>\n",
       "    </tr>\n",
       "    <tr>\n",
       "      <th>12715879</th>\n",
       "      <td>2016-05-28</td>\n",
       "      <td>657847</td>\n",
       "      <td>N</td>\n",
       "      <td>ES</td>\n",
       "      <td>H</td>\n",
       "      <td>36</td>\n",
       "      <td>2006-11-18</td>\n",
       "      <td>0.0</td>\n",
       "      <td>114</td>\n",
       "      <td>1.0</td>\n",
       "      <td>NaN</td>\n",
       "      <td>1</td>\n",
       "      <td>I</td>\n",
       "      <td>S</td>\n",
       "      <td>N</td>\n",
       "      <td>NaN</td>\n",
       "      <td>KFC</td>\n",
       "      <td>N</td>\n",
       "      <td>1.0</td>\n",
       "      <td>48.0</td>\n",
       "      <td>BIZKAIA</td>\n",
       "      <td>0.0</td>\n",
       "      <td>NaN</td>\n",
       "      <td>02 - PARTICULARES</td>\n",
       "      <td>0</td>\n",
       "      <td>0</td>\n",
       "      <td>0</td>\n",
       "      <td>0</td>\n",
       "      <td>0</td>\n",
       "      <td>0</td>\n",
       "      <td>0</td>\n",
       "      <td>0</td>\n",
       "      <td>0</td>\n",
       "      <td>0</td>\n",
       "      <td>0</td>\n",
       "      <td>0</td>\n",
       "      <td>0</td>\n",
       "      <td>0</td>\n",
       "      <td>0</td>\n",
       "      <td>0</td>\n",
       "      <td>0</td>\n",
       "      <td>0</td>\n",
       "      <td>0</td>\n",
       "      <td>0</td>\n",
       "      <td>0</td>\n",
       "      <td>0.0</td>\n",
       "      <td>0.0</td>\n",
       "      <td>0</td>\n",
       "    </tr>\n",
       "    <tr>\n",
       "      <th>12715880</th>\n",
       "      <td>2016-05-28</td>\n",
       "      <td>657806</td>\n",
       "      <td>N</td>\n",
       "      <td>ES</td>\n",
       "      <td>V</td>\n",
       "      <td>38</td>\n",
       "      <td>2006-11-18</td>\n",
       "      <td>0.0</td>\n",
       "      <td>114</td>\n",
       "      <td>1.0</td>\n",
       "      <td>NaN</td>\n",
       "      <td>1</td>\n",
       "      <td>I</td>\n",
       "      <td>S</td>\n",
       "      <td>S</td>\n",
       "      <td>NaN</td>\n",
       "      <td>KFC</td>\n",
       "      <td>N</td>\n",
       "      <td>1.0</td>\n",
       "      <td>28.0</td>\n",
       "      <td>MADRID</td>\n",
       "      <td>0.0</td>\n",
       "      <td>82488.78</td>\n",
       "      <td>02 - PARTICULARES</td>\n",
       "      <td>0</td>\n",
       "      <td>0</td>\n",
       "      <td>0</td>\n",
       "      <td>0</td>\n",
       "      <td>0</td>\n",
       "      <td>0</td>\n",
       "      <td>0</td>\n",
       "      <td>0</td>\n",
       "      <td>0</td>\n",
       "      <td>0</td>\n",
       "      <td>0</td>\n",
       "      <td>0</td>\n",
       "      <td>0</td>\n",
       "      <td>0</td>\n",
       "      <td>0</td>\n",
       "      <td>0</td>\n",
       "      <td>0</td>\n",
       "      <td>0</td>\n",
       "      <td>0</td>\n",
       "      <td>0</td>\n",
       "      <td>0</td>\n",
       "      <td>0.0</td>\n",
       "      <td>0.0</td>\n",
       "      <td>0</td>\n",
       "    </tr>\n",
       "    <tr>\n",
       "      <th>12715884</th>\n",
       "      <td>2016-05-28</td>\n",
       "      <td>657842</td>\n",
       "      <td>N</td>\n",
       "      <td>ES</td>\n",
       "      <td>H</td>\n",
       "      <td>40</td>\n",
       "      <td>2006-11-18</td>\n",
       "      <td>0.0</td>\n",
       "      <td>18</td>\n",
       "      <td>1.0</td>\n",
       "      <td>NaN</td>\n",
       "      <td>1</td>\n",
       "      <td>A</td>\n",
       "      <td>S</td>\n",
       "      <td>N</td>\n",
       "      <td>NaN</td>\n",
       "      <td>KHK</td>\n",
       "      <td>N</td>\n",
       "      <td>1.0</td>\n",
       "      <td>33.0</td>\n",
       "      <td>ASTURIAS</td>\n",
       "      <td>1.0</td>\n",
       "      <td>NaN</td>\n",
       "      <td>02 - PARTICULARES</td>\n",
       "      <td>0</td>\n",
       "      <td>0</td>\n",
       "      <td>0</td>\n",
       "      <td>0</td>\n",
       "      <td>0</td>\n",
       "      <td>0</td>\n",
       "      <td>0</td>\n",
       "      <td>0</td>\n",
       "      <td>0</td>\n",
       "      <td>0</td>\n",
       "      <td>0</td>\n",
       "      <td>0</td>\n",
       "      <td>1</td>\n",
       "      <td>0</td>\n",
       "      <td>0</td>\n",
       "      <td>0</td>\n",
       "      <td>0</td>\n",
       "      <td>0</td>\n",
       "      <td>0</td>\n",
       "      <td>0</td>\n",
       "      <td>0</td>\n",
       "      <td>0.0</td>\n",
       "      <td>0.0</td>\n",
       "      <td>0</td>\n",
       "    </tr>\n",
       "    <tr>\n",
       "      <th>12715911</th>\n",
       "      <td>2016-05-28</td>\n",
       "      <td>657682</td>\n",
       "      <td>N</td>\n",
       "      <td>ES</td>\n",
       "      <td>V</td>\n",
       "      <td>52</td>\n",
       "      <td>2010-04-24</td>\n",
       "      <td>0.0</td>\n",
       "      <td>73</td>\n",
       "      <td>1.0</td>\n",
       "      <td>NaN</td>\n",
       "      <td>1</td>\n",
       "      <td>A</td>\n",
       "      <td>S</td>\n",
       "      <td>N</td>\n",
       "      <td>NaN</td>\n",
       "      <td>KAG</td>\n",
       "      <td>N</td>\n",
       "      <td>1.0</td>\n",
       "      <td>28.0</td>\n",
       "      <td>MADRID</td>\n",
       "      <td>1.0</td>\n",
       "      <td>586051.71</td>\n",
       "      <td>02 - PARTICULARES</td>\n",
       "      <td>0</td>\n",
       "      <td>0</td>\n",
       "      <td>1</td>\n",
       "      <td>0</td>\n",
       "      <td>0</td>\n",
       "      <td>0</td>\n",
       "      <td>0</td>\n",
       "      <td>0</td>\n",
       "      <td>0</td>\n",
       "      <td>0</td>\n",
       "      <td>0</td>\n",
       "      <td>0</td>\n",
       "      <td>0</td>\n",
       "      <td>0</td>\n",
       "      <td>0</td>\n",
       "      <td>0</td>\n",
       "      <td>0</td>\n",
       "      <td>0</td>\n",
       "      <td>0</td>\n",
       "      <td>0</td>\n",
       "      <td>0</td>\n",
       "      <td>0.0</td>\n",
       "      <td>0.0</td>\n",
       "      <td>0</td>\n",
       "    </tr>\n",
       "  </tbody>\n",
       "</table>\n",
       "</div>"
      ],
      "text/plain": [
       "          fecha_dato  ncodpers ind_empleado pais_residencia sexo age  \\\n",
       "12715859  2016-05-28    657790            N              ES    V  42   \n",
       "12715879  2016-05-28    657847            N              ES    H  36   \n",
       "12715880  2016-05-28    657806            N              ES    V  38   \n",
       "12715884  2016-05-28    657842            N              ES    H  40   \n",
       "12715911  2016-05-28    657682            N              ES    V  52   \n",
       "\n",
       "          fecha_alta  ind_nuevo antiguedad  indrel ult_fec_cli_1t indrel_1mes  \\\n",
       "12715859  2006-11-18        0.0        114     1.0            NaN           1   \n",
       "12715879  2006-11-18        0.0        114     1.0            NaN           1   \n",
       "12715880  2006-11-18        0.0        114     1.0            NaN           1   \n",
       "12715884  2006-11-18        0.0         18     1.0            NaN           1   \n",
       "12715911  2010-04-24        0.0         73     1.0            NaN           1   \n",
       "\n",
       "         tiprel_1mes indresi indext conyuemp canal_entrada indfall  tipodom  \\\n",
       "12715859           A       S      N      NaN           KBF       N      1.0   \n",
       "12715879           I       S      N      NaN           KFC       N      1.0   \n",
       "12715880           I       S      S      NaN           KFC       N      1.0   \n",
       "12715884           A       S      N      NaN           KHK       N      1.0   \n",
       "12715911           A       S      N      NaN           KAG       N      1.0   \n",
       "\n",
       "          cod_prov   nomprov  ind_actividad_cliente      renta  \\\n",
       "12715859      48.0   BIZKAIA                    1.0        NaN   \n",
       "12715879      48.0   BIZKAIA                    0.0        NaN   \n",
       "12715880      28.0    MADRID                    0.0   82488.78   \n",
       "12715884      33.0  ASTURIAS                    1.0        NaN   \n",
       "12715911      28.0    MADRID                    1.0  586051.71   \n",
       "\n",
       "                   segmento  ind_ahor_fin_ult1  ind_aval_fin_ult1  \\\n",
       "12715859  02 - PARTICULARES                  0                  0   \n",
       "12715879  02 - PARTICULARES                  0                  0   \n",
       "12715880  02 - PARTICULARES                  0                  0   \n",
       "12715884  02 - PARTICULARES                  0                  0   \n",
       "12715911  02 - PARTICULARES                  0                  0   \n",
       "\n",
       "          ind_cco_fin_ult1  ind_cder_fin_ult1  ind_cno_fin_ult1  \\\n",
       "12715859                 0                  0                 1   \n",
       "12715879                 0                  0                 0   \n",
       "12715880                 0                  0                 0   \n",
       "12715884                 0                  0                 0   \n",
       "12715911                 1                  0                 0   \n",
       "\n",
       "          ind_ctju_fin_ult1  ind_ctma_fin_ult1  ind_ctop_fin_ult1  \\\n",
       "12715859                  0                  0                  0   \n",
       "12715879                  0                  0                  0   \n",
       "12715880                  0                  0                  0   \n",
       "12715884                  0                  0                  0   \n",
       "12715911                  0                  0                  0   \n",
       "\n",
       "          ind_ctpp_fin_ult1  ind_deco_fin_ult1  ind_deme_fin_ult1  \\\n",
       "12715859                  0                  0                  0   \n",
       "12715879                  0                  0                  0   \n",
       "12715880                  0                  0                  0   \n",
       "12715884                  0                  0                  0   \n",
       "12715911                  0                  0                  0   \n",
       "\n",
       "          ind_dela_fin_ult1  ind_ecue_fin_ult1  ind_fond_fin_ult1  \\\n",
       "12715859                  0                  1                  0   \n",
       "12715879                  0                  0                  0   \n",
       "12715880                  0                  0                  0   \n",
       "12715884                  0                  1                  0   \n",
       "12715911                  0                  0                  0   \n",
       "\n",
       "          ind_hip_fin_ult1  ind_plan_fin_ult1  ind_pres_fin_ult1  \\\n",
       "12715859                 0                  0                  0   \n",
       "12715879                 0                  0                  0   \n",
       "12715880                 0                  0                  0   \n",
       "12715884                 0                  0                  0   \n",
       "12715911                 0                  0                  0   \n",
       "\n",
       "          ind_reca_fin_ult1  ind_tjcr_fin_ult1  ind_valo_fin_ult1  \\\n",
       "12715859                  0                  1                  0   \n",
       "12715879                  0                  0                  0   \n",
       "12715880                  0                  0                  0   \n",
       "12715884                  0                  0                  0   \n",
       "12715911                  0                  0                  0   \n",
       "\n",
       "          ind_viv_fin_ult1  ind_nomina_ult1  ind_nom_pens_ult1  \\\n",
       "12715859                 0              1.0                1.0   \n",
       "12715879                 0              0.0                0.0   \n",
       "12715880                 0              0.0                0.0   \n",
       "12715884                 0              0.0                0.0   \n",
       "12715911                 0              0.0                0.0   \n",
       "\n",
       "          ind_recibo_ult1  \n",
       "12715859                1  \n",
       "12715879                0  \n",
       "12715880                0  \n",
       "12715884                0  \n",
       "12715911                0  "
      ]
     },
     "execution_count": 152,
     "metadata": {},
     "output_type": "execute_result"
    }
   ],
   "source": [
    "test_private.head()"
   ]
  },
  {
   "cell_type": "code",
   "execution_count": 157,
   "id": "6edb46e8",
   "metadata": {},
   "outputs": [
    {
     "data": {
      "text/html": [
       "<div>\n",
       "<style scoped>\n",
       "    .dataframe tbody tr th:only-of-type {\n",
       "        vertical-align: middle;\n",
       "    }\n",
       "\n",
       "    .dataframe tbody tr th {\n",
       "        vertical-align: top;\n",
       "    }\n",
       "\n",
       "    .dataframe thead th {\n",
       "        text-align: right;\n",
       "    }\n",
       "</style>\n",
       "<table border=\"1\" class=\"dataframe\">\n",
       "  <thead>\n",
       "    <tr style=\"text-align: right;\">\n",
       "      <th></th>\n",
       "      <th>fecha_dato</th>\n",
       "      <th>ncodpers</th>\n",
       "      <th>ind_empleado</th>\n",
       "      <th>pais_residencia</th>\n",
       "      <th>sexo</th>\n",
       "      <th>age</th>\n",
       "      <th>fecha_alta</th>\n",
       "      <th>ind_nuevo</th>\n",
       "      <th>antiguedad</th>\n",
       "      <th>indrel</th>\n",
       "      <th>ult_fec_cli_1t</th>\n",
       "      <th>indrel_1mes</th>\n",
       "      <th>tiprel_1mes</th>\n",
       "      <th>indresi</th>\n",
       "      <th>indext</th>\n",
       "      <th>conyuemp</th>\n",
       "      <th>canal_entrada</th>\n",
       "      <th>indfall</th>\n",
       "      <th>tipodom</th>\n",
       "      <th>cod_prov</th>\n",
       "      <th>nomprov</th>\n",
       "      <th>ind_actividad_cliente</th>\n",
       "      <th>renta</th>\n",
       "      <th>segmento</th>\n",
       "    </tr>\n",
       "  </thead>\n",
       "  <tbody>\n",
       "    <tr>\n",
       "      <th>12715859</th>\n",
       "      <td>2016-05-28</td>\n",
       "      <td>657790</td>\n",
       "      <td>N</td>\n",
       "      <td>ES</td>\n",
       "      <td>V</td>\n",
       "      <td>42</td>\n",
       "      <td>2006-11-18</td>\n",
       "      <td>0.0</td>\n",
       "      <td>114</td>\n",
       "      <td>1.0</td>\n",
       "      <td>NaN</td>\n",
       "      <td>1</td>\n",
       "      <td>A</td>\n",
       "      <td>S</td>\n",
       "      <td>N</td>\n",
       "      <td>NaN</td>\n",
       "      <td>KBF</td>\n",
       "      <td>N</td>\n",
       "      <td>1.0</td>\n",
       "      <td>48.0</td>\n",
       "      <td>BIZKAIA</td>\n",
       "      <td>1.0</td>\n",
       "      <td>NaN</td>\n",
       "      <td>02 - PARTICULARES</td>\n",
       "    </tr>\n",
       "    <tr>\n",
       "      <th>12715879</th>\n",
       "      <td>2016-05-28</td>\n",
       "      <td>657847</td>\n",
       "      <td>N</td>\n",
       "      <td>ES</td>\n",
       "      <td>H</td>\n",
       "      <td>36</td>\n",
       "      <td>2006-11-18</td>\n",
       "      <td>0.0</td>\n",
       "      <td>114</td>\n",
       "      <td>1.0</td>\n",
       "      <td>NaN</td>\n",
       "      <td>1</td>\n",
       "      <td>I</td>\n",
       "      <td>S</td>\n",
       "      <td>N</td>\n",
       "      <td>NaN</td>\n",
       "      <td>KFC</td>\n",
       "      <td>N</td>\n",
       "      <td>1.0</td>\n",
       "      <td>48.0</td>\n",
       "      <td>BIZKAIA</td>\n",
       "      <td>0.0</td>\n",
       "      <td>NaN</td>\n",
       "      <td>02 - PARTICULARES</td>\n",
       "    </tr>\n",
       "    <tr>\n",
       "      <th>12715880</th>\n",
       "      <td>2016-05-28</td>\n",
       "      <td>657806</td>\n",
       "      <td>N</td>\n",
       "      <td>ES</td>\n",
       "      <td>V</td>\n",
       "      <td>38</td>\n",
       "      <td>2006-11-18</td>\n",
       "      <td>0.0</td>\n",
       "      <td>114</td>\n",
       "      <td>1.0</td>\n",
       "      <td>NaN</td>\n",
       "      <td>1</td>\n",
       "      <td>I</td>\n",
       "      <td>S</td>\n",
       "      <td>S</td>\n",
       "      <td>NaN</td>\n",
       "      <td>KFC</td>\n",
       "      <td>N</td>\n",
       "      <td>1.0</td>\n",
       "      <td>28.0</td>\n",
       "      <td>MADRID</td>\n",
       "      <td>0.0</td>\n",
       "      <td>82488.78</td>\n",
       "      <td>02 - PARTICULARES</td>\n",
       "    </tr>\n",
       "    <tr>\n",
       "      <th>12715884</th>\n",
       "      <td>2016-05-28</td>\n",
       "      <td>657842</td>\n",
       "      <td>N</td>\n",
       "      <td>ES</td>\n",
       "      <td>H</td>\n",
       "      <td>40</td>\n",
       "      <td>2006-11-18</td>\n",
       "      <td>0.0</td>\n",
       "      <td>18</td>\n",
       "      <td>1.0</td>\n",
       "      <td>NaN</td>\n",
       "      <td>1</td>\n",
       "      <td>A</td>\n",
       "      <td>S</td>\n",
       "      <td>N</td>\n",
       "      <td>NaN</td>\n",
       "      <td>KHK</td>\n",
       "      <td>N</td>\n",
       "      <td>1.0</td>\n",
       "      <td>33.0</td>\n",
       "      <td>ASTURIAS</td>\n",
       "      <td>1.0</td>\n",
       "      <td>NaN</td>\n",
       "      <td>02 - PARTICULARES</td>\n",
       "    </tr>\n",
       "    <tr>\n",
       "      <th>12715911</th>\n",
       "      <td>2016-05-28</td>\n",
       "      <td>657682</td>\n",
       "      <td>N</td>\n",
       "      <td>ES</td>\n",
       "      <td>V</td>\n",
       "      <td>52</td>\n",
       "      <td>2010-04-24</td>\n",
       "      <td>0.0</td>\n",
       "      <td>73</td>\n",
       "      <td>1.0</td>\n",
       "      <td>NaN</td>\n",
       "      <td>1</td>\n",
       "      <td>A</td>\n",
       "      <td>S</td>\n",
       "      <td>N</td>\n",
       "      <td>NaN</td>\n",
       "      <td>KAG</td>\n",
       "      <td>N</td>\n",
       "      <td>1.0</td>\n",
       "      <td>28.0</td>\n",
       "      <td>MADRID</td>\n",
       "      <td>1.0</td>\n",
       "      <td>586051.71</td>\n",
       "      <td>02 - PARTICULARES</td>\n",
       "    </tr>\n",
       "    <tr>\n",
       "      <th>...</th>\n",
       "      <td>...</td>\n",
       "      <td>...</td>\n",
       "      <td>...</td>\n",
       "      <td>...</td>\n",
       "      <td>...</td>\n",
       "      <td>...</td>\n",
       "      <td>...</td>\n",
       "      <td>...</td>\n",
       "      <td>...</td>\n",
       "      <td>...</td>\n",
       "      <td>...</td>\n",
       "      <td>...</td>\n",
       "      <td>...</td>\n",
       "      <td>...</td>\n",
       "      <td>...</td>\n",
       "      <td>...</td>\n",
       "      <td>...</td>\n",
       "      <td>...</td>\n",
       "      <td>...</td>\n",
       "      <td>...</td>\n",
       "      <td>...</td>\n",
       "      <td>...</td>\n",
       "      <td>...</td>\n",
       "      <td>...</td>\n",
       "    </tr>\n",
       "    <tr>\n",
       "      <th>13647251</th>\n",
       "      <td>2016-05-28</td>\n",
       "      <td>1166731</td>\n",
       "      <td>N</td>\n",
       "      <td>ES</td>\n",
       "      <td>H</td>\n",
       "      <td>23</td>\n",
       "      <td>2013-08-14</td>\n",
       "      <td>0.0</td>\n",
       "      <td>33</td>\n",
       "      <td>1.0</td>\n",
       "      <td>NaN</td>\n",
       "      <td>1</td>\n",
       "      <td>I</td>\n",
       "      <td>S</td>\n",
       "      <td>N</td>\n",
       "      <td>NaN</td>\n",
       "      <td>KHE</td>\n",
       "      <td>N</td>\n",
       "      <td>1.0</td>\n",
       "      <td>50.0</td>\n",
       "      <td>ZARAGOZA</td>\n",
       "      <td>0.0</td>\n",
       "      <td>68038.44</td>\n",
       "      <td>03 - UNIVERSITARIO</td>\n",
       "    </tr>\n",
       "    <tr>\n",
       "      <th>13647263</th>\n",
       "      <td>2016-05-28</td>\n",
       "      <td>1166747</td>\n",
       "      <td>N</td>\n",
       "      <td>ES</td>\n",
       "      <td>H</td>\n",
       "      <td>22</td>\n",
       "      <td>2013-08-14</td>\n",
       "      <td>0.0</td>\n",
       "      <td>33</td>\n",
       "      <td>1.0</td>\n",
       "      <td>NaN</td>\n",
       "      <td>1</td>\n",
       "      <td>I</td>\n",
       "      <td>S</td>\n",
       "      <td>N</td>\n",
       "      <td>NaN</td>\n",
       "      <td>KHE</td>\n",
       "      <td>N</td>\n",
       "      <td>1.0</td>\n",
       "      <td>8.0</td>\n",
       "      <td>BARCELONA</td>\n",
       "      <td>0.0</td>\n",
       "      <td>120408.27</td>\n",
       "      <td>03 - UNIVERSITARIO</td>\n",
       "    </tr>\n",
       "    <tr>\n",
       "      <th>13647267</th>\n",
       "      <td>2016-05-28</td>\n",
       "      <td>1166743</td>\n",
       "      <td>N</td>\n",
       "      <td>ES</td>\n",
       "      <td>H</td>\n",
       "      <td>22</td>\n",
       "      <td>2013-08-14</td>\n",
       "      <td>0.0</td>\n",
       "      <td>33</td>\n",
       "      <td>1.0</td>\n",
       "      <td>NaN</td>\n",
       "      <td>1</td>\n",
       "      <td>I</td>\n",
       "      <td>S</td>\n",
       "      <td>N</td>\n",
       "      <td>NaN</td>\n",
       "      <td>KHE</td>\n",
       "      <td>N</td>\n",
       "      <td>1.0</td>\n",
       "      <td>8.0</td>\n",
       "      <td>BARCELONA</td>\n",
       "      <td>0.0</td>\n",
       "      <td>460125.45</td>\n",
       "      <td>03 - UNIVERSITARIO</td>\n",
       "    </tr>\n",
       "    <tr>\n",
       "      <th>13647273</th>\n",
       "      <td>2016-05-28</td>\n",
       "      <td>1166737</td>\n",
       "      <td>N</td>\n",
       "      <td>ES</td>\n",
       "      <td>V</td>\n",
       "      <td>22</td>\n",
       "      <td>2013-08-14</td>\n",
       "      <td>0.0</td>\n",
       "      <td>33</td>\n",
       "      <td>1.0</td>\n",
       "      <td>NaN</td>\n",
       "      <td>1</td>\n",
       "      <td>I</td>\n",
       "      <td>S</td>\n",
       "      <td>N</td>\n",
       "      <td>NaN</td>\n",
       "      <td>KHE</td>\n",
       "      <td>N</td>\n",
       "      <td>1.0</td>\n",
       "      <td>8.0</td>\n",
       "      <td>BARCELONA</td>\n",
       "      <td>0.0</td>\n",
       "      <td>199811.46</td>\n",
       "      <td>03 - UNIVERSITARIO</td>\n",
       "    </tr>\n",
       "    <tr>\n",
       "      <th>13647296</th>\n",
       "      <td>2016-05-28</td>\n",
       "      <td>1166773</td>\n",
       "      <td>N</td>\n",
       "      <td>ES</td>\n",
       "      <td>H</td>\n",
       "      <td>23</td>\n",
       "      <td>2013-08-16</td>\n",
       "      <td>0.0</td>\n",
       "      <td>33</td>\n",
       "      <td>1.0</td>\n",
       "      <td>NaN</td>\n",
       "      <td>1.0</td>\n",
       "      <td>I</td>\n",
       "      <td>S</td>\n",
       "      <td>N</td>\n",
       "      <td>NaN</td>\n",
       "      <td>KHE</td>\n",
       "      <td>N</td>\n",
       "      <td>1.0</td>\n",
       "      <td>44.0</td>\n",
       "      <td>TERUEL</td>\n",
       "      <td>0.0</td>\n",
       "      <td>83822.43</td>\n",
       "      <td>03 - UNIVERSITARIO</td>\n",
       "    </tr>\n",
       "  </tbody>\n",
       "</table>\n",
       "<p>65233 rows × 24 columns</p>\n",
       "</div>"
      ],
      "text/plain": [
       "          fecha_dato  ncodpers ind_empleado pais_residencia sexo age  \\\n",
       "12715859  2016-05-28    657790            N              ES    V  42   \n",
       "12715879  2016-05-28    657847            N              ES    H  36   \n",
       "12715880  2016-05-28    657806            N              ES    V  38   \n",
       "12715884  2016-05-28    657842            N              ES    H  40   \n",
       "12715911  2016-05-28    657682            N              ES    V  52   \n",
       "...              ...       ...          ...             ...  ...  ..   \n",
       "13647251  2016-05-28   1166731            N              ES    H  23   \n",
       "13647263  2016-05-28   1166747            N              ES    H  22   \n",
       "13647267  2016-05-28   1166743            N              ES    H  22   \n",
       "13647273  2016-05-28   1166737            N              ES    V  22   \n",
       "13647296  2016-05-28   1166773            N              ES    H  23   \n",
       "\n",
       "          fecha_alta  ind_nuevo antiguedad  indrel ult_fec_cli_1t indrel_1mes  \\\n",
       "12715859  2006-11-18        0.0        114     1.0            NaN           1   \n",
       "12715879  2006-11-18        0.0        114     1.0            NaN           1   \n",
       "12715880  2006-11-18        0.0        114     1.0            NaN           1   \n",
       "12715884  2006-11-18        0.0         18     1.0            NaN           1   \n",
       "12715911  2010-04-24        0.0         73     1.0            NaN           1   \n",
       "...              ...        ...        ...     ...            ...         ...   \n",
       "13647251  2013-08-14        0.0         33     1.0            NaN           1   \n",
       "13647263  2013-08-14        0.0         33     1.0            NaN           1   \n",
       "13647267  2013-08-14        0.0         33     1.0            NaN           1   \n",
       "13647273  2013-08-14        0.0         33     1.0            NaN           1   \n",
       "13647296  2013-08-16        0.0         33     1.0            NaN         1.0   \n",
       "\n",
       "         tiprel_1mes indresi indext conyuemp canal_entrada indfall  tipodom  \\\n",
       "12715859           A       S      N      NaN           KBF       N      1.0   \n",
       "12715879           I       S      N      NaN           KFC       N      1.0   \n",
       "12715880           I       S      S      NaN           KFC       N      1.0   \n",
       "12715884           A       S      N      NaN           KHK       N      1.0   \n",
       "12715911           A       S      N      NaN           KAG       N      1.0   \n",
       "...              ...     ...    ...      ...           ...     ...      ...   \n",
       "13647251           I       S      N      NaN           KHE       N      1.0   \n",
       "13647263           I       S      N      NaN           KHE       N      1.0   \n",
       "13647267           I       S      N      NaN           KHE       N      1.0   \n",
       "13647273           I       S      N      NaN           KHE       N      1.0   \n",
       "13647296           I       S      N      NaN           KHE       N      1.0   \n",
       "\n",
       "          cod_prov    nomprov  ind_actividad_cliente      renta  \\\n",
       "12715859      48.0    BIZKAIA                    1.0        NaN   \n",
       "12715879      48.0    BIZKAIA                    0.0        NaN   \n",
       "12715880      28.0     MADRID                    0.0   82488.78   \n",
       "12715884      33.0   ASTURIAS                    1.0        NaN   \n",
       "12715911      28.0     MADRID                    1.0  586051.71   \n",
       "...            ...        ...                    ...        ...   \n",
       "13647251      50.0   ZARAGOZA                    0.0   68038.44   \n",
       "13647263       8.0  BARCELONA                    0.0  120408.27   \n",
       "13647267       8.0  BARCELONA                    0.0  460125.45   \n",
       "13647273       8.0  BARCELONA                    0.0  199811.46   \n",
       "13647296      44.0     TERUEL                    0.0   83822.43   \n",
       "\n",
       "                    segmento  \n",
       "12715859   02 - PARTICULARES  \n",
       "12715879   02 - PARTICULARES  \n",
       "12715880   02 - PARTICULARES  \n",
       "12715884   02 - PARTICULARES  \n",
       "12715911   02 - PARTICULARES  \n",
       "...                      ...  \n",
       "13647251  03 - UNIVERSITARIO  \n",
       "13647263  03 - UNIVERSITARIO  \n",
       "13647267  03 - UNIVERSITARIO  \n",
       "13647273  03 - UNIVERSITARIO  \n",
       "13647296  03 - UNIVERSITARIO  \n",
       "\n",
       "[65233 rows x 24 columns]"
      ]
     },
     "execution_count": 157,
     "metadata": {},
     "output_type": "execute_result"
    }
   ],
   "source": [
    "test_private.loc[:,~test_private.columns.isin(target_cols)]"
   ]
  },
  {
   "cell_type": "code",
   "execution_count": null,
   "id": "1a4ea24b",
   "metadata": {},
   "outputs": [],
   "source": []
  }
 ],
 "metadata": {
  "kernelspec": {
   "display_name": "Py3_ds1",
   "language": "python",
   "name": "py3_ds1"
  },
  "language_info": {
   "codemirror_mode": {
    "name": "ipython",
    "version": 3
   },
   "file_extension": ".py",
   "mimetype": "text/x-python",
   "name": "python",
   "nbconvert_exporter": "python",
   "pygments_lexer": "ipython3",
   "version": "3.10.5"
  }
 },
 "nbformat": 4,
 "nbformat_minor": 5
}
